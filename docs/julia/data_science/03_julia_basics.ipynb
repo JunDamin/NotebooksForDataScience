{
 "cells": [
  {
   "cell_type": "markdown",
   "id": "61e018c7-695d-49a6-86df-fe1ee76e4fd8",
   "metadata": {},
   "source": [
    "# 3 줄리아 기초\n",
    "\n",
    "> **노트:** 쳅터에서 우리는 프로그래밍 언어로써 줄리아의 기초를 다룹니다. 이 쳅터는 도구로써 줄리아로 데이터 조작과 데이터 시각화에 반드시 필요한 부분이 아님을 알려드립니다. 줄리아에 대한 기초적인 이해가 있으면 줄리아를 사용할 때 분명 좀더 효과적이고 효율적이 됩니다. 하지만, 당신이 일단 시작하기 원한다면, 섹션 4로 넘어 가서 `DataFrames.jl`과 함께 테이블 데이터에 대해 배울 수 있습니다.\n",
    "\n",
    "이 쳅터는 줄리아에 대한 아주 간략하고 깊지 않은 개괄이 될 것입니다. 이미 다른 프로그래밍 언어에 익숙하다며녀, 줄리아 문서(https://docs.julialang.org/)를 읽어보길 권해드립니다. 줄리아문서는 줄리아를 깊이 파볼 때 아주 훌륭한 자료입니다. 그 문서는 모든 기초와 코너 케이스를 커버합니다만, 좀 부담스러울 수 있습니다. 특히 당신이 소프트웨어 문서에 익숙하지 않으면 그럴겁니다.\n",
    "\n",
    "우리는 줄리아의 기초만 다룰 것입니다. 줄리아를 새로운 테슬라 같은 팬시한 기능이 탑재된 차라고 상상해 보세요. 우리는 그저 어떻게 \"차를 운전하고, 주차하고, 교통흐름 속에서 가야 하는지\" 설명하는 수준입니다. 당신이 \"핸들과 대시보드에 있는 모든 버튼\"을 알고 싶다면, 이 자료는 적합하지 않습니다."
   ]
  },
  {
   "cell_type": "markdown",
   "id": "45d4a6b6-9bf6-4fe3-8f54-53d524b08026",
   "metadata": {},
   "source": [
    "## 3.1 환경설정\n",
    "\n",
    "언어 문법에 뛰어 들기 전에, 우리는 어떻게 코드를 돌리는지 알아야 합니다. 여러가지 다양한 옵션을 자세히 설명하는 것은 이 책의 범위를 넘어갑니다. 대신에, 우리는 여러 솔루션 중 몇가지 포인터를 제공할 것입니다.\n",
    "\n",
    "가장 쉬운 방법은 줄리아 REPL을 사용하는 것입니다. 이 말은 줄리아 실행파일(`julia` 또는 `julia.exe`)로 시작해서 코드를 거기서 돌리는 겁니다. 예를 들면 우리는 REPL을 시작해서 몇 몇 코드를 돌릴 수 있습니다."
   ]
  },
  {
   "cell_type": "code",
   "execution_count": 1,
   "id": "e6311253-ff8c-4f89-8996-adc3f0e4475d",
   "metadata": {},
   "outputs": [
    {
     "data": {
      "text/plain": [
       "2"
      ]
     },
     "execution_count": 1,
     "metadata": {},
     "output_type": "execute_result"
    }
   ],
   "source": [
    "x = 2"
   ]
  },
  {
   "cell_type": "code",
   "execution_count": 2,
   "id": "8816292e-c4c3-4215-ba1f-e3a9e86ebad1",
   "metadata": {},
   "outputs": [
    {
     "data": {
      "text/plain": [
       "3"
      ]
     },
     "execution_count": 2,
     "metadata": {},
     "output_type": "execute_result"
    }
   ],
   "source": [
    "x + 1"
   ]
  },
  {
   "cell_type": "markdown",
   "id": "15265b75-525e-49ad-8763-c7cc54bcfa3f",
   "metadata": {},
   "source": [
    "이 방식은 아주 잘 작동하지만, 당신이 우리가 적은 코드를 저장하고 싶다면? 저장하기 위해서 우리는 \"script.jl\"과 같은 \".jl\"파일을 작성해야합니다.기록 이것을 줄리아로 불러와야 합니다. \"script.jl\"파일이 다음과 같은 코드를 가지고 있다고 해봅시다."
   ]
  },
  {
   "cell_type": "code",
   "execution_count": 3,
   "id": "96d76d6a-a526-48c7-9e43-f56f2381178f",
   "metadata": {},
   "outputs": [
    {
     "data": {
      "text/plain": [
       "4"
      ]
     },
     "execution_count": 3,
     "metadata": {},
     "output_type": "execute_result"
    }
   ],
   "source": [
    "x = 3\n",
    "y = 4"
   ]
  },
  {
   "cell_type": "markdown",
   "id": "a18d3e60-2052-4000-9a4c-32543ec230e9",
   "metadata": {},
   "source": [
    "우리는 이것을 줄리아로 불러올 수 있습니다."
   ]
  },
  {
   "cell_type": "code",
   "execution_count": 4,
   "id": "abb208eb-9026-4e46-80be-bf47945802db",
   "metadata": {},
   "outputs": [
    {
     "data": {
      "text/plain": [
       "4"
      ]
     },
     "execution_count": 4,
     "metadata": {},
     "output_type": "execute_result"
    }
   ],
   "source": [
    "include(\"script.jl\")\n",
    "y"
   ]
  },
  {
   "cell_type": "markdown",
   "id": "ab57e5bd-28ce-4af2-9b0e-76fbbc957cfb",
   "metadata": {},
   "source": [
    "이제 문제는 우리가 줄리아를 시작할 때마다 우리의 코드 실행하기 전에 우리의 스크립트를 다시 읽어오게 하고 싶습니다. 이것은 Revise.jl을 사용해서 할 수 있습니다. 왜냐하면 줄리아 컴파일 시간이 때때로 길기 때문에, `Revise.jl`은 줄리아 개발에 필수적입니다.\n",
    "더 많은 사항은, `Revise.jl` 문서나 구글에 당신의 구체적인 질문을 검색해 보세요.\n",
    "\n",
    "우리는 `Revise.jl`과 REPL이 어늦어도 수작업을 필요로 한다는 것을 인지하고 있습니다. 그것은 깔끔하게 정리되지 않았습니다.\n",
    "다행히도, Pluto.jl라는 것이 있습니다. `Pluto.jl`는 자동으로 의존성을 관리해주고, 코드를 실행시키고, 변화를 **반영**해 줍니다. 새롭게 프로그램을 시작하는 사람들에게, `Pluto.jl`은 가장 쉽게 시작하는 방법입니다. 이 패키지의 가장 큰 한계점은 큰 프로젝트에 적합하지 않다는 점입니다.\n",
    "\n",
    "또다른 옵션은 비쥬얼 스튜디오 코드에서 줄리아 확장을 하거나 당신만의 IDE에서 사용하는 것입니다. 만약 당신이 IDE가 뭔지 **모른지만** 큰 프로젝트 들을 관리하고 싶다면 VS Code를 고르세요. 당신이 IDE가 뭔지 **안다면**, 당신은 Vim이나 Emacs, REPL을 통해 자신만의 IDE를 구축할 것입니다.\n",
    "\n",
    "요약하자면:\n",
    "\n",
    "* 가장 쉬운 방법 -> `Pluto.jl`\n",
    "* 큰 프로젝트 -> Visual Studio Code\n",
    "* 고급 사용자 -> Vim, Emacs와 REPL"
   ]
  },
  {
   "cell_type": "markdown",
   "id": "2574515b-9146-424a-a17e-b0fa442274c3",
   "metadata": {},
   "source": [
    "## 3.2 언어 문법\n",
    "\n",
    "줄리아는 just-in-time 컴파일러가 있는 **동적 타입 언어**입니다. 이말은 여러분은 당신의 프로그램을 돌리기 전까지는 C++나 포트란 처럼 컴파일 할  필요가 없다는 뜻입니다. \n",
    "대신 줄리아는 당신의 코드를 가지고 필요한 곳에서 타입을 추론하고,실행되기 직전에 필요한 부분을 컴파일을 합니다. 또한, 명시적으로 각 타입을 선언할 필요가 없습니다. 줄리아는 실행되면서 당신을 위해 타입을 추론합니다.\n",
    "\n",
    "R이나 파이썬 같은 동적 언어와 줄리아가 가장 큰 차이를 보이는 부분은 다음과 같습니다.\n",
    "우선, 줄리아는 **유저가 타입 선언을 특정할 수 있도록 허락합니다.** 당신은 이미 왜 줄리아인가?(섹션[2]())에서 타입 선언을 보았습니다. 그것은 때 때로 변수 뒤에 붙은 이런 더블 콜론`::` 입니다. \n",
    "그러나 당신이 변수나 합수의 타입을 정의하고 싶지 않다면, 줄리아는 기쁘게 그들을 추론(추측)할 것입니다.\n",
    "\n",
    "둘째로 줄리아는 멀티플 디스패치를 통해 많은 타입 조합에 대한 함수 행동을 정의할 수 있게 합니다. 우리는 이미 멀티플 디스패치에 대해서 섹션 [2.3]()에서 다루었습니다. 우리는 다른 타입행동을 같은 이름을 가진 다른 변수 타입응ㄹ 가진 함수를 새롭게 정의함으로 선언할 수 있었습니다. "
   ]
  },
  {
   "cell_type": "markdown",
   "id": "dc16bb72-c90d-425f-b775-46a17201775f",
   "metadata": {},
   "source": [
    "### 3.2.1 변수\n",
    "\n",
    "변수는 특정 이름에 컴퓨터가 저장한 값을 알려줍니다. 그렇기 때문에 당신은 나중에 이 값을 찾아오거나 바꿀 수 있습니다. 줄리아는 여러 변수 타입이 있습니다만, 데이터과학에서는 우리는 대부분 다음과 같은 변수타입을 사용합니다.\n",
    "\n",
    "* 정수형: `Int64`\n",
    "* 실수형: `Float64`\n",
    "* 불리언: `Bool`\n",
    "* 문자열: `String`\n",
    "\n",
    "정수형과 실수형은 64비트를 기본으로 저장됩니다. 그렇기 때문에 `64`라는 어미가 붙어 있습니다. 좀더 정교하거나 낮은 정밀도가 필요하다면 `Int8`이나 `Int128` 타입이 있습니다. 더 높은 수는 더 나은 정밀도를 의미합니다. 대부분의 경우 이것은 문제가 되지 않기 때문에 기본 정밀도를 사용하면 됩니다.\n",
    "\n",
    "우리는 왼쪽에 변수명을 두고 오른쪽에 값을 두고 가운데에 할당연산자인`=`를 써서 변수를 만들 수 있습니다. 예를 들어"
   ]
  },
  {
   "cell_type": "code",
   "execution_count": 5,
   "id": "3e76bb27-949f-4e97-a80f-47189addab39",
   "metadata": {},
   "outputs": [
    {
     "data": {
      "text/plain": [
       "9"
      ]
     },
     "execution_count": 5,
     "metadata": {},
     "output_type": "execute_result"
    }
   ],
   "source": [
    "name = \"Julia\"\n",
    "age = 9"
   ]
  },
  {
   "cell_type": "markdown",
   "id": "d6294495-b996-4259-9cb8-c761d81eca2f",
   "metadata": {},
   "source": [
    "한가지 언급하자면, 마지막 선언문(`age`)이 콘솔에 출력 되었습니다. 여게서 우리는 두 변수`name`과 `age`를 정의하고 있습니다. 우리는 이 변수의 이름을 적음으로 그들에게 할당된 값을 가져 올 수 있습니다."
   ]
  },
  {
   "cell_type": "code",
   "execution_count": 6,
   "id": "e2d2d11b-d34d-4a94-8fef-a118c9f8ac61",
   "metadata": {},
   "outputs": [
    {
     "data": {
      "text/plain": [
       "\"Julia\""
      ]
     },
     "execution_count": 6,
     "metadata": {},
     "output_type": "execute_result"
    }
   ],
   "source": [
    "name"
   ]
  },
  {
   "cell_type": "markdown",
   "id": "e8ea8de7-7b5e-4337-8265-7fb776397af8",
   "metadata": {},
   "source": [
    "만약 당신이 새로운 값을 이미 존재하는 변수에 정의하고 싶다면, 당ㅇ신은 할당하는 단계를 반복 할 수 있습니다. 그러면 줄리아는 이전 값을 새로운 값으로 덮어 씌울 것입니다. 가령, 줄리아의 생일이 지나서 이제 10살이 되었다면:"
   ]
  },
  {
   "cell_type": "code",
   "execution_count": 7,
   "id": "990a6343-df6b-47ad-a28c-83f4e6ba3850",
   "metadata": {},
   "outputs": [
    {
     "data": {
      "text/plain": [
       "10"
      ]
     },
     "execution_count": 7,
     "metadata": {},
     "output_type": "execute_result"
    }
   ],
   "source": [
    "age = 10"
   ]
  },
  {
   "cell_type": "markdown",
   "id": "6c58dc6b-ffa2-4f53-8ddc-e373f2087374",
   "metadata": {},
   "source": [
    "같은 활동을 `name`에서도 할 수 있습니다. 가령 줄리아가 이 놀라운 속도로 인해서 몇몇 칭호를 얻었다고 해봅시다. 우리는 변수 `name`을 새로운 값으로 바꿀 것입니다."
   ]
  },
  {
   "cell_type": "code",
   "execution_count": 8,
   "id": "7221833c-29ea-496a-a6bb-11b812f70480",
   "metadata": {},
   "outputs": [
    {
     "data": {
      "text/plain": [
       "\"Julia Rapidus\""
      ]
     },
     "execution_count": 8,
     "metadata": {},
     "output_type": "execute_result"
    }
   ],
   "source": [
    "name = \"Julia Rapidus\""
   ]
  },
  {
   "cell_type": "markdown",
   "id": "ee0c0fbe-a50c-4925-b709-dc4fdc21681f",
   "metadata": {},
   "source": [
    "우리는 또한 변수간 더하기나 나누기 연산을 할 수 있습니다. 줄리아가 몇개월인지 12를 곱해서 알아봅시다."
   ]
  },
  {
   "cell_type": "code",
   "execution_count": 9,
   "id": "3ec87ffd-2044-4c49-ba4e-33d63657b287",
   "metadata": {},
   "outputs": [
    {
     "data": {
      "text/plain": [
       "120"
      ]
     },
     "execution_count": 9,
     "metadata": {},
     "output_type": "execute_result"
    }
   ],
   "source": [
    "12*age"
   ]
  },
  {
   "cell_type": "markdown",
   "id": "f4d12697-5bc9-41b2-93b7-a959a72909ef",
   "metadata": {},
   "source": [
    "우리는 `typeof`함수를 써서 변수의 타입을 알아낼 수 있습니다."
   ]
  },
  {
   "cell_type": "code",
   "execution_count": 10,
   "id": "0b774199-f54a-4592-88b9-f71ba37a1386",
   "metadata": {},
   "outputs": [
    {
     "data": {
      "text/plain": [
       "Int64"
      ]
     },
     "execution_count": 10,
     "metadata": {},
     "output_type": "execute_result"
    }
   ],
   "source": [
    "typeof(age)"
   ]
  },
  {
   "cell_type": "markdown",
   "id": "8faa2c75-da69-41be-b453-595473d5d30c",
   "metadata": {},
   "source": [
    "다음 질문은 \"정수형으로 나는 무엇들을 할 수 있지?\"가 될 겁니다. 여기에 아주 편리한 `methodswith`라는 함수가 있습니다. 이 함수는 어떤 타입이 사용가능한 모든 함수를 보여줍니다. 여기서 나는 첫 5개만 보이도록 제한했습니다."
   ]
  },
  {
   "cell_type": "code",
   "execution_count": 11,
   "id": "00256c3b-9a27-4362-8e28-9605a45c7022",
   "metadata": {},
   "outputs": [
    {
     "data": {
      "text/html": [
       "5-element Vector{Method}:<ul><li> middle(x::<b>Union{Bool, Int128, Int16, Int32, Int64, Int8, UInt128, UInt16, UInt32, UInt64, UInt8}</b>) in Statistics at <a href=\"file:///buildworker/worker/package_linuxaarch64/build/usr/share/julia/stdlib/v1.6/Statistics/src/Statistics.jl\" target=\"_blank\">/opt/julia-1.6.4/share/julia/stdlib/v1.6/Statistics/src/Statistics.jl:735</a><li> tofirst(dt::<b>Dates.TimeType</b>, dow::<b>Int64</b>; <i>of</i>) in Dates at <a href=\"file:///buildworker/worker/package_linuxaarch64/build/usr/share/julia/stdlib/v1.6/Dates/src/adjusters.jl\" target=\"_blank\">/opt/julia-1.6.4/share/julia/stdlib/v1.6/Dates/src/adjusters.jl:379</a><li> tolast(dt::<b>Dates.TimeType</b>, dow::<b>Int64</b>; <i>of</i>) in Dates at <a href=\"file:///buildworker/worker/package_linuxaarch64/build/usr/share/julia/stdlib/v1.6/Dates/src/adjusters.jl\" target=\"_blank\">/opt/julia-1.6.4/share/julia/stdlib/v1.6/Dates/src/adjusters.jl:391</a><li> tonext(dt::<b>Dates.TimeType</b>, dow::<b>Int64</b>; <i>same</i>) in Dates at <a href=\"file:///buildworker/worker/package_linuxaarch64/build/usr/share/julia/stdlib/v1.6/Dates/src/adjusters.jl\" target=\"_blank\">/opt/julia-1.6.4/share/julia/stdlib/v1.6/Dates/src/adjusters.jl:338</a><li> toprev(dt::<b>Dates.TimeType</b>, dow::<b>Int64</b>; <i>same</i>) in Dates at <a href=\"file:///buildworker/worker/package_linuxaarch64/build/usr/share/julia/stdlib/v1.6/Dates/src/adjusters.jl\" target=\"_blank\">/opt/julia-1.6.4/share/julia/stdlib/v1.6/Dates/src/adjusters.jl:359</a></ul>"
      ],
      "text/plain": [
       "[1] middle(x::Union{Bool, Int128, Int16, Int32, Int64, Int8, UInt128, UInt16, UInt32, UInt64, UInt8}) in Statistics at /opt/julia-1.6.4/share/julia/stdlib/v1.6/Statistics/src/Statistics.jl:735\n",
       "[2] tofirst(dt::Dates.TimeType, dow::Int64; of) in Dates at /opt/julia-1.6.4/share/julia/stdlib/v1.6/Dates/src/adjusters.jl:379\n",
       "[3] tolast(dt::Dates.TimeType, dow::Int64; of) in Dates at /opt/julia-1.6.4/share/julia/stdlib/v1.6/Dates/src/adjusters.jl:391\n",
       "[4] tonext(dt::Dates.TimeType, dow::Int64; same) in Dates at /opt/julia-1.6.4/share/julia/stdlib/v1.6/Dates/src/adjusters.jl:338\n",
       "[5] toprev(dt::Dates.TimeType, dow::Int64; same) in Dates at /opt/julia-1.6.4/share/julia/stdlib/v1.6/Dates/src/adjusters.jl:359"
      ]
     },
     "execution_count": 11,
     "metadata": {},
     "output_type": "execute_result"
    }
   ],
   "source": [
    "first(methodswith(Int64), 5)"
   ]
  },
  {
   "cell_type": "markdown",
   "id": "1a3c71c2-ed16-41e4-b98f-53f9f2589dc7",
   "metadata": {},
   "source": [
    "### 3.2.2 사용자 정의 타입\n",
    "\n",
    "여러 변수들을 게측이나 관계 없이 가지고 있는 것은 이상적이지 못합니다. 줄리아에서, 우리는 그렇게 구조화된 데이터를 `struct`(또다른 이름으로는 복합타입)을 통해 정의할 수 있습니다. 각`struct` 안에서 당신은 여러 필드를 지정할 수 있습니다. 이것들은 줄리아 코어에 정의된 원시 타입(예시: 정수형, 실수형)과 다릅니다. 대부분의 `struct`은 사용자가 정의하기 때문에, 그들은 사용자 정의 타입이라고 합니다.\n",
    "\n",
    "예를 들어, 과학적 오픈소스 프로그래밍 언어를 나타낼`struct`을 만든다고 합시다. 우리는 또한 필요한 타입들을 `struct`안에 정의할 것입니다."
   ]
  },
  {
   "cell_type": "code",
   "execution_count": 12,
   "id": "247092a2-91dd-43f4-9d58-6f1b27dfc428",
   "metadata": {},
   "outputs": [],
   "source": [
    "struct Language\n",
    "    name::String\n",
    "    title::String\n",
    "    year_of_birth::Int64\n",
    "    fast::Bool\n",
    "end"
   ]
  },
  {
   "cell_type": "markdown",
   "id": "32057601-db51-4887-aa68-4682e016b75e",
   "metadata": {},
   "source": [
    "당신이 상요할 수 있는 필드 이름을 알기 위해서 `fieldnames`라는 함수에 알고자 하는 `struct`를 집어넣으면 됩니다."
   ]
  },
  {
   "cell_type": "code",
   "execution_count": 13,
   "id": "cc5c4072-7789-47bb-ad64-b38378ab9502",
   "metadata": {},
   "outputs": [
    {
     "data": {
      "text/plain": [
       "(:name, :title, :year_of_birth, :fast)"
      ]
     },
     "execution_count": 13,
     "metadata": {},
     "output_type": "execute_result"
    }
   ],
   "source": [
    "fieldnames(Language)"
   ]
  },
  {
   "cell_type": "markdown",
   "id": "7f4542d4-dc1b-4038-a92a-9c08aa5175ba",
   "metadata": {},
   "source": [
    "`struct`를 사용하기 위해서, 우리는 각 `struct`에서 정의한 필드 값을 가지고 개별 인스턴스(또는 \"객체\")를 생성해야 합니다. \n",
    "파이썬에서와 줄리아 두 객체를 생성해 봅시다."
   ]
  },
  {
   "cell_type": "code",
   "execution_count": 14,
   "id": "b7009621-67eb-4ce3-b0ad-d86978a4c3eb",
   "metadata": {},
   "outputs": [
    {
     "data": {
      "text/plain": [
       "Language(\"Python\", \"Letargicus\", 1991, false)"
      ]
     },
     "execution_count": 14,
     "metadata": {},
     "output_type": "execute_result"
    }
   ],
   "source": [
    "julia = Language(\"Julia\", \"Rapidus\", 2012, true)\n",
    "python = Language(\"Python\", \"Letargicus\", 1991, false)"
   ]
  },
  {
   "cell_type": "markdown",
   "id": "5010aacc-019e-421e-8fce-80c3f8a00af8",
   "metadata": {},
   "source": [
    "한가지 `struct`에 대해 언급할 부분은 우리는 한번 생성한 후 값을 바꿀 수 없다는 점입니다. 이 문제는 `mutable struct`을 통해서 해결 할 수 있습니다. 또한, 가변 객체는 일반적으로 느리고 좀더 에러에 취약합니다. 가능하다면, 모든 것을 *불변*으로 만드십시오. 그러면 `mutable struct`을 만들어 봅시다."
   ]
  },
  {
   "cell_type": "code",
   "execution_count": 15,
   "id": "e40216e2-8f53-429a-a9cf-26f6dd35ab05",
   "metadata": {},
   "outputs": [
    {
     "data": {
      "text/plain": [
       "MutableLanguage(\"Julia\", \"Rapidus\", 2012, true)"
      ]
     },
     "execution_count": 15,
     "metadata": {},
     "output_type": "execute_result"
    }
   ],
   "source": [
    "mutable struct MutableLanguage\n",
    "    name::String\n",
    "    title::String\n",
    "    year_of_birth::Int64\n",
    "    fast::Bool\n",
    "end\n",
    "\n",
    "julia_mutable = MutableLanguage(\"Julia\", \"Rapidus\", 2012, true)"
   ]
  },
  {
   "cell_type": "markdown",
   "id": "10a4549f-c7a4-462c-a536-acee6212f508",
   "metadata": {},
   "source": [
    "우리가 `julia_mutable`의 타이틀을 바꾸고 싶다고 해봅시다. `julia_mutable`이 `mutable struct`으로 생성되었기 때문에 이제 우리는 바꿀 수 있습니다."
   ]
  },
  {
   "cell_type": "code",
   "execution_count": 16,
   "id": "7bf57505-3e80-495e-80ff-a3b5f673dae5",
   "metadata": {},
   "outputs": [
    {
     "data": {
      "text/plain": [
       "MutableLanguage(\"Julia\", \"Python Obliteratus\", 2012, true)"
      ]
     },
     "execution_count": 16,
     "metadata": {},
     "output_type": "execute_result"
    }
   ],
   "source": [
    "julia_mutable.title = \"Python Obliteratus\"\n",
    "\n",
    "julia_mutable"
   ]
  },
  {
   "cell_type": "markdown",
   "id": "0ccad098-f6be-4fbd-aa4d-ed9a7867fc32",
   "metadata": {},
   "source": [
    "### 3.2.3 불리언 연산자와 수치 비교\n",
    "\n",
    "이제 타입을 커버했기 때문에, 우리는 불리언 연산자와 수치 비교로 이동할 수 있습니다.\n",
    "\n",
    "줄리아에서는 세가지 불리언 연산자가 있습니다.\n",
    "\n",
    "- `!`: **NOT**\n",
    "- `&&` : **AND**\n",
    "- `||` : **OR**\n",
    "\n",
    "여기 몇가지 예시가 있습니다."
   ]
  },
  {
   "cell_type": "code",
   "execution_count": 17,
   "id": "f5f430cf-580d-42c0-a046-0f974d547d59",
   "metadata": {},
   "outputs": [
    {
     "data": {
      "text/plain": [
       "false"
      ]
     },
     "execution_count": 17,
     "metadata": {},
     "output_type": "execute_result"
    }
   ],
   "source": [
    "!true"
   ]
  },
  {
   "cell_type": "code",
   "execution_count": 18,
   "id": "6c0cf099-428f-4d32-ac68-53bb1d1ab88f",
   "metadata": {},
   "outputs": [
    {
     "data": {
      "text/plain": [
       "true"
      ]
     },
     "execution_count": 18,
     "metadata": {},
     "output_type": "execute_result"
    }
   ],
   "source": [
    "(false&&true) || (!false)"
   ]
  },
  {
   "cell_type": "code",
   "execution_count": 19,
   "id": "10d7bb2e-c4dd-41ee-af75-5303c46d11d2",
   "metadata": {},
   "outputs": [
    {
     "data": {
      "text/plain": [
       "true"
      ]
     },
     "execution_count": 19,
     "metadata": {},
     "output_type": "execute_result"
    }
   ],
   "source": [
    "(6 isa Int64) && (6 isa Real)"
   ]
  },
  {
   "cell_type": "markdown",
   "id": "62c792ec-fc1d-479d-8622-0558ca34428e",
   "metadata": {},
   "source": [
    "수치 비교에 있어서, 줄리아는 세가지 주요한 비교 타입이 있습니다.\n",
    "\n",
    "1. **동격**: 어떤 것이 같거나 같지 않을 것\n",
    "  - ==\"equal\"\n",
    "  - != 또는 ≠\"not equal\"\n",
    "2. **보다 작은**: 어떤 것이 작거나 같을 때\n",
    "  - < \"작거나\"\n",
    "  - <= 또는 ≤ \"작거나 같은\"\n",
    "3. **보다 큰**: 어떤 것이 크거나 같을 때\n",
    "  - > \"크거나\"\n",
    "  - >= 또는 ≥ \"크거나 같을 때\n",
    "  \n",
    " 여기 몇가지 예시가 있다"
   ]
  },
  {
   "cell_type": "code",
   "execution_count": 20,
   "id": "71f947dc-c7ef-4631-acf3-b4864ebd1e0a",
   "metadata": {},
   "outputs": [
    {
     "data": {
      "text/plain": [
       "true"
      ]
     },
     "execution_count": 20,
     "metadata": {},
     "output_type": "execute_result"
    }
   ],
   "source": [
    "1 == 1"
   ]
  },
  {
   "cell_type": "code",
   "execution_count": 21,
   "id": "5dccc31e-904f-469d-a331-92138eb68874",
   "metadata": {},
   "outputs": [
    {
     "data": {
      "text/plain": [
       "false"
      ]
     },
     "execution_count": 21,
     "metadata": {},
     "output_type": "execute_result"
    }
   ],
   "source": [
    "1 >= 10"
   ]
  },
  {
   "cell_type": "markdown",
   "id": "101c8c96-139b-49b7-af9d-1558440b4a16",
   "metadata": {},
   "source": [
    "이것은 다른 타입 간에도 작동한다."
   ]
  },
  {
   "cell_type": "code",
   "execution_count": 22,
   "id": "1901c7a5-7721-4115-9053-b65bef305ddb",
   "metadata": {},
   "outputs": [
    {
     "data": {
      "text/plain": [
       "true"
      ]
     },
     "execution_count": 22,
     "metadata": {},
     "output_type": "execute_result"
    }
   ],
   "source": [
    "1 == 1.0"
   ]
  },
  {
   "cell_type": "markdown",
   "id": "206196d5-3eb7-4bd1-8e93-47165b549a9a",
   "metadata": {},
   "source": [
    "우리는 불리언 연산과 수치 비교를 섞어서 쓸 수 있다."
   ]
  },
  {
   "cell_type": "code",
   "execution_count": 23,
   "id": "d9360777-eff6-4a13-8ec7-0a89bd1465f8",
   "metadata": {},
   "outputs": [
    {
     "data": {
      "text/plain": [
       "true"
      ]
     },
     "execution_count": 23,
     "metadata": {},
     "output_type": "execute_result"
    }
   ],
   "source": [
    "(1 != 10) || (3.14 <= 2.71)"
   ]
  },
  {
   "cell_type": "markdown",
   "id": "c0168e7e-ae90-49ae-af66-8e1cabe99afc",
   "metadata": {},
   "source": [
    "### 3.2.4 함수\n",
    "\n",
    "이제 우리는 변수와 `struct`을 통해 임의 타입을 정의할 수 있습니다. 이제 우리의 관심을 **함수**로 돌려봅시다. 줄리아에서, 함수는 **함수인자의 값을 하나나 더 많은 리턴 값들로 맵핑합니다.** 기초적인 문법은 다음과 같습니다:\n",
    "\n",
    "```julia\n",
    "function function_name(arg1, arg2)\n",
    "    result = stuff with the arg1 and arg2\n",
    "    return result\n",
    "end\n",
    "```\n",
    "\n",
    "함수 선언은 키워드 `function`과 함수명으로 시작합니다. 그리고 괄호`()`안에 콤마`,`를 사용해 함수인자를 구분하여 정의합니다. 함수 안에서 우리가 집어 넣은 파라미터를 가지고 줄리아가 무엇을 하길 원하는지를 구체화 합니다. 우리가 함수 안에서 정의한 모든 변수는 함수값이 반환되면서 지워집니다. 이것은 마치 자동 청소와 같은 것으로 좋은 점입니다. 함수 본문에서의 모든 연산이 끝나고 나면, 우리는 줄리아에게 `return` 선언을 통해 최종결과를 반환하도록 합니다. 마지막으로, 우리는 `end` 키워드를 통해 줄리아가 함수 정의가 긑났음을 알려줍니다. \n",
    "\n",
    "컴팩트한 **할당 폼**이 존재합니다.\n",
    "\n",
    "```f_name(arg1, arg2) = stuff with arg1 and arg2```\n",
    "\n",
    "이 함수는 우리가 위에서 정의한 함수와 **같은 함수**입니다만, 좀더 컴팩트한 형태를 취하고 있습니다. 최우선 되는 규칙은 당신의 코드가 92문자 내로 쉽게 들어갈 수 있으면 컴팩트한 형태가 적당합니다. 그렇지 않다면 우리는 `function`키워드를 쓰는 긴 형태를 사용합니다. 예시를 보면서 이어갑시다."
   ]
  },
  {
   "cell_type": "markdown",
   "id": "d5829d57-a2f6-4d40-af0b-16bebc396274",
   "metadata": {},
   "source": [
    "#### 3.2.4.1 새로운 함수 만들기\n",
    "\n",
    "숫자를 더하는 새로운 함수를 만들어 봅시다."
   ]
  },
  {
   "cell_type": "code",
   "execution_count": 24,
   "id": "85fd6f1a-ac33-4dba-9399-94bf72184894",
   "metadata": {},
   "outputs": [
    {
     "data": {
      "text/plain": [
       "add_numbers (generic function with 1 method)"
      ]
     },
     "execution_count": 24,
     "metadata": {},
     "output_type": "execute_result"
    }
   ],
   "source": [
    "function add_numbers(x, y)\n",
    "    return x + y\n",
    "end"
   ]
  },
  {
   "cell_type": "markdown",
   "id": "1bd23361-5ed6-4e99-bdff-4a6285ec03a7",
   "metadata": {},
   "source": [
    "이제 우리는 우리가 만든 `add_numbers`함수를 사용할 수 있습니다."
   ]
  },
  {
   "cell_type": "code",
   "execution_count": 25,
   "id": "ca6b82a5-e877-4ebc-a298-8d2e664f3cbb",
   "metadata": {},
   "outputs": [
    {
     "data": {
      "text/plain": [
       "46"
      ]
     },
     "execution_count": 25,
     "metadata": {},
     "output_type": "execute_result"
    }
   ],
   "source": [
    "add_numbers(17, 29)"
   ]
  },
  {
   "cell_type": "markdown",
   "id": "4dbf396b-52ba-4c7a-a401-bb83f60c0562",
   "metadata": {},
   "source": [
    "그리고 이것은 floats형에서도 작동합니다."
   ]
  },
  {
   "cell_type": "code",
   "execution_count": 26,
   "id": "a9abfaff-7a6a-42ff-ab48-40a58d610847",
   "metadata": {},
   "outputs": [
    {
     "data": {
      "text/plain": [
       "5.86"
      ]
     },
     "execution_count": 26,
     "metadata": {},
     "output_type": "execute_result"
    }
   ],
   "source": [
    "add_numbers(3.14, 2.72)"
   ]
  },
  {
   "cell_type": "markdown",
   "id": "c62810c0-3bf6-4dee-94b5-ce4ee26db225",
   "metadata": {},
   "source": [
    "또한 우리는 타입 선언을 통해 임의의 행동을 정의할 수 있습니다. 우리가 `round_number` 함수를 만들면서 입력값이 `Float64`인지 `Int64`인지에 따라 다르게 행동하길 바란다고 합시다."
   ]
  },
  {
   "cell_type": "code",
   "execution_count": 27,
   "id": "b3cf271f-cbdd-45a2-b26b-4959e9b55388",
   "metadata": {},
   "outputs": [
    {
     "data": {
      "text/plain": [
       "round_number (generic function with 2 methods)"
      ]
     },
     "execution_count": 27,
     "metadata": {},
     "output_type": "execute_result"
    }
   ],
   "source": [
    "function round_number(x::Float64)\n",
    "    return round(x)\n",
    "end\n",
    "\n",
    "function round_number(x::Int64)\n",
    "    return x\n",
    "end"
   ]
  },
  {
   "cell_type": "markdown",
   "id": "50de74a5-92cb-44e8-bb50-dbc7d1440df3",
   "metadata": {},
   "source": [
    "우리는 여러 메소드가 있는 함수임을 볼 수 있습니다."
   ]
  },
  {
   "cell_type": "code",
   "execution_count": 28,
   "id": "fb291e7f-1890-488f-8c5f-03372efb0da2",
   "metadata": {},
   "outputs": [
    {
     "data": {
      "text/html": [
       "# 2 methods for generic function <b>round_number</b>:<ul><li> round_number(x::<b>Float64</b>) in Main at In[27]:1</li> <li> round_number(x::<b>Int64</b>) in Main at In[27]:5</li> </ul>"
      ],
      "text/plain": [
       "# 2 methods for generic function \"round_number\":\n",
       "[1] round_number(x::Float64) in Main at In[27]:1\n",
       "[2] round_number(x::Int64) in Main at In[27]:5"
      ]
     },
     "execution_count": 28,
     "metadata": {},
     "output_type": "execute_result"
    }
   ],
   "source": [
    "methods(round_number)"
   ]
  },
  {
   "cell_type": "markdown",
   "id": "586b9572-491c-4e73-80b9-fe40cb009d41",
   "metadata": {},
   "source": [
    "여기에 한가지 이슈가 있습니다. 만약에 우리가 32비트 실수형인 `Float32`를 반올림 하고 싶다면 아니면 8비트 정수형인 `Int8`이라면?\n",
    "\n",
    "당신이 모든 정수와 실수 타입에 대한 함수를 원한다면, 당신은 `AbstractFloat`이나 `Integer`와 같은 **추상타입(abstract type)**을 타입 시그니쳐에 넣으면 됩니다. "
   ]
  },
  {
   "cell_type": "code",
   "execution_count": 29,
   "id": "038efc2e-e73d-427e-813f-1b4bef457474",
   "metadata": {},
   "outputs": [
    {
     "data": {
      "text/plain": [
       "round_number (generic function with 3 methods)"
      ]
     },
     "execution_count": 29,
     "metadata": {},
     "output_type": "execute_result"
    }
   ],
   "source": [
    "function round_number(x::AbstractFloat)\n",
    "    return round(x)\n",
    "end"
   ]
  },
  {
   "cell_type": "markdown",
   "id": "c4a75896-25a8-4553-857b-1a8d39508280",
   "metadata": {},
   "source": [
    "이제, 이것은 모든 실수형에 대해 작동될 것입니다."
   ]
  },
  {
   "cell_type": "code",
   "execution_count": 30,
   "id": "d6e2874e-743b-461d-924b-84f84390f610",
   "metadata": {},
   "outputs": [
    {
     "data": {
      "text/plain": [
       "1.0f0"
      ]
     },
     "execution_count": 30,
     "metadata": {},
     "output_type": "execute_result"
    }
   ],
   "source": [
    "x_32 = Float32(1.1)\n",
    "round_number(x_32)"
   ]
  },
  {
   "cell_type": "markdown",
   "id": "ec901577-cfbc-49a5-b971-4db3ad0ca484",
   "metadata": {},
   "source": [
    "> **노트:** 우리는 `supertypes`와 `subtypes` 함수로 타입들을 조사할 수 있습니다.\n",
    "\n",
    "앞서 우리가 정의한 `Language` `struct`로 돌아가봅시다.\n",
    "이 예제는 멀티플 디스패치에 대한 예제 입니다.\n",
    "우리는 `Base.show` 함수가 확장하여 이스턴스 타입과 `struct`들을 출력하도록 할 겁니다.\n",
    "\n",
    "기본적으로, 위에서 본 파이썬 케이스와 같이 `struct`은 기본 출력이 있습니다. 우리는 새로운 `Base.show`메소드를 정의해서 프로그래밍 언어 인스턴스의 출력이 좀더 낫게 할 수 있습니다. 우리는 프로그래밍 언어 이름과, 타이틀, 연도들을 확실하에 보여주길 원합니다. `Base.show`는 `IO`type을 인자로 받으며, 당신이 원하는 임의의 행동을 할 타입을 이어 적습니다."
   ]
  },
  {
   "cell_type": "code",
   "execution_count": 31,
   "id": "454057a8-1ee4-420b-907f-06913052b82e",
   "metadata": {},
   "outputs": [],
   "source": [
    "Base.show(io::IO, l::Language) = print(\n",
    "    io, l.name, \", \", \n",
    "    2021 - l.year_of_birth, \"years old, \", \n",
    "    \"has the follwoing titles: \", l.title\n",
    "    )"
   ]
  },
  {
   "cell_type": "markdown",
   "id": "d096c1f3-02b2-427f-8f19-be1daf90b6dd",
   "metadata": {},
   "source": [
    "이제 `python`이 어떻게 아웃풋이 보이는지 봅시다."
   ]
  },
  {
   "cell_type": "code",
   "execution_count": 32,
   "id": "328eb46d-1c13-446a-8e7c-a59b43dad287",
   "metadata": {},
   "outputs": [
    {
     "data": {
      "text/plain": [
       "Python, 30years old, has the follwoing titles: Letargicus"
      ]
     },
     "execution_count": 32,
     "metadata": {},
     "output_type": "execute_result"
    }
   ],
   "source": [
    "python"
   ]
  },
  {
   "cell_type": "markdown",
   "id": "326e03ba-eab7-430c-9d73-f34918c39285",
   "metadata": {},
   "source": [
    "#### 3.2.4.2 복수 반환 값\n",
    "\n",
    "암수는 두개나 더 많은 값을 반환할 수 있습니다. 아래에 있는`add_multiply`라는 새 함수를 를 봐주세요."
   ]
  },
  {
   "cell_type": "code",
   "execution_count": 33,
   "id": "b535715e-7bd6-4967-84b3-f2212e14a639",
   "metadata": {},
   "outputs": [
    {
     "data": {
      "text/plain": [
       "add_multiply (generic function with 1 method)"
      ]
     },
     "execution_count": 33,
     "metadata": {},
     "output_type": "execute_result"
    }
   ],
   "source": [
    "function add_multiply(x, y)\n",
    "    addition = x+y\n",
    "    multiplication = x*y\n",
    "    return addition, multiplication\n",
    "end"
   ]
  },
  {
   "cell_type": "markdown",
   "id": "63d168c3-a217-4b79-a467-ef1a26c27128",
   "metadata": {},
   "source": [
    "이 경우 우리는 두가지 일을 할 수 있습니다.\n",
    "\n",
    "1. 우리는, 유사하게 두 반환값을 두 변수가 함수의 변환 값을 갖도록 각각 저장할 수 있습니다."
   ]
  },
  {
   "cell_type": "code",
   "execution_count": 34,
   "id": "9b246658-8d42-4418-9f7c-ad7d1e1e1419",
   "metadata": {},
   "outputs": [
    {
     "data": {
      "text/plain": [
       "2"
      ]
     },
     "execution_count": 34,
     "metadata": {},
     "output_type": "execute_result"
    }
   ],
   "source": [
    "return_1, return_2 = add_multiply(1, 2)\n",
    "return_2"
   ]
  },
  {
   "cell_type": "markdown",
   "id": "2bd2c6d0-e123-40d7-a367-3a2e22e5966a",
   "metadata": {},
   "source": [
    "또는 우리는 한 변수가 함수의 반환 값을 갖게 하며 `first`나 `last`를 통해 접근할 수 있습니다."
   ]
  },
  {
   "cell_type": "code",
   "execution_count": 35,
   "id": "f5ea817c-39be-422a-b5ec-c0a6e3a85cb2",
   "metadata": {},
   "outputs": [
    {
     "data": {
      "text/plain": [
       "2"
      ]
     },
     "execution_count": 35,
     "metadata": {},
     "output_type": "execute_result"
    }
   ],
   "source": [
    "all_returns = add_multiply(1, 2)\n",
    "last(all_returns)"
   ]
  },
  {
   "cell_type": "markdown",
   "id": "0ee9cb73-76eb-4630-9c3f-0039994d5828",
   "metadata": {},
   "source": [
    "#### 3.2.4.3 키워드 인자\n",
    "\n",
    "어떤 함수들은 위치로 인자를 받지 않고 키워드로 인자를 받을 수 있습니다. 이런 인자들은 일반적인 인자처럼 정의할 수 있습니다. 단, 정규인자 뒤 세미콜론`;`으로 구분해서 정의됩니다. 예를 들어, `logarithm` 함수를 정의한다고 합시다. 기본 값으로 자연로그 $e$(2.718281828459045)를 밑으로 키워드 인자로 받습니다. 여기서 강조하고 싶은 것은 우리는 추상 타입인 `Real`을 사용해서 `Real`의 하위 타입인`Integer`와 `AbstractFloat`에서 사용되는 모든 타입을 커버한다는 점입니다."
   ]
  },
  {
   "cell_type": "code",
   "execution_count": 36,
   "id": "ad19dacc-b596-408a-80de-7543fdc8337b",
   "metadata": {},
   "outputs": [
    {
     "data": {
      "text/plain": [
       "true"
      ]
     },
     "execution_count": 36,
     "metadata": {},
     "output_type": "execute_result"
    }
   ],
   "source": [
    "AbstractFloat <: Real && Integer <: Real"
   ]
  },
  {
   "cell_type": "code",
   "execution_count": 37,
   "id": "9122b0ee-634e-477c-81b5-36a707124845",
   "metadata": {},
   "outputs": [
    {
     "data": {
      "text/plain": [
       "logarithm (generic function with 1 method)"
      ]
     },
     "execution_count": 37,
     "metadata": {},
     "output_type": "execute_result"
    }
   ],
   "source": [
    "function logarithm(x::Real; base::Real=2.7182818284590)\n",
    "    return log(base, x)\n",
    "end"
   ]
  },
  {
   "cell_type": "markdown",
   "id": "74352419-6271-4090-884e-105505f2b0bd",
   "metadata": {},
   "source": [
    "이 함수는 `base` 인자를 특정하지 않아도 기능합니다. 우리가 함수를 선언할 때`기본 인자 값`을 지정했기 때문입니다."
   ]
  },
  {
   "cell_type": "code",
   "execution_count": 38,
   "id": "6546f1f3-2cc8-4912-a5ad-ebd3d58e397b",
   "metadata": {},
   "outputs": [
    {
     "data": {
      "text/plain": [
       "2.3025850929940845"
      ]
     },
     "execution_count": 38,
     "metadata": {},
     "output_type": "execute_result"
    }
   ],
   "source": [
    "logarithm(10)"
   ]
  },
  {
   "cell_type": "markdown",
   "id": "4c9d3672-6dfd-4c08-b045-bce2eff4351e",
   "metadata": {
    "tags": []
   },
   "source": [
    "그리고 또한 키워드 인자`base`를 기본 값과 다른 값으로 전달할 수 있습니다."
   ]
  },
  {
   "cell_type": "code",
   "execution_count": 39,
   "id": "1a5b08a0-74ec-48ac-82c8-97219a707197",
   "metadata": {},
   "outputs": [
    {
     "data": {
      "text/plain": [
       "3.3219280948873626"
      ]
     },
     "execution_count": 39,
     "metadata": {},
     "output_type": "execute_result"
    }
   ],
   "source": [
    "logarithm(10; base=2)"
   ]
  },
  {
   "cell_type": "markdown",
   "id": "d28617e7-1824-4ee8-96a8-4d8c67313ad9",
   "metadata": {},
   "source": [
    "#### 3.2.4.4 익명함수\n",
    "\n",
    "때때로 우리는 함수의 이름은 별 신경 쓰지 않으면서 빨리 만드는 걸 원합니다. 그 때 필요한 것이 바로 **익명 함수(anonymous functions)**입니다. 그들은 줄리아 데이터 과학 워크플로우에서 많이 사용됩니다. \n",
    "예를들어 `DataFrames.jl`(섹션 [4]())이나 `Makie.jl`(섹션 [5]())를 사용할 때, 때때로 우리는 데이터를 필터링하거나 플롯 레이블 모양을 잡을 임시 함수가 필요합니다. 이것들은 우리가 함수를 만들지 않고 간단히 한 곳에서 사용될 때 특히 유용합니다.\n",
    "\n",
    "문법은 단순합니다. 우리는 `->`연산자를 사용합니다. `->`의 왼쪽에는 파라미터 이름이 들어가고, 오른쪽에는 파라미터로 하고자 하는 연산이 정의됩니다. 여기 예시가 있습니다. 지수를 사용하여 로그 변환한 것을 되돌린다고 생각해 봅시다."
   ]
  },
  {
   "cell_type": "code",
   "execution_count": 40,
   "id": "06b6dc18-c2ae-4674-b37c-b0c87d2dae00",
   "metadata": {},
   "outputs": [
    {
     "data": {
      "text/plain": [
       "2.0"
      ]
     },
     "execution_count": 40,
     "metadata": {},
     "output_type": "execute_result"
    }
   ],
   "source": [
    "map(x->2.7182818284590^x, logarithm(2))"
   ]
  },
  {
   "cell_type": "markdown",
   "id": "733e6fff-1bec-4af5-bba4-a924fd0d687d",
   "metadata": {},
   "source": [
    "여기서, 우리는 `map`함수를 사용했습니다. `map` 함수는 편리하게 익명 함수를 `logarithm(2)`(두번째 인자)에 맵핑을 해줍니다. 그 결과 우리는 같은 수치를 갖게 되었습니다. 왜냐하면 로그와 지수는 역함수 관계에 있기 때문입니다.(최소한 우리가 밑을 2.718218284590으로 한다면 말입니다.)"
   ]
  },
  {
   "cell_type": "markdown",
   "id": "f97af035-e603-457c-b1df-952fd1c93577",
   "metadata": {},
   "source": [
    "### 3.2.5 조건문 IF-Else-Elseif\n",
    "\n",
    "대부분의 프로그래밍 언어에서, 유저는 컴퓨터의 실행 순서를 조작할 수 있습니다. 상황에 따라서, 우리는 컴퓨터가 이것을 하거나 저것을 하길 원할 때가 있습니다. 줄리아에서 우리는 실행 순서를 `if`, `elseif`과 `else` 키워드를 사용해서 조작할 수 있습니다. 이런 것들을 조건문이라고 합니다.\n",
    "\n",
    "`if` 키워드는 줄리아에게 다음 표현을 평가하게 하고 그 결과가 `true`인지 `false`인지에 따라 코드 덩어리를 실행시키도록 합니다. 우리는 몇가지 `if` 조건에`elseif`를 조압할 수 있습니다. 복잡한 순서도인 경우에 말입니다. 마지막을오 우리는 `if`나 `elseif`의 값이 `true`가 아닌 경우에 안쪽 코드를 실행하게 정의할 수 있습니다. 이를 위해 `else`키워드가 있습니다. 마지막으로 위에서 본 모든 키워드연산자와 같이 우리는 줄리아에게 조건문이 언제 끝나는지 `end`키워드를 써서 알려줘야 합니다.\n",
    "\n",
    "여기 `if`-`elseif`-`else`키워드 예제가 있습니다."
   ]
  },
  {
   "cell_type": "code",
   "execution_count": 41,
   "id": "fb5bddd2-26ed-4f63-abd9-971d6fc9d922",
   "metadata": {},
   "outputs": [
    {
     "data": {
      "text/plain": [
       "\"a is less than b\""
      ]
     },
     "execution_count": 41,
     "metadata": {},
     "output_type": "execute_result"
    }
   ],
   "source": [
    "a = 1\n",
    "b = 2\n",
    "\n",
    "if a < b \n",
    "    \"a is less than b\"\n",
    "elseif  a > b\n",
    "    \"a is greater than b\"\n",
    "else\n",
    "    \"a is equal to b\"\n",
    "end"
   ]
  },
  {
   "cell_type": "markdown",
   "id": "99d80a22-333e-4a99-a6ae-b3665e9b293c",
   "metadata": {
    "tags": []
   },
   "source": [
    "우리는`campare`라고 하는 함수로 감쌀 수 있습니다."
   ]
  },
  {
   "cell_type": "code",
   "execution_count": 42,
   "id": "9eb2e373-5f95-4b3b-afed-09cd21c00765",
   "metadata": {},
   "outputs": [
    {
     "data": {
      "text/plain": [
       "\"a is equal to b\""
      ]
     },
     "execution_count": 42,
     "metadata": {},
     "output_type": "execute_result"
    }
   ],
   "source": [
    "function compare(a, b)\n",
    "    if a < b\n",
    "        \"a is less than b\"\n",
    "    elseif a > b\n",
    "        \"a is greater than b\"\n",
    "    else\n",
    "        \"a is equal to b\"\n",
    "    end\n",
    "end\n",
    "\n",
    "compare(3.14, 3.14)"
   ]
  },
  {
   "cell_type": "markdown",
   "id": "224a67ee-0e39-4c46-bf76-5d95ce6fe624",
   "metadata": {
    "tags": []
   },
   "source": [
    "### 3.2.6 For 루프\n",
    "\n",
    "클래식한 for루프는 조건문과 닮은 문법을 따라 키워드로 시작합니다. 이 경우에는 `for`로 시작합니다. 그리고 당신은 줄리아가 순환할 \"루프\" 또 다른 말로 시퀀스를 지정합니다. 또한 다른 것과 같이 `end`키워드로 끝내야 합니다. \n",
    "\n",
    "그러면, 줄리아가 1부터 10까지 모든 숫자를 출력하게 하기 위해 다음과 같은 루프를 사용할 수 있습니다."
   ]
  },
  {
   "cell_type": "code",
   "execution_count": 43,
   "id": "38e751ce-5cfa-431a-b45d-f3f3f7cff271",
   "metadata": {
    "tags": []
   },
   "outputs": [
    {
     "name": "stdout",
     "output_type": "stream",
     "text": [
      "1\n",
      "2\n",
      "3\n",
      "4\n",
      "5\n",
      "6\n",
      "7\n",
      "8\n",
      "9\n",
      "10\n"
     ]
    }
   ],
   "source": [
    "for i in 1:10\n",
    "    println(i)\n",
    "end"
   ]
  },
  {
   "cell_type": "markdown",
   "id": "67c5645b-ae4c-4a73-9cde-095922dd8d78",
   "metadata": {},
   "source": [
    "### 3.2.7 while 순환문\n",
    "\n",
    "While 순환문은 앞서 본 if문과 for 루프의 합성입니다. 여기서 루프는 매번 컨디션이 `true`일때 실행됩니다. 문버븐 이전 것고 ㅏ같은 형태입니다. 우리는 키워드 `while`로 시작하여 `true`나 `false`로 판명날 수 있는 조건을 평가합니다. 다른 때와 같이 `end` 키워드로 끝나야 합니다.\n",
    "\n",
    "여기 예시가 있습니다."
   ]
  },
  {
   "cell_type": "code",
   "execution_count": 44,
   "id": "58d4e6ef-78cb-41cf-aa92-723cc19c24a9",
   "metadata": {},
   "outputs": [
    {
     "data": {
      "text/plain": [
       "3"
      ]
     },
     "execution_count": 44,
     "metadata": {},
     "output_type": "execute_result"
    }
   ],
   "source": [
    "n = 0\n",
    "\n",
    "while n < 3\n",
    "    global n += 1\n",
    "end\n",
    "\n",
    "n"
   ]
  },
  {
   "cell_type": "markdown",
   "id": "2af833ec-af07-4aa7-8758-201631e0ba2b",
   "metadata": {
    "tags": []
   },
   "source": [
    "보다시피 우리는 `global` 키워드를 사용해야 합니다. 이것은 **변수 범위** 때문입니다. 조건문, 로프 그리고 함수 안에서 정의된 변수는 그 안에서만 존재합니다. \n",
    "\n",
    "여기서 우리는 줄리아에게 `while`루프 안에 있는 `n`은 전역변수라는 것을 `global` 키워드를 통해 알려줘야 합니다.\n",
    "\n",
    "마지막으로, 우리는 또한 `+=`연산자를 사용했습니다. 이것은 `n = n+1`의 축약형힙니다."
   ]
  },
  {
   "cell_type": "markdown",
   "id": "358e0f2a-95f2-4418-bf24-fffc4419a7c0",
   "metadata": {},
   "source": [
    "## 3.3 네이티브 데이터 구조\n",
    "\n",
    "줄리아는 몇가지 네이티브 데이터 구조를 가지고 있습니다. 그들은 구조화된 데이터의 형식을 나타내는 데이터 추상형입니다. 우리는 가장 많이 사용되는 것들만 다룰 거십니다. 그들은 일관되거나 다양한 형태의 데이터를 보관합니다. 그들이 collections이라면, 그들은 `for` 루프를 통해 순환할 수 있습니다. \n",
    "\n",
    "우리는 `String`, `Tuple`, `NamedTuple`, `unitRange`, `Array`, `Pair`, `Dict`, `Symbol`을 다룰 예정입니다.\n",
    "\n",
    "당신이 줄리아 데이터 구조에 어려움을 겪고 있다면 당신은 `methodswith`라는 함수로 메소드를 찾을 수 있습니다. 줄리아에서 함수와 메소드의 차이는 다음과 가티 구분됩니다. 모든 함수는 우리가 이전에 보인 것과 같이 복수의 메소드를 가질 수 있습니다. `methodswith`함수는 당신이 알아둘만한 트릭입니다. 그렇다면 우리가 `String`으로 무엇을 할 수 있는지 알아봅시다."
   ]
  },
  {
   "cell_type": "code",
   "execution_count": 45,
   "id": "c65e396b-e06d-4961-8ac6-72b5a44cfdc2",
   "metadata": {},
   "outputs": [
    {
     "data": {
      "text/html": [
       "5-element Vector{Method}:<ul><li> vparse(s_::<b>String</b>) in VersionParsing at <a href=\"file:///root/.julia/packages/VersionParsing/YFVo1/src/VersionParsing.jl\" target=\"_blank\">/root/.julia/packages/VersionParsing/YFVo1/src/VersionParsing.jl:39</a><li> artifact_hash(name::<b>String</b>, artifacts_toml::<b>String</b>; <i>platform, pkg_uuid</i>) in Artifacts at <a href=\"file:///buildworker/worker/package_linuxaarch64/build/usr/share/julia/stdlib/v1.6/Artifacts/src/Artifacts.jl\" target=\"_blank\">/opt/julia-1.6.4/share/julia/stdlib/v1.6/Artifacts/src/Artifacts.jl:419</a><li> artifact_meta(name::<b>String</b>, artifacts_toml::<b>String</b>; <i>platform, pkg_uuid</i>) in Artifacts at <a href=\"file:///buildworker/worker/package_linuxaarch64/build/usr/share/julia/stdlib/v1.6/Artifacts/src/Artifacts.jl\" target=\"_blank\">/opt/julia-1.6.4/share/julia/stdlib/v1.6/Artifacts/src/Artifacts.jl:366</a><li> artifact_meta(name::<b>String</b>, artifact_dict::<b>Dict</b>, artifacts_toml::<b>String</b>; <i>platform</i>) in Artifacts at <a href=\"file:///buildworker/worker/package_linuxaarch64/build/usr/share/julia/stdlib/v1.6/Artifacts/src/Artifacts.jl\" target=\"_blank\">/opt/julia-1.6.4/share/julia/stdlib/v1.6/Artifacts/src/Artifacts.jl:378</a><li> find_artifacts_toml(path::<b>String</b>) in Artifacts at <a href=\"file:///buildworker/worker/package_linuxaarch64/build/usr/share/julia/stdlib/v1.6/Artifacts/src/Artifacts.jl\" target=\"_blank\">/opt/julia-1.6.4/share/julia/stdlib/v1.6/Artifacts/src/Artifacts.jl:484</a></ul>"
      ],
      "text/plain": [
       "[1] vparse(s_::String) in VersionParsing at /root/.julia/packages/VersionParsing/YFVo1/src/VersionParsing.jl:39\n",
       "[2] artifact_hash(name::String, artifacts_toml::String; platform, pkg_uuid) in Artifacts at /opt/julia-1.6.4/share/julia/stdlib/v1.6/Artifacts/src/Artifacts.jl:419\n",
       "[3] artifact_meta(name::String, artifacts_toml::String; platform, pkg_uuid) in Artifacts at /opt/julia-1.6.4/share/julia/stdlib/v1.6/Artifacts/src/Artifacts.jl:366\n",
       "[4] artifact_meta(name::String, artifact_dict::Dict, artifacts_toml::String; platform) in Artifacts at /opt/julia-1.6.4/share/julia/stdlib/v1.6/Artifacts/src/Artifacts.jl:378\n",
       "[5] find_artifacts_toml(path::String) in Artifacts at /opt/julia-1.6.4/share/julia/stdlib/v1.6/Artifacts/src/Artifacts.jl:484"
      ]
     },
     "execution_count": 45,
     "metadata": {},
     "output_type": "execute_result"
    }
   ],
   "source": [
    "first(methodswith(String), 5)"
   ]
  },
  {
   "cell_type": "markdown",
   "id": "a6762553-b640-438d-8262-c8b15d57f804",
   "metadata": {},
   "source": [
    "### 3.3.1 연산과 함수 뿌리기(Broadcasting)\n",
    "\n",
    "우리가 데이터 구조에 더 깊이 들어가기 전에, 우리는 브로드캐스팅(또 다른 이름으로는 벡터라이징)과 닷 연산자`.` 에 대해 이야기 하고자 합니다.\n",
    "\n",
    "우리는 `*`(곱셈), `+`(덧셈)과 같은 수학적 연산을 닷 연산자를 통해 뿌릴 수 있습니다. 예를 들어, 덧셈을 흩뿌리는 건 `+`을 `.+`로 바굼을 통해 할 수 있습니다. "
   ]
  },
  {
   "cell_type": "code",
   "execution_count": 46,
   "id": "3b25a858-fe80-4f91-b70d-47bece96ac9b",
   "metadata": {},
   "outputs": [
    {
     "data": {
      "text/plain": [
       "3-element Vector{Int64}:\n",
       " 2\n",
       " 3\n",
       " 4"
      ]
     },
     "execution_count": 46,
     "metadata": {},
     "output_type": "execute_result"
    }
   ],
   "source": [
    "[1, 2, 3] .+ 1"
   ]
  },
  {
   "cell_type": "markdown",
   "id": "c147fef4-e31e-46c6-9597-0d4b37dee298",
   "metadata": {},
   "source": [
    "이는 또한 함수에도 자동 적용 됩니다.(기술적으로 수학연산이나, 고정 연산자(infix operator) 는 또한 함수입니다만, 그렇게 중요하지 않습니다.) `logarithm`함수를 기억하시나요?"
   ]
  },
  {
   "cell_type": "code",
   "execution_count": 47,
   "id": "3d468b9d-f494-4bdf-91f2-3fcfafee083e",
   "metadata": {},
   "outputs": [
    {
     "data": {
      "text/plain": [
       "3-element Vector{Float64}:\n",
       " 0.0\n",
       " 0.6931471805599569\n",
       " 1.0986122886681282"
      ]
     },
     "execution_count": 47,
     "metadata": {},
     "output_type": "execute_result"
    }
   ],
   "source": [
    "logarithm.([1, 2, 3])"
   ]
  },
  {
   "cell_type": "markdown",
   "id": "8bd34f18-46c3-482a-9dc0-ad659e9cadb8",
   "metadata": {},
   "source": [
    "#### 3.3.1.1 뱅(!)이 있는 함수\n",
    "\n",
    "줄리아 규약중 하나로 함수 이름에 뱅`!`이 있는 경우 하나 이상의 인자를 바꾸는 것을 의미합니다. 이 규약은 사용자에게 **순수함수**(이 함수는 부작용이 있음)가 아니라는 경고를 주기 위함입니다. 부작용이 있는 함수는 당신이 큰 데이터 구조를 업데이트 하거나 새로운 변수 컨테이너를 오버헤드 없이 생성할 때 유용합니다.\n",
    "\n",
    "예를 들어, 우리는 벡터 `v`에 1씩 더하는 함수를 만들 수 있습니다."
   ]
  },
  {
   "cell_type": "code",
   "execution_count": 48,
   "id": "105fb192-d58e-411c-8ca9-787fd16456a7",
   "metadata": {},
   "outputs": [
    {
     "data": {
      "text/plain": [
       "add_one! (generic function with 1 method)"
      ]
     },
     "execution_count": 48,
     "metadata": {},
     "output_type": "execute_result"
    }
   ],
   "source": [
    "function add_one!(V)\n",
    "    for i in 1:length(V)\n",
    "        V[i] += 1\n",
    "    end\n",
    "    return nothing\n",
    "end"
   ]
  },
  {
   "cell_type": "code",
   "execution_count": 49,
   "id": "1529deed-81c0-4adf-9c58-f04564e8055a",
   "metadata": {
    "tags": []
   },
   "outputs": [
    {
     "data": {
      "text/plain": [
       "3-element Vector{Int64}:\n",
       " 2\n",
       " 3\n",
       " 4"
      ]
     },
     "execution_count": 49,
     "metadata": {},
     "output_type": "execute_result"
    }
   ],
   "source": [
    "my_data = [1, 2, 3]\n",
    "\n",
    "add_one!(my_data)\n",
    "\n",
    "my_data"
   ]
  },
  {
   "cell_type": "markdown",
   "id": "8aba98e6-7316-4579-a2e0-8e6656dbc640",
   "metadata": {
    "tags": []
   },
   "source": [
    "### 3.3.2 문자열\n",
    "\n",
    "**문자열(String)**은 쌍따옴표로 표현됩니다."
   ]
  },
  {
   "cell_type": "code",
   "execution_count": 50,
   "id": "89e49311-2fbd-4e63-b719-e67e17bce961",
   "metadata": {},
   "outputs": [
    {
     "data": {
      "text/plain": [
       "String"
      ]
     },
     "execution_count": 50,
     "metadata": {},
     "output_type": "execute_result"
    }
   ],
   "source": [
    "typeof(\"This is a string\")"
   ]
  },
  {
   "cell_type": "markdown",
   "id": "477903bf-2a39-4633-9a79-2c5f3ab5afd8",
   "metadata": {},
   "source": [
    "우리는 또한 여러 줄을 작성할 수 있습니다."
   ]
  },
  {
   "cell_type": "code",
   "execution_count": 51,
   "id": "e7a32bff-3583-476c-a8e9-bcde73124724",
   "metadata": {},
   "outputs": [
    {
     "data": {
      "text/plain": [
       "\"\\nThis is a big multiline string.\\nAs you can see.\\nIt is still a String to Julia.\\n\""
      ]
     },
     "execution_count": 51,
     "metadata": {},
     "output_type": "execute_result"
    }
   ],
   "source": [
    "text = \"\n",
    "This is a big multiline string.\n",
    "As you can see.\n",
    "It is still a String to Julia.\n",
    "\""
   ]
  },
  {
   "cell_type": "markdown",
   "id": "e94e8566-0365-474f-8166-4556fb4ac111",
   "metadata": {},
   "source": [
    "하지만 보통 삼중 쌍따옴표를 사용해서 쓰는 것이 더 깔끔합니다."
   ]
  },
  {
   "cell_type": "code",
   "execution_count": 52,
   "id": "c67c8fe6-2b96-43bf-8036-9399098bdcfb",
   "metadata": {},
   "outputs": [
    {
     "data": {
      "text/plain": [
       "\"This is a big multiline string with a nested \\\"quotation\\\".\\nAs you can see.\\nIt is still a String to Julia\\n\""
      ]
     },
     "execution_count": 52,
     "metadata": {},
     "output_type": "execute_result"
    }
   ],
   "source": [
    "S = \"\"\"\n",
    "    This is a big multiline string with a nested \"quotation\".\n",
    "    As you can see.\n",
    "    It is still a String to Julia\n",
    "    \"\"\""
   ]
  },
  {
   "cell_type": "markdown",
   "id": "ea4bb7a8-644a-4a39-8183-c7fc0c80604e",
   "metadata": {},
   "source": [
    "삼중 쌍따옴표를 쓰는 경우, 들여쓰기와 시작할 때 줄바꾸기는 무시됩니다. 이는 코드 가독성을 높여줍니다. 왜냐하면 소스코드에서 블럭을 들여쓸 때 문자열에서의 이런 들여쓰기가 사라지기 때문이니다."
   ]
  },
  {
   "cell_type": "markdown",
   "id": "bb5eabfa-bab1-4cc9-9f86-f7976bb8fc03",
   "metadata": {},
   "source": [
    "#### 3.3.2.1 문자열 병합\n",
    "\n",
    "흔한 문자열 연산은 **문자열 병합**입니다. 두개나 그 이상의 문자열을 합쳐서 새로운 문자열을만들고 싶다면, 줄리아에서는 `*` 연산자나 `join`함수를 통해 달성할 수 있습니다. 이 심폴은 이상한 선택으로 들리고 실제로 그렇습니다. 지금은, 많은 줄리아 코드베이스가 이 연산자를 사용하기 때문에 이렇게 남을 것입니다. 좀더 관심이 있다면, 2015년부터 이어져온 토론을 읽어보세요. https://github.com/JuliaLang/julia/issues/11030."
   ]
  },
  {
   "cell_type": "code",
   "execution_count": 53,
   "id": "d2282425-cbb8-4d9e-848a-6b8b4b298abf",
   "metadata": {},
   "outputs": [
    {
     "data": {
      "text/plain": [
       "\"HelloGoodbye\""
      ]
     },
     "execution_count": 53,
     "metadata": {},
     "output_type": "execute_result"
    }
   ],
   "source": [
    "hello = \"Hello\"\n",
    "goodbye = \"Goodbye\"\n",
    "hello * goodbye"
   ]
  },
  {
   "cell_type": "code",
   "execution_count": 54,
   "id": "905e9099-10d0-4c88-b375-1f9ee15aad68",
   "metadata": {},
   "outputs": [
    {
     "data": {
      "text/plain": [
       "+ (generic function with 191 methods)"
      ]
     },
     "execution_count": 54,
     "metadata": {},
     "output_type": "execute_result"
    }
   ],
   "source": [
    "import Base.+\n",
    "\n",
    "\n",
    "function +(a::String, b::String)\n",
    "    return a*b\n",
    "end"
   ]
  },
  {
   "cell_type": "code",
   "execution_count": 55,
   "id": "57725f9d-56f1-4af4-b235-074266d16d13",
   "metadata": {},
   "outputs": [
    {
     "data": {
      "text/plain": [
       "\"HelloGoodbye\""
      ]
     },
     "execution_count": 55,
     "metadata": {},
     "output_type": "execute_result"
    }
   ],
   "source": [
    "hello + goodbye"
   ]
  },
  {
   "cell_type": "markdown",
   "id": "b2307e3e-2d39-46a1-90a5-71c984ee3ee4",
   "metadata": {},
   "source": [
    "보다시피, `hello`와 `goodbye`사이에 공백이 없습니다. 우리는 `\" \"` 문자열을 추가해서 `*`로 병합할 수도 있지만, 두개 이상의 문자열일 경우 귀찮습니다. 그런 경우가 `join`함수가 편리한 지점입니다. 우리는 그저 문자열을 대괄호`[]`에 넣고 구분자를 넘기면 됩니다."
   ]
  },
  {
   "cell_type": "code",
   "execution_count": 56,
   "id": "cce07b2d-d228-49b7-85b4-e7ba30263d13",
   "metadata": {},
   "outputs": [
    {
     "data": {
      "text/plain": [
       "\"Hello Goodbye\""
      ]
     },
     "execution_count": 56,
     "metadata": {},
     "output_type": "execute_result"
    }
   ],
   "source": [
    "join([hello, goodbye], \" \")"
   ]
  },
  {
   "cell_type": "markdown",
   "id": "33264be6-bdbd-4505-9055-f882b7a03ddd",
   "metadata": {},
   "source": [
    "#### 3.3.2.2 문자열 삽입\n",
    "\n",
    "문자열 병합은 때때로 복잡할 수 있습니다. 우리는 **문자열 삽입**을 이용해 좀더 나은 표현력을 가질 수 있습니다. 이것은 다음과 같이 진행됩니다.\n",
    "\n",
    "당신은 `$` 달러 사인을 이용해 당신이 집어 넣고 싶은 뭐든 문자열에 집어 넣을 수 있습니다. 위와 동일하지만 삽입을 사용한 예시입니다."
   ]
  },
  {
   "cell_type": "code",
   "execution_count": 57,
   "id": "283346f7-da4f-4e4b-823b-84441a047891",
   "metadata": {},
   "outputs": [
    {
     "data": {
      "text/plain": [
       "\"Hello Goodbye\""
      ]
     },
     "execution_count": 57,
     "metadata": {},
     "output_type": "execute_result"
    }
   ],
   "source": [
    "\"$hello $goodbye\""
   ]
  },
  {
   "cell_type": "markdown",
   "id": "80dc685e-5c7b-4570-99c3-d23244bbbd47",
   "metadata": {},
   "source": [
    "이것은 함수 안에서도 작동합니다. 우리의 섹션 3.2.5의 `test`함수를 개선해 봅시다."
   ]
  },
  {
   "cell_type": "code",
   "execution_count": 58,
   "id": "91f40b26-9d6b-47fb-be10-c70635b05e85",
   "metadata": {},
   "outputs": [
    {
     "data": {
      "text/plain": [
       "\"3.14 is equal to 3.14\""
      ]
     },
     "execution_count": 58,
     "metadata": {},
     "output_type": "execute_result"
    }
   ],
   "source": [
    "function test_interpolated(a, b)\n",
    "    if a < b\n",
    "        \"$a is less than $b\"\n",
    "    elseif a > b\n",
    "        \"$a is greater than $b\"\n",
    "    else\n",
    "        \"$a is equal to $b\"\n",
    "    end\n",
    "end\n",
    "\n",
    "test_interpolated(3.14, 3.14)"
   ]
  },
  {
   "cell_type": "markdown",
   "id": "f8c577e5-3a07-47be-a1d0-7c50504ffa63",
   "metadata": {},
   "source": [
    "#### 3.3.2.3 문자열 조작\n",
    "\n",
    "줄리아에서 문자열을 조작하는 여러가지 함수가 있습니다. 우리는 그중 가장 많이 사용하는 것을 보여드리고자 합니다. 또한, 대부분의 이 함수들은 [정규표현식]()을 인자로 받습니다. 우리는 정규표현식을 이 책에서 커버하지 않습니다만, 배우기를 권장합니다. 특히 당신이 텍스트 데이터를 주로 다룬다면요.\n",
    "\n",
    "먼저 우리가 가지고 놀 문자열을 정의합니다."
   ]
  },
  {
   "cell_type": "code",
   "execution_count": 59,
   "id": "5c98327e-c26e-4ff8-b4d5-f0af64226ea4",
   "metadata": {},
   "outputs": [
    {
     "data": {
      "text/plain": [
       "\"Julia is an amazing open source programming language\""
      ]
     },
     "execution_count": 59,
     "metadata": {},
     "output_type": "execute_result"
    }
   ],
   "source": [
    "julia_string = \"Julia is an amazing open source programming language\""
   ]
  },
  {
   "cell_type": "markdown",
   "id": "fbb67a49-9c8b-438a-a237-f1f527c2e0c2",
   "metadata": {},
   "source": [
    "1. `contains`, `startswith`와 `endwith`: 조건문(`true`나 `false`를 반환)하는 것으로 두번째 인자는 :\n",
    "\n",
    "- 첫번째 인자의 **일부(substring)**"
   ]
  },
  {
   "cell_type": "code",
   "execution_count": 60,
   "id": "bdc07434-a8c6-434d-bd13-32dc4ccc8fe9",
   "metadata": {},
   "outputs": [
    {
     "data": {
      "text/plain": [
       "true"
      ]
     },
     "execution_count": 60,
     "metadata": {},
     "output_type": "execute_result"
    }
   ],
   "source": [
    "contains(julia_string, \"Julia\")"
   ]
  },
  {
   "cell_type": "markdown",
   "id": "0df13c48-2b5f-47ac-8681-24335ecb64e1",
   "metadata": {},
   "source": [
    "- 첫번째 인자의 **접두어(prefix)**"
   ]
  },
  {
   "cell_type": "code",
   "execution_count": 61,
   "id": "0dc9ab7b-4f04-4d85-9aa4-8dc38aea4c37",
   "metadata": {},
   "outputs": [
    {
     "data": {
      "text/plain": [
       "true"
      ]
     },
     "execution_count": 61,
     "metadata": {},
     "output_type": "execute_result"
    }
   ],
   "source": [
    "startswith(julia_string, \"Julia\")"
   ]
  },
  {
   "cell_type": "markdown",
   "id": "32eaa340-773f-497d-90ab-42e7284a3f1a",
   "metadata": {},
   "source": [
    "- 첫 번째 인자의 **어미(suffix)**"
   ]
  },
  {
   "cell_type": "code",
   "execution_count": 62,
   "id": "72ec24d8-b6fc-4ff4-88b3-8674a243b1d7",
   "metadata": {},
   "outputs": [
    {
     "data": {
      "text/plain": [
       "false"
      ]
     },
     "execution_count": 62,
     "metadata": {},
     "output_type": "execute_result"
    }
   ],
   "source": [
    "endswith(julia_string, \"Julia\")"
   ]
  },
  {
   "cell_type": "markdown",
   "id": "d654d51f-6087-4be1-a7f5-2b6c3d53a432",
   "metadata": {},
   "source": [
    "2. `lowercase`, `uppercase`, `titlecase`와 `lowercasefirst`:"
   ]
  },
  {
   "cell_type": "code",
   "execution_count": 63,
   "id": "3840744b-bd87-4338-a4a7-b3d1d02e1c71",
   "metadata": {},
   "outputs": [
    {
     "data": {
      "text/plain": [
       "\"julia is an amazing open source programming language\""
      ]
     },
     "execution_count": 63,
     "metadata": {},
     "output_type": "execute_result"
    }
   ],
   "source": [
    "lowercase(julia_string)"
   ]
  },
  {
   "cell_type": "code",
   "execution_count": 64,
   "id": "92c3f731-e320-4d7a-9127-d91ce6653420",
   "metadata": {},
   "outputs": [
    {
     "data": {
      "text/plain": [
       "\"JULIA IS AN AMAZING OPEN SOURCE PROGRAMMING LANGUAGE\""
      ]
     },
     "execution_count": 64,
     "metadata": {},
     "output_type": "execute_result"
    }
   ],
   "source": [
    "uppercase(julia_string)"
   ]
  },
  {
   "cell_type": "code",
   "execution_count": 65,
   "id": "2a260916-9340-4fb0-9ad4-4b5845812e78",
   "metadata": {},
   "outputs": [
    {
     "data": {
      "text/plain": [
       "\"Julia Is An Amazing Open Source Programming Language\""
      ]
     },
     "execution_count": 65,
     "metadata": {},
     "output_type": "execute_result"
    }
   ],
   "source": [
    "titlecase(julia_string)"
   ]
  },
  {
   "cell_type": "code",
   "execution_count": 66,
   "id": "1b9eb01e-2425-4b5e-b7f8-7af63aa352a3",
   "metadata": {},
   "outputs": [
    {
     "data": {
      "text/plain": [
       "\"julia is an amazing open source programming language\""
      ]
     },
     "execution_count": 66,
     "metadata": {},
     "output_type": "execute_result"
    }
   ],
   "source": [
    "lowercasefirst(julia_string)"
   ]
  },
  {
   "cell_type": "markdown",
   "id": "f3795fdf-6fb8-4043-8927-4e5c77f0f6b8",
   "metadata": {},
   "source": [
    "3. `replace`: `Pair`라고 하는 새로운 문법을 소개합니다."
   ]
  },
  {
   "cell_type": "code",
   "execution_count": 67,
   "id": "d5804a33-aafd-41ff-bec3-8a3a990f5619",
   "metadata": {},
   "outputs": [
    {
     "data": {
      "text/plain": [
       "\"Julia is an awesome open source programming language\""
      ]
     },
     "execution_count": 67,
     "metadata": {},
     "output_type": "execute_result"
    }
   ],
   "source": [
    "replace(julia_string, \"amazing\" => \"awesome\")"
   ]
  },
  {
   "cell_type": "markdown",
   "id": "1b38546c-c396-44c4-9bd7-a9328948ed62",
   "metadata": {},
   "source": [
    "4. `split`: 구분자로 문자열을 쪼갭니다."
   ]
  },
  {
   "cell_type": "code",
   "execution_count": 68,
   "id": "8399b310-7906-406c-8386-520ad29c8caf",
   "metadata": {},
   "outputs": [
    {
     "data": {
      "text/plain": [
       "8-element Vector{SubString{String}}:\n",
       " \"Julia\"\n",
       " \"is\"\n",
       " \"an\"\n",
       " \"amazing\"\n",
       " \"open\"\n",
       " \"source\"\n",
       " \"programming\"\n",
       " \"language\""
      ]
     },
     "execution_count": 68,
     "metadata": {},
     "output_type": "execute_result"
    }
   ],
   "source": [
    "split(julia_string, \" \")"
   ]
  },
  {
   "cell_type": "markdown",
   "id": "69f1ae30-aa35-417d-81ed-a8c4e86c1946",
   "metadata": {},
   "source": [
    "#### 3.3.2.4 문자열 변환\n",
    "\n",
    "종종 우리는 타입간 **변환**을 해야 합니다.. 숫자를 문자로 변환하기 위해서 우리는 `string` 함수를 이용할 수 있습니다."
   ]
  },
  {
   "cell_type": "code",
   "execution_count": 69,
   "id": "9427f56c-bbbc-4e9f-866b-d64e2377f46c",
   "metadata": {},
   "outputs": [
    {
     "data": {
      "text/plain": [
       "String"
      ]
     },
     "execution_count": 69,
     "metadata": {},
     "output_type": "execute_result"
    }
   ],
   "source": [
    "my_number = 123\n",
    "typeof(string(my_number))"
   ]
  },
  {
   "cell_type": "markdown",
   "id": "f609b00d-b13d-4fef-ade7-0e81c0b48d1f",
   "metadata": {},
   "source": [
    "때때로, 우리는 반대로 문자열을 숫자로 바꾸어야 할 때도 있습니다. 줄리아는 `parse`라는 편리한 함수가 있어 이를 해낼 수 있습니다."
   ]
  },
  {
   "cell_type": "code",
   "execution_count": 70,
   "id": "a0931af9-9eaf-4eec-ba41-c97fa54d19da",
   "metadata": {},
   "outputs": [
    {
     "data": {
      "text/plain": [
       "Int64"
      ]
     },
     "execution_count": 70,
     "metadata": {},
     "output_type": "execute_result"
    }
   ],
   "source": [
    "typeof(parse(Int64, \"123\"))"
   ]
  },
  {
   "cell_type": "markdown",
   "id": "2438caa4-1373-4880-81f3-9baf954add9b",
   "metadata": {},
   "source": [
    "때로, 우리는 이런 변환을 안정적으로 하고 싶습니다. 그 때 `tryparse` 함수가 필요합니다. 이것은 `parse`와 기능은 동일하지만, 요청한 타입을 반환하거나 `nothing`을 반환합니다. 그렇기 때문에 `tryparse`는 우리가 에러를 피하고 싶을 때 유용합니다. 물론 이후에 `nothing`값을 처리해야 할 것입니다."
   ]
  },
  {
   "cell_type": "code",
   "execution_count": 71,
   "id": "92b8abaa-c823-4921-9817-ba1b35189c1a",
   "metadata": {},
   "outputs": [],
   "source": [
    "tryparse(Int64, \"A very non-numeric string\")"
   ]
  },
  {
   "cell_type": "markdown",
   "id": "649de15c-151d-47cf-b8ba-a3e1bc07a659",
   "metadata": {
    "tags": []
   },
   "source": [
    "### 3.3.3 튜플\n",
    "\n",
    "줄리아는 **튜플(Tuple)**이라는 데이터 구조를 가지고 있습니다. 그들은 줄리아에서 아주 특별한데, 왜냐하면 그들은 함수와 관련되어서 사용되기 때문입니다.\n",
    "함수가 줄리아에서 중요한 기능이기 때문에, 모든 줄리아 유저는 튜플 기초를 알아야 합니다.\n",
    "\n",
    "튜플은 **고정된 크기의 컨테이너로 여러 다른 타입의 값들을 가질 수 있습니다.** 튜플은 **불변 객체**로 이것은 생성(instantiation)되고 나면 수정할 수 없습니다. 튜플을 만들기 위해, 괄호`()`를 시작과 끝에 붙이며, 값들 사이에는 콤마`,`를 사용합니다."
   ]
  },
  {
   "cell_type": "code",
   "execution_count": 72,
   "id": "f57aa1db-a4a8-4c0e-86c0-beb4abb8b723",
   "metadata": {},
   "outputs": [
    {
     "data": {
      "text/plain": [
       "(1, 3.14, \"Julia\")"
      ]
     },
     "execution_count": 72,
     "metadata": {},
     "output_type": "execute_result"
    }
   ],
   "source": [
    "my_tuple = (1, 3.14, \"Julia\")"
   ]
  },
  {
   "cell_type": "markdown",
   "id": "185d0390-b5e4-46fe-982a-003ffe6a2e19",
   "metadata": {},
   "source": [
    "여기서 우리는 세가지 값을 가지는 튜플을 만들었습니다. 각각의 값은 다른 타입입니다. 우리는 인덱싱을 통해 그 값에 접근할 수 있습니다. 다음과 같이 말이죠."
   ]
  },
  {
   "cell_type": "code",
   "execution_count": 73,
   "id": "9437f040-a5ef-4288-ab2a-dcf3d051e408",
   "metadata": {},
   "outputs": [
    {
     "data": {
      "text/plain": [
       "3.14"
      ]
     },
     "execution_count": 73,
     "metadata": {},
     "output_type": "execute_result"
    }
   ],
   "source": [
    "my_tuple[2]"
   ]
  },
  {
   "cell_type": "markdown",
   "id": "832c464e-ecf7-4b12-a872-ba232e61de26",
   "metadata": {},
   "source": [
    "우리는 또한 `for`키워드를 통해 튜플 값을 순환할 수 있습니다. 또한 튜플에 함수를 적용 할 수 있습니다. 하지만 우리는 **절대 값을 바꿀 수 없습니다.** 튜플은 불변이기 때문이죠.\n",
    "\n",
    "섹션 [3.2.4.2]()에서 복수의 값을 반환한 것을 기억하나요? 그러면 우리의 `add_multiply` 함수가 어떤 것을 반환 했는지 조사해 보죠."
   ]
  },
  {
   "cell_type": "code",
   "execution_count": 74,
   "id": "eaa8c166-047e-4b20-9189-2ddd4f51dbc2",
   "metadata": {},
   "outputs": [
    {
     "data": {
      "text/plain": [
       "Tuple{Int64, Int64}"
      ]
     },
     "execution_count": 74,
     "metadata": {},
     "output_type": "execute_result"
    }
   ],
   "source": [
    "return_multiple = add_multiply(1, 2)\n",
    "typeof(return_multiple)"
   ]
  },
  {
   "cell_type": "markdown",
   "id": "48053558-b8d7-46a4-bd4e-880150bfc1ba",
   "metadata": {},
   "source": [
    "이것은 `return a, b`는 `return (a, b)`와 같기 때문입니다."
   ]
  },
  {
   "cell_type": "code",
   "execution_count": 75,
   "id": "a56fe6ab-7346-4208-9442-e0ba170c07ef",
   "metadata": {},
   "outputs": [
    {
     "data": {
      "text/plain": [
       "(1, 2)"
      ]
     },
     "execution_count": 75,
     "metadata": {},
     "output_type": "execute_result"
    }
   ],
   "source": [
    "1, 2"
   ]
  },
  {
   "cell_type": "markdown",
   "id": "3730c6be-2b94-447b-a133-6f7ada8857c3",
   "metadata": {},
   "source": [
    "이제 왜 이것이 연관되어 있는지 알 수 있을 겁니다.\n",
    "\n",
    "한가지 튜플에 대해 더 언급하자면, **당신이 하나 이상의 변수를 익명 함수(annonymous function)에 전달하고자 하면, 무엇을 사용해야 할까요? 다신 한번: 튜플입니다!**"
   ]
  },
  {
   "cell_type": "code",
   "execution_count": 76,
   "id": "5aa1ec74-ec89-4fe6-ae4d-3220231189b8",
   "metadata": {},
   "outputs": [
    {
     "data": {
      "text/plain": [
       "8"
      ]
     },
     "execution_count": 76,
     "metadata": {},
     "output_type": "execute_result"
    }
   ],
   "source": [
    "map((x, y) -> x^y, 2, 3)"
   ]
  },
  {
   "cell_type": "markdown",
   "id": "55ea8f9b-e10d-4c93-adb0-bdea0f386f87",
   "metadata": {},
   "source": [
    "또는 둘 이상의 인수도 가능합니다."
   ]
  },
  {
   "cell_type": "code",
   "execution_count": 77,
   "id": "ec2dcb48-9999-4cf4-bcbb-4a31ed49ef19",
   "metadata": {},
   "outputs": [
    {
     "data": {
      "text/plain": [
       "9"
      ]
     },
     "execution_count": 77,
     "metadata": {},
     "output_type": "execute_result"
    }
   ],
   "source": [
    "map((x, y, z) -> x^y + z, 2, 3, 1)"
   ]
  },
  {
   "cell_type": "markdown",
   "id": "3bae1d9c-3a15-42b0-baa7-4f5d0517830b",
   "metadata": {},
   "source": [
    "### 3.3.4 네임드 튜플(Named Tuple)\n",
    "\n",
    "때때로, 우리는 튜플 안에 있는 값에 이름이 있기를 원합니다. 그럴 때 **named tuple** 이 필요한 것입니다. 그들의 기능은 튜플과 상당히 동일 합니다. 그들은 **불변**이고 **어떠한 타입의 값**도 가질 수 있습니다.\n",
    "\n",
    "네임드 튜플 생성은 튜플과 조금 다릅니다. 괄호`()`와 콤마`,`는 익숙할 겁니다. 하지만 **값의 이름**을 붙여야 합니다."
   ]
  },
  {
   "cell_type": "code",
   "execution_count": 78,
   "id": "b47c890f-bd3a-4be3-8d00-7981a0a341d3",
   "metadata": {},
   "outputs": [
    {
     "data": {
      "text/plain": [
       "(i = 1, f = 3.14, s = \"Julia\")"
      ]
     },
     "execution_count": 78,
     "metadata": {},
     "output_type": "execute_result"
    }
   ],
   "source": [
    "my_namedtuple = (i=1, f=3.14, s=\"Julia\")"
   ]
  },
  {
   "cell_type": "markdown",
   "id": "7ba9b929-ccb1-4d29-8f26-04e37d1b493a",
   "metadata": {},
   "source": [
    "우리는 네임드 튜플의 값을 일반적인 튜플 처럼 인덱싱을 하거나, **이름을 사용해 접근** 할 수 있니다. `.`을 사용해서요."
   ]
  },
  {
   "cell_type": "code",
   "execution_count": 79,
   "id": "7faf98fe-e8fc-430b-a0a6-4ffcb4fa27a9",
   "metadata": {},
   "outputs": [
    {
     "data": {
      "text/plain": [
       "\"Julia\""
      ]
     },
     "execution_count": 79,
     "metadata": {},
     "output_type": "execute_result"
    }
   ],
   "source": [
    "my_namedtuple.s"
   ]
  },
  {
   "cell_type": "markdown",
   "id": "46593ac1-43f8-4f57-9ae0-911b81a91cfd",
   "metadata": {},
   "source": [
    "네임드 튜플에 대한 이야기를 끝내기 앞서 줄리아 코드를 볼 때 자주 볼 수 있는 한가지 아주 중요한 *짧은* 문법을  소개하겠습니다.종종 줄리아 유저들은 익숙한 괄호`()`와 콤마`,`를 이름 없이 사용합니다. 그렇게 하기 위해서 **네임드 튜플 생성 시작점에 세미콜론`;`을 붙여서 구분합니다.** 이것은 특히 이미 정의된 변수나 너무 긴 라인을 피할 때 유용합니다."
   ]
  },
  {
   "cell_type": "code",
   "execution_count": 80,
   "id": "3ff5cfd8-7f92-4d19-bb8c-14896749b73b",
   "metadata": {},
   "outputs": [
    {
     "data": {
      "text/plain": [
       "(i = 1, f = 3.14, s = \"Julia\")"
      ]
     },
     "execution_count": 80,
     "metadata": {},
     "output_type": "execute_result"
    }
   ],
   "source": [
    "i = 1\n",
    "f = 3.14\n",
    "s = \"Julia\"\n",
    "\n",
    "my_quick_namedtuple = (; i, f, s)"
   ]
  },
  {
   "cell_type": "markdown",
   "id": "000cd853-5d3b-4260-8c01-d7b8e7627acf",
   "metadata": {},
   "source": [
    "### 3.3.5 레인지(Ranges)\n",
    "\n",
    "**레인지**는 줄리아에서 시작과 끝 범위를 표현합니다. 문법은 `start:stop` 형식입니다."
   ]
  },
  {
   "cell_type": "code",
   "execution_count": 81,
   "id": "30db7433-be84-4265-b1a1-f00b2b77e66f",
   "metadata": {},
   "outputs": [
    {
     "data": {
      "text/plain": [
       "1:10"
      ]
     },
     "execution_count": 81,
     "metadata": {},
     "output_type": "execute_result"
    }
   ],
   "source": [
    "1:10"
   ]
  },
  {
   "cell_type": "markdown",
   "id": "f05fe2db-c8c8-4b72-83bb-642dce6e5a66",
   "metadata": {
    "tags": []
   },
   "source": [
    "보다시피, 생성된 레인지는 `UnitRange{T}` 타입이고 `T`에는 `UnitRange`안에 들어가는 타입입니다."
   ]
  },
  {
   "cell_type": "code",
   "execution_count": 82,
   "id": "a11db9e9-85c5-4a54-8be8-86fe75d358cc",
   "metadata": {},
   "outputs": [
    {
     "data": {
      "text/plain": [
       "UnitRange{Int64}"
      ]
     },
     "execution_count": 82,
     "metadata": {},
     "output_type": "execute_result"
    }
   ],
   "source": [
    "typeof(1:10)"
   ]
  },
  {
   "cell_type": "markdown",
   "id": "58a83a0b-207a-411f-8c01-631be53e4846",
   "metadata": {},
   "source": [
    "또한, 우리가 모든 값을 모으면 우리는 :"
   ]
  },
  {
   "cell_type": "code",
   "execution_count": 83,
   "id": "2b9a824f-21aa-4a98-a879-150d2b824e60",
   "metadata": {},
   "outputs": [
    {
     "data": {
      "text/plain": [
       "10-element Vector{Int64}:\n",
       "  1\n",
       "  2\n",
       "  3\n",
       "  4\n",
       "  5\n",
       "  6\n",
       "  7\n",
       "  8\n",
       "  9\n",
       " 10"
      ]
     },
     "execution_count": 83,
     "metadata": {},
     "output_type": "execute_result"
    }
   ],
   "source": [
    "[x for x in 1:10]"
   ]
  },
  {
   "cell_type": "markdown",
   "id": "88e4cfc3-4abb-4b0f-ae8b-a464c8b3da8e",
   "metadata": {},
   "source": [
    "우리는 또한 다른 타입의 레인지도 만들 수 있습니다."
   ]
  },
  {
   "cell_type": "code",
   "execution_count": 84,
   "id": "499eb02b-c735-4258-a71e-4061002c240b",
   "metadata": {},
   "outputs": [
    {
     "data": {
      "text/plain": [
       "StepRangeLen{Float64, Base.TwicePrecision{Float64}, Base.TwicePrecision{Float64}}"
      ]
     },
     "execution_count": 84,
     "metadata": {},
     "output_type": "execute_result"
    }
   ],
   "source": [
    "typeof(1.0:10.0)"
   ]
  },
  {
   "cell_type": "markdown",
   "id": "c4e1fc95-b2f1-4d18-a840-4364696adbb1",
   "metadata": {},
   "source": [
    "때때로 우리는 기본 인터벌 스텝 크기를 바꾸고자 합니다. 우리는 스텝 사이즈를 집어넣어 `start:step:stop`과 같이 쓸 수 있습니다. 예를 들어 우리가 `Float64` 레인지를 0부터 1까지 0.2 간격으로 만들고자 한다면"
   ]
  },
  {
   "cell_type": "code",
   "execution_count": 85,
   "id": "fd8a6bc1-5285-4510-92fa-6227ebd03421",
   "metadata": {},
   "outputs": [
    {
     "data": {
      "text/plain": [
       "0.0:0.2:1.0"
      ]
     },
     "execution_count": 85,
     "metadata": {},
     "output_type": "execute_result"
    }
   ],
   "source": [
    "0.0:0.2:1.0"
   ]
  },
  {
   "cell_type": "markdown",
   "id": "39a6aa5d-7204-4a00-b515-f63bac69a4f5",
   "metadata": {},
   "source": [
    "만약에 컬렉션으로 레인지를 값으로 변환하고자 한다면, `collect`함수로 할 수 있습니다."
   ]
  },
  {
   "cell_type": "code",
   "execution_count": 86,
   "id": "92e8fbb9-ff8d-41ba-8099-4e70055fbdc8",
   "metadata": {},
   "outputs": [
    {
     "data": {
      "text/plain": [
       "10-element Vector{Int64}:\n",
       "  1\n",
       "  2\n",
       "  3\n",
       "  4\n",
       "  5\n",
       "  6\n",
       "  7\n",
       "  8\n",
       "  9\n",
       " 10"
      ]
     },
     "execution_count": 86,
     "metadata": {},
     "output_type": "execute_result"
    }
   ],
   "source": [
    "collect(1:10)"
   ]
  },
  {
   "cell_type": "markdown",
   "id": "4b7373b3-6885-48bc-ab50-4677a7b03d1f",
   "metadata": {},
   "source": [
    "우리는 레인지로 정의된 배열을 얻을 수 있습니다. 배열 이야기가 나왔으니 배열 이야기를 해보죠."
   ]
  },
  {
   "cell_type": "markdown",
   "id": "92a7391e-07b9-4be3-83ce-e00899095938",
   "metadata": {
    "tags": []
   },
   "source": [
    "### 3.3.6 배열\n",
    "\n",
    "기초적인 형태로 **배열(array)** 는 여러 객체를 가질 수 있습니다. 예를 들어 그들은 1차원으로 배열된 여러 수를 가질 수 있습니다."
   ]
  },
  {
   "cell_type": "code",
   "execution_count": 87,
   "id": "a26765fc-b1b0-4354-a816-107db9b95d99",
   "metadata": {},
   "outputs": [
    {
     "data": {
      "text/plain": [
       "3-element Vector{Int64}:\n",
       " 1\n",
       " 2\n",
       " 3"
      ]
     },
     "execution_count": 87,
     "metadata": {},
     "output_type": "execute_result"
    }
   ],
   "source": [
    "myarray = [1, 2, 3]"
   ]
  },
  {
   "cell_type": "markdown",
   "id": "2b05da67-2676-4c04-8691-79f6d0e5711a",
   "metadata": {},
   "source": [
    "대부분의 경우 당신은 **성능 이슈로 한가지 타입으로 된 배열**을 원하게 될 것입니다. 하지만, 배열은 다른 타입의 객체를 가질 수 있습니다."
   ]
  },
  {
   "cell_type": "code",
   "execution_count": 88,
   "id": "d402ffe2-8b55-426b-a6a4-58c740e07c47",
   "metadata": {},
   "outputs": [
    {
     "data": {
      "text/plain": [
       "3-element Vector{Any}:\n",
       "  \"text\"\n",
       " 1\n",
       "  :symbol"
      ]
     },
     "execution_count": 88,
     "metadata": {},
     "output_type": "execute_result"
    }
   ],
   "source": [
    "myarray = [\"text\", 1, :symbol]"
   ]
  },
  {
   "cell_type": "markdown",
   "id": "0ceaef49-2ea8-4805-9c11-9de0e721fb3d",
   "metadata": {},
   "source": [
    "그들은 데이터 사이언티스트에게 \"빵과 버터\"입니다. 왜냐하면 배열은 대부분의 **데이터 조작**과 **데이터 시각화** 워크플로우의 근간이 되기 때문입니다."
   ]
  },
  {
   "cell_type": "markdown",
   "id": "f9c6dde0-3c0f-46fc-833a-cd96f9b6f9f0",
   "metadata": {},
   "source": [
    "#### 3.3.6.1 배열 타입\n",
    "\n",
    "그러면 **배열 타입**부터 시작합니다. 여러가지가 있지만,우리는 데이터 사이언스에서 가장 많이 사용되는 두가지 타입에 집중하겠습니다.\n",
    "\n",
    "* `Vector{T}`: **일차원** 배열.`Array{T, 1}`\n",
    "* `Matrix{T}`: **이차원** 배열. `Array{T, 2}`\n",
    "\n",
    "여기서 `T`는 배열 내 함수 입니다. 예를 들어 `Vector{Int64}`는 `Vector` 의 모든 요소가 `Int64`라는 뜻이고 `Matrix{AbtractFloat}`는 `Matrix`의 모든 요소가 `AbstractFloat`의 하위타입이라는 뜻입니다.\n",
    "\n",
    "대부분의 경우, 특히 테이블 데이터를 다루고 있을 때 우리는 일차원, 또는 이차원 배열을 사용합니다. 그들 모두 `Array` 타입입니다. 하지만, 우리는 `Vector`나 `Matrix`를 사용하여 좀더 깔끔하고 간결하게 씁니다."
   ]
  },
  {
   "cell_type": "markdown",
   "id": "dc571875-fe28-4181-bc89-dd76f3ce37e8",
   "metadata": {
    "tags": []
   },
   "source": [
    "#### 3.3.6.2 배열 생성\n",
    "\n",
    "어떻게 배열을 **구성**할 수 있을까요? 이 섹션에서 우리는 저수준 방법으로 배열을 만드는 것으로 시작합니다. 이것은 어떤 상황에서 고성능 코드를 만들기 위해 필요합니다. 하지만 대부분의 경우, 이것은 필요하지 않고 우리는 안전하게 좀더 편리한 방법으로 배열을 구성할 수 잇습니다. 그 좀더 변한 방법은 뒷 부분에서 다룹니다.\n",
    "\n",
    "줄리아 배열에서 저수준 컨스트럭터는 **기본 컨스트럭터**입니다. 이것은 요소 타입을 타이 파라미터로 `{}` 중괄호 안에서 받으며 컨스트럭터 안에서 당신은 원하는 차원과 엘리먼트 타입을 전달 할 수 있습니다. \n",
    "정의되지 않은 엘리먼트는 `undef`를 타입 인자로 벡터와 행렬을 생성할 때 사용하는 것은 알반적입니다. 10개의 `undef`, `Float64` 요소를 갖는 벡터를 구성하고자 하면"
   ]
  },
  {
   "cell_type": "code",
   "execution_count": 89,
   "id": "15966d88-a0b1-4c44-8909-09b974771d87",
   "metadata": {},
   "outputs": [
    {
     "data": {
      "text/plain": [
       "10-element Vector{Float64}:\n",
       " 2.54079883541e-312\n",
       " 2.54079883557e-312\n",
       " 2.54527789456e-312\n",
       " 2.540798835886e-312\n",
       " 2.54527789456e-312\n",
       " 2.54527789456e-312\n",
       " 2.540798845847e-312\n",
       " 2.54079883652e-312\n",
       " 2.540798836835e-312\n",
       " 2.542762133323e-312"
      ]
     },
     "execution_count": 89,
     "metadata": {},
     "output_type": "execute_result"
    }
   ],
   "source": [
    "my_vector = Vector{Float64}(undef, 10)"
   ]
  },
  {
   "cell_type": "markdown",
   "id": "d0d9e088-1412-436f-9de7-59ec8f8cbf74",
   "metadata": {},
   "source": [
    "행렬에서는, 우리가 2차원 객체르르 다루고 있기 때문에, 우리는 두 차원 인자를 전달해야 합니다. 하나는 **행**이고 하나는 **열**입니다. 예를 들어 10개의 행과 2개의 열의 `undef`를 가진 행렬으르 생성한다고 하면"
   ]
  },
  {
   "cell_type": "code",
   "execution_count": 90,
   "id": "f062d83e-d3ae-4a36-a2d5-1790f042c38a",
   "metadata": {},
   "outputs": [
    {
     "data": {
      "text/plain": [
       "10×2 Matrix{Float64}:\n",
       " 2.54453e-312  2.54497e-312\n",
       " 2.54082e-312  2.54453e-312\n",
       " 2.54497e-312  2.54082e-312\n",
       " 2.54519e-312  9.97338e-313\n",
       " 2.54519e-312  9.76118e-313\n",
       " 2.54268e-312  9.33678e-313\n",
       " 2.54268e-312  1.18832e-312\n",
       " 2.54453e-312  8.48798e-313\n",
       " 2.54268e-312  6.36599e-314\n",
       " 2.54497e-312  2.54086e-312"
      ]
     },
     "execution_count": 90,
     "metadata": {},
     "output_type": "execute_result"
    }
   ],
   "source": [
    "my_matrix = Matrix{Float64}(undef, 10, 2)"
   ]
  },
  {
   "cell_type": "markdown",
   "id": "5baf4b1c-20a0-4221-9184-71fad41f8e8b",
   "metadata": {},
   "source": [
    "우리는 **문법 별칭**을 사용해 자주 사용하는 값을 가진 배열을 생성할 수 있습니다.\n",
    "\n",
    "* `zeros`는 모든 값이 0으로 생성됩니다. 기본 타입은 `Float64`이며 필요하면 바꿀 수 있습니다."
   ]
  },
  {
   "cell_type": "code",
   "execution_count": 91,
   "id": "525e2884-2ee3-4bd1-8352-b8a6f4f65c55",
   "metadata": {},
   "outputs": [
    {
     "data": {
      "text/plain": [
       "10-element Vector{Float64}:\n",
       " 0.0\n",
       " 0.0\n",
       " 0.0\n",
       " 0.0\n",
       " 0.0\n",
       " 0.0\n",
       " 0.0\n",
       " 0.0\n",
       " 0.0\n",
       " 0.0"
      ]
     },
     "execution_count": 91,
     "metadata": {},
     "output_type": "execute_result"
    }
   ],
   "source": [
    "my_vector_zeros = zeros(10)"
   ]
  },
  {
   "cell_type": "code",
   "execution_count": 92,
   "id": "534cfd77-264c-40e2-9757-163fecd9e9da",
   "metadata": {},
   "outputs": [
    {
     "data": {
      "text/plain": [
       "10×2 Matrix{Int64}:\n",
       " 0  0\n",
       " 0  0\n",
       " 0  0\n",
       " 0  0\n",
       " 0  0\n",
       " 0  0\n",
       " 0  0\n",
       " 0  0\n",
       " 0  0\n",
       " 0  0"
      ]
     },
     "execution_count": 92,
     "metadata": {},
     "output_type": "execute_result"
    }
   ],
   "source": [
    "my_matrix_zeros = zeros(Int64, 10, 2)"
   ]
  },
  {
   "cell_type": "markdown",
   "id": "5a36c1d0-4a7b-47ba-b614-50c2c0eeca7e",
   "metadata": {},
   "source": [
    "* `ones`는 모든 값을 1로 만든 배열입니다."
   ]
  },
  {
   "cell_type": "code",
   "execution_count": 93,
   "id": "166e58f4-3b5b-476e-b707-3abc87ff71bc",
   "metadata": {},
   "outputs": [
    {
     "data": {
      "text/plain": [
       "10-element Vector{Int64}:\n",
       " 1\n",
       " 1\n",
       " 1\n",
       " 1\n",
       " 1\n",
       " 1\n",
       " 1\n",
       " 1\n",
       " 1\n",
       " 1"
      ]
     },
     "execution_count": 93,
     "metadata": {},
     "output_type": "execute_result"
    }
   ],
   "source": [
    "my_vector_ones = ones(Int64, 10)"
   ]
  },
  {
   "cell_type": "code",
   "execution_count": 94,
   "id": "ed8b07c3-d400-4fbf-a790-47715bb1642c",
   "metadata": {},
   "outputs": [
    {
     "data": {
      "text/plain": [
       "10×2 Matrix{Float64}:\n",
       " 1.0  1.0\n",
       " 1.0  1.0\n",
       " 1.0  1.0\n",
       " 1.0  1.0\n",
       " 1.0  1.0\n",
       " 1.0  1.0\n",
       " 1.0  1.0\n",
       " 1.0  1.0\n",
       " 1.0  1.0\n",
       " 1.0  1.0"
      ]
     },
     "execution_count": 94,
     "metadata": {},
     "output_type": "execute_result"
    }
   ],
   "source": [
    "my_matrix_ones = ones(10, 2)"
   ]
  },
  {
   "cell_type": "markdown",
   "id": "5520add4-e801-4b77-9b81-1486f2cf167c",
   "metadata": {},
   "source": [
    "다른 요소에 대해, 우리는 `undef`로 된 배열을 생성하고, `fill!` 함수를 써서 원하는 값으로 채울 수 있습니다. 여기 `3.14`로 된 예제를 보시죠."
   ]
  },
  {
   "cell_type": "code",
   "execution_count": 95,
   "id": "a49991de-06dc-4413-a9c3-7cd6ab422523",
   "metadata": {},
   "outputs": [
    {
     "data": {
      "text/plain": [
       "2×2 Matrix{Float64}:\n",
       " 3.14  3.14\n",
       " 3.14  3.14"
      ]
     },
     "execution_count": 95,
     "metadata": {},
     "output_type": "execute_result"
    }
   ],
   "source": [
    "my_matrix_π = Matrix{Float64}(undef, 2, 2)\n",
    "fill!(my_matrix_π, 3.14)"
   ]
  },
  {
   "cell_type": "markdown",
   "id": "1c2ed7b2-1f21-4279-bf92-7c24a85fd431",
   "metadata": {},
   "source": [
    "우리는 **Array literals**로 배열을 생성할 수 있습니다. 여기 2x2 정수 행렬 예제를 보시죠."
   ]
  },
  {
   "cell_type": "code",
   "execution_count": 96,
   "id": "d876d9f1-337b-42d4-b9ee-183b7be01abf",
   "metadata": {},
   "outputs": [
    {
     "data": {
      "text/plain": [
       "2×2 Matrix{Int64}:\n",
       " 1  2\n",
       " 3  4"
      ]
     },
     "execution_count": 96,
     "metadata": {},
     "output_type": "execute_result"
    }
   ],
   "source": [
    "[[1 2]\n",
    " [3 4]]"
   ]
  },
  {
   "cell_type": "markdown",
   "id": "663061a8-2f26-413d-a58a-722fd3970ccc",
   "metadata": {},
   "source": [
    "Array literals는 `[]`앞에 타입지정도 받을 수 있습니다. 도한, 우리가 같은 2x2 배열이지만 실수형을 원한다면, 다음과 같이 할 수 있습니다."
   ]
  },
  {
   "cell_type": "code",
   "execution_count": 97,
   "id": "ebf0a6c4-1a6e-439a-b2c5-9148dc3d5123",
   "metadata": {},
   "outputs": [
    {
     "data": {
      "text/plain": [
       "2×2 Matrix{Float64}:\n",
       " 1.0  2.0\n",
       " 3.0  4.0"
      ]
     },
     "execution_count": 97,
     "metadata": {},
     "output_type": "execute_result"
    }
   ],
   "source": [
    "Float64[[1 2]\n",
    "        [3 4]]"
   ]
  },
  {
   "cell_type": "markdown",
   "id": "8010b982-393c-448e-bbae-9278327ff7ed",
   "metadata": {},
   "source": [
    "이것은 벡터에서도 작동합니다."
   ]
  },
  {
   "cell_type": "code",
   "execution_count": 98,
   "id": "75c9cc6f-d345-42ad-9d1f-2f5e6daa92ca",
   "metadata": {},
   "outputs": [
    {
     "data": {
      "text/plain": [
       "4-element Vector{Bool}:\n",
       " 0\n",
       " 1\n",
       " 0\n",
       " 1"
      ]
     },
     "execution_count": 98,
     "metadata": {},
     "output_type": "execute_result"
    }
   ],
   "source": [
    "Bool[0, 1, 0, 1]"
   ]
  },
  {
   "cell_type": "markdown",
   "id": "9aa667eb-4047-4e92-8afb-069e130843e2",
   "metadata": {},
   "source": [
    "여러 arrary literals를 **섞어서** 사용할 수도 있습니다."
   ]
  },
  {
   "cell_type": "code",
   "execution_count": 99,
   "id": "5e61aec9-f9e8-4978-bee8-809295076ebe",
   "metadata": {},
   "outputs": [
    {
     "data": {
      "text/plain": [
       "2-element Vector{Matrix{Int64}}:\n",
       " [1 1; 1 1]\n",
       " [0 0; 0 0]"
      ]
     },
     "execution_count": 99,
     "metadata": {},
     "output_type": "execute_result"
    }
   ],
   "source": [
    "[ones(Int, 2, 2), zeros(Int, 2, 2)]"
   ]
  },
  {
   "cell_type": "code",
   "execution_count": 100,
   "id": "c847e3ef-99f5-4abf-bc5f-69ccebfee7a7",
   "metadata": {},
   "outputs": [
    {
     "data": {
      "text/plain": [
       "4×2 Matrix{Int64}:\n",
       " 0  0\n",
       " 0  0\n",
       " 1  1\n",
       " 1  1"
      ]
     },
     "execution_count": 100,
     "metadata": {},
     "output_type": "execute_result"
    }
   ],
   "source": [
    "[zeros(Int, 2, 2)\n",
    "    ones(Int, 2, 2)]"
   ]
  },
  {
   "cell_type": "code",
   "execution_count": 101,
   "id": "167a88c3-4068-4f46-905b-51c4dcd7fdfd",
   "metadata": {},
   "outputs": [
    {
     "data": {
      "text/plain": [
       "3×3 Matrix{Int64}:\n",
       " 1  1  1\n",
       " 1  1  2\n",
       " 3  4  5"
      ]
     },
     "execution_count": 101,
     "metadata": {},
     "output_type": "execute_result"
    }
   ],
   "source": [
    "[ones(Int, 2, 2) [1; 2]\n",
    "    [3 4] 5]"
   ]
  },
  {
   "cell_type": "markdown",
   "id": "9bd25272-8725-4ffe-bb2a-213246602853",
   "metadata": {},
   "source": [
    "배열을 생성하는 또다른 강력한 방법은 **배열 컴프리핸션**입니다. 이것은 대부분의 경우 더 나은 방법입니다. 이것은 루프, 인덱싱, 그리고 다른 에러에 취약한 연산을 피할 수 있습니다. 당신이 원하는 걸 `[]` 대괄호 안에 지정하면 됩니다. 예를 들면 우리가 1 부터 10까지의 값을 제곱한 행렬을 원한다면"
   ]
  },
  {
   "cell_type": "code",
   "execution_count": 102,
   "id": "e478338d-5bb0-4a72-a278-9ac405085c60",
   "metadata": {},
   "outputs": [
    {
     "data": {
      "text/plain": [
       "10-element Vector{Int64}:\n",
       "   1\n",
       "   4\n",
       "   9\n",
       "  16\n",
       "  25\n",
       "  36\n",
       "  49\n",
       "  64\n",
       "  81\n",
       " 100"
      ]
     },
     "execution_count": 102,
     "metadata": {},
     "output_type": "execute_result"
    }
   ],
   "source": [
    "[x^2 for x in 1:10]"
   ]
  },
  {
   "cell_type": "markdown",
   "id": "bbb766cd-c996-4049-88e8-a2613253659f",
   "metadata": {},
   "source": [
    "다 변수를 인풋으로 받을 수도 있습니다."
   ]
  },
  {
   "cell_type": "code",
   "execution_count": 103,
   "id": "e26add05-bdce-4644-9d9b-10c9011d011b",
   "metadata": {},
   "outputs": [
    {
     "data": {
      "text/plain": [
       "20-element Vector{Int64}:\n",
       "  1\n",
       "  2\n",
       "  2\n",
       "  4\n",
       "  3\n",
       "  6\n",
       "  4\n",
       "  8\n",
       "  5\n",
       " 10\n",
       "  6\n",
       " 12\n",
       "  7\n",
       " 14\n",
       "  8\n",
       " 16\n",
       "  9\n",
       " 18\n",
       " 10\n",
       " 20"
      ]
     },
     "execution_count": 103,
     "metadata": {},
     "output_type": "execute_result"
    }
   ],
   "source": [
    "[x*y for x in 1:10 for y in 1:2]"
   ]
  },
  {
   "cell_type": "markdown",
   "id": "1b914fca-3722-431c-8961-9533a05d933f",
   "metadata": {},
   "source": [
    "그리고 조건문도요."
   ]
  },
  {
   "cell_type": "code",
   "execution_count": 104,
   "id": "e8cc37d7-ce98-4be9-b815-1825166d5b1d",
   "metadata": {},
   "outputs": [
    {
     "data": {
      "text/plain": [
       "5-element Vector{Int64}:\n",
       "  1\n",
       "  9\n",
       " 25\n",
       " 49\n",
       " 81"
      ]
     },
     "execution_count": 104,
     "metadata": {},
     "output_type": "execute_result"
    }
   ],
   "source": [
    "[x^2 for x in 1:10 if isodd(x)]"
   ]
  },
  {
   "cell_type": "markdown",
   "id": "213a72af-b9df-4a1e-95c4-3a2cd0a0f1ea",
   "metadata": {},
   "source": [
    "array literals와 같이 원하는 타입을 `[]`대괄호 앞에 지정할 수도 있습니다."
   ]
  },
  {
   "cell_type": "code",
   "execution_count": 105,
   "id": "cda8deed-32d1-4db4-b17a-0f8a0071a709",
   "metadata": {},
   "outputs": [
    {
     "data": {
      "text/plain": [
       "5-element Vector{Float64}:\n",
       "  1.0\n",
       "  9.0\n",
       " 25.0\n",
       " 49.0\n",
       " 81.0"
      ]
     },
     "execution_count": 105,
     "metadata": {},
     "output_type": "execute_result"
    }
   ],
   "source": [
    "Float64[x^2 for x in 1:10 if isodd(x)]"
   ]
  },
  {
   "cell_type": "markdown",
   "id": "dec22946-d560-4577-8869-8d4d88e28ec9",
   "metadata": {},
   "source": [
    "마지막으로 우리는 **병합 함수**를 써서 배열을 만들 수 있습니다. 병합(Concatenation)은 컴퓨터 프로그램에서 일반적인 표현으로 \"연결한다\"는 뜻입니다. 예를 들어 우리는 문자열 \"aa\"와 \"bb\"를 병합해 \"aabb\"를 얻을 수 있습니다."
   ]
  },
  {
   "cell_type": "code",
   "execution_count": 106,
   "id": "ec0740fc-c9d6-4125-a66f-742998d7b48b",
   "metadata": {},
   "outputs": [
    {
     "data": {
      "text/plain": [
       "\"aabb\""
      ]
     },
     "execution_count": 106,
     "metadata": {},
     "output_type": "execute_result"
    }
   ],
   "source": [
    "\"aa\" * \"bb\""
   ]
  },
  {
   "cell_type": "markdown",
   "id": "88f1a07f-e2af-4ca6-9c28-a2b0e1c8fad1",
   "metadata": {},
   "source": [
    "또한 우리는 배열들을 병합해 새로운 배열을 만들 수 있습니다.\n",
    "\n",
    "*`cat`: 특정 차원에 따라 인풋 배열을 병합합니다."
   ]
  },
  {
   "cell_type": "code",
   "execution_count": 107,
   "id": "25ebd942-f943-4f0a-8ced-57af22814f14",
   "metadata": {},
   "outputs": [
    {
     "data": {
      "text/plain": [
       "4-element Vector{Float64}:\n",
       " 1.0\n",
       " 1.0\n",
       " 0.0\n",
       " 0.0"
      ]
     },
     "execution_count": 107,
     "metadata": {},
     "output_type": "execute_result"
    }
   ],
   "source": [
    "cat(ones(2), zeros(2), dims=1)"
   ]
  },
  {
   "cell_type": "code",
   "execution_count": 108,
   "id": "1020ab33-2d42-4876-adee-22a2f12561d0",
   "metadata": {},
   "outputs": [
    {
     "data": {
      "text/plain": [
       "2×2 Matrix{Float64}:\n",
       " 1.0  0.0\n",
       " 1.0  0.0"
      ]
     },
     "execution_count": 108,
     "metadata": {},
     "output_type": "execute_result"
    }
   ],
   "source": [
    "cat(ones(2), zeros(2), dims=2)"
   ]
  },
  {
   "cell_type": "markdown",
   "id": "2f75a5d6-e864-48bf-9af2-0409c90e8287",
   "metadata": {},
   "source": [
    "`vcat`: 수직 병합으로 `cat(...; dims=1)`의 축약형입니다."
   ]
  },
  {
   "cell_type": "code",
   "execution_count": 109,
   "id": "84082cf4-8cbf-420e-909b-b54d39eaf122",
   "metadata": {},
   "outputs": [
    {
     "data": {
      "text/plain": [
       "4-element Vector{Float64}:\n",
       " 1.0\n",
       " 1.0\n",
       " 0.0\n",
       " 0.0"
      ]
     },
     "execution_count": 109,
     "metadata": {},
     "output_type": "execute_result"
    }
   ],
   "source": [
    "vcat(ones(2), zeros(2))"
   ]
  },
  {
   "cell_type": "markdown",
   "id": "48b220e9-cea0-4f86-8b3a-098bc6797357",
   "metadata": {},
   "source": [
    "`hcat`: 수평 병합으로 `cat(...; dims=2)`의 축약형 입니다."
   ]
  },
  {
   "cell_type": "code",
   "execution_count": 110,
   "id": "7c52e19a-5647-4b38-be3f-cd365c6b5adc",
   "metadata": {},
   "outputs": [
    {
     "data": {
      "text/plain": [
       "2×2 Matrix{Float64}:\n",
       " 1.0  0.0\n",
       " 1.0  0.0"
      ]
     },
     "execution_count": 110,
     "metadata": {},
     "output_type": "execute_result"
    }
   ],
   "source": [
    "hcat(ones(2), zeros(2))"
   ]
  },
  {
   "cell_type": "markdown",
   "id": "49c8b19b-1e49-482a-9c06-c9e123578f77",
   "metadata": {},
   "source": [
    "#### 3.3.6.3 배열 살펴보기\n",
    "\n",
    "일단 배열이 생기면, **살펴보는게** 자연스러운 다음 단계일 것입니다. 어떤 배열이든 살펴볼 수 있는 여러 편리한 함수들이 많이 있습니다.\n",
    "\n",
    "어떤 **타입의 요소**가 들어가 있는지 아는 것은 아주 유용합니다. 우리는 이것을 `eltype`을 통해서 할 수 있습니다."
   ]
  },
  {
   "cell_type": "code",
   "execution_count": 111,
   "id": "33d83c50-2dfd-42ba-b2e7-e448e906d782",
   "metadata": {},
   "outputs": [
    {
     "data": {
      "text/plain": [
       "Float64"
      ]
     },
     "execution_count": 111,
     "metadata": {},
     "output_type": "execute_result"
    }
   ],
   "source": [
    "eltype(my_matrix_π)"
   ]
  },
  {
   "cell_type": "markdown",
   "id": "73ec48b6-0b6a-4804-ad4f-8798de14b0be",
   "metadata": {},
   "source": [
    "타입을 알고나면, **배열 차원**이 궁금해질 것입니다. 줄리아는 몇몇 함수가 이를 위해 준비되어 있습니다.\n",
    "\n",
    "* `length`: 요소의 총 수"
   ]
  },
  {
   "cell_type": "code",
   "execution_count": 112,
   "id": "58a5db73-bdd3-4b7e-8f60-39e807d6cb14",
   "metadata": {},
   "outputs": [
    {
     "data": {
      "text/plain": [
       "4"
      ]
     },
     "execution_count": 112,
     "metadata": {},
     "output_type": "execute_result"
    }
   ],
   "source": [
    "length(my_matrix_π)"
   ]
  },
  {
   "cell_type": "markdown",
   "id": "d2f64ce8-52fc-4d35-9f5d-ed670506d874",
   "metadata": {},
   "source": [
    "* `ndims`: 차원 수"
   ]
  },
  {
   "cell_type": "code",
   "execution_count": 113,
   "id": "d7a37264-bbbd-4c47-9d0b-818f495edd0f",
   "metadata": {},
   "outputs": [
    {
     "data": {
      "text/plain": [
       "2"
      ]
     },
     "execution_count": 113,
     "metadata": {},
     "output_type": "execute_result"
    }
   ],
   "source": [
    "ndims(my_matrix_π)"
   ]
  },
  {
   "cell_type": "markdown",
   "id": "e2e98ef8-11f2-4123-abf0-818971ba2b6e",
   "metadata": {
    "tags": []
   },
   "source": [
    "* `size`: 이것은 약간 절묘합니다. 기본적으로 이것은 배열의 차원을 다은 튜플을 반환합니다."
   ]
  },
  {
   "cell_type": "code",
   "execution_count": 114,
   "id": "e2641f7d-7cd1-48f1-958d-0acdc2fa1ba8",
   "metadata": {},
   "outputs": [
    {
     "data": {
      "text/plain": [
       "(2, 2)"
      ]
     },
     "execution_count": 114,
     "metadata": {},
     "output_type": "execute_result"
    }
   ],
   "source": [
    "size(my_matrix_π)"
   ]
  },
  {
   "cell_type": "markdown",
   "id": "674e5b51-cef7-412b-bca9-395f642f92a2",
   "metadata": {},
   "source": [
    "* 당신은 `size`함수의 두번째 인자로 차원을 지정할 수 있습니다. 여기 두번째 축은 열입니다."
   ]
  },
  {
   "cell_type": "code",
   "execution_count": 115,
   "id": "8959f7d7-3b2b-4d51-8ba8-4b5e3772a457",
   "metadata": {},
   "outputs": [
    {
     "data": {
      "text/plain": [
       "2"
      ]
     },
     "execution_count": 115,
     "metadata": {},
     "output_type": "execute_result"
    }
   ],
   "source": [
    "size(my_matrix_π, 2)"
   ]
  },
  {
   "cell_type": "markdown",
   "id": "8ae6e0fa-9356-4280-813e-b3d20545ab25",
   "metadata": {},
   "source": [
    "#### 3.3.6.4 배열 인덱싱 및 슬라이싱\n",
    "\n",
    "때때로, 우리는 배열의 일부분만 살펴보고 십습니다. 이것을 `인덱싱`과 `슬라이싱`이라고 부릅니다. 당신이 어떤 특정 벡터를 관측하고자 한다면, 또는 행렬의 행이나 열을 보고 싶다고 한다면, 당신은 아마 **배열 인덱싱**이 필요할 겁니다.\n",
    "\n",
    "우선, 샘플이 될 벡터와 행렬을 만들겠습니다."
   ]
  },
  {
   "cell_type": "code",
   "execution_count": 116,
   "id": "043de5b7-717d-4855-8e13-bda2c832c512",
   "metadata": {},
   "outputs": [
    {
     "data": {
      "text/plain": [
       "3×3 Matrix{Int64}:\n",
       " 1  2  3\n",
       " 4  5  6\n",
       " 7  8  9"
      ]
     },
     "execution_count": 116,
     "metadata": {},
     "output_type": "execute_result"
    }
   ],
   "source": [
    "my_example_vector = [1, 2, 3, 4, 5]\n",
    "my_example_matrix = \n",
    "   [[1 2 3]\n",
    "    [4 5 6]\n",
    "    [7 8 9]]"
   ]
  },
  {
   "cell_type": "markdown",
   "id": "96e994c3-f899-41f6-a893-d38d1a38da5a",
   "metadata": {},
   "source": [
    "벡터부터 시작해 봅시다. 당신이 벡터에서 두번재 요소를 원한다고 해봅시다. `[]` 대괄호에 원하는 **인섹스**번호를 넣어서 덧붙이면 됩니다."
   ]
  },
  {
   "cell_type": "code",
   "execution_count": 117,
   "id": "49ec8646-889a-4ccd-990a-8c9408e77ee3",
   "metadata": {},
   "outputs": [
    {
     "data": {
      "text/plain": [
       "2"
      ]
     },
     "execution_count": 117,
     "metadata": {},
     "output_type": "execute_result"
    }
   ],
   "source": [
    "my_example_vector[2]"
   ]
  },
  {
   "cell_type": "markdown",
   "id": "75e97baf-57d5-4f6b-b6e7-b838ff8e03fe",
   "metadata": {},
   "source": [
    "같은 문법이 행렬에도 적용됩니다. 단, 행렬은 2차원 배열이기 때문에, 우리는 행과 열을 모두 지정해 주어야 합니다. 그러면 두번째 행(첫번째 차원), 첫번 째 열(두번째 차원) 요소를 꺼내 봅시다."
   ]
  },
  {
   "cell_type": "code",
   "execution_count": 118,
   "id": "596a4688-92f4-4ba4-984e-cb25684ebfa1",
   "metadata": {},
   "outputs": [
    {
     "data": {
      "text/plain": [
       "4"
      ]
     },
     "execution_count": 118,
     "metadata": {},
     "output_type": "execute_result"
    }
   ],
   "source": [
    "my_example_matrix[2, 1]"
   ]
  },
  {
   "cell_type": "markdown",
   "id": "3f7c0b83-733e-4016-a6da-48f0fb568d73",
   "metadata": {},
   "source": [
    "줄리아는 또한 **처음**와 **끝**을 나타내는 `begin`과 `end`라는 편리한 키워드가 있습니다. \n",
    "\n",
    "예를 들어, 마지막으로부터 두번째 요소를 벡터에서 지정한다면"
   ]
  },
  {
   "cell_type": "code",
   "execution_count": 119,
   "id": "7dc9c16e-d3de-4268-8756-b02ee2912595",
   "metadata": {},
   "outputs": [
    {
     "data": {
      "text/plain": [
       "4"
      ]
     },
     "execution_count": 119,
     "metadata": {},
     "output_type": "execute_result"
    }
   ],
   "source": [
    "my_example_vector[end-1]"
   ]
  },
  {
   "cell_type": "markdown",
   "id": "a017c061-8ae2-40e6-a789-668c2cfb7d44",
   "metadata": {},
   "source": [
    "이것은 행렬에도 사용됩니다. 그러면 마지막 행, 두번째 열 요소를 꺼내봅시다."
   ]
  },
  {
   "cell_type": "code",
   "execution_count": 120,
   "id": "a4a5ebb7-59c8-4299-b735-70ae9d898cb0",
   "metadata": {},
   "outputs": [
    {
     "data": {
      "text/plain": [
       "8"
      ]
     },
     "execution_count": 120,
     "metadata": {},
     "output_type": "execute_result"
    }
   ],
   "source": [
    "my_example_matrix[end, begin+1]"
   ]
  },
  {
   "cell_type": "markdown",
   "id": "4499b832-9946-45dc-9c41-2d63a22ef320",
   "metadata": {},
   "source": [
    "종종 우리는 한 요소만이 아니라 **요소의 부분집합**이 필요할 때가 있습니다. 우리는 이것을 배열 **슬라이싱**을 통해 해낼 수 있습니다. 이것은 인덱싱 문법과 같습니다. 하지만 추가로 `:` 콜론을 넣어 우리가 자르고자 하는 범주를 정합니다. 예를 들어, 우리가 벡터의 두번째부터 네번째 요소를 원한다면 "
   ]
  },
  {
   "cell_type": "code",
   "execution_count": 121,
   "id": "673af639-4608-44fd-8774-1aafeefb479a",
   "metadata": {},
   "outputs": [
    {
     "data": {
      "text/plain": [
       "3-element Vector{Int64}:\n",
       " 2\n",
       " 3\n",
       " 4"
      ]
     },
     "execution_count": 121,
     "metadata": {},
     "output_type": "execute_result"
    }
   ],
   "source": [
    "my_example_vector[2:4]"
   ]
  },
  {
   "cell_type": "markdown",
   "id": "633d6c33-5a7c-4c7e-ae7c-9e6effe973c1",
   "metadata": {},
   "source": [
    "우리는 같은 것을 행렬에서도 할 수 있습니다. 특히, 특정 차원의 **모든 요소**를 선택하고 싶다면 우리는 그저 `:`을 쓰면 됩니다.\n",
    "예를 들어, 두번째 행의 모든 요소를 선택한다면"
   ]
  },
  {
   "cell_type": "code",
   "execution_count": 122,
   "id": "e1c9d61c-8286-4373-b47f-3c4fb994b570",
   "metadata": {},
   "outputs": [
    {
     "data": {
      "text/plain": [
       "3-element Vector{Int64}:\n",
       " 4\n",
       " 5\n",
       " 6"
      ]
     },
     "execution_count": 122,
     "metadata": {},
     "output_type": "execute_result"
    }
   ],
   "source": [
    "my_example_matrix[2, :]"
   ]
  },
  {
   "cell_type": "markdown",
   "id": "964551b4-8efc-41e1-9b2e-31725b870e9a",
   "metadata": {},
   "source": [
    "여러분들은 이것을 \"두번째 행을 선택하고 모든 요소를 가져와\"와 같이 해석할 수 있습니다.\n",
    "\n",
    "이것은 또한 `begin`과 `end`를 지원합니다."
   ]
  },
  {
   "cell_type": "code",
   "execution_count": 123,
   "id": "ece4962d-2ef8-4ee8-b1df-57e42fbf603a",
   "metadata": {},
   "outputs": [
    {
     "data": {
      "text/plain": [
       "2-element Vector{Int64}:\n",
       " 6\n",
       " 9"
      ]
     },
     "execution_count": 123,
     "metadata": {},
     "output_type": "execute_result"
    }
   ],
   "source": [
    "my_example_matrix[begin+1:end, end]"
   ]
  },
  {
   "cell_type": "markdown",
   "id": "e7c51847-43e5-4974-a4f2-93098a50a223",
   "metadata": {},
   "source": [
    "#### 3.3.6.5 배열 조작\n",
    "\n",
    "배열을 **다루는**데에는 몇가지 방법이 있습니다. 가장 먼저는 **배열의 한 요소**를 바꾸는 것일 겁니다. 우리는 그냥 원하는 요소의 배열 인덱스에 등호`=`를 사용하면 됩니다."
   ]
  },
  {
   "cell_type": "code",
   "execution_count": 124,
   "id": "bf4dce96-2623-41cc-a3f2-4ef3d6094fa8",
   "metadata": {},
   "outputs": [
    {
     "data": {
      "text/plain": [
       "3×3 Matrix{Int64}:\n",
       " 1   2  3\n",
       " 4  42  6\n",
       " 7   8  9"
      ]
     },
     "execution_count": 124,
     "metadata": {},
     "output_type": "execute_result"
    }
   ],
   "source": [
    "my_example_matrix[2, 2] = 42\n",
    "my_example_matrix"
   ]
  },
  {
   "cell_type": "markdown",
   "id": "2a57dd65-5b16-4de4-8dda-c2e16cfb5434",
   "metadata": {
    "tags": []
   },
   "source": [
    "또는 **배열 요소의 부분집합**을 수정할 수 있습니다. 이경우는 우리는 배열을 잘라 등호`=`로 할당해야 합니다."
   ]
  },
  {
   "cell_type": "code",
   "execution_count": 125,
   "id": "98e64266-d78e-4ad6-9c9c-42c6cad3dda5",
   "metadata": {},
   "outputs": [
    {
     "data": {
      "text/plain": [
       "3×3 Matrix{Int64}:\n",
       "  1   2   3\n",
       "  4  42   6\n",
       " 17  16  15"
      ]
     },
     "execution_count": 125,
     "metadata": {},
     "output_type": "execute_result"
    }
   ],
   "source": [
    "my_example_matrix[3, :] = [17, 16, 15]\n",
    "my_example_matrix"
   ]
  },
  {
   "cell_type": "markdown",
   "id": "f99d38e3-24be-408e-b92c-5d5a83995345",
   "metadata": {},
   "source": [
    "한가지 언급하자면, 우리는 벡터를 할 당해야 합니다. 왜냐하면 잘린 배열이 `Vector`타입이기 때문입니다."
   ]
  },
  {
   "cell_type": "code",
   "execution_count": 126,
   "id": "1f3c8746-95d4-4f19-b6fa-16228eaa8cdc",
   "metadata": {},
   "outputs": [
    {
     "data": {
      "text/plain": [
       "Vector{Int64} (alias for Array{Int64, 1})"
      ]
     },
     "execution_count": 126,
     "metadata": {},
     "output_type": "execute_result"
    }
   ],
   "source": [
    "typeof(my_example_matrix[3, :])"
   ]
  },
  {
   "cell_type": "markdown",
   "id": "45be8c03-0531-49b3-96e2-979105febb7b",
   "metadata": {},
   "source": [
    "두 번째 우리가 배열을 다룰 수 잇는 것은 **배열의 모양을 바꾸는 것입니다.** 당신이 6개 요소를 가진 벡터가 있는데 당신은 이것을 3x2행렬로 바꾸고 싶다고 합시다. 당신은 이것을 `reshape`를 가지고 할 수 있습니다. 바꾸고자 하는 배열을 첫 인자로 하고 바꾸고자 하는 차원을 튜플로 한 것을 두번째 인자로 합니다."
   ]
  },
  {
   "cell_type": "code",
   "execution_count": 127,
   "id": "d1b2def6-d629-4a51-99a6-824a4de16fc5",
   "metadata": {},
   "outputs": [
    {
     "data": {
      "text/plain": [
       "3×2 Matrix{Int64}:\n",
       " 1  4\n",
       " 2  5\n",
       " 3  6"
      ]
     },
     "execution_count": 127,
     "metadata": {},
     "output_type": "execute_result"
    }
   ],
   "source": [
    "six_vector = [1, 2, 3, 4, 5, 6]\n",
    "three_two_matrix = reshape(six_vector, (3, 2))\n",
    "three_two_matrix"
   ]
  },
  {
   "cell_type": "markdown",
   "id": "5d67999a-d60a-45e6-a326-6a8e5f6b36fc",
   "metadata": {},
   "source": [
    "당신은 이것을 다시 벡터로 바꿀 수 있습니다. 한 가지 차원만 가진 튜플을 두번째 인자로 넘기는 것을 통해 말입니다."
   ]
  },
  {
   "cell_type": "code",
   "execution_count": 128,
   "id": "f60fdd00-8a57-46be-a5b9-39512d7568cc",
   "metadata": {},
   "outputs": [
    {
     "data": {
      "text/plain": [
       "6-element Vector{Int64}:\n",
       " 1\n",
       " 2\n",
       " 3\n",
       " 4\n",
       " 5\n",
       " 6"
      ]
     },
     "execution_count": 128,
     "metadata": {},
     "output_type": "execute_result"
    }
   ],
   "source": [
    "reshape(three_two_matrix, (6,))"
   ]
  },
  {
   "cell_type": "markdown",
   "id": "2ff529d4-b5c5-4ed1-b909-bc63e1dfac57",
   "metadata": {},
   "source": [
    "세번째 우리가 하고 싶은 배열 조작은 **함수를 배열 요소 모두에게 적용하는 것입니다.** 여기가 '닷' 연산자 `.`가 등장하는 곳이고 또한 흩뿌리기(*broadcasting*)라고도 합니다."
   ]
  },
  {
   "cell_type": "code",
   "execution_count": 129,
   "id": "c9bc83e1-fd2e-4b46-b935-ae71086ea184",
   "metadata": {},
   "outputs": [
    {
     "data": {
      "text/plain": [
       "3×3 Matrix{Float64}:\n",
       " 0.0      0.693147  1.09861\n",
       " 1.38629  3.73767   1.79176\n",
       " 2.83321  2.77259   2.70805"
      ]
     },
     "execution_count": 129,
     "metadata": {},
     "output_type": "execute_result"
    }
   ],
   "source": [
    "logarithm.(my_example_matrix)"
   ]
  },
  {
   "cell_type": "markdown",
   "id": "4eec4aa6-8579-4cd5-8fff-14f407d6bbeb",
   "metadata": {},
   "source": [
    "줄리아에서 점 연산자는 아주 다재다능합니다. infix 연산자들에도 사용할 수 있습니다."
   ]
  },
  {
   "cell_type": "code",
   "execution_count": 130,
   "id": "a5da0bf1-78fa-4fd8-becd-a7b8ed6cfcf9",
   "metadata": {},
   "outputs": [
    {
     "data": {
      "text/plain": [
       "3×3 Matrix{Int64}:\n",
       " 101  102  103\n",
       " 104  142  106\n",
       " 117  116  115"
      ]
     },
     "execution_count": 130,
     "metadata": {},
     "output_type": "execute_result"
    }
   ],
   "source": [
    "my_example_matrix .+ 100"
   ]
  },
  {
   "cell_type": "markdown",
   "id": "b696f484-bbfd-47fe-8fbf-cc4b01424daa",
   "metadata": {},
   "source": [
    "벡터에 대해서 흩뿌리는 대안은 `map`을 사용하는 것입니다."
   ]
  },
  {
   "cell_type": "code",
   "execution_count": 131,
   "id": "adea69e6-4265-4448-af38-50b5ecbc7701",
   "metadata": {},
   "outputs": [
    {
     "data": {
      "text/plain": [
       "3×3 Matrix{Float64}:\n",
       " 0.0      0.693147  1.09861\n",
       " 1.38629  3.73767   1.79176\n",
       " 2.83321  2.77259   2.70805"
      ]
     },
     "execution_count": 131,
     "metadata": {},
     "output_type": "execute_result"
    }
   ],
   "source": [
    "map(logarithm, my_example_matrix)"
   ]
  },
  {
   "cell_type": "markdown",
   "id": "6f06d48f-2e24-4e78-81ee-958eefe53137",
   "metadata": {},
   "source": [
    "이것은 상당히 깔끔합니다. 하지만 같은 연산은 다음과 같습니다."
   ]
  },
  {
   "cell_type": "code",
   "execution_count": 132,
   "id": "225ddad1-1cf8-493e-9cc2-70959ce1d3b0",
   "metadata": {},
   "outputs": [
    {
     "data": {
      "text/plain": [
       "3×3 Matrix{Int64}:\n",
       "  3    6   9\n",
       " 12  126  18\n",
       " 51   48  45"
      ]
     },
     "execution_count": 132,
     "metadata": {},
     "output_type": "execute_result"
    }
   ],
   "source": [
    "(x -> 3x).(my_example_matrix)"
   ]
  },
  {
   "cell_type": "markdown",
   "id": "a0aa7418-75b3-4d53-b535-61bd20f2c568",
   "metadata": {},
   "source": [
    "다음으로 `map`은 슬라이싱과 같이 사용됩니다."
   ]
  },
  {
   "cell_type": "code",
   "execution_count": 133,
   "id": "6f12448f-49eb-4202-8e2e-0f62321dc0af",
   "metadata": {},
   "outputs": [
    {
     "data": {
      "text/plain": [
       "3-element Vector{Int64}:\n",
       " 103\n",
       " 106\n",
       " 115"
      ]
     },
     "execution_count": 133,
     "metadata": {},
     "output_type": "execute_result"
    }
   ],
   "source": [
    "map(x -> x+100, my_example_matrix[:, 3])"
   ]
  },
  {
   "cell_type": "markdown",
   "id": "5d119fbc-1e98-401d-9d40-1bd939141941",
   "metadata": {},
   "source": [
    "마지막으로, 때때로 특히 테이블 형태의 데이터를 다룰 때 우리는 **특정 배열 차원 전체 요소에 함수를 적용하는 것을**원할 때가 있습니다. \n",
    "이것은 `mapslices` 함수를 써서 할 수 있습니다. `map`과 같이 첫번째 인자는 함수이고 두번째 인자는 배열 입니다. 유일하게 다른 건 우리는 `dims` 인자를 통해 어떤 차원을 우리가 바꾸고 싶은 요소가 있는지 지정해야 한다는 점입니다.\n",
    "\n",
    "예를 들어, `mapslices`를 `sum`함수와 같이 써보도록 합시다. 행은`dims=1`, 열은 `dims=2`입니다."
   ]
  },
  {
   "cell_type": "code",
   "execution_count": 134,
   "id": "f87de3b7-bc29-4031-96b8-ae5eb68ad3bf",
   "metadata": {},
   "outputs": [
    {
     "data": {
      "text/plain": [
       "1×3 Matrix{Int64}:\n",
       " 22  60  24"
      ]
     },
     "execution_count": 134,
     "metadata": {},
     "output_type": "execute_result"
    }
   ],
   "source": [
    "# rows\n",
    "mapslices(sum, my_example_matrix; dims=1)"
   ]
  },
  {
   "cell_type": "code",
   "execution_count": 135,
   "id": "4a663bdb-3647-4cf5-bc9b-606fe9a02aef",
   "metadata": {},
   "outputs": [
    {
     "data": {
      "text/plain": [
       "3×1 Matrix{Int64}:\n",
       "  6\n",
       " 52\n",
       " 48"
      ]
     },
     "execution_count": 135,
     "metadata": {},
     "output_type": "execute_result"
    }
   ],
   "source": [
    "# columns\n",
    "mapslices(sum, my_example_matrix; dims=2)"
   ]
  },
  {
   "cell_type": "markdown",
   "id": "2eace059-704c-4793-b9ac-65c26e63945d",
   "metadata": {},
   "source": [
    "#### 3.3.6.6 배열 반복\n",
    "\n",
    "아주 흔한 연산은 **배열을 `for`루프로 순환하면서 반복하는 것입니다.** 일반적인 `for`루프는 배열을 순환하고 각 요소의 값을 반환합니다.\n",
    "\n",
    "다음은 벡터를 사용한 가장 간단한 예제입니다."
   ]
  },
  {
   "cell_type": "code",
   "execution_count": 136,
   "id": "7213d59b-2767-4032-9b6f-0e0eb1b8837e",
   "metadata": {},
   "outputs": [
    {
     "data": {
      "text/plain": [
       "3-element Vector{Int64}:\n",
       " 2\n",
       " 3\n",
       " 4"
      ]
     },
     "execution_count": 136,
     "metadata": {},
     "output_type": "execute_result"
    }
   ],
   "source": [
    "simple_vector = [1, 2, 3]\n",
    "\n",
    "empty_vector = Int64[]\n",
    "\n",
    "for i in simple_vector\n",
    "    push!(empty_vector, i + 1)\n",
    "end\n",
    "\n",
    "empty_vector"
   ]
  },
  {
   "cell_type": "markdown",
   "id": "46324c59-7d58-441d-a9a7-b679267c4a37",
   "metadata": {},
   "source": [
    "때때로 각 요소를 순환하지 않고 배열 인덱스를 순환하고 싶을 때가 있습니다. **우리는 이 때 `eachindex`함수를 `for`루프와 결합하여 각 배열의 인덱스를 순환할 수 있습니다.**\n",
    "\n",
    "다시, 벡터로 만든 에제를 보시죠."
   ]
  },
  {
   "cell_type": "code",
   "execution_count": 137,
   "id": "ff5786c2-7d3f-46f4-a2f7-f20e11078e8b",
   "metadata": {},
   "outputs": [
    {
     "data": {
      "text/plain": [
       "3-element Vector{Int64}:\n",
       " 1\n",
       " 2\n",
       " 3"
      ]
     },
     "execution_count": 137,
     "metadata": {},
     "output_type": "execute_result"
    }
   ],
   "source": [
    "forty_twos = [42, 42, 42]\n",
    "\n",
    "empty_vector = Int64[]\n",
    "\n",
    "for i in eachindex(forty_twos)\n",
    "    push!(empty_vector, i)\n",
    "end\n",
    "\n",
    "empty_vector"
   ]
  },
  {
   "cell_type": "markdown",
   "id": "67725b97-372a-4111-968a-351bdb0a8585",
   "metadata": {},
   "source": [
    "이 예제에서, `eachinex(forty_twos)`는 `forty_twos`의 인덱스 `[1, 2, 3]`를 반환합니다. \n",
    "\n",
    "동일하게 우리는 메트릭스에서도 순환할 수 있습니다. `for`루프는 컬럼을 먼저 순환하고 행을 순환합니다. 먼저 첫번째 컬럼의 첫번째 행 부터 마지막 행까지 순환한 다음에, 두번째 컬럼으로 넘어가서 같은 방식으로 반환하는 것을 마지막 컬럼까지 합니다.\n",
    "\n",
    "다른 프로그래밍 언어처럼, 줄리아는 많은 과학적 프로그래밍 언어처럼 \"컬럼 메이저\"입니다. 컬럼 메이저는 컬럼 안에 있는 요소들이 메모리에서 이웃하게 저장된다는 의미입니다 이것은 또한, 컬럼 기반으로 순환하는 것이 행 기반으로 순환하는 것보다 훨씬 빠르다는 뜻입니다.\n",
    "\n",
    "예제를 통해 보여드리겠습니다."
   ]
  },
  {
   "cell_type": "code",
   "execution_count": 138,
   "id": "ba184eb9-f877-4157-8f67-b8724344b080",
   "metadata": {},
   "outputs": [
    {
     "data": {
      "text/plain": [
       "2×2 Matrix{Int64}:\n",
       " 1  2\n",
       " 3  4"
      ]
     },
     "execution_count": 138,
     "metadata": {},
     "output_type": "execute_result"
    }
   ],
   "source": [
    "column_major = [[1 3]\n",
    "                [2 4]]\n",
    "\n",
    "row_major = [[1 2]\n",
    "             [3 4]]"
   ]
  },
  {
   "cell_type": "markdown",
   "id": "83828bde-5d7d-4d6b-ad8f-6bf22a801603",
   "metadata": {},
   "source": [
    "우리가 컬럼 메이저 순서로 입력된 벡터를 순환하면, 결과는 정렬되어 있습니다."
   ]
  },
  {
   "cell_type": "code",
   "execution_count": 139,
   "id": "ffd6b207-d9c8-4753-94df-ce73f42f9a1b",
   "metadata": {},
   "outputs": [
    {
     "data": {
      "text/plain": [
       "4-element Vector{Int64}:\n",
       " 1\n",
       " 2\n",
       " 3\n",
       " 4"
      ]
     },
     "execution_count": 139,
     "metadata": {},
     "output_type": "execute_result"
    }
   ],
   "source": [
    "indexes = Int64[]\n",
    "\n",
    "for i in column_major\n",
    "    push!(indexes, i)\n",
    "end\n",
    "\n",
    "indexes"
   ]
  },
  {
   "cell_type": "markdown",
   "id": "8caf351c-5973-466a-bce8-ef489f113812",
   "metadata": {},
   "source": [
    "하지만, 다른 행렬에서는 정렬이 되지 않습니다."
   ]
  },
  {
   "cell_type": "code",
   "execution_count": 140,
   "id": "b70fb046-0072-4d33-a8bc-8565eb10b59b",
   "metadata": {},
   "outputs": [
    {
     "data": {
      "text/plain": [
       "4-element Vector{Int64}:\n",
       " 1\n",
       " 3\n",
       " 2\n",
       " 4"
      ]
     },
     "execution_count": 140,
     "metadata": {},
     "output_type": "execute_result"
    }
   ],
   "source": [
    "indexes = Int64[]\n",
    "\n",
    "for i in row_major\n",
    "    push!(indexes, i)\n",
    "end\n",
    "\n",
    "indexes"
   ]
  },
  {
   "cell_type": "markdown",
   "id": "1adfcf2e-0fdf-4cab-87b7-ac2337dab9b2",
   "metadata": {},
   "source": [
    "이런 순환을 위해 특정된 함수를 쓰는 것이 자주 낫습니다.\n",
    "\n",
    "- `eachcol`: 배열의 열 우선으로 순환"
   ]
  },
  {
   "cell_type": "code",
   "execution_count": 141,
   "id": "783fa7ef-094f-4823-897c-42e15566c5c9",
   "metadata": {},
   "outputs": [
    {
     "data": {
      "text/plain": [
       "2-element view(::Matrix{Int64}, :, 1) with eltype Int64:\n",
       " 1\n",
       " 2"
      ]
     },
     "execution_count": 141,
     "metadata": {},
     "output_type": "execute_result"
    }
   ],
   "source": [
    "first(eachcol(column_major))"
   ]
  },
  {
   "cell_type": "markdown",
   "id": "f8178b66-9184-46d1-8aec-922e7f6409fa",
   "metadata": {},
   "source": [
    "- `eachrow`: 배열의 행부터 순환"
   ]
  },
  {
   "cell_type": "code",
   "execution_count": 142,
   "id": "39176de4-c890-44fb-ac34-2b970a9c0f6d",
   "metadata": {},
   "outputs": [
    {
     "data": {
      "text/plain": [
       "2-element view(::Matrix{Int64}, 1, :) with eltype Int64:\n",
       " 1\n",
       " 3"
      ]
     },
     "execution_count": 142,
     "metadata": {},
     "output_type": "execute_result"
    }
   ],
   "source": [
    "first(eachrow(column_major))"
   ]
  },
  {
   "cell_type": "markdown",
   "id": "54334e80-6129-4704-a8ac-008131853f3d",
   "metadata": {},
   "source": [
    "### 3.3.7 짝(Pair)\n",
    "\n",
    "배열에 대한 방대한 내요에 비하면 이 페어에 대한 부분은 간결 합니다.\n",
    "`Pair`는 **두 객체를 담은 데이터 구조 입니다.**(보통 서로 연관된) 우리는 다음과 같은 문법으로 페어를 정의합니다."
   ]
  },
  {
   "cell_type": "code",
   "execution_count": 143,
   "id": "285894c3-74f0-46e4-91da-79e3d883f404",
   "metadata": {},
   "outputs": [
    {
     "data": {
      "text/plain": [
       "\"Julia\" => 42"
      ]
     },
     "execution_count": 143,
     "metadata": {},
     "output_type": "execute_result"
    }
   ],
   "source": [
    "my_pair = \"Julia\" => 42"
   ]
  },
  {
   "cell_type": "markdown",
   "id": "cffe7466-cd96-4f2e-9712-2c6454c61d74",
   "metadata": {},
   "source": [
    "요소는 `first`와 `second`에 저장됩니다."
   ]
  },
  {
   "cell_type": "code",
   "execution_count": 144,
   "id": "cd5cc627-c5fe-438a-8a20-a9da78f51c09",
   "metadata": {},
   "outputs": [
    {
     "data": {
      "text/plain": [
       "\"Julia\""
      ]
     },
     "execution_count": 144,
     "metadata": {},
     "output_type": "execute_result"
    }
   ],
   "source": [
    "my_pair.first"
   ]
  },
  {
   "cell_type": "code",
   "execution_count": 145,
   "id": "e1205b26-3b3b-4502-8810-1384a01efa80",
   "metadata": {},
   "outputs": [
    {
     "data": {
      "text/plain": [
       "42"
      ]
     },
     "execution_count": 145,
     "metadata": {},
     "output_type": "execute_result"
    }
   ],
   "source": [
    "my_pair.second"
   ]
  },
  {
   "cell_type": "markdown",
   "id": "58e67c2a-5d1d-4aa3-94e9-9177758cf3ce",
   "metadata": {},
   "source": [
    "하지만, 대부분의 경우, `first`와 `last`를 쓰는 것이 간결합니다."
   ]
  },
  {
   "cell_type": "code",
   "execution_count": 146,
   "id": "452f55d2-497d-4bfc-8339-3fbda1c62e63",
   "metadata": {},
   "outputs": [
    {
     "data": {
      "text/plain": [
       "\"Julia\""
      ]
     },
     "execution_count": 146,
     "metadata": {},
     "output_type": "execute_result"
    }
   ],
   "source": [
    "first(my_pair)"
   ]
  },
  {
   "cell_type": "code",
   "execution_count": 147,
   "id": "9357ea63-77ae-4159-87f5-122ae374fb77",
   "metadata": {},
   "outputs": [
    {
     "data": {
      "text/plain": [
       "42"
      ]
     },
     "execution_count": 147,
     "metadata": {},
     "output_type": "execute_result"
    }
   ],
   "source": [
    "last(my_pair)"
   ]
  },
  {
   "cell_type": "markdown",
   "id": "a6c183aa-a499-48af-9a8a-53c670eb02aa",
   "metadata": {},
   "source": [
    "페어는 데이터 처리와 데이터 시각화에 많이 시용됩니다. 왜냐하면 `DataFrames.jl`(섹션 [4]())과 `makie.jl`(섹션 [5]())에서 매인 함수 인자 타입으로 사용하기 때문입니다. 예를 들어 `DataFrames.jl`에서 우리는 `:a => :b`를 보게 될 텐데 이는 컬럼 `:a` 를 `:b`로 이름을 다시 지정하는 것입니다."
   ]
  },
  {
   "cell_type": "markdown",
   "id": "12558426-e5d3-4b73-94d1-351d4bc84f5d",
   "metadata": {},
   "source": [
    "### 3.3.9 딕셔너리\n",
    "\n",
    "`Pair`를 이해하셨다면, `Dict`는 문제가 되지 않습니다. 모든 실용적인 목적에서, `Dict`는 **키를 값으로 맵핑**하는 것입니다. 맵핑한다는 것은, 당신이 `Dict`에 어떤 키 값을 주면, `Dict`은 어떤 값이 속하는지 보여줍니다. `key`와 `value`는 어떤 타입도 가능하지만, 보통 `key`는 문자열입니다.\n",
    "\n",
    "줄리아에서 `Dict`를 만드는데 두가지 방법이 있습니다. 첫번째는 `(key, value)`형태의 튜플 벡터를 `Dict`생성자에 넣는 것입니다. "
   ]
  },
  {
   "cell_type": "code",
   "execution_count": 148,
   "id": "a3515b1a-6889-4bab-967e-1460e8d4ef07",
   "metadata": {},
   "outputs": [
    {
     "data": {
      "text/plain": [
       "Dict{String, Int64} with 2 entries:\n",
       "  \"two\" => 2\n",
       "  \"one\" => 1"
      ]
     },
     "execution_count": 148,
     "metadata": {},
     "output_type": "execute_result"
    }
   ],
   "source": [
    "name2number_map = Dict([(\"one\", 1), (\"two\", 2)])"
   ]
  },
  {
   "cell_type": "markdown",
   "id": "15051fa1-15f3-42b9-8faf-64ed4f0704ab",
   "metadata": {},
   "source": [
    "`Pair`타입을 이용해 좀더 읽기 쉬운 문법이 있습니다.`key => value` 모양의 `Pair`를 `Dict` 생성자에 넘길 수 있습니다."
   ]
  },
  {
   "cell_type": "code",
   "execution_count": 149,
   "id": "9bb1aa0f-7c4b-47d4-aa16-1b8970cb2793",
   "metadata": {},
   "outputs": [
    {
     "data": {
      "text/plain": [
       "Dict{String, Int64} with 2 entries:\n",
       "  \"two\" => 2\n",
       "  \"one\" => 1"
      ]
     },
     "execution_count": 149,
     "metadata": {},
     "output_type": "execute_result"
    }
   ],
   "source": [
    "name2number_map = Dict(\"one\" => 1, \"two\" => 2)"
   ]
  },
  {
   "cell_type": "markdown",
   "id": "7d921182-2494-4724-ae73-29d628dc3ac2",
   "metadata": {},
   "source": [
    "`Dict`의 `value`를 `key`를 이용한 인덱싱으로 꺼낼 수 있습니다."
   ]
  },
  {
   "cell_type": "code",
   "execution_count": 150,
   "id": "26ba7791-5132-4e6d-a126-bd7687ea9b2e",
   "metadata": {},
   "outputs": [
    {
     "data": {
      "text/plain": [
       "1"
      ]
     },
     "execution_count": 150,
     "metadata": {},
     "output_type": "execute_result"
    }
   ],
   "source": [
    "name2number_map[\"one\"]"
   ]
  },
  {
   "cell_type": "markdown",
   "id": "ce4e7f26-0eb8-4543-86f5-3930a6d90d29",
   "metadata": {},
   "source": [
    "만약 `Dict`에 어떤 `key`가 포함 되어 있는지 확인하고 싶다면, `keys`와 `in`을 쓰면 됩니다.\n"
   ]
  },
  {
   "cell_type": "code",
   "execution_count": 151,
   "id": "38106c97-a895-4617-98a1-34548817488b",
   "metadata": {},
   "outputs": [
    {
     "data": {
      "text/plain": [
       "true"
      ]
     },
     "execution_count": 151,
     "metadata": {},
     "output_type": "execute_result"
    }
   ],
   "source": [
    "\"two\" in keys(name2number_map)"
   ]
  },
  {
   "cell_type": "markdown",
   "id": "600a176e-5b45-4626-8202-cb80004fbb05",
   "metadata": {},
   "source": [
    "`key`를 지우고자 한다면, `delete!`함수를 쓰면 됩니다."
   ]
  },
  {
   "cell_type": "code",
   "execution_count": 152,
   "id": "d48e1ba6-1394-44f6-b078-0f57425c2afc",
   "metadata": {},
   "outputs": [
    {
     "data": {
      "text/plain": [
       "Dict{String, Int64} with 2 entries:\n",
       "  \"two\" => 2\n",
       "  \"one\" => 1"
      ]
     },
     "execution_count": 152,
     "metadata": {},
     "output_type": "execute_result"
    }
   ],
   "source": [
    "delete!(name2number_map, \"three\")"
   ]
  },
  {
   "cell_type": "markdown",
   "id": "8c5b0f75-2400-4058-9c61-8b27eaeaec7e",
   "metadata": {},
   "source": [
    "또는 값을 받고 지우고자 한다면, `pop!`을 쓸 수 있습니다."
   ]
  },
  {
   "cell_type": "code",
   "execution_count": 153,
   "id": "df8a3740-fc08-4d46-a4b2-adea35f0fa5c",
   "metadata": {},
   "outputs": [
    {
     "data": {
      "text/plain": [
       "2"
      ]
     },
     "execution_count": 153,
     "metadata": {},
     "output_type": "execute_result"
    }
   ],
   "source": [
    "popped_value = pop!(name2number_map, \"two\")"
   ]
  },
  {
   "cell_type": "markdown",
   "id": "abc562c7-26dd-4855-bc58-5da6f556133d",
   "metadata": {},
   "source": [
    "이제 `name2number_map`은 한가지 `key`만 가지고 있습니다."
   ]
  },
  {
   "cell_type": "code",
   "execution_count": 154,
   "id": "82dcd437-79e6-4ab8-87ee-fe17df198071",
   "metadata": {},
   "outputs": [
    {
     "data": {
      "text/plain": [
       "Dict{String, Int64} with 1 entry:\n",
       "  \"one\" => 1"
      ]
     },
     "execution_count": 154,
     "metadata": {},
     "output_type": "execute_result"
    }
   ],
   "source": [
    "name2number_map"
   ]
  },
  {
   "cell_type": "markdown",
   "id": "f7b6551e-a505-452f-bc7b-b9fa99c47287",
   "metadata": {},
   "source": [
    "`Dict`또한 `DataFrames.jl`(섹션 [4]())에서 데이터 조작할 때 사용되며, `Makie.jl`(섹션 [5]())에서 데이터 시각화 할 때 사용됩니다. 그렇기 때문에 기본적인 기능을 아는 것은 중요합니다.\n",
    "\n",
    "`Dict`를 생성하는데 아주 유용한 또 다른 방법이 있습니다. 당신에게 두 벡터가 있고 당신은 하나는 `key`로 나머지 하나는 `value`가 되도록 `Dict`를 만들고 싶다고 해봅시다. `zip`함수는 두 객체를 \"붙여\"주어서 이를 해낼 수 있습니다.(지퍼처럼 말이죠)"
   ]
  },
  {
   "cell_type": "code",
   "execution_count": 155,
   "id": "2225fa85-d82d-4330-8ba8-4d6f63d71413",
   "metadata": {},
   "outputs": [
    {
     "data": {
      "text/plain": [
       "Dict{String, Int64} with 3 entries:\n",
       "  \"two\"   => 2\n",
       "  \"one\"   => 1\n",
       "  \"three\" => 3"
      ]
     },
     "execution_count": 155,
     "metadata": {},
     "output_type": "execute_result"
    }
   ],
   "source": [
    "A = [\"one\", \"two\", \"three\"]\n",
    "B = [1, 2, 3]\n",
    "\n",
    "name2number_map = Dict(zip(A, B))"
   ]
  },
  {
   "cell_type": "markdown",
   "id": "f1ba1045-0010-42dd-989d-8687f109373d",
   "metadata": {},
   "source": [
    "### 3.3.10 심볼\n",
    "\n",
    "`symbol`은 사실 데이터 구조가 아닙니다. 이것은 타입이고 거의 문자열처럼 행동합니다. 문자를 쌍따옴표로 감싸지 않고, 심볼은 콜론(:)으로 시작합니다. 그리고 언더스코어를 사용할 수 있습니다."
   ]
  },
  {
   "cell_type": "code",
   "execution_count": 156,
   "id": "53c1971d-c633-47d3-841f-1849627e01f9",
   "metadata": {},
   "outputs": [
    {
     "data": {
      "text/plain": [
       ":some_text"
      ]
     },
     "execution_count": 156,
     "metadata": {},
     "output_type": "execute_result"
    }
   ],
   "source": [
    "sym = :some_text"
   ]
  },
  {
   "cell_type": "markdown",
   "id": "66003cca-9d97-49bd-9641-3643f4b60aa2",
   "metadata": {},
   "source": [
    "우리는 심볼을 쉽게 문자열로 바꿀 수 있고 그 반대도 간단합니다."
   ]
  },
  {
   "cell_type": "code",
   "execution_count": 157,
   "id": "9ae54af2-4d2d-41d9-b586-9d753e756f24",
   "metadata": {},
   "outputs": [
    {
     "data": {
      "text/plain": [
       "\"some_text\""
      ]
     },
     "execution_count": 157,
     "metadata": {},
     "output_type": "execute_result"
    }
   ],
   "source": [
    "s = string(sym)"
   ]
  },
  {
   "cell_type": "code",
   "execution_count": 158,
   "id": "a2332a0a-286d-4074-8e2f-be1ff5e59eb6",
   "metadata": {},
   "outputs": [
    {
     "data": {
      "text/plain": [
       ":some_text"
      ]
     },
     "execution_count": 158,
     "metadata": {},
     "output_type": "execute_result"
    }
   ],
   "source": [
    "sym = Symbol(s)"
   ]
  },
  {
   "cell_type": "markdown",
   "id": "bb7f820b-ad58-4080-8d0e-9a3dc95bb71a",
   "metadata": {},
   "source": [
    "심볼의 한가지 간단한 장점은 당신은 한 문자를 덜 칠 수 있습니다. `:some_text`와 `some text`를 비교해보세요. 우리는 `Symbol`을 `DataFraes.jl`패키지(섹션 [4]())에서 데이터 조작할 때와 `Makie.jl`패키지(섹션 [5]())에서 데이터 시각화를 할 때 많이 사용합니다. "
   ]
  },
  {
   "cell_type": "markdown",
   "id": "5e68824a-e4ac-4150-9738-30b855b9547c",
   "metadata": {},
   "source": [
    "### 3.3.11 Splat Operator\n",
    "\n",
    "줄리아에서 우리는 \"Splat\" 연산자 `...`를 사용할 수 있습니다. 이것은 함수에서 **인자의 시퀀스**를 부를 때 사용합니다. 우리는 가끔 **데이터 조작*과 **데이터 시각화** 쳅터에서 사용합니다.\n",
    "\n",
    "splatting을 이깋는 가장 직관적인 방법은 예제를 통하는 것입니다. `add_elements`함수는 3 인자를 함께 더합니다."
   ]
  },
  {
   "cell_type": "code",
   "execution_count": 159,
   "id": "12928e4c-ba9a-4057-aae0-96a0a8a52fe4",
   "metadata": {},
   "outputs": [
    {
     "data": {
      "text/plain": [
       "add_elements (generic function with 1 method)"
      ]
     },
     "execution_count": 159,
     "metadata": {},
     "output_type": "execute_result"
    }
   ],
   "source": [
    "add_elements(a, b, c) = a + b + c"
   ]
  },
  {
   "cell_type": "markdown",
   "id": "1fae4a1c-5bd3-491a-9477-78451fe46866",
   "metadata": {
    "tags": []
   },
   "source": [
    "이제, 우리는 요소가 3개인 콜렉션이 있다고 합니다. 이를 함수에 전달하는 나이브한 방법은 아래와 같습니다."
   ]
  },
  {
   "cell_type": "code",
   "execution_count": 160,
   "id": "d4a375cb-3945-428c-80e2-a5a792ff48bf",
   "metadata": {},
   "outputs": [
    {
     "data": {
      "text/plain": [
       "6"
      ]
     },
     "execution_count": 160,
     "metadata": {},
     "output_type": "execute_result"
    }
   ],
   "source": [
    "my_collection = [1, 2, 3]\n",
    "\n",
    "add_elements(my_collection[1], my_collection[2], my_collection[3])"
   ]
  },
  {
   "cell_type": "markdown",
   "id": "dec528c4-aae9-4340-93d3-fc98bc74cee8",
   "metadata": {},
   "source": [
    "여기서 우리는 \"splat\" 연산자 `...`를 사용해서 콜렉션(자주 배열, 벡터, 튜플, 또는 range)를 취해서 이를 인자의 시퀀스로 만들 수 있습니다."
   ]
  },
  {
   "cell_type": "code",
   "execution_count": 161,
   "id": "75809127-980c-4e5c-95cc-8990e4c0d1e0",
   "metadata": {},
   "outputs": [
    {
     "data": {
      "text/plain": [
       "6"
      ]
     },
     "execution_count": 161,
     "metadata": {},
     "output_type": "execute_result"
    }
   ],
   "source": [
    "add_elements(my_collection...)"
   ]
  },
  {
   "cell_type": "markdown",
   "id": "218923ff-439c-4e48-b1f8-888aa75eee4d",
   "metadata": {
    "tags": []
   },
   "source": [
    "`...`은 우리가 변환하고자 하는 콜렉션 뒤에 위치합니다. 위 예제와 아래 예제는 동일합니다."
   ]
  },
  {
   "cell_type": "code",
   "execution_count": 162,
   "id": "f7e90a0a-e0ee-4ed2-9312-b8e2812940e0",
   "metadata": {},
   "outputs": [
    {
     "data": {
      "text/plain": [
       "true"
      ]
     },
     "execution_count": 162,
     "metadata": {},
     "output_type": "execute_result"
    }
   ],
   "source": [
    "add_elements(my_collection...) == add_elements(my_collection[1], my_collection[2], my_collection[3])"
   ]
  },
  {
   "cell_type": "markdown",
   "id": "e4e7d23f-f84a-4f3f-b30a-516373e7aa73",
   "metadata": {},
   "source": [
    "함수를 부를 때 인자에서 splatting 연산자가 있으면 줄리아는 이를 콤마로 나뉘어진 콜랙션의 인자 모두를 인자 시퀀스로 변환시킵니다. \n",
    "\n",
    "이것은 또한 range에도 작동합니다."
   ]
  },
  {
   "cell_type": "code",
   "execution_count": 163,
   "id": "8222cbb4-32ee-4f0f-9d2b-1678d0f3386e",
   "metadata": {
    "tags": []
   },
   "outputs": [
    {
     "data": {
      "text/plain": [
       "6"
      ]
     },
     "execution_count": 163,
     "metadata": {},
     "output_type": "execute_result"
    }
   ],
   "source": [
    "add_elements(1:3...)"
   ]
  },
  {
   "cell_type": "markdown",
   "id": "edba10d3-5a09-4f58-9583-e716404fca2c",
   "metadata": {},
   "source": [
    "## 3.4 파일 시스템\n",
    "\n",
    "데이터 과학에서, 많은 프로젝트가 협력적 노력을 통해 진행됩니다. 우리는 코드와, 데이터, 테이블, 그림 등을 공유합니다. \n",
    "모든 것 뒤에 **운영체제(Operating System, OS)**가 있습니다.\n",
    "이상적인 세상에선, 같은 프로그램은 **같은** 결과를 **다른** 운영체제에서 낼 것입니다. 불행히도, 항상 그렇지는 않습니다. 한가지 예시로, `/home/john`과 같은 리눅스 경로와 `C:\\Users\\john`과 같은 윈도우 경로의 차이가 있습니다. \n",
    "그렇기 때문에 **파일 시스템 우수 사례**에 대해서 이야기 하는 것이 중요합니다.\n",
    "\n",
    "줄리아는 **다른 운영 체제간 차이를 다루는** 기본 파일 시스템 능력이 있습니다. \n",
    "그거슨 코어`Base` 줄리아 라이브러리에 있는 `Filesystem` 모듈에 있습니다.\n",
    "\n",
    "CSV, 엑셀파일이나 다른 줄리아 스크립트를 다룰 때, 당신의 코드가 **다른 운영체제 파일시스템에서 돌아가도록** 확인하세요. 이것은 `joinpath`, `@__FILE__`과 `pkgdir` 함수를 통해 간단히 할 수 있습니다.\n",
    "\n",
    "만약 당신이 당신의 코드를 패키지에서 짤 때, 당신은 `pkgdir`를 사용해서 패키지 루트 디렉토리를 구할 수 있습니다. 예를 들어, 우리가 이 책을 만들 때 사용한 줄리아 데이터 과학 패키지(JDS)의 루트 디렉토리는 \n",
    "\n",
    "/home/runner/work/JuliaDataScience/JuliaDataScience\n",
    "\n",
    "입니다.\n",
    "\n",
    "당신도 보듯이, 이 책은 리눅스 컴퓨터에서 생성되었습니다. 당신이 스크립트를 사용한다면, 그 스크립트 파일의 위치는 아래와 같이 구할 수 있습니다."
   ]
  },
  {
   "cell_type": "code",
   "execution_count": 165,
   "id": "36902653-7641-4621-89ac-0f6bd05ee3e0",
   "metadata": {
    "tags": []
   },
   "outputs": [
    {
     "data": {
      "text/plain": [
       "\"\""
      ]
     },
     "execution_count": 165,
     "metadata": {},
     "output_type": "execute_result"
    }
   ],
   "source": [
    "root = dirname(@__FILE__)"
   ]
  },
  {
   "cell_type": "markdown",
   "id": "60153c59-71bd-4bbe-90ed-5c7494136e1a",
   "metadata": {},
   "source": [
    "위 두 명령어의 장점은, 그들은 어떻게 유저들이 줄리아를 시작했는지에 대해 독립적이라는 점입니다. 다른 말로 하자면, 유저가 프로그램을 시작할 때 `julia scripts/script.jl`이나 `julia script.jl`의 경로 모두가 같다는 뜻입니다.\n",
    "\n",
    "다음 단계는 `root`에서 우리가 원하는 파일이 있는 상대 경로를 포함하는 것입니다. 다른 OS는 하위 폴더의 상대 경로를 구축하는 다른 방식을 따르기 때문에(어떤 것은 슬레시를 사용하고`/` 어떤 것은 백슬레시`\\`를 사용합니다.) 우리는 그냥 파일 상대 경로를 `root`문자열에 합칠 수 없습니다. 그러기 위해서 ` joinpath` 함수가 있습니다. 이것은 사용하고 있는 OS 파일시스템에 맞는 방식으로 상대 경로를 병합합니다.\n",
    "\n",
    "예를 들어 `my_script.jl`라고 하는 스크립트가 당신의 프로젝트 디렉토리에 있다고 합시다. 당신은 `my_script.jl`의 로부스트한 파일 경로 표현을 다음과 같이 구할 수 있습니다."
   ]
  },
  {
   "cell_type": "code",
   "execution_count": 166,
   "id": "11acb1e1-d097-4e1e-9072-fb89761c0d4f",
   "metadata": {},
   "outputs": [
    {
     "data": {
      "text/plain": [
       "\"my_script.jl\""
      ]
     },
     "execution_count": 166,
     "metadata": {},
     "output_type": "execute_result"
    }
   ],
   "source": [
    "joinpath(root, \"my_script.jl\")"
   ]
  },
  {
   "cell_type": "markdown",
   "id": "6550f1db-0b67-451f-9c21-7e36edf5c7c8",
   "metadata": {},
   "source": [
    "`joinpath`는 또한 **하위 폴더**를 다룰 수 있습니다. 당신의 폴더 이름이 `data/`를 당신의 프로젝트의 하위 폴더로 가지고 있다는 아주 일반적인 상황을 상상해 봅시다. 당신의 폴더 안에는 `my_data.csv`라고 하는 CSV 파일이 있습니다. 당신은 `my_data.csv`의 같은 로부스트한 파일 경로 표현을 다음과 같이 구할 수 있습니다. "
   ]
  },
  {
   "cell_type": "code",
   "execution_count": 167,
   "id": "8edfbcb8-9f0e-4ee2-95f0-8eb2eefe4797",
   "metadata": {},
   "outputs": [
    {
     "data": {
      "text/plain": [
       "\"data/my_data.csv\""
      ]
     },
     "execution_count": 167,
     "metadata": {},
     "output_type": "execute_result"
    }
   ],
   "source": [
    "joinpath(root, \"data\", \"my_data.csv\")"
   ]
  },
  {
   "cell_type": "markdown",
   "id": "8b7b729b-0270-4ddc-9432-05b27db4cf21",
   "metadata": {},
   "source": [
    "이것은 챙길만한 좋은 습관입니다. 왜냐하면 다른 사람들에게 발생할 수 도 있는 많은 문제를 예방할 수 있기 때문입니다."
   ]
  },
  {
   "cell_type": "markdown",
   "id": "e115f02d-d5f3-4cc9-9e81-8f8205a538d1",
   "metadata": {},
   "source": [
    "## 3.5 줄리아 기본 라이브러리\n",
    "\n",
    "줄리아는 모든 줄리아 인스톨과 함께 사용가능한 **풍부한 기본 라이브러리**을 가지고 있습니다.\n",
    "지금까지 본 타입, 데이터 구조, 파일시스템과 다르게, 특정 모듈이나 함수를 쓰기 위해서는 **반드시 당신의 환경에 기본 라이브러리 모듈을 불러와야 합니다.**\n",
    "\n",
    "이것은 `using`이나 `import`를 통해 가능합니다. 이 책에서, 우리는 `using`을 통해 코드를 불러오고자 합니다.\n",
    "\n",
    "```julia\n",
    "using ModuleName\n",
    "```\n",
    "\n",
    "이렇게 한 다음에는, `ModuleName`안에 있는 모든 함수와 타입에 접근 할 수 있습니다."
   ]
  },
  {
   "cell_type": "markdown",
   "id": "14a37678-d464-48d0-a682-db0c32c608de",
   "metadata": {},
   "source": [
    "### 3.5.1 Dates\n",
    "\n",
    "어떻게 날자와 타입스탬프를 다루는지 아는 건 데이터 과학에서 중요합니다. 우리가 *왜 줄리아입니까?*(섹션 [2]())에서 이야기 했듯이, 파이썬의 `pandas`는 자신만의 `datetime` 타입을 사용합니다. \n",
    "이런 방식은 R의 tidyverse의 `lubridate`패키지에서도 동일하게, 자신의 `datetime`을 만들어서 날자들을 처리합니다. 줄리아 패키지는 자신만의 날자 로직을 만들 필요가 없습니다. 왜냐하면 줄리아는 `Dates`라고 하는 기본 라이브러리가 있기 때문입니다.\n",
    "\n",
    "시작하기 위해서, `Dates` 모듈을 불러옵시다."
   ]
  },
  {
   "cell_type": "code",
   "execution_count": 168,
   "id": "2627a7e3-84f6-4831-902e-6f0d78123e2f",
   "metadata": {},
   "outputs": [],
   "source": [
    "using Dates"
   ]
  },
  {
   "cell_type": "markdown",
   "id": "16714d75-6e5b-486b-aa70-0d52ed0648cc",
   "metadata": {
    "tags": []
   },
   "source": [
    "#### 3.5.1.1 `Date`와 `DateTime` 타입\n",
    "\n",
    "`Dates` 기본 라이브러리 모듈은 **날자를 다루기 위해 두 타입**을 가지고 있습니다.\n",
    "\n",
    "1. `Date`: 일자에 관한 시간을 표현합니다.\n",
    "2. `DateTime`: 밀리세컨드 정확도로 시간을 표현합니다.\n",
    "\n",
    "우리는 `Date`와 `DateTime`을 기본 생성자를 통해 만들 수 있습니다. 정수형을 통해 연도, 월, 일, 시 등등을 지정합니다."
   ]
  },
  {
   "cell_type": "code",
   "execution_count": 169,
   "id": "95b9ae1e-0992-4635-8cc8-e5c00baf04dd",
   "metadata": {},
   "outputs": [
    {
     "data": {
      "text/plain": [
       "1987-01-01"
      ]
     },
     "execution_count": 169,
     "metadata": {},
     "output_type": "execute_result"
    }
   ],
   "source": [
    "Date(1987) # year"
   ]
  },
  {
   "cell_type": "code",
   "execution_count": 171,
   "id": "24225423-7cb7-4464-b782-d0fae2767abd",
   "metadata": {},
   "outputs": [
    {
     "data": {
      "text/plain": [
       "1987-09-01"
      ]
     },
     "execution_count": 171,
     "metadata": {},
     "output_type": "execute_result"
    }
   ],
   "source": [
    "Date(1987, 9) # year, month"
   ]
  },
  {
   "cell_type": "code",
   "execution_count": 172,
   "id": "49bacedd-5539-4919-acbf-9fb95c42d393",
   "metadata": {},
   "outputs": [
    {
     "data": {
      "text/plain": [
       "1987-09-13"
      ]
     },
     "execution_count": 172,
     "metadata": {},
     "output_type": "execute_result"
    }
   ],
   "source": [
    "Date(1987, 9, 13) # year, month, day"
   ]
  },
  {
   "cell_type": "code",
   "execution_count": 173,
   "id": "18182ea9-ca59-49f6-adce-b5510806eacf",
   "metadata": {},
   "outputs": [
    {
     "data": {
      "text/plain": [
       "1987-09-13T21:00:00"
      ]
     },
     "execution_count": 173,
     "metadata": {},
     "output_type": "execute_result"
    }
   ],
   "source": [
    "DateTime(1987, 9, 13, 21) # year, month, day, hour"
   ]
  },
  {
   "cell_type": "code",
   "execution_count": 174,
   "id": "856e317e-00d5-4e9b-8c99-35ccbd4edc8d",
   "metadata": {},
   "outputs": [
    {
     "data": {
      "text/plain": [
       "1987-09-13T21:21:00"
      ]
     },
     "execution_count": 174,
     "metadata": {},
     "output_type": "execute_result"
    }
   ],
   "source": [
    "DateTime(1987, 9, 13, 21, 21) # year, month, day, hour, minute"
   ]
  },
  {
   "cell_type": "markdown",
   "id": "4e9f4e15-784d-40a9-b39b-27bfbc0938f0",
   "metadata": {
    "tags": []
   },
   "source": [
    "궁금한 사람이 있을 것 같아 말씀드리지만, 1987년 9월 13일, 21:21은 첫 저자인 Jose의 공식 탄생시간입니다.\n",
    "\n",
    "우리는 또한 `Period`타입을 인자로 줄 수 있습니다.\n",
    "컴퓨터에게 `Period` **타입은 인간-동등 시간 표현**입니다. 줄리아의 `Dates`는 다음과 같은 `Period` 추상 하위 타입을 가지고 있습니다."
   ]
  },
  {
   "cell_type": "code",
   "execution_count": 175,
   "id": "77f7a38b-298f-45d2-9b01-261770d654f5",
   "metadata": {},
   "outputs": [
    {
     "data": {
      "text/plain": [
       "2-element Vector{Any}:\n",
       " DatePeriod\n",
       " TimePeriod"
      ]
     },
     "execution_count": 175,
     "metadata": {},
     "output_type": "execute_result"
    }
   ],
   "source": [
    "subtypes(Period)"
   ]
  },
  {
   "cell_type": "markdown",
   "id": "24f396a9-e307-493b-a7c6-7647a1eb462c",
   "metadata": {
    "tags": []
   },
   "source": [
    "이것들은 다음과 같은 구체 타입으로 나뉘어지며, 그들은 보면 이해가 가능한(self-explanatory) 것들입니다."
   ]
  },
  {
   "cell_type": "code",
   "execution_count": 176,
   "id": "3610242e-e12a-4ccb-aa63-cdc864b885fd",
   "metadata": {},
   "outputs": [
    {
     "data": {
      "text/plain": [
       "5-element Vector{Any}:\n",
       " Day\n",
       " Month\n",
       " Quarter\n",
       " Week\n",
       " Year"
      ]
     },
     "execution_count": 176,
     "metadata": {},
     "output_type": "execute_result"
    }
   ],
   "source": [
    "subtypes(DatePeriod)"
   ]
  },
  {
   "cell_type": "code",
   "execution_count": 177,
   "id": "1a9f58b6-65c3-48f9-9775-72323234c04c",
   "metadata": {},
   "outputs": [
    {
     "data": {
      "text/plain": [
       "6-element Vector{Any}:\n",
       " Hour\n",
       " Microsecond\n",
       " Millisecond\n",
       " Minute\n",
       " Nanosecond\n",
       " Second"
      ]
     },
     "execution_count": 177,
     "metadata": {},
     "output_type": "execute_result"
    }
   ],
   "source": [
    "subtypes(TimePeriod)"
   ]
  },
  {
   "cell_type": "markdown",
   "id": "59b599a1-581b-4565-bb32-3045916d76da",
   "metadata": {},
   "source": [
    "그래서 우리는 대안적으로 Jose의 공식 탄생시간을 다음과 같이 생성할 수 있습니다."
   ]
  },
  {
   "cell_type": "code",
   "execution_count": 178,
   "id": "ff229ca0-701b-4b5a-a08b-975723244498",
   "metadata": {},
   "outputs": [
    {
     "data": {
      "text/plain": [
       "1987-09-13T21:21:00"
      ]
     },
     "execution_count": 178,
     "metadata": {},
     "output_type": "execute_result"
    }
   ],
   "source": [
    "DateTime(Year(1987), Month(9), Day(13), Hour(21), Minute(21))"
   ]
  },
  {
   "cell_type": "markdown",
   "id": "92cb28e1-71b5-44f5-83ac-e24d6d25148a",
   "metadata": {},
   "source": [
    "#### 3.5.1.2 날자 파싱\n",
    "\n",
    "대부분의 경우, 우리는 `Date`나 `DateTime` 객체를 바닥부터 만들진 않습니다. 사실 우리는 아마 **문자열을 파싱해서 `Date`나 `DateTime` 타입을 만들 겁니다.**\n",
    "\n",
    "`Date`와 `DateTime` 생성자는 포맷을 갖춘 문자열을 받을 수 있습니다. 예를 들어, 문자열 1987년 9월 13일을 의미하는`19870913`은 다음과 같이 파싱될 수 있습니다."
   ]
  },
  {
   "cell_type": "code",
   "execution_count": 179,
   "id": "51fd1e9d-44a2-4555-b94a-30bb5f776ec7",
   "metadata": {},
   "outputs": [
    {
     "data": {
      "text/plain": [
       "1987-09-13"
      ]
     },
     "execution_count": 179,
     "metadata": {},
     "output_type": "execute_result"
    }
   ],
   "source": [
    "Date(\"19870913\", \"yyyymmdd\")"
   ]
  },
  {
   "cell_type": "markdown",
   "id": "095bf431-2184-4fc8-ba5f-167cd5e187af",
   "metadata": {},
   "source": [
    "눈치챘겠지만, 두번째 인자는 포맷을 나타내고 있습니다. 우리는 첫 네자리가 연도`y`를 나타내고 다음 두자리는 월 `m` 그리고 마지막 두 자리는 일 `d`을 나타내고 있습니다.\n",
    "\n",
    "이것은 `DateTime`의 타임스탬프에도 적용됩니다."
   ]
  },
  {
   "cell_type": "code",
   "execution_count": 180,
   "id": "c224f65a-f927-4294-a48b-ef3548dc3df4",
   "metadata": {},
   "outputs": [
    {
     "data": {
      "text/plain": [
       "1987-09-13T21:21:00"
      ]
     },
     "execution_count": 180,
     "metadata": {},
     "output_type": "execute_result"
    }
   ],
   "source": [
    "DateTime(\"1987-09-13T21:21:00\", \"yyyy-mm-ddTHH:MM:SS\")"
   ]
  },
  {
   "cell_type": "markdown",
   "id": "e4722407-9ceb-4ba5-b83f-52a1eea54690",
   "metadata": {},
   "source": [
    "[줄리아 `Dates` 문서]()에서 어떻게 날자 포맷을 정할 수 있는지 더 많은 것들을 찾아 볼 수 있습니다. 매번 찾아보러 가게 되도 너무 우울해 하지 마세요. 우리도 날자와 시간을 다룰 때 그렇게 합니다. \n",
    "\n",
    "[줄리아 `Dates` 문서]()에 따르면, `Date(date_string, format_string)`방법을 사용하는 것은 몇번만 불리울 때만 괜찮다고 합니다. 만약 비슷하게 포맷된 많은 날자 문자열을 파싱하려고 한다면, 우선 `DateFormat`타입을 생성하고, 이것을 포맷 문자열 대신 전달하는 것이 훨씬 효과적이라고 합니다. 그러면, 우리 이전 예제는"
   ]
  },
  {
   "cell_type": "code",
   "execution_count": 181,
   "id": "59006f4f-5ad5-4710-95c6-6150d596b16c",
   "metadata": {},
   "outputs": [
    {
     "data": {
      "text/plain": [
       "1987-09-13"
      ]
     },
     "execution_count": 181,
     "metadata": {},
     "output_type": "execute_result"
    }
   ],
   "source": [
    "format = DateFormat(\"yyyymmdd\")\n",
    "Date(\"19870913\", format)"
   ]
  },
  {
   "cell_type": "markdown",
   "id": "9081595e-e688-4252-9703-5e69d2bb99aa",
   "metadata": {},
   "source": [
    "대안적으로, 성능의 손실 없이, 당신은 string literal prefix `dateformat\"...\"`을 사용할 수 있습니다."
   ]
  },
  {
   "cell_type": "code",
   "execution_count": 182,
   "id": "5860881c-6b2a-4a27-b656-b9a9bf000b30",
   "metadata": {},
   "outputs": [
    {
     "data": {
      "text/plain": [
       "1987-09-13"
      ]
     },
     "execution_count": 182,
     "metadata": {},
     "output_type": "execute_result"
    }
   ],
   "source": [
    "Date(\"19870913\", dateformat\"yyyymmdd\")"
   ]
  },
  {
   "cell_type": "code",
   "execution_count": null,
   "id": "2693e8be-c88e-45fe-9ad7-b0a234b5d5b7",
   "metadata": {},
   "outputs": [],
   "source": []
  }
 ],
 "metadata": {
  "kernelspec": {
   "display_name": "Julia 1.6.4",
   "language": "julia",
   "name": "julia-1.6"
  },
  "language_info": {
   "file_extension": ".jl",
   "mimetype": "application/julia",
   "name": "julia",
   "version": "1.6.4"
  }
 },
 "nbformat": 4,
 "nbformat_minor": 5
}
