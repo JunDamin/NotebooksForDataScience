{
 "cells": [
  {
   "cell_type": "markdown",
   "id": "61e018c7-695d-49a6-86df-fe1ee76e4fd8",
   "metadata": {},
   "source": [
    "# 3 줄리아 기초\n",
    "\n",
    "> **노트:** 쳅터에서 우리는 프로그래밍 언어로써 줄리아의 기초를 다룹니다. 이 쳅터는 도구로써 줄리아로 데이터 조작과 데이터 시각화에 반드시 필요한 부분이 아님을 알려드립니다. 줄리아에 대한 기초적인 이해가 있으면 줄리아를 사용할 때 분명 좀더 효과적이고 효율적이 됩니다. 하지만, 당신이 일단 시작하기 원한다면, 섹션 4로 넘어 가서 `DataFrames.jl`과 함께 테이블 데이터에 대해 배울 수 있습니다.\n",
    "\n",
    "이 쳅터는 줄리아에 대한 아주 간략하고 깊지 않은 개괄이 될 것입니다. 이미 다른 프로그래밍 언어에 익숙하다며녀, 줄리아 문서(https://docs.julialang.org/)를 읽어보길 권해드립니다. 줄리아문서는 줄리아를 깊이 파볼 때 아주 훌륭한 자료입니다. 그 문서는 모든 기초와 코너 케이스를 커버합니다만, 좀 부담스러울 수 있습니다. 특히 당신이 소프트웨어 문서에 익숙하지 않으면 그럴겁니다.\n",
    "\n",
    "우리는 줄리아의 기초만 다룰 것입니다. 줄리아를 새로운 테슬라 같은 팬시한 기능이 탑재된 차라고 상상해 보세요. 우리는 그저 어떻게 \"차를 운전하고, 주차하고, 교통흐름 속에서 가야 하는지\" 설명하는 수준입니다. 당신이 \"핸들과 대시보드에 있는 모든 버튼\"을 알고 싶다면, 이 자료는 적합하지 않습니다."
   ]
  },
  {
   "cell_type": "markdown",
   "id": "45d4a6b6-9bf6-4fe3-8f54-53d524b08026",
   "metadata": {},
   "source": [
    "## 3.1 환경설정\n",
    "\n",
    "언어 문법에 뛰어 들기 전에, 우리는 어떻게 코드를 돌리는지 알아야 합니다. 여러가지 다양한 옵션을 자세히 설명하는 것은 이 책의 범위를 넘어갑니다. 대신에, 우리는 여러 솔루션 중 몇가지 포인터를 제공할 것입니다.\n",
    "\n",
    "가장 쉬운 방법은 줄리아 REPL을 사용하는 것입니다. 이 말은 줄리아 실행파일(`julia` 또는 `julia.exe`)로 시작해서 코드를 거기서 돌리는 겁니다. 예를 들면 우리는 REPL을 시작해서 몇 몇 코드를 돌릴 수 있습니다."
   ]
  },
  {
   "cell_type": "code",
   "execution_count": 1,
   "id": "e6311253-ff8c-4f89-8996-adc3f0e4475d",
   "metadata": {},
   "outputs": [
    {
     "data": {
      "text/plain": [
       "2"
      ]
     },
     "execution_count": 1,
     "metadata": {},
     "output_type": "execute_result"
    }
   ],
   "source": [
    "x = 2"
   ]
  },
  {
   "cell_type": "code",
   "execution_count": 2,
   "id": "8816292e-c4c3-4215-ba1f-e3a9e86ebad1",
   "metadata": {},
   "outputs": [
    {
     "data": {
      "text/plain": [
       "3"
      ]
     },
     "execution_count": 2,
     "metadata": {},
     "output_type": "execute_result"
    }
   ],
   "source": [
    "x + 1"
   ]
  },
  {
   "cell_type": "markdown",
   "id": "15265b75-525e-49ad-8763-c7cc54bcfa3f",
   "metadata": {},
   "source": [
    "이 방식은 아주 잘 작동하지만, 당신이 우리가 적은 코드를 저장하고 싶다면? 저장하기 위해서 우리는 \"script.jl\"과 같은 \".jl\"파일을 작성해야합니다.기록 이것을 줄리아로 불러와야 합니다. \"script.jl\"파일이 다음과 같은 코드를 가지고 있다고 해봅시다."
   ]
  },
  {
   "cell_type": "code",
   "execution_count": null,
   "id": "96d76d6a-a526-48c7-9e43-f56f2381178f",
   "metadata": {},
   "outputs": [],
   "source": [
    "x = 3\n",
    "y = 4"
   ]
  },
  {
   "cell_type": "markdown",
   "id": "a18d3e60-2052-4000-9a4c-32543ec230e9",
   "metadata": {},
   "source": [
    "우리는 이것을 줄리아로 불러올 수 있습니다."
   ]
  },
  {
   "cell_type": "code",
   "execution_count": 3,
   "id": "abb208eb-9026-4e46-80be-bf47945802db",
   "metadata": {},
   "outputs": [
    {
     "data": {
      "text/plain": [
       "4"
      ]
     },
     "execution_count": 3,
     "metadata": {},
     "output_type": "execute_result"
    }
   ],
   "source": [
    "include(\"script.jl\")\n",
    "y"
   ]
  },
  {
   "cell_type": "markdown",
   "id": "ab57e5bd-28ce-4af2-9b0e-76fbbc957cfb",
   "metadata": {},
   "source": [
    "이제 문제는 우리가 줄리아를 시작할 때마다 우리의 코드 실행하기 전에 우리의 스크립트를 다시 읽어오게 하고 싶습니다. 이것은 Revise.jl을 사용해서 할 수 있습니다. 왜냐하면 줄리아 컴파일 시간이 때때로 길기 때문에, `Revise.jl`은 줄리아 개발에 필수적입니다.\n",
    "더 많은 사항은, `Revise.jl` 문서나 구글에 당신의 구체적인 질문을 검색해 보세요.\n",
    "\n",
    "우리는 `Revise.jl`과 REPL이 어늦어도 수작업을 필요로 한다는 것을 인지하고 있습니다. 그것은 깔끔하게 정리되지 않았습니다.\n",
    "다행히도, Pluto.jl라는 것이 있습니다. `Pluto.jl`는 자동으로 의존성을 관리해주고, 코드를 실행시키고, 변화를 **반영**해 줍니다. 새롭게 프로그램을 시작하는 사람들에게, `Pluto.jl`은 가장 쉽게 시작하는 방법입니다. 이 패키지의 가장 큰 한계점은 큰 프로젝트에 적합하지 않다는 점입니다.\n",
    "\n",
    "또다른 옵션은 비쥬얼 스튜디오 코드에서 줄리아 확장을 하거나 당신만의 IDE에서 사용하는 것입니다. 만약 당신이 IDE가 뭔지 **모른지만** 큰 프로젝트 들을 관리하고 싶다면 VS Code를 고르세요. 당신이 IDE가 뭔지 **안다면**, 당신은 Vim이나 Emacs, REPL을 통해 자신만의 IDE를 구축할 것입니다.\n",
    "\n",
    "요약하자면:\n",
    "\n",
    "* 가장 쉬운 방법 -> `Pluto.jl`\n",
    "* 큰 프로젝트 -> Visual Studio Code\n",
    "* 고급 사용자 -> Vim, Emacs와 REPL"
   ]
  },
  {
   "cell_type": "markdown",
   "id": "2574515b-9146-424a-a17e-b0fa442274c3",
   "metadata": {},
   "source": [
    "## 3.2 언어 문법\n",
    "\n",
    "줄리아는 just-in-time 컴파일러가 있는 **동적 타입 언어**입니다. 이말은 여러분은 당신의 프로그램을 돌리기 전까지는 C++나 포트란 처럼 컴파일 할  필요가 없다는 뜻입니다. \n",
    "대신 줄리아는 당신의 코드를 가지고 필요한 곳에서 타입을 추론하고,실행되기 직전에 필요한 부분을 컴파일을 합니다. 또한, 명시적으로 각 타입을 선언할 필요가 없습니다. 줄리아는 실행되면서 당신을 위해 타입을 추론합니다.\n",
    "\n",
    "R이나 파이썬 같은 동적 언어와 줄리아가 가장 큰 차이를 보이는 부분은 다음과 같습니다.\n",
    "우선, 줄리아는 **유저가 타입 선언을 특정할 수 있도록 허락합니다.** 당신은 이미 왜 줄리아인가?(섹션[2]())에서 타입 선언을 보았습니다. 그것은 때 때로 변수 뒤에 붙은 이런 더블 콜론`::` 입니다. \n",
    "그러나 당신이 변수나 합수의 타입을 정의하고 싶지 않다면, 줄리아는 기쁘게 그들을 추론(추측)할 것입니다.\n",
    "\n",
    "둘째로 줄리아는 멀티플 디스패치를 통해 많은 타입 조합에 대한 함수 행동을 정의할 수 있게 합니다. 우리는 이미 멀티플 디스패치에 대해서 섹션 [2.3]()에서 다루었습니다. 우리는 다른 타입행동을 같은 이름을 가진 다른 변수 타입응ㄹ 가진 함수를 새롭게 정의함으로 선언할 수 있었습니다. "
   ]
  },
  {
   "cell_type": "markdown",
   "id": "dc16bb72-c90d-425f-b775-46a17201775f",
   "metadata": {},
   "source": [
    "### 3.2.1 변수\n",
    "\n",
    "변수는 특정 이름에 컴퓨터가 저장한 값을 알려줍니다. 그렇기 때문에 당신은 나중에 이 값을 찾아오거나 바꿀 수 있습니다. 줄리아는 여러 변수 타입이 있습니다만, 데이터과학에서는 우리는 대부분 다음과 같은 변수타입을 사용합니다.\n",
    "\n",
    "* 정수형: `Int64`\n",
    "* 실수형: `Float64`\n",
    "* 불리언: `Bool`\n",
    "* 문자열: `String`\n",
    "\n",
    "정수형과 실수형은 64비트를 기본으로 저장됩니다. 그렇기 때문에 `64`라는 어미가 붙어 있습니다. 좀더 정교하거나 낮은 정밀도가 필요하다면 `Int8`이나 `Int128` 타입이 있습니다. 더 높은 수는 더 나은 정밀도를 의미합니다. 대부분의 경우 이것은 문제가 되지 않기 때문에 기본 정밀도를 사용하면 됩니다.\n",
    "\n",
    "우리는 왼쪽에 변수명을 두고 오른쪽에 값을 두고 가운데에 할당연산자인`=`를 써서 변수를 만들 수 있습니다. 예를 들어"
   ]
  },
  {
   "cell_type": "code",
   "execution_count": 4,
   "id": "3e76bb27-949f-4e97-a80f-47189addab39",
   "metadata": {},
   "outputs": [
    {
     "data": {
      "text/plain": [
       "9"
      ]
     },
     "execution_count": 4,
     "metadata": {},
     "output_type": "execute_result"
    }
   ],
   "source": [
    "name = \"Julia\"\n",
    "age = 9"
   ]
  },
  {
   "cell_type": "markdown",
   "id": "d6294495-b996-4259-9cb8-c761d81eca2f",
   "metadata": {},
   "source": [
    "한가지 언급하자면, 마지막 선언문(`age`)이 콘솔에 출력 되었습니다. 여게서 우리는 두 변수`name`과 `age`를 정의하고 있습니다. 우리는 이 변수의 이름을 적음으로 그들에게 할당된 값을 가져 올 수 있습니다."
   ]
  },
  {
   "cell_type": "code",
   "execution_count": 5,
   "id": "e2d2d11b-d34d-4a94-8fef-a118c9f8ac61",
   "metadata": {},
   "outputs": [
    {
     "data": {
      "text/plain": [
       "\"Julia\""
      ]
     },
     "execution_count": 5,
     "metadata": {},
     "output_type": "execute_result"
    }
   ],
   "source": [
    "name"
   ]
  },
  {
   "cell_type": "markdown",
   "id": "e8ea8de7-7b5e-4337-8265-7fb776397af8",
   "metadata": {},
   "source": [
    "만약 당신이 새로운 값을 이미 존재하는 변수에 정의하고 싶다면, 당ㅇ신은 할당하는 단계를 반복 할 수 있습니다. 그러면 줄리아는 이전 값을 새로운 값으로 덮어 씌울 것입니다. 가령, 줄리아의 생일이 지나서 이제 10살이 되었다면:"
   ]
  },
  {
   "cell_type": "code",
   "execution_count": 6,
   "id": "990a6343-df6b-47ad-a28c-83f4e6ba3850",
   "metadata": {},
   "outputs": [
    {
     "data": {
      "text/plain": [
       "10"
      ]
     },
     "execution_count": 6,
     "metadata": {},
     "output_type": "execute_result"
    }
   ],
   "source": [
    "age = 10"
   ]
  },
  {
   "cell_type": "markdown",
   "id": "6c58dc6b-ffa2-4f53-8ddc-e373f2087374",
   "metadata": {},
   "source": [
    "같은 활동을 `name`에서도 할 수 있습니다. 가령 줄리아가 이 놀라운 속도로 인해서 몇몇 칭호를 얻었다고 해봅시다. 우리는 변수 `name`을 새로운 값으로 바꿀 것입니다."
   ]
  },
  {
   "cell_type": "code",
   "execution_count": 7,
   "id": "7221833c-29ea-496a-a6bb-11b812f70480",
   "metadata": {},
   "outputs": [
    {
     "data": {
      "text/plain": [
       "\"Julia Rapidus\""
      ]
     },
     "execution_count": 7,
     "metadata": {},
     "output_type": "execute_result"
    }
   ],
   "source": [
    "name = \"Julia Rapidus\""
   ]
  },
  {
   "cell_type": "markdown",
   "id": "ee0c0fbe-a50c-4925-b709-dc4fdc21681f",
   "metadata": {},
   "source": [
    "우리는 또한 변수간 더하기나 나누기 연산을 할 수 있습니다. 줄리아가 몇개월인지 12를 곱해서 알아봅시다."
   ]
  },
  {
   "cell_type": "code",
   "execution_count": 8,
   "id": "3ec87ffd-2044-4c49-ba4e-33d63657b287",
   "metadata": {},
   "outputs": [
    {
     "data": {
      "text/plain": [
       "120"
      ]
     },
     "execution_count": 8,
     "metadata": {},
     "output_type": "execute_result"
    }
   ],
   "source": [
    "12*age"
   ]
  },
  {
   "cell_type": "markdown",
   "id": "f4d12697-5bc9-41b2-93b7-a959a72909ef",
   "metadata": {},
   "source": [
    "우리는 `typeof`함수를 써서 변수의 타입을 알아낼 수 있습니다."
   ]
  },
  {
   "cell_type": "code",
   "execution_count": 9,
   "id": "0b774199-f54a-4592-88b9-f71ba37a1386",
   "metadata": {},
   "outputs": [
    {
     "data": {
      "text/plain": [
       "Int64"
      ]
     },
     "execution_count": 9,
     "metadata": {},
     "output_type": "execute_result"
    }
   ],
   "source": [
    "typeof(age)"
   ]
  },
  {
   "cell_type": "markdown",
   "id": "8faa2c75-da69-41be-b453-595473d5d30c",
   "metadata": {},
   "source": [
    "다음 질문은 \"정수형으로 나는 무엇들을 할 수 있지?\"가 될 겁니다. 여기에 아주 편리한 `methodswith`라는 함수가 있습니다. 이 함수는 어떤 타입이 사용가능한 모든 함수를 보여줍니다. 여기서 나는 첫 5개만 보이도록 제한했습니다."
   ]
  },
  {
   "cell_type": "code",
   "execution_count": 10,
   "id": "00256c3b-9a27-4362-8e28-9605a45c7022",
   "metadata": {},
   "outputs": [
    {
     "data": {
      "text/html": [
       "5-element Vector{Method}:<ul><li> middle(x::<b>Union{Bool, Int128, Int16, Int32, Int64, Int8, UInt128, UInt16, UInt32, UInt64, UInt8}</b>) in Statistics at <a href=\"file:///buildworker/worker/package_linuxaarch64/build/usr/share/julia/stdlib/v1.6/Statistics/src/Statistics.jl\" target=\"_blank\">/opt/julia-1.6.4/share/julia/stdlib/v1.6/Statistics/src/Statistics.jl:735</a><li> tofirst(dt::<b>Dates.TimeType</b>, dow::<b>Int64</b>; <i>of</i>) in Dates at <a href=\"file:///buildworker/worker/package_linuxaarch64/build/usr/share/julia/stdlib/v1.6/Dates/src/adjusters.jl\" target=\"_blank\">/opt/julia-1.6.4/share/julia/stdlib/v1.6/Dates/src/adjusters.jl:379</a><li> tolast(dt::<b>Dates.TimeType</b>, dow::<b>Int64</b>; <i>of</i>) in Dates at <a href=\"file:///buildworker/worker/package_linuxaarch64/build/usr/share/julia/stdlib/v1.6/Dates/src/adjusters.jl\" target=\"_blank\">/opt/julia-1.6.4/share/julia/stdlib/v1.6/Dates/src/adjusters.jl:391</a><li> tonext(dt::<b>Dates.TimeType</b>, dow::<b>Int64</b>; <i>same</i>) in Dates at <a href=\"file:///buildworker/worker/package_linuxaarch64/build/usr/share/julia/stdlib/v1.6/Dates/src/adjusters.jl\" target=\"_blank\">/opt/julia-1.6.4/share/julia/stdlib/v1.6/Dates/src/adjusters.jl:338</a><li> toprev(dt::<b>Dates.TimeType</b>, dow::<b>Int64</b>; <i>same</i>) in Dates at <a href=\"file:///buildworker/worker/package_linuxaarch64/build/usr/share/julia/stdlib/v1.6/Dates/src/adjusters.jl\" target=\"_blank\">/opt/julia-1.6.4/share/julia/stdlib/v1.6/Dates/src/adjusters.jl:359</a></ul>"
      ],
      "text/plain": [
       "[1] middle(x::Union{Bool, Int128, Int16, Int32, Int64, Int8, UInt128, UInt16, UInt32, UInt64, UInt8}) in Statistics at /opt/julia-1.6.4/share/julia/stdlib/v1.6/Statistics/src/Statistics.jl:735\n",
       "[2] tofirst(dt::Dates.TimeType, dow::Int64; of) in Dates at /opt/julia-1.6.4/share/julia/stdlib/v1.6/Dates/src/adjusters.jl:379\n",
       "[3] tolast(dt::Dates.TimeType, dow::Int64; of) in Dates at /opt/julia-1.6.4/share/julia/stdlib/v1.6/Dates/src/adjusters.jl:391\n",
       "[4] tonext(dt::Dates.TimeType, dow::Int64; same) in Dates at /opt/julia-1.6.4/share/julia/stdlib/v1.6/Dates/src/adjusters.jl:338\n",
       "[5] toprev(dt::Dates.TimeType, dow::Int64; same) in Dates at /opt/julia-1.6.4/share/julia/stdlib/v1.6/Dates/src/adjusters.jl:359"
      ]
     },
     "execution_count": 10,
     "metadata": {},
     "output_type": "execute_result"
    }
   ],
   "source": [
    "first(methodswith(Int64), 5)"
   ]
  },
  {
   "cell_type": "markdown",
   "id": "1a3c71c2-ed16-41e4-b98f-53f9f2589dc7",
   "metadata": {},
   "source": [
    "### 3.2.2 사용자 정의 타입\n",
    "\n",
    "여러 변수들을 게측이나 관계 없이 가지고 있는 것은 이상적이지 못합니다. 줄리아에서, 우리는 그렇게 구조화된 데이터를 `struct`(또다른 이름으로는 복합타입)을 통해 정의할 수 있습니다. 각`struct` 안에서 당신은 여러 필드를 지정할 수 있습니다. 이것들은 줄리아 코어에 정의된 원시 타입(예시: 정수형, 실수형)과 다릅니다. 대부분의 `struct`은 사용자가 정의하기 때문에, 그들은 사용자 정의 타입이라고 합니다.\n",
    "\n",
    "예를 들어, 과학적 오픈소스 프로그래밍 언어를 나타낼`struct`을 만든다고 합시다. 우리는 또한 필요한 타입들을 `struct`안에 정의할 것입니다."
   ]
  },
  {
   "cell_type": "code",
   "execution_count": 11,
   "id": "247092a2-91dd-43f4-9d58-6f1b27dfc428",
   "metadata": {},
   "outputs": [],
   "source": [
    "struct Language\n",
    "    name::String\n",
    "    title::String\n",
    "    year_of_birth::Int64\n",
    "    fast::Bool\n",
    "end"
   ]
  },
  {
   "cell_type": "markdown",
   "id": "32057601-db51-4887-aa68-4682e016b75e",
   "metadata": {},
   "source": [
    "당신이 상요할 수 있는 필드 이름을 알기 위해서 `fieldnames`라는 함수에 알고자 하는 `struct`를 집어넣으면 됩니다."
   ]
  },
  {
   "cell_type": "code",
   "execution_count": 12,
   "id": "cc5c4072-7789-47bb-ad64-b38378ab9502",
   "metadata": {},
   "outputs": [
    {
     "data": {
      "text/plain": [
       "(:name, :title, :year_of_birth, :fast)"
      ]
     },
     "execution_count": 12,
     "metadata": {},
     "output_type": "execute_result"
    }
   ],
   "source": [
    "fieldnames(Language)"
   ]
  },
  {
   "cell_type": "markdown",
   "id": "7f4542d4-dc1b-4038-a92a-9c08aa5175ba",
   "metadata": {},
   "source": [
    "`struct`를 사용하기 위해서, 우리는 각 `struct`에서 정의한 필드 값을 가지고 개별 인스턴스(또는 \"객체\")를 생성해야 합니다. \n",
    "파이썬에서와 줄리아 두 객체를 생성해 봅시다."
   ]
  },
  {
   "cell_type": "code",
   "execution_count": 13,
   "id": "b7009621-67eb-4ce3-b0ad-d86978a4c3eb",
   "metadata": {},
   "outputs": [
    {
     "data": {
      "text/plain": [
       "Language(\"Python\", \"Letargicus\", 1991, false)"
      ]
     },
     "execution_count": 13,
     "metadata": {},
     "output_type": "execute_result"
    }
   ],
   "source": [
    "julia = Language(\"Julia\", \"Rapidus\", 2012, true)\n",
    "python = Language(\"Python\", \"Letargicus\", 1991, false)"
   ]
  },
  {
   "cell_type": "markdown",
   "id": "5010aacc-019e-421e-8fce-80c3f8a00af8",
   "metadata": {},
   "source": [
    "한가지 `struct`에 대해 언급할 부분은 우리는 한번 생성한 후 값을 바꿀 수 없다는 점입니다. 이 문제는 `mutable struct`을 통해서 해결 할 수 있습니다. 또한, 가변 객체는 일반적으로 느리고 좀더 에러에 취약합니다. 가능하다면, 모든 것을 *불변*으로 만드십시오. 그러면 `mutable struct`을 만들어 봅시다."
   ]
  },
  {
   "cell_type": "code",
   "execution_count": 15,
   "id": "e40216e2-8f53-429a-a9cf-26f6dd35ab05",
   "metadata": {},
   "outputs": [
    {
     "data": {
      "text/plain": [
       "MutableLanguage(\"Julia\", \"Rapidus\", 2012, true)"
      ]
     },
     "execution_count": 15,
     "metadata": {},
     "output_type": "execute_result"
    }
   ],
   "source": [
    "mutable struct MutableLanguage\n",
    "    name::String\n",
    "    title::String\n",
    "    year_of_birth::Int64\n",
    "    fast::Bool\n",
    "end\n",
    "\n",
    "julia_mutable = MutableLanguage(\"Julia\", \"Rapidus\", 2012, true)"
   ]
  },
  {
   "cell_type": "markdown",
   "id": "10a4549f-c7a4-462c-a536-acee6212f508",
   "metadata": {},
   "source": [
    "우리가 `julia_mutable`의 타이틀을 바꾸고 싶다고 해봅시다. `julia_mutable`이 `mutable struct`으로 생성되었기 때문에 이제 우리는 바꿀 수 있습니다."
   ]
  },
  {
   "cell_type": "code",
   "execution_count": 16,
   "id": "7bf57505-3e80-495e-80ff-a3b5f673dae5",
   "metadata": {},
   "outputs": [
    {
     "data": {
      "text/plain": [
       "MutableLanguage(\"Julia\", \"Python Obliteratus\", 2012, true)"
      ]
     },
     "execution_count": 16,
     "metadata": {},
     "output_type": "execute_result"
    }
   ],
   "source": [
    "julia_mutable.title = \"Python Obliteratus\"\n",
    "\n",
    "julia_mutable"
   ]
  },
  {
   "cell_type": "markdown",
   "id": "0ccad098-f6be-4fbd-aa4d-ed9a7867fc32",
   "metadata": {},
   "source": [
    "### 3.2.3 불리언 연산자와 수치 비교\n",
    "\n",
    "이제 타입을 커버했기 때문에, 우리는 불리언 연산자와 수치 비교로 이동할 수 있습니다.\n",
    "\n",
    "줄리아에서는 세가지 불리언 연산자가 있습니다.\n",
    "\n",
    "- `!`: **NOT**\n",
    "- `&&` : **AND**\n",
    "- `||` : **OR**\n",
    "\n",
    "여기 몇가지 예시가 있습니다."
   ]
  },
  {
   "cell_type": "code",
   "execution_count": 17,
   "id": "f5f430cf-580d-42c0-a046-0f974d547d59",
   "metadata": {},
   "outputs": [
    {
     "data": {
      "text/plain": [
       "false"
      ]
     },
     "execution_count": 17,
     "metadata": {},
     "output_type": "execute_result"
    }
   ],
   "source": [
    "!true"
   ]
  },
  {
   "cell_type": "code",
   "execution_count": 18,
   "id": "6c0cf099-428f-4d32-ac68-53bb1d1ab88f",
   "metadata": {},
   "outputs": [
    {
     "data": {
      "text/plain": [
       "true"
      ]
     },
     "execution_count": 18,
     "metadata": {},
     "output_type": "execute_result"
    }
   ],
   "source": [
    "(false&&true) || (!false)"
   ]
  },
  {
   "cell_type": "code",
   "execution_count": 19,
   "id": "10d7bb2e-c4dd-41ee-af75-5303c46d11d2",
   "metadata": {},
   "outputs": [
    {
     "data": {
      "text/plain": [
       "true"
      ]
     },
     "execution_count": 19,
     "metadata": {},
     "output_type": "execute_result"
    }
   ],
   "source": [
    "(6 isa Int64) && (6 isa Real)"
   ]
  },
  {
   "cell_type": "markdown",
   "id": "62c792ec-fc1d-479d-8622-0558ca34428e",
   "metadata": {},
   "source": [
    "수치 비교에 있어서, 줄리아는 세가지 주요한 비교 타입이 있습니다.\n",
    "\n",
    "1. **동격**: 어떤 것이 같거나 같지 않을 것\n",
    "  - ==\"equal\"\n",
    "  - != 또는 ≠\"not equal\"\n",
    "2. **보다 작은**: 어떤 것이 작거나 같을 때\n",
    "  - < \"작거나\"\n",
    "  - <= 또는 ≤ \"작거나 같은\"\n",
    "3. **보다 큰**: 어떤 것이 크거나 같을 때\n",
    "  - > \"크거나\"\n",
    "  - >= 또는 ≥ \"크거나 같을 때\n",
    "  \n",
    " 여기 몇가지 예시가 있다"
   ]
  },
  {
   "cell_type": "code",
   "execution_count": 20,
   "id": "71f947dc-c7ef-4631-acf3-b4864ebd1e0a",
   "metadata": {},
   "outputs": [
    {
     "data": {
      "text/plain": [
       "true"
      ]
     },
     "execution_count": 20,
     "metadata": {},
     "output_type": "execute_result"
    }
   ],
   "source": [
    "1 == 1"
   ]
  },
  {
   "cell_type": "code",
   "execution_count": 21,
   "id": "5dccc31e-904f-469d-a331-92138eb68874",
   "metadata": {},
   "outputs": [
    {
     "data": {
      "text/plain": [
       "false"
      ]
     },
     "execution_count": 21,
     "metadata": {},
     "output_type": "execute_result"
    }
   ],
   "source": [
    "1 >= 10"
   ]
  },
  {
   "cell_type": "markdown",
   "id": "101c8c96-139b-49b7-af9d-1558440b4a16",
   "metadata": {},
   "source": [
    "이것은 다른 타입 간에도 작동한다."
   ]
  },
  {
   "cell_type": "code",
   "execution_count": 22,
   "id": "1901c7a5-7721-4115-9053-b65bef305ddb",
   "metadata": {},
   "outputs": [
    {
     "data": {
      "text/plain": [
       "true"
      ]
     },
     "execution_count": 22,
     "metadata": {},
     "output_type": "execute_result"
    }
   ],
   "source": [
    "1 == 1.0"
   ]
  },
  {
   "cell_type": "markdown",
   "id": "206196d5-3eb7-4bd1-8e93-47165b549a9a",
   "metadata": {},
   "source": [
    "우리는 불리언 연산과 수치 비교를 섞어서 쓸 수 있다."
   ]
  },
  {
   "cell_type": "code",
   "execution_count": 23,
   "id": "d9360777-eff6-4a13-8ec7-0a89bd1465f8",
   "metadata": {},
   "outputs": [
    {
     "data": {
      "text/plain": [
       "true"
      ]
     },
     "execution_count": 23,
     "metadata": {},
     "output_type": "execute_result"
    }
   ],
   "source": [
    "(1 != 10) || (3.14 <= 2.71)"
   ]
  },
  {
   "cell_type": "markdown",
   "id": "c0168e7e-ae90-49ae-af66-8e1cabe99afc",
   "metadata": {},
   "source": [
    "### 3.2.4 함수\n",
    "\n",
    "이제 우리는 변수와 `struct`을 통해 임의 타입을 정의할 수 있습니다. 이제 우리의 관심을 **함수**로 돌려봅시다. 줄리아에서, 함수는 **함수인자의 값을 하나나 더 많은 리턴 값들로 맵핑합니다.** 기초적인 문법은 다음과 같습니다:\n",
    "\n",
    "```julia\n",
    "function function_name(arg1, arg2)\n",
    "    result = stuff with the arg1 and arg2\n",
    "    return result\n",
    "end\n",
    "```\n",
    "\n",
    "함수 선언은 키워드 `function`과 함수명으로 시작합니다. 그리고 괄호`()`안에 콤마`,`를 사용해 함수인자를 구분하여 정의합니다. 함수 안에서 우리가 집어 넣은 파라미터를 가지고 줄리아가 무엇을 하길 원하는지를 구체화 합니다. 우리가 함수 안에서 정의한 모든 변수는 함수값이 반환되면서 지워집니다. 이것은 마치 자동 청소와 같은 것으로 좋은 점입니다. 함수 본문에서의 모든 연산이 끝나고 나면, 우리는 줄리아에게 `return` 선언을 통해 최종결과를 반환하도록 합니다. 마지막으로, 우리는 `end` 키워드를 통해 줄리아가 함수 정의가 긑났음을 알려줍니다. \n",
    "\n",
    "컴팩트한 **할당 폼**이 존재합니다.\n",
    "\n",
    "```f_name(arg1, arg2) = stuff with arg1 and arg2```\n",
    "\n",
    "이 함수는 우리가 위에서 정의한 함수와 **같은 함수**입니다만, 좀더 컴팩트한 형태를 취하고 있습니다. 최우선 되는 규칙은 당신의 코드가 92문자 내로 쉽게 들어갈 수 있으면 컴팩트한 형태가 적당합니다. 그렇지 않다면 우리는 `function`키워드를 쓰는 긴 형태를 사용합니다. 예시를 보면서 이어갑시다."
   ]
  },
  {
   "cell_type": "markdown",
   "id": "d5829d57-a2f6-4d40-af0b-16bebc396274",
   "metadata": {},
   "source": [
    "#### 3.2.4.1 새로운 함수 만들기\n",
    "\n",
    "숫자를 더하는 새로운 함수를 만들어 봅시다."
   ]
  },
  {
   "cell_type": "code",
   "execution_count": 24,
   "id": "85fd6f1a-ac33-4dba-9399-94bf72184894",
   "metadata": {},
   "outputs": [
    {
     "data": {
      "text/plain": [
       "add_numbers (generic function with 1 method)"
      ]
     },
     "execution_count": 24,
     "metadata": {},
     "output_type": "execute_result"
    }
   ],
   "source": [
    "function add_numbers(x, y)\n",
    "    return x + y\n",
    "end"
   ]
  },
  {
   "cell_type": "markdown",
   "id": "1bd23361-5ed6-4e99-bdff-4a6285ec03a7",
   "metadata": {},
   "source": [
    "이제 우리는 우리가 만든 `add_numbers`함수를 사용할 수 있습니다."
   ]
  },
  {
   "cell_type": "code",
   "execution_count": 25,
   "id": "ca6b82a5-e877-4ebc-a298-8d2e664f3cbb",
   "metadata": {},
   "outputs": [
    {
     "data": {
      "text/plain": [
       "46"
      ]
     },
     "execution_count": 25,
     "metadata": {},
     "output_type": "execute_result"
    }
   ],
   "source": [
    "add_numbers(17, 29)"
   ]
  },
  {
   "cell_type": "markdown",
   "id": "4dbf396b-52ba-4c7a-a401-bb83f60c0562",
   "metadata": {},
   "source": [
    "그리고 이것은 floats형에서도 작동합니다."
   ]
  },
  {
   "cell_type": "code",
   "execution_count": 26,
   "id": "a9abfaff-7a6a-42ff-ab48-40a58d610847",
   "metadata": {},
   "outputs": [
    {
     "data": {
      "text/plain": [
       "5.86"
      ]
     },
     "execution_count": 26,
     "metadata": {},
     "output_type": "execute_result"
    }
   ],
   "source": [
    "add_numbers(3.14, 2.72)"
   ]
  },
  {
   "cell_type": "markdown",
   "id": "c62810c0-3bf6-4dee-94b5-ce4ee26db225",
   "metadata": {},
   "source": [
    "또한 우리는 타입 선언을 통해 임의의 행동을 정의할 수 있습니다. 우리가 `round_number` 함수를 만들면서 입력값이 `Float64`인지 `Int64`인지에 따라 다르게 행동하길 바란다고 합시다."
   ]
  },
  {
   "cell_type": "code",
   "execution_count": 27,
   "id": "b3cf271f-cbdd-45a2-b26b-4959e9b55388",
   "metadata": {},
   "outputs": [
    {
     "data": {
      "text/plain": [
       "round_number (generic function with 2 methods)"
      ]
     },
     "execution_count": 27,
     "metadata": {},
     "output_type": "execute_result"
    }
   ],
   "source": [
    "function round_number(x::Float64)\n",
    "    return round(x)\n",
    "end\n",
    "\n",
    "function round_number(x::Int64)\n",
    "    return x\n",
    "end"
   ]
  },
  {
   "cell_type": "markdown",
   "id": "50de74a5-92cb-44e8-bb50-dbc7d1440df3",
   "metadata": {},
   "source": [
    "우리는 여러 메소드가 있는 함수임을 볼 수 있습니다."
   ]
  },
  {
   "cell_type": "code",
   "execution_count": 28,
   "id": "fb291e7f-1890-488f-8c5f-03372efb0da2",
   "metadata": {},
   "outputs": [
    {
     "data": {
      "text/html": [
       "# 2 methods for generic function <b>round_number</b>:<ul><li> round_number(x::<b>Float64</b>) in Main at In[27]:1</li> <li> round_number(x::<b>Int64</b>) in Main at In[27]:5</li> </ul>"
      ],
      "text/plain": [
       "# 2 methods for generic function \"round_number\":\n",
       "[1] round_number(x::Float64) in Main at In[27]:1\n",
       "[2] round_number(x::Int64) in Main at In[27]:5"
      ]
     },
     "execution_count": 28,
     "metadata": {},
     "output_type": "execute_result"
    }
   ],
   "source": [
    "methods(round_number)"
   ]
  },
  {
   "cell_type": "markdown",
   "id": "586b9572-491c-4e73-80b9-fe40cb009d41",
   "metadata": {},
   "source": [
    "여기에 한가지 이슈가 있습니다. 만약에 우리가 32비트 실수형인 `Float32`를 반올림 하고 싶다면 아니면 8비트 정수형인 `Int8`이라면?\n",
    "\n",
    "당신이 모든 정수와 실수 타입에 대한 함수를 원한다면, 당신은 `AbstractFloat`이나 `Integer`와 같은 **추상타입(abstract type)**을 타입 시그니쳐에 넣으면 됩니다. "
   ]
  },
  {
   "cell_type": "code",
   "execution_count": 29,
   "id": "038efc2e-e73d-427e-813f-1b4bef457474",
   "metadata": {},
   "outputs": [
    {
     "data": {
      "text/plain": [
       "round_number (generic function with 3 methods)"
      ]
     },
     "execution_count": 29,
     "metadata": {},
     "output_type": "execute_result"
    }
   ],
   "source": [
    "function round_number(x::AbstractFloat)\n",
    "    return round(x)\n",
    "end"
   ]
  },
  {
   "cell_type": "markdown",
   "id": "c4a75896-25a8-4553-857b-1a8d39508280",
   "metadata": {},
   "source": [
    "이제, 이것은 모든 실수형에 대해 작동될 것입니다."
   ]
  },
  {
   "cell_type": "code",
   "execution_count": 30,
   "id": "d6e2874e-743b-461d-924b-84f84390f610",
   "metadata": {},
   "outputs": [
    {
     "data": {
      "text/plain": [
       "1.0f0"
      ]
     },
     "execution_count": 30,
     "metadata": {},
     "output_type": "execute_result"
    }
   ],
   "source": [
    "x_32 = Float32(1.1)\n",
    "round_number(x_32)"
   ]
  },
  {
   "cell_type": "markdown",
   "id": "ec901577-cfbc-49a5-b971-4db3ad0ca484",
   "metadata": {},
   "source": [
    "> **노트:** 우리는 `supertypes`와 `subtypes` 함수로 타입들을 조사할 수 있습니다.\n",
    "\n",
    "앞서 우리가 정의한 `Language` `struct`로 돌아가봅시다.\n",
    "이 예제는 멀티플 디스패치에 대한 예제 입니다.\n",
    "우리는 `Base.show` 함수가 확장하여 이스턴스 타입과 `struct`들을 출력하도록 할 겁니다.\n",
    "\n",
    "기본적으로, 위에서 본 파이썬 케이스와 같이 `struct`은 기본 출력이 있습니다. 우리는 새로운 `Base.show`메소드를 정의해서 프로그래밍 언어 인스턴스의 출력이 좀더 낫게 할 수 있습니다. 우리는 프로그래밍 언어 이름과, 타이틀, 연도들을 확실하에 보여주길 원합니다. `Base.show`는 `IO`type을 인자로 받으며, 당신이 원하는 임의의 행동을 할 타입을 이어 적습니다."
   ]
  },
  {
   "cell_type": "code",
   "execution_count": 34,
   "id": "454057a8-1ee4-420b-907f-06913052b82e",
   "metadata": {},
   "outputs": [],
   "source": [
    "Base.show(io::IO, l::Language) = print(\n",
    "    io, l.name, \", \", \n",
    "    2021 - l.year_of_birth, \"years old, \", \n",
    "    \"has the follwoing titles: \", l.title\n",
    "    )"
   ]
  },
  {
   "cell_type": "markdown",
   "id": "d096c1f3-02b2-427f-8f19-be1daf90b6dd",
   "metadata": {},
   "source": [
    "이제 `python`이 어떻게 아웃풋이 보이는지 봅시다."
   ]
  },
  {
   "cell_type": "code",
   "execution_count": 35,
   "id": "328eb46d-1c13-446a-8e7c-a59b43dad287",
   "metadata": {},
   "outputs": [
    {
     "data": {
      "text/plain": [
       "Python, 30years old, has the follwoing titles: Letargicus"
      ]
     },
     "execution_count": 35,
     "metadata": {},
     "output_type": "execute_result"
    }
   ],
   "source": [
    "python"
   ]
  },
  {
   "cell_type": "markdown",
   "id": "326e03ba-eab7-430c-9d73-f34918c39285",
   "metadata": {},
   "source": [
    "#### 3.2.4.2 복수 반환 값\n",
    "\n",
    "암수는 두개나 더 많은 값을 반환할 수 있습니다. 아래에 있는`add_multiply`라는 새 함수를 를 봐주세요."
   ]
  },
  {
   "cell_type": "code",
   "execution_count": 38,
   "id": "b535715e-7bd6-4967-84b3-f2212e14a639",
   "metadata": {},
   "outputs": [
    {
     "data": {
      "text/plain": [
       "add_multiply (generic function with 1 method)"
      ]
     },
     "execution_count": 38,
     "metadata": {},
     "output_type": "execute_result"
    }
   ],
   "source": [
    "function add_multiply(x, y)\n",
    "    addition = x+y\n",
    "    multiplication = x*y\n",
    "    return addition, multiplication\n",
    "end"
   ]
  },
  {
   "cell_type": "markdown",
   "id": "63d168c3-a217-4b79-a467-ef1a26c27128",
   "metadata": {},
   "source": [
    "이 경우 우리는 두가지 일을 할 수 있습니다.\n",
    "\n",
    "1. 우리는, 유사하게 두 반환값을 두 변수가 함수의 변환 값을 갖도록 각각 저장할 수 있습니다."
   ]
  },
  {
   "cell_type": "code",
   "execution_count": 40,
   "id": "9b246658-8d42-4418-9f7c-ad7d1e1e1419",
   "metadata": {},
   "outputs": [
    {
     "data": {
      "text/plain": [
       "2"
      ]
     },
     "execution_count": 40,
     "metadata": {},
     "output_type": "execute_result"
    }
   ],
   "source": [
    "return_1, return_2 = add_multiply(1, 2)\n",
    "return_2"
   ]
  },
  {
   "cell_type": "markdown",
   "id": "2bd2c6d0-e123-40d7-a367-3a2e22e5966a",
   "metadata": {},
   "source": [
    "또는 우리는 한 변수가 함수의 반환 값을 갖게 하며 `first`나 `last`를 통해 접근할 수 있습니다."
   ]
  },
  {
   "cell_type": "code",
   "execution_count": 41,
   "id": "f5ea817c-39be-422a-b5ec-c0a6e3a85cb2",
   "metadata": {},
   "outputs": [
    {
     "data": {
      "text/plain": [
       "2"
      ]
     },
     "execution_count": 41,
     "metadata": {},
     "output_type": "execute_result"
    }
   ],
   "source": [
    "all_returns = add_multiply(1, 2)\n",
    "last(all_returns)"
   ]
  },
  {
   "cell_type": "markdown",
   "id": "0ee9cb73-76eb-4630-9c3f-0039994d5828",
   "metadata": {},
   "source": [
    "#### 3.2.4.3 키워드 인자\n",
    "\n",
    "어떤 함수들은 위치로 인자를 받지 않고 키워드로 인자를 받을 수 있습니다. 이런 인자들은 일반적인 인자처럼 정의할 수 있습니다. 단, 정규인자 뒤 세미콜론`;`으로 구분해서 정의됩니다. 예를 들어, `logarithm` 함수를 정의한다고 합시다. 기본 값으로 자연로그 $e$(2.718281828459045)를 밑으로 키워드 인자로 받습니다. 여기서 강조하고 싶은 것은 우리는 추상 타입인 `Real`을 사용해서 `Real`의 하위 타입인`Integer`와 `AbstractFloat`에서 사용되는 모든 타입을 커버한다는 점입니다."
   ]
  },
  {
   "cell_type": "code",
   "execution_count": 43,
   "id": "ad19dacc-b596-408a-80de-7543fdc8337b",
   "metadata": {},
   "outputs": [
    {
     "data": {
      "text/plain": [
       "true"
      ]
     },
     "execution_count": 43,
     "metadata": {},
     "output_type": "execute_result"
    }
   ],
   "source": [
    "AbstractFloat <: Real && Integer <: Real"
   ]
  },
  {
   "cell_type": "code",
   "execution_count": 44,
   "id": "9122b0ee-634e-477c-81b5-36a707124845",
   "metadata": {},
   "outputs": [
    {
     "data": {
      "text/plain": [
       "logarithm (generic function with 1 method)"
      ]
     },
     "execution_count": 44,
     "metadata": {},
     "output_type": "execute_result"
    }
   ],
   "source": [
    "function logarithm(x::Real; base::Real=2.7182818284590)\n",
    "    return log(base, x)\n",
    "end"
   ]
  },
  {
   "cell_type": "markdown",
   "id": "74352419-6271-4090-884e-105505f2b0bd",
   "metadata": {},
   "source": [
    "이 함수는 `base` 인자를 특정하지 않아도 기능합니다. 우리가 함수를 선언할 때`기본 인자 값`을 지정했기 때문입니다."
   ]
  },
  {
   "cell_type": "code",
   "execution_count": 45,
   "id": "6546f1f3-2cc8-4912-a5ad-ebd3d58e397b",
   "metadata": {},
   "outputs": [
    {
     "data": {
      "text/plain": [
       "2.3025850929940845"
      ]
     },
     "execution_count": 45,
     "metadata": {},
     "output_type": "execute_result"
    }
   ],
   "source": [
    "logarithm(10)"
   ]
  },
  {
   "cell_type": "markdown",
   "id": "4c9d3672-6dfd-4c08-b045-bce2eff4351e",
   "metadata": {
    "tags": []
   },
   "source": [
    "그리고 또한 키워드 인자`base`를 기본 값과 다른 값으로 전달할 수 있습니다."
   ]
  },
  {
   "cell_type": "code",
   "execution_count": 46,
   "id": "1a5b08a0-74ec-48ac-82c8-97219a707197",
   "metadata": {},
   "outputs": [
    {
     "data": {
      "text/plain": [
       "3.3219280948873626"
      ]
     },
     "execution_count": 46,
     "metadata": {},
     "output_type": "execute_result"
    }
   ],
   "source": [
    "logarithm(10; base=2)"
   ]
  },
  {
   "cell_type": "markdown",
   "id": "d28617e7-1824-4ee8-96a8-4d8c67313ad9",
   "metadata": {},
   "source": [
    "#### 3.2.4.4 익명함수\n",
    "\n",
    "때때로 우리는 함수의 이름은 별 신경 쓰지 않으면서 빨리 만드는 걸 원합니다. 그 때 필요한 것이 바로 **익명 함수(anonymous functions)**입니다. 그들은 줄리아 데이터 과학 워크플로우에서 많이 사용됩니다. \n",
    "예를들어 `DataFrames.jl`(섹션 [4]())이나 `Makie.jl`(섹션 [5]())를 사용할 때, 때때로 우리는 데이터를 필터링하거나 플롯 레이블 모양을 잡을 임시 함수가 필요합니다. 이것들은 우리가 함수를 만들지 않고 간단히 한 곳에서 사용될 때 특히 유용합니다.\n",
    "\n",
    "문법은 단순합니다. 우리는 `->`연산자를 사용합니다. `->`의 왼쪽에는 파라미터 이름이 들어가고, 오른쪽에는 파라미터로 하고자 하는 연산이 정의됩니다. 여기 예시가 있습니다. 지수를 사용하여 로그 변환한 것을 되돌린다고 생각해 봅시다."
   ]
  },
  {
   "cell_type": "code",
   "execution_count": 47,
   "id": "06b6dc18-c2ae-4674-b37c-b0c87d2dae00",
   "metadata": {},
   "outputs": [
    {
     "data": {
      "text/plain": [
       "2.0"
      ]
     },
     "execution_count": 47,
     "metadata": {},
     "output_type": "execute_result"
    }
   ],
   "source": [
    "map(x->2.7182818284590^x, logarithm(2))"
   ]
  },
  {
   "cell_type": "markdown",
   "id": "733e6fff-1bec-4af5-bba4-a924fd0d687d",
   "metadata": {},
   "source": [
    "여기서, 우리는 `map`함수를 사용했습니다. `map` 함수는 편리하게 익명 함수를 `logarithm(2)`(두번째 인자)에 맵핑을 해줍니다. 그 결과 우리는 같은 수치를 갖게 되었습니다. 왜냐하면 로그와 지수는 역함수 관계에 있기 때문입니다.(최소한 우리가 밑을 2.718218284590으로 한다면 말입니다.)"
   ]
  },
  {
   "cell_type": "markdown",
   "id": "f97af035-e603-457c-b1df-952fd1c93577",
   "metadata": {},
   "source": [
    "### 3.2.5 조건문 IF-Else-Elseif\n",
    "\n",
    "대부분의 프로그래밍 언어에서, 유저는 컴퓨터의 실행 순서를 조작할 수 있습니다. 상황에 따라서, 우리는 컴퓨터가 이것을 하거나 저것을 하길 원할 때가 있습니다. 줄리아에서 우리는 실행 순서를 `if`, `elseif`과 `else` 키워드를 사용해서 조작할 수 있습니다. 이런 것들을 조건문이라고 합니다.\n",
    "\n",
    "`if` 키워드는 줄리아에게 다음 표현을 평가하게 하고 그 결과가 `true`인지 `false`인지에 따라 코드 덩어리를 실행시키도록 합니다. 우리는 몇가지 `if` 조건에`elseif`를 조압할 수 있습니다. 복잡한 순서도인 경우에 말입니다. 마지막을오 우리는 `if`나 `elseif`의 값이 `true`가 아닌 경우에 안쪽 코드를 실행하게 정의할 수 있습니다. 이를 위해 `else`키워드가 있습니다. 마지막으로 위에서 본 모든 키워드연산자와 같이 우리는 줄리아에게 조건문이 언제 끝나는지 `end`키워드를 써서 알려줘야 합니다.\n",
    "\n",
    "여기 `if`-`elseif`-`else`키워드 예제가 있습니다."
   ]
  },
  {
   "cell_type": "code",
   "execution_count": 52,
   "id": "fb5bddd2-26ed-4f63-abd9-971d6fc9d922",
   "metadata": {},
   "outputs": [
    {
     "data": {
      "text/plain": [
       "\"a is less than b\""
      ]
     },
     "execution_count": 52,
     "metadata": {},
     "output_type": "execute_result"
    }
   ],
   "source": [
    "a = 1\n",
    "b = 2\n",
    "\n",
    "if a < b \n",
    "    \"a is less than b\"\n",
    "elseif  a > b\n",
    "    \"a is greater than b\"\n",
    "else\n",
    "    \"a is equal to b\"\n",
    "end"
   ]
  },
  {
   "cell_type": "markdown",
   "id": "99d80a22-333e-4a99-a6ae-b3665e9b293c",
   "metadata": {
    "tags": []
   },
   "source": [
    "우리는`campare`라고 하는 함수로 감쌀 수 있습니다."
   ]
  },
  {
   "cell_type": "code",
   "execution_count": 53,
   "id": "9eb2e373-5f95-4b3b-afed-09cd21c00765",
   "metadata": {},
   "outputs": [
    {
     "data": {
      "text/plain": [
       "\"a is equal to b\""
      ]
     },
     "execution_count": 53,
     "metadata": {},
     "output_type": "execute_result"
    }
   ],
   "source": [
    "function compare(a, b)\n",
    "    if a < b\n",
    "        \"a is less than b\"\n",
    "    elseif a > b\n",
    "        \"a is greater than b\"\n",
    "    else\n",
    "        \"a is equal to b\"\n",
    "    end\n",
    "end\n",
    "\n",
    "compare(3.14, 3.14)"
   ]
  },
  {
   "cell_type": "markdown",
   "id": "224a67ee-0e39-4c46-bf76-5d95ce6fe624",
   "metadata": {
    "tags": []
   },
   "source": [
    "### 3.2.6 For 루프\n",
    "\n",
    "클래식한 for루프는 조건문과 닮은 문법을 따라 키워드로 시작합니다. 이 경우에는 `for`로 시작합니다. 그리고 당신은 줄리아가 순환할 \"루프\" 또 다른 말로 시퀀스를 지정합니다. 또한 다른 것과 같이 `end`키워드로 끝내야 합니다. \n",
    "\n",
    "그러면, 줄리아가 1부터 10까지 모든 숫자를 출력하게 하기 위해 다음과 같은 루프를 사용할 수 있습니다."
   ]
  },
  {
   "cell_type": "code",
   "execution_count": 54,
   "id": "38e751ce-5cfa-431a-b45d-f3f3f7cff271",
   "metadata": {
    "tags": []
   },
   "outputs": [
    {
     "name": "stdout",
     "output_type": "stream",
     "text": [
      "1\n",
      "2\n",
      "3\n",
      "4\n",
      "5\n",
      "6\n",
      "7\n",
      "8\n",
      "9\n",
      "10\n"
     ]
    }
   ],
   "source": [
    "for i in 1:10\n",
    "    println(i)\n",
    "end"
   ]
  },
  {
   "cell_type": "markdown",
   "id": "67c5645b-ae4c-4a73-9cde-095922dd8d78",
   "metadata": {},
   "source": [
    "### 3.2.7 while 순환문\n",
    "\n",
    "While 순환문은 앞서 본 if문과 for 루프의 합성입니다. 여기서 루프는 매번 컨디션이 `true`일때 실행됩니다. 문버븐 이전 것고 ㅏ같은 형태입니다. 우리는 키워드 `while`로 시작하여 `true`나 `false`로 판명날 수 있는 조건을 평가합니다. 다른 때와 같이 `end` 키워드로 끝나야 합니다.\n",
    "\n",
    "여기 예시가 있습니다."
   ]
  },
  {
   "cell_type": "code",
   "execution_count": 56,
   "id": "58d4e6ef-78cb-41cf-aa92-723cc19c24a9",
   "metadata": {},
   "outputs": [
    {
     "data": {
      "text/plain": [
       "3"
      ]
     },
     "execution_count": 56,
     "metadata": {},
     "output_type": "execute_result"
    }
   ],
   "source": [
    "n = 0\n",
    "\n",
    "while n < 3\n",
    "    global n += 1\n",
    "end\n",
    "\n",
    "n"
   ]
  },
  {
   "cell_type": "markdown",
   "id": "2af833ec-af07-4aa7-8758-201631e0ba2b",
   "metadata": {
    "tags": []
   },
   "source": [
    "보다시피 우리는 `global` 키워드를 사용해야 합니다. 이것은 **변수 범위** 때문입니다. 조건문, 로프 그리고 함수 안에서 정의된 변수는 그 안에서만 존재합니다. \n",
    "\n",
    "여기서 우리는 줄리아에게 `while`루프 안에 있는 `n`은 전역변수라는 것을 `global` 키워드를 통해 알려줘야 합니다.\n",
    "\n",
    "마지막으로, 우리는 또한 `+=`연산자를 사용했습니다. 이것은 `n = n+1`의 축약형힙니다."
   ]
  },
  {
   "cell_type": "markdown",
   "id": "358e0f2a-95f2-4418-bf24-fffc4419a7c0",
   "metadata": {},
   "source": [
    "## 3.3 네이티브 데이터 구조\n",
    "\n",
    "줄리아는 몇가지 네이티브 데이터 구조를 가지고 있습니다. 그들은 구조화된 데이터의 형식을 나타내는 데이터 추상형입니다. 우리는 가장 많이 사용되는 것들만 다룰 거십니다. 그들은 일관되거나 다양한 형태의 데이터를 보관합니다. 그들이 collections이라면, 그들은 `for` 루프를 통해 순환할 수 있습니다. \n",
    "\n",
    "우리는 `String`, `Tuple`, `NamedTuple`, `unitRange`, `Array`, `Pair`, `Dict`, `Symbol`을 다룰 예정입니다.\n",
    "\n",
    "당신이 줄리아 데이터 구조에 어려움을 겪고 있다면 당신은 `methodswith`라는 함수로 메소드를 찾을 수 있습니다. 줄리아에서 함수와 메소드의 차이는 다음과 가티 구분됩니다. 모든 함수는 우리가 이전에 보인 것과 같이 복수의 메소드를 가질 수 있습니다. `methodswith`함수는 당신이 알아둘만한 트릭입니다. 그렇다면 우리가 `String`으로 무엇을 할 수 있는지 알아봅시다."
   ]
  },
  {
   "cell_type": "code",
   "execution_count": 57,
   "id": "c65e396b-e06d-4961-8ac6-72b5a44cfdc2",
   "metadata": {},
   "outputs": [
    {
     "data": {
      "text/html": [
       "5-element Vector{Method}:<ul><li> vparse(s_::<b>String</b>) in VersionParsing at <a href=\"file:///root/.julia/packages/VersionParsing/YFVo1/src/VersionParsing.jl\" target=\"_blank\">/root/.julia/packages/VersionParsing/YFVo1/src/VersionParsing.jl:39</a><li> artifact_hash(name::<b>String</b>, artifacts_toml::<b>String</b>; <i>platform, pkg_uuid</i>) in Artifacts at <a href=\"file:///buildworker/worker/package_linuxaarch64/build/usr/share/julia/stdlib/v1.6/Artifacts/src/Artifacts.jl\" target=\"_blank\">/opt/julia-1.6.4/share/julia/stdlib/v1.6/Artifacts/src/Artifacts.jl:419</a><li> artifact_meta(name::<b>String</b>, artifacts_toml::<b>String</b>; <i>platform, pkg_uuid</i>) in Artifacts at <a href=\"file:///buildworker/worker/package_linuxaarch64/build/usr/share/julia/stdlib/v1.6/Artifacts/src/Artifacts.jl\" target=\"_blank\">/opt/julia-1.6.4/share/julia/stdlib/v1.6/Artifacts/src/Artifacts.jl:366</a><li> artifact_meta(name::<b>String</b>, artifact_dict::<b>Dict</b>, artifacts_toml::<b>String</b>; <i>platform</i>) in Artifacts at <a href=\"file:///buildworker/worker/package_linuxaarch64/build/usr/share/julia/stdlib/v1.6/Artifacts/src/Artifacts.jl\" target=\"_blank\">/opt/julia-1.6.4/share/julia/stdlib/v1.6/Artifacts/src/Artifacts.jl:378</a><li> find_artifacts_toml(path::<b>String</b>) in Artifacts at <a href=\"file:///buildworker/worker/package_linuxaarch64/build/usr/share/julia/stdlib/v1.6/Artifacts/src/Artifacts.jl\" target=\"_blank\">/opt/julia-1.6.4/share/julia/stdlib/v1.6/Artifacts/src/Artifacts.jl:484</a></ul>"
      ],
      "text/plain": [
       "[1] vparse(s_::String) in VersionParsing at /root/.julia/packages/VersionParsing/YFVo1/src/VersionParsing.jl:39\n",
       "[2] artifact_hash(name::String, artifacts_toml::String; platform, pkg_uuid) in Artifacts at /opt/julia-1.6.4/share/julia/stdlib/v1.6/Artifacts/src/Artifacts.jl:419\n",
       "[3] artifact_meta(name::String, artifacts_toml::String; platform, pkg_uuid) in Artifacts at /opt/julia-1.6.4/share/julia/stdlib/v1.6/Artifacts/src/Artifacts.jl:366\n",
       "[4] artifact_meta(name::String, artifact_dict::Dict, artifacts_toml::String; platform) in Artifacts at /opt/julia-1.6.4/share/julia/stdlib/v1.6/Artifacts/src/Artifacts.jl:378\n",
       "[5] find_artifacts_toml(path::String) in Artifacts at /opt/julia-1.6.4/share/julia/stdlib/v1.6/Artifacts/src/Artifacts.jl:484"
      ]
     },
     "execution_count": 57,
     "metadata": {},
     "output_type": "execute_result"
    }
   ],
   "source": [
    "first(methodswith(String), 5)"
   ]
  },
  {
   "cell_type": "markdown",
   "id": "a6762553-b640-438d-8262-c8b15d57f804",
   "metadata": {},
   "source": [
    "### 3.3.1 연산과 함수 뿌리기(Broadcasting)\n",
    "\n",
    "우리가 데이터 구조에 더 깊이 들어가기 전에, 우리는 브로드캐스팅(또 다른 이름으로는 벡터라이징)과 닷 연산자`.` 에 대해 이야기 하고자 합니다.\n",
    "\n",
    "우리는 `*`(곱셈), `+`(덧셈)과 같은 수학적 연산을 닷 연산자를 통해 뿌릴 수 있습니다. 예를 들어, 덧셈을 흩뿌리는 건 `+`을 `.+`로 바굼을 통해 할 수 있습니다. "
   ]
  },
  {
   "cell_type": "code",
   "execution_count": 58,
   "id": "3b25a858-fe80-4f91-b70d-47bece96ac9b",
   "metadata": {},
   "outputs": [
    {
     "data": {
      "text/plain": [
       "3-element Vector{Int64}:\n",
       " 2\n",
       " 3\n",
       " 4"
      ]
     },
     "execution_count": 58,
     "metadata": {},
     "output_type": "execute_result"
    }
   ],
   "source": [
    "[1, 2, 3] .+ 1"
   ]
  },
  {
   "cell_type": "markdown",
   "id": "c147fef4-e31e-46c6-9597-0d4b37dee298",
   "metadata": {},
   "source": [
    "이는 또한 함수에도 자동 적용 됩니다.(기술적으로 수학연산이나, 고정 연산자(infix operator) 는 또한 함수입니다만, 그렇게 중요하지 않습니다.) `logarithm`함수를 기억하시나요?"
   ]
  },
  {
   "cell_type": "code",
   "execution_count": 61,
   "id": "3d468b9d-f494-4bdf-91f2-3fcfafee083e",
   "metadata": {},
   "outputs": [
    {
     "data": {
      "text/plain": [
       "3-element Vector{Float64}:\n",
       " 0.0\n",
       " 0.6931471805599569\n",
       " 1.0986122886681282"
      ]
     },
     "execution_count": 61,
     "metadata": {},
     "output_type": "execute_result"
    }
   ],
   "source": [
    "logarithm.([1, 2, 3])"
   ]
  },
  {
   "cell_type": "markdown",
   "id": "8bd34f18-46c3-482a-9dc0-ad659e9cadb8",
   "metadata": {},
   "source": [
    "#### 3.3.1.1 뱅(!)이 있는 함수\n",
    "\n",
    "줄리아 규약중 하나로 함수 이름에 뱅`!`이 있는 경우 하나 이상의 인자를 바꾸는 것을 의미합니다. 이 규약은 사용자에게 **순수함수**(이 함수는 부작용이 있음)가 아니라는 경고를 주기 위함입니다. 부작용이 있는 함수는 당신이 큰 데이터 구조를 업데이트 하거나 새로운 변수 컨테이너를 오버헤드 없이 생성할 때 유용합니다.\n",
    "\n",
    "예를 들어, 우리는 벡터 `v`에 1씩 더하는 함수를 만들 수 있습니다."
   ]
  },
  {
   "cell_type": "code",
   "execution_count": 65,
   "id": "105fb192-d58e-411c-8ca9-787fd16456a7",
   "metadata": {},
   "outputs": [
    {
     "data": {
      "text/plain": [
       "add_one! (generic function with 1 method)"
      ]
     },
     "execution_count": 65,
     "metadata": {},
     "output_type": "execute_result"
    }
   ],
   "source": [
    "function add_one!(V)\n",
    "    for i in 1:length(V)\n",
    "        V[i] += 1\n",
    "    end\n",
    "    return nothing\n",
    "end"
   ]
  },
  {
   "cell_type": "code",
   "execution_count": 66,
   "id": "1529deed-81c0-4adf-9c58-f04564e8055a",
   "metadata": {
    "tags": []
   },
   "outputs": [
    {
     "data": {
      "text/plain": [
       "3-element Vector{Int64}:\n",
       " 2\n",
       " 3\n",
       " 4"
      ]
     },
     "execution_count": 66,
     "metadata": {},
     "output_type": "execute_result"
    }
   ],
   "source": [
    "my_data = [1, 2, 3]\n",
    "\n",
    "add_one!(my_data)\n",
    "\n",
    "my_data"
   ]
  },
  {
   "cell_type": "markdown",
   "id": "8aba98e6-7316-4579-a2e0-8e6656dbc640",
   "metadata": {
    "tags": []
   },
   "source": [
    "### 3.3.2 문자열\n",
    "\n",
    "**문자열(String)**은 쌍따옴표로 표현됩니다."
   ]
  },
  {
   "cell_type": "code",
   "execution_count": 67,
   "id": "89e49311-2fbd-4e63-b719-e67e17bce961",
   "metadata": {},
   "outputs": [
    {
     "data": {
      "text/plain": [
       "String"
      ]
     },
     "execution_count": 67,
     "metadata": {},
     "output_type": "execute_result"
    }
   ],
   "source": [
    "typeof(\"This is a string\")"
   ]
  },
  {
   "cell_type": "markdown",
   "id": "477903bf-2a39-4633-9a79-2c5f3ab5afd8",
   "metadata": {},
   "source": [
    "우리는 또한 여러 줄을 작성할 수 있습니다."
   ]
  },
  {
   "cell_type": "code",
   "execution_count": 69,
   "id": "e7a32bff-3583-476c-a8e9-bcde73124724",
   "metadata": {},
   "outputs": [
    {
     "data": {
      "text/plain": [
       "\"\\nThis is a big multiline string.\\nAs you can see.\\nIt is still a String to Julia.\\n\""
      ]
     },
     "execution_count": 69,
     "metadata": {},
     "output_type": "execute_result"
    }
   ],
   "source": [
    "text = \"\n",
    "This is a big multiline string.\n",
    "As you can see.\n",
    "It is still a String to Julia.\n",
    "\""
   ]
  },
  {
   "cell_type": "markdown",
   "id": "e94e8566-0365-474f-8166-4556fb4ac111",
   "metadata": {},
   "source": [
    "하지만 보통 삼중 쌍따옴표를 사용해서 쓰는 것이 더 깔끔합니다."
   ]
  },
  {
   "cell_type": "code",
   "execution_count": 70,
   "id": "c67c8fe6-2b96-43bf-8036-9399098bdcfb",
   "metadata": {},
   "outputs": [
    {
     "data": {
      "text/plain": [
       "\"This is a big multiline string with a nested \\\"quotation\\\".\\nAs you can see.\\nIt is still a String to Julia\\n\""
      ]
     },
     "execution_count": 70,
     "metadata": {},
     "output_type": "execute_result"
    }
   ],
   "source": [
    "S = \"\"\"\n",
    "    This is a big multiline string with a nested \"quotation\".\n",
    "    As you can see.\n",
    "    It is still a String to Julia\n",
    "    \"\"\""
   ]
  },
  {
   "cell_type": "markdown",
   "id": "ea4bb7a8-644a-4a39-8183-c7fc0c80604e",
   "metadata": {},
   "source": [
    "삼중 쌍따옴표를 쓰는 경우, 들여쓰기와 시작할 때 줄바꾸기는 무시됩니다. 이는 코드 가독성을 높여줍니다. 왜냐하면 소스코드에서 블럭을 들여쓸 때 문자열에서의 이런 들여쓰기가 사라지기 때문이니다."
   ]
  },
  {
   "cell_type": "markdown",
   "id": "bb5eabfa-bab1-4cc9-9f86-f7976bb8fc03",
   "metadata": {},
   "source": [
    "#### 3.3.2.1 문자열 병합\n",
    "\n",
    "흔한 문자열 연산은 **문자열 병합**입니다. 두개나 그 이상의 문자열을 합쳐서 새로운 문자열을만들고 싶다면, 줄리아에서는 `*` 연산자나 `join`함수를 통해 달성할 수 있습니다. 이 심폴은 이상한 선택으로 들리고 실제로 그렇습니다. 지금은, 많은 줄리아 코드베이스가 이 연산자를 사용하기 때문에 이렇게 남을 것입니다. 좀더 관심이 있다면, 2015년부터 이어져온 토론을 읽어보세요. https://github.com/JuliaLang/julia/issues/11030."
   ]
  },
  {
   "cell_type": "code",
   "execution_count": 71,
   "id": "d2282425-cbb8-4d9e-848a-6b8b4b298abf",
   "metadata": {},
   "outputs": [
    {
     "data": {
      "text/plain": [
       "\"HelloGoodbye\""
      ]
     },
     "execution_count": 71,
     "metadata": {},
     "output_type": "execute_result"
    }
   ],
   "source": [
    "hello = \"Hello\"\n",
    "goodbye = \"Goodbye\"\n",
    "hello * goodbye"
   ]
  },
  {
   "cell_type": "code",
   "execution_count": 76,
   "id": "905e9099-10d0-4c88-b375-1f9ee15aad68",
   "metadata": {},
   "outputs": [
    {
     "data": {
      "text/plain": [
       "+ (generic function with 191 methods)"
      ]
     },
     "execution_count": 76,
     "metadata": {},
     "output_type": "execute_result"
    }
   ],
   "source": [
    "import Base.+\n",
    "\n",
    "\n",
    "function +(a::String, b::String)\n",
    "    return a*b\n",
    "end"
   ]
  },
  {
   "cell_type": "code",
   "execution_count": 77,
   "id": "57725f9d-56f1-4af4-b235-074266d16d13",
   "metadata": {},
   "outputs": [
    {
     "data": {
      "text/plain": [
       "\"HelloGoodbye\""
      ]
     },
     "execution_count": 77,
     "metadata": {},
     "output_type": "execute_result"
    }
   ],
   "source": [
    "hello + goodbye"
   ]
  },
  {
   "cell_type": "markdown",
   "id": "b2307e3e-2d39-46a1-90a5-71c984ee3ee4",
   "metadata": {},
   "source": [
    "보다시피, `hello`와 `goodbye`사이에 공백이 없습니다. 우리는 `\" \"` 문자열을 추가해서 `*`로 병합할 수도 있지만, 두개 이상의 문자열일 경우 귀찮습니다. 그런 경우가 `join`함수가 편리한 지점입니다. 우리는 그저 문자열을 대괄호`[]`에 넣고 구분자를 넘기면 됩니다."
   ]
  },
  {
   "cell_type": "code",
   "execution_count": 78,
   "id": "cce07b2d-d228-49b7-85b4-e7ba30263d13",
   "metadata": {},
   "outputs": [
    {
     "data": {
      "text/plain": [
       "\"Hello Goodbye\""
      ]
     },
     "execution_count": 78,
     "metadata": {},
     "output_type": "execute_result"
    }
   ],
   "source": [
    "join([hello, goodbye], \" \")"
   ]
  },
  {
   "cell_type": "markdown",
   "id": "33264be6-bdbd-4505-9055-f882b7a03ddd",
   "metadata": {},
   "source": [
    "#### 3.3.2.2 문자열 삽입\n",
    "\n",
    "문자열 병합은 때때로 복잡할 수 있습니다. 우리는 **문자열 삽입**을 이용해 좀더 나은 표현력을 가질 수 있습니다. 이것은 다음과 같이 진행됩니다.\n",
    "\n",
    "당신은 `$` 달러 사인을 이용해 당신이 집어 넣고 싶은 뭐든 문자열에 집어 넣을 수 있습니다. 위와 동일하지만 삽입을 사용한 예시입니다."
   ]
  },
  {
   "cell_type": "code",
   "execution_count": 79,
   "id": "283346f7-da4f-4e4b-823b-84441a047891",
   "metadata": {},
   "outputs": [
    {
     "data": {
      "text/plain": [
       "\"Hello Goodbye\""
      ]
     },
     "execution_count": 79,
     "metadata": {},
     "output_type": "execute_result"
    }
   ],
   "source": [
    "\"$hello $goodbye\""
   ]
  },
  {
   "cell_type": "markdown",
   "id": "80dc685e-5c7b-4570-99c3-d23244bbbd47",
   "metadata": {},
   "source": [
    "이것은 함수 안에서도 작동합니다. 우리의 섹션 3.2.5의 `test`함수를 개선해 봅시다."
   ]
  },
  {
   "cell_type": "code",
   "execution_count": 80,
   "id": "91f40b26-9d6b-47fb-be10-c70635b05e85",
   "metadata": {},
   "outputs": [
    {
     "data": {
      "text/plain": [
       "\"3.14 is equal to 3.14\""
      ]
     },
     "execution_count": 80,
     "metadata": {},
     "output_type": "execute_result"
    }
   ],
   "source": [
    "function test_interpolated(a, b)\n",
    "    if a < b\n",
    "        \"$a is less than $b\"\n",
    "    elseif a > b\n",
    "        \"$a is greater than $b\"\n",
    "    else\n",
    "        \"$a is equal to $b\"\n",
    "    end\n",
    "end\n",
    "\n",
    "test_interpolated(3.14, 3.14)"
   ]
  },
  {
   "cell_type": "markdown",
   "id": "f8c577e5-3a07-47be-a1d0-7c50504ffa63",
   "metadata": {},
   "source": [
    "#### 3.3.2.3 문자열 조작\n",
    "\n",
    "줄리아에서 문자열을 조작하는 여러가지 함수가 있습니다. 우리는 그중 가장 많이 사용하는 것을 보여드리고자 합니다. 또한, 대부분의 이 함수들은 [정규표현식]()을 인자로 받습니다. 우리는 정규표현식을 이 책에서 커버하지 않습니다만, 배우기를 권장합니다. 특히 당신이 텍스트 데이터를 주로 다룬다면요.\n",
    "\n",
    "먼저 우리가 가지고 놀 문자열을 정의합니다."
   ]
  },
  {
   "cell_type": "code",
   "execution_count": 82,
   "id": "5c98327e-c26e-4ff8-b4d5-f0af64226ea4",
   "metadata": {},
   "outputs": [
    {
     "data": {
      "text/plain": [
       "\"Julia is an amazing open source programming language\""
      ]
     },
     "execution_count": 82,
     "metadata": {},
     "output_type": "execute_result"
    }
   ],
   "source": [
    "julia_string = \"Julia is an amazing open source programming language\""
   ]
  },
  {
   "cell_type": "markdown",
   "id": "fbb67a49-9c8b-438a-a237-f1f527c2e0c2",
   "metadata": {},
   "source": [
    "1. `contains`, `startswith`와 `endwith`: 조건문(`true`나 `false`를 반환)하는 것으로 두번째 인자는 :\n",
    "\n",
    "- 첫번째 인자의 **일부(substring)**"
   ]
  },
  {
   "cell_type": "code",
   "execution_count": 83,
   "id": "bdc07434-a8c6-434d-bd13-32dc4ccc8fe9",
   "metadata": {},
   "outputs": [
    {
     "data": {
      "text/plain": [
       "true"
      ]
     },
     "execution_count": 83,
     "metadata": {},
     "output_type": "execute_result"
    }
   ],
   "source": [
    "contains(julia_string, \"Julia\")"
   ]
  },
  {
   "cell_type": "markdown",
   "id": "0df13c48-2b5f-47ac-8681-24335ecb64e1",
   "metadata": {},
   "source": [
    "- 첫번째 인자의 **접두어(prefix)**"
   ]
  },
  {
   "cell_type": "code",
   "execution_count": 84,
   "id": "0dc9ab7b-4f04-4d85-9aa4-8dc38aea4c37",
   "metadata": {},
   "outputs": [
    {
     "data": {
      "text/plain": [
       "true"
      ]
     },
     "execution_count": 84,
     "metadata": {},
     "output_type": "execute_result"
    }
   ],
   "source": [
    "startswith(julia_string, \"Julia\")"
   ]
  },
  {
   "cell_type": "markdown",
   "id": "32eaa340-773f-497d-90ab-42e7284a3f1a",
   "metadata": {},
   "source": [
    "- 첫 번째 인자의 **어미(suffix)**"
   ]
  },
  {
   "cell_type": "code",
   "execution_count": 85,
   "id": "72ec24d8-b6fc-4ff4-88b3-8674a243b1d7",
   "metadata": {},
   "outputs": [
    {
     "data": {
      "text/plain": [
       "false"
      ]
     },
     "execution_count": 85,
     "metadata": {},
     "output_type": "execute_result"
    }
   ],
   "source": [
    "endswith(julia_string, \"Julia\")"
   ]
  },
  {
   "cell_type": "code",
   "execution_count": null,
   "id": "01c89fe0-221e-4a46-94a0-c741befe4f11",
   "metadata": {},
   "outputs": [],
   "source": []
  }
 ],
 "metadata": {
  "kernelspec": {
   "display_name": "Julia 1.6.4",
   "language": "julia",
   "name": "julia-1.6"
  },
  "language_info": {
   "file_extension": ".jl",
   "mimetype": "application/julia",
   "name": "julia",
   "version": "1.6.4"
  }
 },
 "nbformat": 4,
 "nbformat_minor": 5
}
