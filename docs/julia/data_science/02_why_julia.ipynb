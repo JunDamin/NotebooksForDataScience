{
 "cells": [
  {
   "cell_type": "markdown",
   "id": "e19c9b36-5fcd-4ba8-aa02-d122bcf9f473",
   "metadata": {},
   "source": [
    "# 2 왜 줄리아인가?\n",
    "\n",
    "데이터 사이언스 세상은 여러가지 오픈소스 프로그래밍 언어로 채워져 있습니다. \n",
    "\n",
    "업계는 대부분 파이썬을 선택했고 학계는 R을 쓰고 있습니다. **왜 다른 언어를 배우자고 하는 걸까요?** 이 질문에 답하기 위해, 우리는 두가지 배경을 바탕으로 설명하고자 합니다.\n",
    "\n",
    "1. **전에 프로그래밍을 해 본적이 없다면** - 섹션 2.1을 보세요\n",
    "2. **프로그래밍을 쓰고 있다면** - 섹션 2.2를 보세요."
   ]
  },
  {
   "cell_type": "markdown",
   "id": "924f5e4c-1ee4-4a18-9392-3da7d1719638",
   "metadata": {},
   "source": [
    "## 2.1 프로그래머가 아닌 사람에게\n",
    "\n",
    "첫번째로 언급하는 배경은, 다음과 같은 이야기를 예상하고 있습니다.\n",
    "\n",
    "데이터 사이언스가 당신을 사로 잡아서 당신의 학계 또는 업계의 경력에 이것을 이용할 수 있도록 배우는 것에 관심을 갖게 했습니다. 그리고 당신은 어떻게 이 새로운 기술을 배울 수 있는지 자료를 찾아 보았고 당신은 `pandas`, `data.table`, `numpy`, `matplotlib`, `ggplot2`, `bokeh`등 새로운 세계에서 펼져진 복잡하게 얽혀 있는 약어 들에 머뭇 거리고 있습니다. 그리고 그 리스트는 점점 길어집니다.\n",
    "\n",
    "이런 상황속에서 당신은 \"줄리아\"라는 이름을 들어봤습니다. 이게 무엇이지? 이것은 사람들이 말하는 다른 데이터 사이언스 도구들과 어떻게 다를까요?\n",
    "\n",
    "왜 당신의 귀중한 시간을 어떤 구직 목록이나 연구실 자리, 포스닥 제안, 학계업무 정의서에 보이지도 않는 언어를 배우는데 써야 할까요? 그 이유는 프로그래밍과 데이터 사이언스의 **줄리아가 새로운 접근**이기 때문입니다.당신이 파이썬이나 R로 하는 모든 것을 줄리아에서 할 수 있습니다. 가독성있고 빠르고 강력하다는 줄리아의 장점과 함께 말입니다.\n",
    "그러므로 줄리아 언어는 좋은 의미로 주목을 끌고 있습니다.\n",
    "\n",
    "그러면, **당신이 컴퓨터 프로그래밍에 전혀 배경이 없다면** 첫번재 프로그래밍 언어이자 데이터 사이언스 프래임워크로 **우리는 줄리아를 배워보길 강하게 권합니다.**"
   ]
  },
  {
   "cell_type": "markdown",
   "id": "1afe9cfc-cc99-4c2b-84bd-2ba0d1ffec68",
   "metadata": {},
   "source": [
    "## 2.2 프로그래머에게\n",
    "\n",
    "두번째 배경으로, 기본 전제가 되는 이야기가 약간 바뀝니다. 당신은 어떻게프로그램을 만드는지 알고 있으며, 아마도 생계를 위해 프로그래밍을 하는 사람입니다. 당신은 하나 이상의 언어에 익숙하며 두 언어를 번갈아가며 사용할 수 있습니다. 당신은 새롭게 주목받는 \"데이터 사이언스\"라는 말을 들어봤으며 이 행렬에 동참하고자 합니다. 당신은 `numpy`와 같은 것들을 배우기 시작했으며, `pandas`의 `DataFrames`으로 데이터를 다룰 수 있고 `matplotlib`으로 플롯을 그릴 수 있습니다. 또는 당신은 이 모든 것을`R`의 Tidyverse로 배웠고 `tibbles`, `data.frames`, `%>%`(파이프)와 `geom_*`... 등을 쓸 수 있습니다.\n",
    "\n",
    "그리고, 어디선가 또는 누군가로부터 \"줄리아\"라고 불리우는 새 언어를 알게 되었습니다. 왜 신경쓰냐구요? 당신은 이미 파이썬이나 R에 익숙하고 당신은 당신이 필요한 모든 것을 할 수 있습니다. 하지만, 있을 법한 시나리오를 살펴봅시다.\n",
    "\n",
    "**파이썬이나 R을 쓰면서**\n",
    "1. 만든 것이 당신이 필요한 성능을 보여주지 못했나요? **파이썬이나 R에서 몇분이나 걸리는 작업이 줄리아에서는 몇 초면 됩니다.** 우리는 섹션 2.4에서 학계와 업계에서 성공적인 줄리아 사용 사례를 보여줄 예정입니다.\n",
    "2. `numpy`/`dplyr` 규약과 다른 것을 시도해 보았는데 당신의 코드가 느리다는 걸 발견해서 속도를 빠르게 하기 위해 이걸 빠르게 할 수 있는 흑마법을 배워야 할지도 모르나요? **줄리아에서는 성능에 손실 없이 임의의 것들을 할 수 있습니다.**\n",
    "3. 디버깅을 해야 하는데 포트란이나 C/C++코드를 보고 무엇을 하려고 하는지 모르는 당신을 발견하곤 했나요? **줄리아에서는 당신은 줄리아 코드만 읽어도 됩니다. 사용하는 언어를 빠르게 하기 위해서 다른 언어를 배울 필요가 없습니다.** 이것은 두 언어 문제\"(섹션 2.3.2)로 불립니다. \"당신이 재미있는 아이디어가 있고 오픈소스 패키지에 기여하고 싶지만 거의 모든 게 파이썬이나 R이 아니라 C/C++ 또는 포트란으로 되어 있어 포기했던\" 적이 있던 경우를 포함합니다.\n",
    "4. 다른 패키지에서 정의된 데이터 구조를 쓰고 싶지만 잘 작동하지 않아서 어쩌면 당신은 인터페이스를 개발해야 할지도 모릅니다. **줄리아는 유저들이 쉽게 코드를 공유할 수 있고 다른 패키지의 코드를 재사용할 수 있도록 합니다.** 대부분의 유저 정의 타입과 함수는 밖에 있으며 몇몇 유저들은 그들의 패키지가 그들이 상상하지 못한 방법으로 다른 라이브러리에서 상요되는 것을 발견하고 놀라워 합니다. 우리는 섹션 2.3.3에 몇가지 예시를 적어두었습니다.\n",
    "5. 의존성과 버전관리를 더 타이트하게 해서 통제가능하며, 관리 가능하고 반복할 수 있는 더 나은 프로젝트 관리가 필요하나요? **줄리아는 놀라운 프로젝트 관리 솔루션과 엄청난 패키지 매니저가 있습니다.** 전역적으로 패키지를 설치하고 관리하는 전통적인 패키지 매니저와는 다르게, 줄리아의 패키지 매니저는 \"환경\"을 중심으로 디자인 되어 있습니다. 개별 프로젝트 단위로 패키지가 독립적으로 설치되며, 각 프로젝트는 해당 프로젝트 공유의 패키지 버전을 관리하게 됩니다.\n",
    "\n",
    "우리가 익숙하거나 있을 법한 상황으로 당신의 관심을 끌었다면, 당신은 아마 줄리아라고 불리우는 새로운 녀석에 대해 관심을 가지게 되었을 겁니다.\n",
    "\n",
    "그럼 계속해 봅시다."
   ]
  },
  {
   "cell_type": "markdown",
   "id": "a3139bcd-53f4-4883-bee8-189978c404d2",
   "metadata": {},
   "source": [
    "## 2.3 줄리아는 무엇을 성취하고자 하는가?\n",
    "\n",
    ">Note: 이 쳅터에서 우리는 무엇이 줄리아를 프로그래밍 언어로 및나게 하는지 디테일하게 설명할 것이다. 만약 이게 너무 기술적이라면, 이 부분을 건너 뛰어 `DataFrames.jl`로 테이블 형식 데이터에 대해 배울 수 있는 섹션 4로 가도 된다.\n",
    "\n",
    "줄리아 프로그래밍 언어는 상대적으로 새로운 언어로, 2012년 최초로 공개 되었으며, **쉽고 빠른**것을 목표로 하고 있다. 줄리아는 \"C처럼 빠르지만, 파이썬처럼 읽힌다\". 이것은 과학연산을 위해 개발되었으며, **큰 규모의 데이터와 연산**을 다룰 수 있음과 동시에 상당히 **쉽게 고치고, 만들고 프로토타입** 코드를 짤 수 있다.\n",
    "\n",
    "줄리아 창시자는 2021년 블로그 포스트에서 왜 그들이 줄리아를 만들었는지 설명했다.\n",
    "\n",
    "> 우리는 욕심쟁이다. 우리는 더 많이 원한다. 우리는 오픈소스이면서 자유로운 라이센스의 언어를 원한다. 우리는 루비 같이 동적이면서 C같이 빠름을 원한다. 우리는 Lisp와 같이 코드를 데이터로 다룰 수 있으면서(Homoiconic) 매트랩과 같이 익숙하면서 명백한 수학적 표현을 원한다. 우리는 파이썬처럼 일반적인 언어를 원하면서도 R과 같이 통계다루기가 쉬워야 하며, 펄과 같이 문자열을 자연스럽게 다룰 수 있으면서, 매트랩처럼 선형대수에 강력해고, 쉘처럼 여러 프로그램을 붙일 수 있어야 한다. 정말 배우기 간단하면서도 대부분의 진지한 해커들을 행복하게 할 수 있다. 우리는 이것이 인터렉티브(상호작용)을 할 수 있으면서 우리는 이것을 컴파일 할 수 있기를원한다.\n",
    "\n",
    "대부분의 유저들은 줄리아의 **우월한 속도**에 끌린다. 줄리아는 일류의 베타적인 클럽의 멤버이다 페타플롭 클럽은 **피크 속도가 초당 1 페타플롭 이상**인 경우에 해당한다. 현재는 오직 C, C++, 포틀란 그리고 줄리아가 페타플롭 클럽이다.\n",
    "\n",
    "하지만, 스피드는 줄리아가 제공할 수 있는 전부는 아니다. **사용 편의성**, **유니코드 지원** 그리고 **쉬운 코드 공유**는 줄리아의 기능 중 하나다. 우리는 이 모든 기능에 대해서 이 섹션에서 설명하겠지만, 지금은 줄리아의 코드 공유 기능에 대해서 집중하고자 한다.\n",
    "\n",
    "줄리아의 패키지 생태계는 특별하다. 이것은 코드 공유 기능을 할 뿐 아니라 유저가 만든 타입을 공유할 수 있게 한다. 예를 들면, 파이썬의 `pandas`는 자신의 `Datetime`타입을 사용해 날짜르 처리한다. R의 Tidyverse 또한 동일하여 `lubridate`라는 패키지도 자신만의 `datetime`타입을 사용해 날짜를 처리한다. 줄리아는 이런 것들이 필요하지 않고 모든 날짜에 대한 건 이미 표준 라이브러리에 반영되어 있다. 이것은 다른 패키지가 날짜에 대해 걱정할 필요가 없다는 뜻이다. 그들은 새로운 기능을 만들 때 새로운 타입을 만들지 않고 그저 줄리아의 `Datetime` 타입을 확장하여 새로운 기능을 추가하면 된다. 줄리아의 `Dates`모듈은 놀라운 것들을 할 수 있다. 하지만, 우리는 조금 더 나가보고자 한다.줄리아의 다른 기능에 대해서 이야기 해보자.\n"
   ]
  },
  {
   "cell_type": "markdown",
   "id": "1a21aee1-e7fb-4acc-9a28-72ca28132155",
   "metadata": {},
   "source": [
    "### 2.3.1 Julia Versus Other Programming Languages\n",
    "\n",
    "그림 [2](https://juliadatascience.io/images/language_comparisons.png) \n",
    "주류 오픈소스이면서 과학 컴퓨팅 언어들을 2x2 다이어그램으로 표현 할 수 있다. **느리고-빠른** 축과 **쉬움-어려움** 측면이다.\n",
    "\n",
    "<!-- 작업 필요 !-->\n",
    "\n",
    "우리는 클로즈 소스 언어는 제외했는데 많은 사람들이 당신의 코드를 비용 없이 돌려볼 수 있고 이슈가 있을 때 소스코드를 검사해 볼 수 있는 건 큰 이득이기 때문이다.\n",
    "\n",
    "우리는 C++와 포트란을 어렵고 빠른 사부면에 두었다. 컴파일, 타입 체킹, 그리고 다른 전문적 처리와 관심이 필요한 정적 엉어는 배우기 어렵고 프로토 타입을 만드는데 오래 걸린다. 하지만 그 언어들은 정말 빠르다는 장점이 있다.\n",
    "\n",
    "R과 Python은 쉽고 느린 사분면에 해당한다. 그들은 동적 언어로 컴파일이 필요하지 않고 런타임에서 실행된다. 그렇기 때문에 그들은 아주 배우기 쉽고 빠르게 시제품을 만들 수 있다. 물론 이는 불리한 측면을 가지고 있다. 그들은 **정말 느린** 언어다.\n",
    "\n",
    "줄리아는 쉽고 빠른 언어에 해당하는 유일한 언어다. 우리는 느리고 어려운 곳에 위치하는 다른 진지한 언어가 있는지 모르기ㅔ, 이 사분면은 비어 두었다.\n",
    "\n",
    "![그림 2](https://juliadatascience.io/images/language_comparisons.png)\n",
    "\n",
    "**줄리아는 빠르다. 아주 빠르다.** 이 언어는 처음부터 속도를 염두에 두고 디자인 되었다. 멀티플 디스패치를 통해서 이를 달성하였다. 기본적인 아이디어는 아주 효율적인 LLVM 코드를 만드는 것이다. LLVM instructions라고도 불리는 LLVM코드는 아주 저수준으로 이는 실젲 컴퓨터가 동작하는 것과 가깝다. 따라서, 본질적으로, 줄리아는 읽기도 쓰기도 쉬운 코드를 컴퓨터가 읽기 쉬운 LLVM코드로 변환한다. 예를 들면 당신이 하나의 변수만을 받는 함수를 정의하고 정수를 함수에 넣으면, 줄리아는 특정된 `MethodInstance`를 생성한다. 그다음에 당신이 정수를 넣으면, 줄리아는 이전에 만들어져서 `MethodInstance`를 찾아 실행하도록 한다. 지금, **놀라운** 트릭은 당신은 함수 안에서 함수를 불러올 수 있다는 것이다. 예를 들면, 어떤 데이터 타입이 함수 `f`를 부르고 `f`는 함수 `g`를 부른다. 그리고 데이터 타입은  `g`에 전달된 데이터 타이븐 이미 알고 언제나 동일하기 때문에 생성된 함수 `g`는 함수 `f`에 하드 코디이 될 수 있다! 이는 줄리아가 `MethodInstances`를 찾아볼 필요가 없을 뿐만 아니라, 코드가 아주 효율적으로 돌아갈 수 있다. \n",
    "\n",
    "트레이드 케이스 무효화 된다. 그리고 `MethodInstances`는 새롭게 만들어져야야 해서 시간이 필요하다. 또한 드레이드 오프는 하드코드를 할지 말지 판단해야 하기에 시간이 필요하다. 이는 왜 줄리아가 처음에 실행될 때 오래 걸리는지 설명한다. 백그라운드에서 당신의 코드를 효율화 하는 것이다.\n",
    "\n",
    "컴파일러는 반대로 이것이 가장 잘하는 것을 한다. 이것은 기계코드를 최적화 한다. 당신은 줄리아 [밴치마크]()를 찾을 수 있으며, 다른 언어도 있다. 그림[3]()은 [줄리아 웹페이지 벤치마크 섹션]()에서 가져왔다.\n",
    "\n",
    "당신이 보듯이 줄리아는 **진짜** 빠르다.\n",
    "\n",
    "![그림3 줄리아 대 다른 프로그램 언어](https://juliadatascience.io/images/benchmarks.png)\n",
    "\n",
    "우리는 진짜 줄리아를 믿는다. 아니었다면 우리는 이 책을 쓰지 않았을 것이다. 우리는 줄리아가 **과학적 데이터 분석과 과학 컴퓨팅의 미래**라고 생각한다. 이는 유저가 빠르게 강력한 코드를 간단한 문법으로 개발할 수 있게 한다. 보통 연구자들이 개발하는 코드는 아주 쉽지만 느린 언어로 개발된다. 한번 코드가 올바르게 가동되고 목표를 달성하면, 그 코드를 빠르고,어려운, 언어로 옮기는 작업을 시작한다. 이것이 \"두 언어 문제\"로 알려져 있으며 우리가 다음에 논의할 것이다."
   ]
  },
  {
   "cell_type": "markdown",
   "id": "0548322b-dcd4-4287-a339-05cfa4bc8c52",
   "metadata": {
    "tags": []
   },
   "source": [
    "### 2.3.2 두 언어 문제\n",
    "\n",
    "멀티플 디스패치는 아주 강력한 기능으로 이미 정의된 함수나 복잡한 행동을 새로운 타입에 확장할 수 있게 해준다. 예를 들어 두 다른 동물을 정의한 당신이 두가지 새로운 `struct`을 정의했다고 하자."
   ]
  },
  {
   "cell_type": "code",
   "execution_count": 1,
   "id": "39ab6b85-88da-449f-badd-3ef7d75987dd",
   "metadata": {},
   "outputs": [],
   "source": [
    "abstract type Animal end\n",
    "struct Fox <: Animal\n",
    "    weight::Float64\n",
    "end\n",
    "struct Chicken <: Animal\n",
    "    weight::Float64\n",
    "end"
   ]
  },
  {
   "cell_type": "markdown",
   "id": "9257f26c-4247-4fcb-8abd-5096566f84ea",
   "metadata": {},
   "source": [
    "기본적으로, 이것은 \"동물(Animal)인 여우(fox)를 정의\"하고 \"동물(Animal)인 닭(Chicken)을 정의\"한 것이다. 다음으로 우리는 Fiona라는 여우와 Big bird라는 닭이 있다고 하자."
   ]
  },
  {
   "cell_type": "code",
   "execution_count": 2,
   "id": "609b2935-f981-4dff-852e-c18dd9200d07",
   "metadata": {},
   "outputs": [
    {
     "data": {
      "text/plain": [
       "Chicken(2.9)"
      ]
     },
     "execution_count": 2,
     "metadata": {},
     "output_type": "execute_result"
    }
   ],
   "source": [
    "fiona = Fox(4.2)\n",
    "big_bird = Chicken(2.9)"
   ]
  },
  {
   "cell_type": "markdown",
   "id": "e3c778d4-3b42-4826-98de-b62841838db6",
   "metadata": {},
   "source": [
    "우리는 그들이 함께 얼마나 몸무게가 되는지 알고 싶다. 그래서 우리는 다음과 같이 함수를 만들어 수 있다."
   ]
  },
  {
   "cell_type": "code",
   "execution_count": 16,
   "id": "5036ca35-e173-41d0-8683-e5a932104833",
   "metadata": {},
   "outputs": [
    {
     "data": {
      "text/plain": [
       "combined_weight (generic function with 1 method)"
      ]
     },
     "execution_count": 16,
     "metadata": {},
     "output_type": "execute_result"
    }
   ],
   "source": [
    "combined_weight(A1::Animal, A2::Animal) = A1.weight + A2.weight"
   ]
  },
  {
   "cell_type": "code",
   "execution_count": 17,
   "id": "225ac085-2bb3-4c82-85b0-73f58a9a2260",
   "metadata": {},
   "outputs": [
    {
     "data": {
      "text/plain": [
       "combined_weight (generic function with 1 method)"
      ]
     },
     "execution_count": 17,
     "metadata": {},
     "output_type": "execute_result"
    }
   ],
   "source": [
    "combined_weight"
   ]
  },
  {
   "cell_type": "markdown",
   "id": "cd657d48-b036-45de-a57b-92a1b118343b",
   "metadata": {},
   "source": [
    "다음으로 우리는 그들이 서로 잘 지낼 수 있는지 알고 싶다. 이것을 적용하는 방법 중 하나는 조건을 이용하는 것이다."
   ]
  },
  {
   "cell_type": "code",
   "execution_count": 3,
   "id": "884e2506-ed96-448b-ae57-c28b115f3016",
   "metadata": {},
   "outputs": [
    {
     "data": {
      "text/plain": [
       "naive_trouble (generic function with 1 method)"
      ]
     },
     "execution_count": 3,
     "metadata": {},
     "output_type": "execute_result"
    }
   ],
   "source": [
    "function naive_trouble(A::Animal, B::Animal)\n",
    "    if A isa Fox && B isa Chicken\n",
    "        return true\n",
    "    elseif A isa Chicken && B isa Fox\n",
    "        return true\n",
    "    elseif A isa Chicken && B isa Chicken\n",
    "        return false\n",
    "    end\n",
    "end"
   ]
  },
  {
   "cell_type": "markdown",
   "id": "32e6f490-25fc-4c31-816c-2c59ed6b432f",
   "metadata": {},
   "source": [
    "이제 Fiona와 Big Bird가 함께 할 때 문제가 있는지 보자"
   ]
  },
  {
   "cell_type": "code",
   "execution_count": 4,
   "id": "aab076c6-bdef-4b1c-a9ca-ad770b28012a",
   "metadata": {},
   "outputs": [
    {
     "data": {
      "text/plain": [
       "true"
      ]
     },
     "execution_count": 4,
     "metadata": {},
     "output_type": "execute_result"
    }
   ],
   "source": [
    "naive_trouble(fiona, big_bird)"
   ]
  },
  {
   "cell_type": "markdown",
   "id": "e88acf15-72b7-4f58-abe6-ed3639862b03",
   "metadata": {},
   "source": [
    "이건 맞는 것 같다. `naive_troouble`함수를 만드는 것은 쉬웠다. 하지만, 멀티플 디스패치를 이용해서 새로운 함수 `trouble`을 만드는 것은 새로운 이득이 있다. 다음과 같이 새로운 함술ㄹ 만들어 보자."
   ]
  },
  {
   "cell_type": "code",
   "execution_count": 5,
   "id": "1cb4cabf-5fb6-40c7-a3f5-4116ac05236d",
   "metadata": {},
   "outputs": [
    {
     "data": {
      "text/plain": [
       "trouble (generic function with 3 methods)"
      ]
     },
     "execution_count": 5,
     "metadata": {},
     "output_type": "execute_result"
    }
   ],
   "source": [
    "trouble(F::Fox, C::Chicken) = true\n",
    "trouble(C::Chicken, F::Fox) = true\n",
    "trouble(C1::Chicken, C2::Chicken) = false"
   ]
  },
  {
   "cell_type": "code",
   "execution_count": 6,
   "id": "4cf7180a-b40f-44e4-9400-72515d5ce41c",
   "metadata": {},
   "outputs": [
    {
     "data": {
      "text/plain": [
       "true"
      ]
     },
     "execution_count": 6,
     "metadata": {},
     "output_type": "execute_result"
    }
   ],
   "source": [
    "trouble(fiona, big_bird)"
   ]
  },
  {
   "cell_type": "markdown",
   "id": "374b8206-bfc2-436b-9b99-d2ef7f0cbc42",
   "metadata": {},
   "source": [
    "이제 Big Bird를 Dora라고 하는 다른 닭과 함께 두어도 문제는 없다."
   ]
  },
  {
   "cell_type": "code",
   "execution_count": 7,
   "id": "ca686c34-bbe3-450a-906f-5eaca9a27585",
   "metadata": {},
   "outputs": [
    {
     "data": {
      "text/plain": [
       "false"
      ]
     },
     "execution_count": 7,
     "metadata": {},
     "output_type": "execute_result"
    }
   ],
   "source": [
    "dora = Chicken(2.2)\n",
    "trouble(dora, big_bird)"
   ]
  },
  {
   "cell_type": "markdown",
   "id": "06a297f2-a7c6-463a-80bc-3726a11c9741",
   "metadata": {},
   "source": [
    "따라서, 이 경우, 멀티플 디스패치의 장점은 당신은 그저 타입을 선언하고 줄리아가 당신의 타입에 필요한 메소드를 찾아줄 것이다. 게다가, 많은 경우 멀티플 디스패치가 코드 안에서 사용될 경우 줄리아 컴파일러ㅓ는 실제로 함수를 부르는 것을 효율화 한다. 예를 들어, 우리는 이렇게 쓸 수 있다."
   ]
  },
  {
   "cell_type": "code",
   "execution_count": 8,
   "id": "695d14d1-bba3-477d-9ec9-7e451222849c",
   "metadata": {},
   "outputs": [
    {
     "data": {
      "text/plain": [
       "trouble (generic function with 4 methods)"
      ]
     },
     "execution_count": 8,
     "metadata": {},
     "output_type": "execute_result"
    }
   ],
   "source": [
    "function trouble(A::Fox, B::Chicken, C::Chicken)\n",
    "    return trouble(A, B) || trouble(B, C) || trouble(C, A)\n",
    "end"
   ]
  },
  {
   "cell_type": "markdown",
   "id": "c3798a92-a611-48e2-abce-315e508c4a3c",
   "metadata": {},
   "source": [
    "컨텍스트에 따라 줄리아는 이 것을 다음과 같이 최적화 할 수 있다."
   ]
  },
  {
   "cell_type": "code",
   "execution_count": 9,
   "id": "6c4b8b41-a51e-45a8-8b3e-d800553ed8c6",
   "metadata": {},
   "outputs": [
    {
     "data": {
      "text/plain": [
       "trouble (generic function with 4 methods)"
      ]
     },
     "execution_count": 9,
     "metadata": {},
     "output_type": "execute_result"
    }
   ],
   "source": [
    "function trouble(A::Fox, B::Chicken, C::Chicken)\n",
    "    return true || false || true\n",
    "end"
   ]
  },
  {
   "cell_type": "markdown",
   "id": "3d8486c9-ab7b-4068-b908-0b355215d72a",
   "metadata": {},
   "source": [
    "컴파일러가 `A`는 여우, `B`는 닭이라는 것을 알고 있기 때문에, 이 부분은 `trouble(F::Fox, C::Chicken)`로 교체될 수 있다. 같은 일이 `trouble(C1::Chicken, C2::Chicken)`도 된다. 다음에 컴파일러는 이것을 다음과 같이 최적화 할 수 있다."
   ]
  },
  {
   "cell_type": "code",
   "execution_count": 10,
   "id": "37a53746-b0cb-4506-a9db-73507ed3f406",
   "metadata": {},
   "outputs": [
    {
     "data": {
      "text/plain": [
       "trouble (generic function with 4 methods)"
      ]
     },
     "execution_count": 10,
     "metadata": {},
     "output_type": "execute_result"
    }
   ],
   "source": [
    "function trouble(A::Fox, B::Chicken, C::Chicken)\n",
    "    return true\n",
    "end"
   ]
  },
  {
   "cell_type": "markdown",
   "id": "9c0bb9ab-4ebf-432e-a380-0c3084aa812a",
   "metadata": {},
   "source": [
    "또 다른 멀티플 디스패치의 이득은 다른 사람이 다가와 자신의 동물 Zebra를 비교하고 싶을 때 이것이 가능하다는 것이다. 그들의 패키지에서, 그들은 Zebra를 정의할 수 있다."
   ]
  },
  {
   "cell_type": "code",
   "execution_count": 11,
   "id": "92229a31-83f0-49eb-a6e2-9932980751b8",
   "metadata": {},
   "outputs": [],
   "source": [
    "struct Zebra <: Animal\n",
    "    weight::Float64\n",
    "end"
   ]
  },
  {
   "cell_type": "markdown",
   "id": "6a64b45a-9e3d-49bd-b7b3-4da5da08d591",
   "metadata": {},
   "source": [
    "그리고 어떻게 인터랙션하는지 정의할 수 있다."
   ]
  },
  {
   "cell_type": "code",
   "execution_count": 12,
   "id": "797ed609-30bf-4f05-9459-c3de086bfe1e",
   "metadata": {},
   "outputs": [
    {
     "data": {
      "text/plain": [
       "trouble (generic function with 7 methods)"
      ]
     },
     "execution_count": 12,
     "metadata": {},
     "output_type": "execute_result"
    }
   ],
   "source": [
    "trouble(F::Fox, Z::Zebra) = false\n",
    "trouble(Z::Zebra, F::Fox) = false\n",
    "trouble(C::Chicken, Z::Zebra) = false\n",
    "trouble(Z::Zebra, F::Fox) = false"
   ]
  },
  {
   "cell_type": "code",
   "execution_count": 13,
   "id": "98b18e2d-d226-484d-a350-34609677fd36",
   "metadata": {},
   "outputs": [
    {
     "data": {
      "text/plain": [
       "trouble (generic function with 7 methods)"
      ]
     },
     "execution_count": 13,
     "metadata": {},
     "output_type": "execute_result"
    }
   ],
   "source": [
    "trouble"
   ]
  },
  {
   "cell_type": "markdown",
   "id": "e733feca-0a0e-4011-b8e0-6ed04c83bfd1",
   "metadata": {
    "tags": []
   },
   "source": [
    "이제 우리는 Marty(얼룩말)이 Big Bird와 함께 있을 때 안전할 지 알 수 있다."
   ]
  },
  {
   "cell_type": "code",
   "execution_count": 14,
   "id": "d5ae9961-496d-45b8-a218-db20901db9aa",
   "metadata": {},
   "outputs": [
    {
     "data": {
      "text/plain": [
       "false"
      ]
     },
     "execution_count": 14,
     "metadata": {},
     "output_type": "execute_result"
    }
   ],
   "source": [
    "marty = Zebra(412)\n",
    "trouble(big_bird, marty)"
   ]
  },
  {
   "cell_type": "markdown",
   "id": "849d822b-d18d-4f84-a186-42ebc7fd5d12",
   "metadata": {},
   "source": [
    "게다가 우리는 **얼룩말과 다른 동물들의 몸무게의 합을 다른 추가적인 함수를 정의하지 않고** 계산할 수 있다."
   ]
  },
  {
   "cell_type": "code",
   "execution_count": 18,
   "id": "2a9621ab-b1ed-4538-8276-d29c2460b278",
   "metadata": {},
   "outputs": [
    {
     "data": {
      "text/plain": [
       "414.9"
      ]
     },
     "execution_count": 18,
     "metadata": {},
     "output_type": "execute_result"
    }
   ],
   "source": [
    "combined_weight(big_bird, marty)"
   ]
  },
  {
   "cell_type": "markdown",
   "id": "cfa89f66-8af5-4c42-8da1-2345f3e7ff9c",
   "metadata": {},
   "source": [
    "요약하자면, 여우와 닭만을 생각하고 작성된 코드가 **한 번도 본적이 없는** 타입에 대해서도 작동한다는 것이다. 실질적으로, 이는 줄리아가 다른 프로젝트의 코드를 재사용하는 것을 쉽게 해준다는 뜻이다.\n",
    "\n",
    "당신이 우리 만큼 멀티플 디스패치에 흥분했다면, 여기 두가지 더 깊은 예제가 있다. 첫번 째는 [Storopoli]()가 작성한 [fast and elegant implementation of a one-hot vector]()이고 두번째는 [christopher Rackauckas]()가 [Tanmay Bakshi Youtube's Channel]()(35:07 부터)에서 인터뷰한 것이다. 크리스는 자신이 만들고 유지관리하는 `DifferentialEquations.jl`을 쓸 때 어떤 유저가 GPU 기반 quaternion ODE솔버가 작동하지 않는다는 이슈를 올렸다. 크리스는 상당히 놀랐는데 왜나면 누군가가 GPU연산을 quaternion과 ODE를 풀때 사용할 줄 에상하지 못했다는 점 때문이다. 하지만 그를 더 놀라게 한 점은 그 유저가 작은 실수를 했고 이게 모두 작동했다는 점이었다. 멀티플 디스패치로 인한 이득의 대부분은 높은 유저 코드/타입 공유이다.\n",
    "\n",
    "결론적으로, 우리는 멀티플 디스패치를 가장 잘 설명한 것이 줄리아를 만든 사람 중 한명이 설명한 것이다. [Stefan Karpinski at JuliaCon 2019]()"
   ]
  }
 ],
 "metadata": {
  "kernelspec": {
   "display_name": "Julia 1.6.4",
   "language": "julia",
   "name": "julia-1.6"
  },
  "language_info": {
   "file_extension": ".jl",
   "mimetype": "application/julia",
   "name": "julia",
   "version": "1.6.4"
  }
 },
 "nbformat": 4,
 "nbformat_minor": 5
}
