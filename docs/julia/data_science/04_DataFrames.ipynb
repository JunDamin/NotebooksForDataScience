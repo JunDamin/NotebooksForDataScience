{
 "cells": [
  {
   "cell_type": "markdown",
   "id": "7b0a32a0-6e6e-419c-aac9-235f23be67a1",
   "metadata": {},
   "source": [
    "# 4 DataFrames.jl\n",
    "\n",
    "데이터는 대부분 테이블 형식으로 전달됩니다. 테이블 형식이라고 하는 것은 데이터가 행(row)과 열(column)로 구성되어 있는 테이블이라는 뜻입니다. \n",
    "열은 보통 같은 데이터 타입이고 행은 다른 데이터 타입을 가지고 있습니다. 행은, 실질적으로, 관찰 값을 의미하며,열은 변수를 의미합니다. 예를 들어 우리가 티비 쇼 테이블을 가지고 있다고 해봅시다. 이 테이블에는 그 티비 쇼가 만들어진 국ㄱ가와 우리의 평점이 있다고 합시다. 테이블 1처럼 말이죠.\n",
    "\n",
    "제목 | 국가 | 평점\n",
    "--- | --- | ---\n",
    "왕좌의 게임 | 미국 | 8.2\n",
    "크라운 | 영국 | 7.3\n",
    "프렌즈 | 미국 | 7.8\n",
    "... | ... | ...\n",
    "\n",
    "여기서 점들의 의미는 이 표가 아주 긴 표일 수 있으며 우리는 그중 일부만 보여줬다는 의미입니다.데이터를 분석하는 동안, 우리는 종종 데이터에 대한 재미 있는 질문들이 떠오릅니다. *데이터 쿼리*라고도 불리우죠. 큰 테이블들이 주어졌을 때, 컴퓨터는 이런 질문들에 아주 빨리 답할 수 있습니다. 당신이 손으로 하는 것보다 말이죠. 몇몇 쿼리에 대한 예를 들어보자면,\n",
    "\n",
    "- 어떤 티비 쇼가 가장 높은 평점을 가지고 있나요?\n",
    "- 어떤 티비 쇼들이 마국에서 만들어 졌나요?\n",
    "- 어떤 티비 쇼들이 같은 국가에서 만들어 졌나요?\n",
    "\n",
    "하지만, 한명의 연구자로, 진짜 과학은 종종 여러 테이블이나 데이터 소스와 함께 시작하곤 합니다. 예를들어 우리가 다른 사람의 티비 쇼 평점 자료를 가지고 있다고 해봅시다.\n",
    "\n",
    "제목 | 평점\n",
    "--- | ---\n",
    "왕좌의 게임 | 7\n",
    "프렌즈 | 6.4\n",
    "... | ...\n",
    "\n",
    "이제 우리가 스스로에게 할 수 있는 질문은\n",
    "\n",
    "- 왕좌의 게임의 평균 평점은 얼마인가요?\n",
    "- 누가 프렌즈에 가장 높은 평점을 주었나요?\n",
    "- 어떤 티비 쇼가 다른 사람이 아닌 당신이 평점을 매긴 쇼인가요?\n",
    "\n",
    "남은 쳅터에서, 줄리아를 통해 우리는 어떻게 이런 질문에 쉽게 답할 수 있는지를 보여줄 것입니다. 그러기 위해서 우리는 먼저 왜 `DataFrames.jl`이라고 하는 줄리아 패키지가 필요한지 보여주고자 합니다. 다음 섹션에서 우리는 어떻게 이 패키지를 사용하는 보여주고 궁극적으로 우리가 어떻게 빨리 데이터 처리(data transformations)를 할 수 있는지 보여주고자 합니다. \n",
    "\n",
    "테이블 3과 같은 성적표를 봅시다.\n",
    "\n",
    "이름 | 나이 | 2020 등급\n",
    "--- | --- | ---\n",
    "밥 | 17 | 5.0\n",
    "샐리 | 18 | 1.0\n",
    "엘리스 | 20 | 8.5\n",
    "행크 | 19 | 4.0\n",
    "\n",
    "여기서 이름 컬럼은 `string`타입이고, 나이는 `integer`, 등급은 `float`타입입니다.\n",
    "\n",
    "지금까지 이 책은 줄리아 기초만 다루었습니다. 이런 기초는 많은 것들을 훌륭히 할 수 있지만, 테이블은 아닙니다. 우리가 무엇이 더 필요한지 보여주기 위해서 테이블 데이터를 배열에 저장해 봅시다."
   ]
  },
  {
   "cell_type": "code",
   "execution_count": 59,
   "id": "065479b3-99ec-4589-8df8-07980fe67311",
   "metadata": {},
   "outputs": [
    {
     "data": {
      "text/plain": [
       "grades_array (generic function with 1 method)"
      ]
     },
     "execution_count": 59,
     "metadata": {},
     "output_type": "execute_result"
    }
   ],
   "source": [
    "function grades_array()\n",
    "    name = [\"Bob\", \"Sally\", \"Alice\", \"Hank\"]\n",
    "    age = [17, 18, 20, 19]\n",
    "    grade_2020 = [5.0, 1.0, 8.5, 4.0]\n",
    "    (; name, age, grade_2020)\n",
    "end"
   ]
  },
  {
   "cell_type": "markdown",
   "id": "fda39486-6542-49dd-8681-684854485840",
   "metadata": {},
   "source": [
    "이제, 데이터는 소위 컬럼 메이저 형태로 저장되어 있습니다. 이는 우리가 행을 원할 때 불편합니다."
   ]
  },
  {
   "cell_type": "code",
   "execution_count": 60,
   "id": "f38cb8b8-6d80-4bd0-85e5-9435fadd635f",
   "metadata": {},
   "outputs": [
    {
     "data": {
      "text/plain": [
       "(\"Sally\", 18, 1.0)"
      ]
     },
     "execution_count": 60,
     "metadata": {},
     "output_type": "execute_result"
    }
   ],
   "source": [
    "function second_row()\n",
    "    name, age, grade_2020 = grades_array()\n",
    "    i = 2\n",
    "    row = (name[i], age[i], grade_2020[i])\n",
    "end\n",
    "second_row()"
   ]
  },
  {
   "cell_type": "markdown",
   "id": "6c6a0720-bd63-432b-8ec8-479b490a7c08",
   "metadata": {},
   "source": [
    "또는 엘리스의 등급을 원한다면, 우선 어떤 행에 엘리스가 있는지 알아내야 합니다."
   ]
  },
  {
   "cell_type": "code",
   "execution_count": 61,
   "id": "b9a547f1-a36c-493b-8126-a091072ad989",
   "metadata": {},
   "outputs": [
    {
     "data": {
      "text/plain": [
       "3"
      ]
     },
     "execution_count": 61,
     "metadata": {},
     "output_type": "execute_result"
    }
   ],
   "source": [
    "function row_alice()\n",
    "    names = grades_array().name\n",
    "    i = findfirst(names .== \"Alice\")\n",
    "end\n",
    "row_alice()"
   ]
  },
  {
   "cell_type": "markdown",
   "id": "630b8a7b-2913-4d80-8f7a-9e4e82908b29",
   "metadata": {},
   "source": [
    "그리고 나서야 우리는 원하는 값을 얻을 수 있습니다."
   ]
  },
  {
   "cell_type": "code",
   "execution_count": 62,
   "id": "ed78fc7d-8882-4438-9f61-78d21830ef3f",
   "metadata": {},
   "outputs": [
    {
     "data": {
      "text/plain": [
       "8.5"
      ]
     },
     "execution_count": 62,
     "metadata": {},
     "output_type": "execute_result"
    }
   ],
   "source": [
    "function value_alice()\n",
    "    grades = grades_array().grade_2020\n",
    "    i = row_alice()\n",
    "    grades[i]\n",
    "end\n",
    "value_alice()"
   ]
  },
  {
   "cell_type": "markdown",
   "id": "3a39b434-fefe-4336-b81e-6a12bb4dce5c",
   "metadata": {},
   "source": [
    "`DataFrames.jl`은 이런 문제를 쉽게 해결 할 수 있습니다. `using`을 사용해서 `DataFrames.jl`을 불러올 수 있습니다."
   ]
  },
  {
   "cell_type": "code",
   "execution_count": 63,
   "id": "cb376a59-0859-4dac-98b3-bc7ff04a67d5",
   "metadata": {},
   "outputs": [],
   "source": [
    "using DataFrames"
   ]
  },
  {
   "cell_type": "markdown",
   "id": "b4121fbd-35e4-43f0-9f94-34691dfdf4f1",
   "metadata": {},
   "source": [
    "`DataFrames.jl`을 사용해, 우리는 테이블 데이터를 보관할 `DataFrame`을 정의할 수 있습니다."
   ]
  },
  {
   "cell_type": "code",
   "execution_count": 64,
   "id": "707daefa-5c74-4b12-89cd-71ae6a185f84",
   "metadata": {},
   "outputs": [
    {
     "data": {
      "text/html": [
       "<div class=\"data-frame\"><p>4 rows × 2 columns</p><table class=\"data-frame\"><thead><tr><th></th><th>name</th><th>grade_2020</th></tr><tr><th></th><th title=\"String\">String</th><th title=\"Float64\">Float64</th></tr></thead><tbody><tr><th>1</th><td>Sally</td><td>1.0</td></tr><tr><th>2</th><td>Bob</td><td>5.0</td></tr><tr><th>3</th><td>Alice</td><td>8.5</td></tr><tr><th>4</th><td>Hank</td><td>4.0</td></tr></tbody></table></div>"
      ],
      "text/latex": [
       "\\begin{tabular}{r|cc}\n",
       "\t& name & grade\\_2020\\\\\n",
       "\t\\hline\n",
       "\t& String & Float64\\\\\n",
       "\t\\hline\n",
       "\t1 & Sally & 1.0 \\\\\n",
       "\t2 & Bob & 5.0 \\\\\n",
       "\t3 & Alice & 8.5 \\\\\n",
       "\t4 & Hank & 4.0 \\\\\n",
       "\\end{tabular}\n"
      ],
      "text/plain": [
       "\u001b[1m4×2 DataFrame\u001b[0m\n",
       "\u001b[1m Row \u001b[0m│\u001b[1m name   \u001b[0m\u001b[1m grade_2020 \u001b[0m\n",
       "\u001b[1m     \u001b[0m│\u001b[90m String \u001b[0m\u001b[90m Float64    \u001b[0m\n",
       "─────┼────────────────────\n",
       "   1 │ Sally          1.0\n",
       "   2 │ Bob            5.0\n",
       "   3 │ Alice          8.5\n",
       "   4 │ Hank           4.0"
      ]
     },
     "execution_count": 64,
     "metadata": {},
     "output_type": "execute_result"
    }
   ],
   "source": [
    "names = [\"Sally\", \"Bob\", \"Alice\", \"Hank\"]\n",
    "grades = [1, 5, 8.5, 4]\n",
    "df = DataFrame(; name=names, grade_2020=grades)"
   ]
  },
  {
   "cell_type": "markdown",
   "id": "39eba210-0ed9-4c92-8f6c-de852ecab3d4",
   "metadata": {},
   "source": [
    "우리 데이터를 테이블 형태로 가지고 있는 `df`라는 변수를 반환해 줍니다.\n",
    "\n",
    "> **노트**: 이 방식은 작동합니다만, 한가지 바로 바꿔야 할 부분이 있습니다. 이 예제에서 우리는 변수 `name`, `grade_2020`그리고 `df`를 전역에서 선언했습니다. 이 것은 이 변수들은 어디서든지 접근할 수 있고 바꿀 수 있다는 뜻입니다. 우리가 이런 식으로 책을 계속 써내려간다면, 우리는 수백개의 변수를 가지게 될 것이고, 우리가 변수 `name`에 저장한 데이터는 `DataFrame`을 통해서만 접근 가능해야 합니다!\n",
    "변수 `name`과 `grade_2020`은 오래 보관하려고 만든 변수가 아닙니다! \n",
    "우리가 `grade_2020`내용을 여러번 이 책에서 바꾼다고 생각해 봅시다. 주어진 책이 PDF라고 했을 때 그 변수의 최종 내용이 무엇인지 알아내는 것은 거의 불가능 합니다. \n",
    "우리는 이 문제를 함수를 통해 쉽게 해결 할 수 있습니다.\n",
    "\n",
    "같은 것을 함수 속에서 해봅시다."
   ]
  },
  {
   "cell_type": "code",
   "execution_count": 65,
   "id": "1bafac20-2fe5-4d88-bab8-898ce1b3898d",
   "metadata": {},
   "outputs": [
    {
     "data": {
      "text/html": [
       "<div class=\"data-frame\"><p>4 rows × 2 columns</p><table class=\"data-frame\"><thead><tr><th></th><th>name</th><th>grade_2020</th></tr><tr><th></th><th title=\"String\">String</th><th title=\"Float64\">Float64</th></tr></thead><tbody><tr><th>1</th><td>Sally</td><td>1.0</td></tr><tr><th>2</th><td>Bob</td><td>5.0</td></tr><tr><th>3</th><td>Alice</td><td>8.5</td></tr><tr><th>4</th><td>Hank</td><td>4.0</td></tr></tbody></table></div>"
      ],
      "text/latex": [
       "\\begin{tabular}{r|cc}\n",
       "\t& name & grade\\_2020\\\\\n",
       "\t\\hline\n",
       "\t& String & Float64\\\\\n",
       "\t\\hline\n",
       "\t1 & Sally & 1.0 \\\\\n",
       "\t2 & Bob & 5.0 \\\\\n",
       "\t3 & Alice & 8.5 \\\\\n",
       "\t4 & Hank & 4.0 \\\\\n",
       "\\end{tabular}\n"
      ],
      "text/plain": [
       "\u001b[1m4×2 DataFrame\u001b[0m\n",
       "\u001b[1m Row \u001b[0m│\u001b[1m name   \u001b[0m\u001b[1m grade_2020 \u001b[0m\n",
       "\u001b[1m     \u001b[0m│\u001b[90m String \u001b[0m\u001b[90m Float64    \u001b[0m\n",
       "─────┼────────────────────\n",
       "   1 │ Sally          1.0\n",
       "   2 │ Bob            5.0\n",
       "   3 │ Alice          8.5\n",
       "   4 │ Hank           4.0"
      ]
     },
     "execution_count": 65,
     "metadata": {},
     "output_type": "execute_result"
    }
   ],
   "source": [
    "function grades_2020()\n",
    "    name = [\"Sally\", \"Bob\", \"Alice\", \"Hank\"]\n",
    "    grade_2020 = [1, 5, 8.5, 4]\n",
    "    DataFrame(; name, grade_2020)\n",
    "end\n",
    "grades_2020()"
   ]
  },
  {
   "cell_type": "markdown",
   "id": "9a79daa0-ae0f-4b13-83b0-1963af25c445",
   "metadata": {},
   "source": [
    "`name`과 `grade_2020`은 함수값이 반환 되고 나서 사라집니다. 그들은 함수 안에서만 있습니다. 두가지 또 다른 장점이 있는데, 첫번째로는 `name`과 `grade_2020`이 어디에 있는지 독자에게 명확해 진다는 점입니다. 두번째로는 `grades_2020()`이 이 책에 어떤 포인트에서도 어떤 값을 반환할 지 쉽게 알 수 있다는 점입니다. 예를 들어 우리가 변수 `df`에 데이터를 집어 넣을 수 있습니다."
   ]
  },
  {
   "cell_type": "code",
   "execution_count": 66,
   "id": "abbebd08-5f98-4583-9bc2-57a8de136076",
   "metadata": {},
   "outputs": [
    {
     "data": {
      "text/html": [
       "<div class=\"data-frame\"><p>4 rows × 2 columns</p><table class=\"data-frame\"><thead><tr><th></th><th>name</th><th>grade_2020</th></tr><tr><th></th><th title=\"String\">String</th><th title=\"Float64\">Float64</th></tr></thead><tbody><tr><th>1</th><td>Sally</td><td>1.0</td></tr><tr><th>2</th><td>Bob</td><td>5.0</td></tr><tr><th>3</th><td>Alice</td><td>8.5</td></tr><tr><th>4</th><td>Hank</td><td>4.0</td></tr></tbody></table></div>"
      ],
      "text/latex": [
       "\\begin{tabular}{r|cc}\n",
       "\t& name & grade\\_2020\\\\\n",
       "\t\\hline\n",
       "\t& String & Float64\\\\\n",
       "\t\\hline\n",
       "\t1 & Sally & 1.0 \\\\\n",
       "\t2 & Bob & 5.0 \\\\\n",
       "\t3 & Alice & 8.5 \\\\\n",
       "\t4 & Hank & 4.0 \\\\\n",
       "\\end{tabular}\n"
      ],
      "text/plain": [
       "\u001b[1m4×2 DataFrame\u001b[0m\n",
       "\u001b[1m Row \u001b[0m│\u001b[1m name   \u001b[0m\u001b[1m grade_2020 \u001b[0m\n",
       "\u001b[1m     \u001b[0m│\u001b[90m String \u001b[0m\u001b[90m Float64    \u001b[0m\n",
       "─────┼────────────────────\n",
       "   1 │ Sally          1.0\n",
       "   2 │ Bob            5.0\n",
       "   3 │ Alice          8.5\n",
       "   4 │ Hank           4.0"
      ]
     },
     "execution_count": 66,
     "metadata": {},
     "output_type": "execute_result"
    }
   ],
   "source": [
    "df = grades_2020()"
   ]
  },
  {
   "cell_type": "markdown",
   "id": "32aa8bf4-5c08-41ee-a593-158825f8593a",
   "metadata": {},
   "source": [
    "`df`의 내용을 바꿔봅시다."
   ]
  },
  {
   "cell_type": "code",
   "execution_count": 67,
   "id": "5ff1c96d-28a2-476b-8235-43aa9af4171d",
   "metadata": {},
   "outputs": [
    {
     "data": {
      "text/html": [
       "<div class=\"data-frame\"><p>1 rows × 2 columns</p><table class=\"data-frame\"><thead><tr><th></th><th>name</th><th>grade_2020</th></tr><tr><th></th><th title=\"String\">String</th><th title=\"String\">String</th></tr></thead><tbody><tr><th>1</th><td>Malice</td><td>10</td></tr></tbody></table></div>"
      ],
      "text/latex": [
       "\\begin{tabular}{r|cc}\n",
       "\t& name & grade\\_2020\\\\\n",
       "\t\\hline\n",
       "\t& String & String\\\\\n",
       "\t\\hline\n",
       "\t1 & Malice & 10 \\\\\n",
       "\\end{tabular}\n"
      ],
      "text/plain": [
       "\u001b[1m1×2 DataFrame\u001b[0m\n",
       "\u001b[1m Row \u001b[0m│\u001b[1m name   \u001b[0m\u001b[1m grade_2020 \u001b[0m\n",
       "\u001b[1m     \u001b[0m│\u001b[90m String \u001b[0m\u001b[90m String     \u001b[0m\n",
       "─────┼────────────────────\n",
       "   1 │ Malice  10"
      ]
     },
     "execution_count": 67,
     "metadata": {},
     "output_type": "execute_result"
    }
   ],
   "source": [
    "df = DataFrame(name=[\"Malice\"], grade_2020 = [\"10\"])"
   ]
  },
  {
   "cell_type": "markdown",
   "id": "2dfa445a-65cc-4a6a-9a01-c523be7bdc3e",
   "metadata": {},
   "source": [
    "그리고 원래 데이터를 다시 확보하는 것은 문제없이 가능합니다."
   ]
  },
  {
   "cell_type": "code",
   "execution_count": 68,
   "id": "01dcc96a-7389-4e9a-8364-146c6ab95818",
   "metadata": {},
   "outputs": [
    {
     "data": {
      "text/html": [
       "<div class=\"data-frame\"><p>4 rows × 2 columns</p><table class=\"data-frame\"><thead><tr><th></th><th>name</th><th>grade_2020</th></tr><tr><th></th><th title=\"String\">String</th><th title=\"Float64\">Float64</th></tr></thead><tbody><tr><th>1</th><td>Sally</td><td>1.0</td></tr><tr><th>2</th><td>Bob</td><td>5.0</td></tr><tr><th>3</th><td>Alice</td><td>8.5</td></tr><tr><th>4</th><td>Hank</td><td>4.0</td></tr></tbody></table></div>"
      ],
      "text/latex": [
       "\\begin{tabular}{r|cc}\n",
       "\t& name & grade\\_2020\\\\\n",
       "\t\\hline\n",
       "\t& String & Float64\\\\\n",
       "\t\\hline\n",
       "\t1 & Sally & 1.0 \\\\\n",
       "\t2 & Bob & 5.0 \\\\\n",
       "\t3 & Alice & 8.5 \\\\\n",
       "\t4 & Hank & 4.0 \\\\\n",
       "\\end{tabular}\n"
      ],
      "text/plain": [
       "\u001b[1m4×2 DataFrame\u001b[0m\n",
       "\u001b[1m Row \u001b[0m│\u001b[1m name   \u001b[0m\u001b[1m grade_2020 \u001b[0m\n",
       "\u001b[1m     \u001b[0m│\u001b[90m String \u001b[0m\u001b[90m Float64    \u001b[0m\n",
       "─────┼────────────────────\n",
       "   1 │ Sally          1.0\n",
       "   2 │ Bob            5.0\n",
       "   3 │ Alice          8.5\n",
       "   4 │ Hank           4.0"
      ]
     },
     "execution_count": 68,
     "metadata": {},
     "output_type": "execute_result"
    }
   ],
   "source": [
    "df = grades_2020()"
   ]
  },
  {
   "cell_type": "markdown",
   "id": "02b734ef-4d9b-4bb5-bbf0-c4334556cee5",
   "metadata": {},
   "source": [
    "물론, 이 함수가 다시 정의되지 않는다는 가정이 있습니다. 우리는 이 책에서 그렇게 하지 않을 것을 약속합니다. 왜냐하면 이는 아주 나쁜 아이디어이기 때문입니다. 함수를 \"바꾸기\" 보다는 우리는 새로운 함ㅅ를 만들 것이고 명확한 이름을 부여할 것입니다.\n",
    "\n",
    "그러면 `DataFrames` 생성자로 돌아갑시다. 여러분들이 보셨다 시피, 데이터 프레임을 만들기 위해 간단하기 벡터들을 `DataFrame` 생성자에 인자로 전달하면 됩니다. **벡터가 같은 길이를 가지고 있는 한** 여러분은 어떤 줄리아 벡더라도 사용할 수 있습니다. 중복, 유니코드 심볼과 다른 종류의 숫자들도 괜찮습니다."
   ]
  },
  {
   "cell_type": "code",
   "execution_count": 69,
   "id": "7b858eed-4ccf-4fa8-bc92-f950b367ad38",
   "metadata": {},
   "outputs": [
    {
     "data": {
      "text/html": [
       "<div class=\"data-frame\"><p>3 rows × 2 columns</p><table class=\"data-frame\"><thead><tr><th></th><th>σ</th><th>δ</th></tr><tr><th></th><th title=\"String\">String</th><th title=\"Float64\">Float64</th></tr></thead><tbody><tr><th>1</th><td>a</td><td>3.14159</td></tr><tr><th>2</th><td>a</td><td>1.5708</td></tr><tr><th>3</th><td>a</td><td>1.0472</td></tr></tbody></table></div>"
      ],
      "text/latex": [
       "\\begin{tabular}{r|cc}\n",
       "\t& σ & δ\\\\\n",
       "\t\\hline\n",
       "\t& String & Float64\\\\\n",
       "\t\\hline\n",
       "\t1 & a & 3.14159 \\\\\n",
       "\t2 & a & 1.5708 \\\\\n",
       "\t3 & a & 1.0472 \\\\\n",
       "\\end{tabular}\n"
      ],
      "text/plain": [
       "\u001b[1m3×2 DataFrame\u001b[0m\n",
       "\u001b[1m Row \u001b[0m│\u001b[1m σ      \u001b[0m\u001b[1m δ       \u001b[0m\n",
       "\u001b[1m     \u001b[0m│\u001b[90m String \u001b[0m\u001b[90m Float64 \u001b[0m\n",
       "─────┼─────────────────\n",
       "   1 │ a       3.14159\n",
       "   2 │ a       1.5708\n",
       "   3 │ a       1.0472"
      ]
     },
     "execution_count": 69,
     "metadata": {},
     "output_type": "execute_result"
    }
   ],
   "source": [
    "DataFrame(σ = [\"a\", \"a\", \"a\"], δ=[π, π/2, π/3])"
   ]
  },
  {
   "cell_type": "markdown",
   "id": "afbf5144-7038-491f-a8fe-6e7c7c72aa52",
   "metadata": {},
   "source": [
    "보통, 당신의 코드에서, 당신은 하나 이상의 `DataFrame` 함수들을 포함하고 있는 함수를 만들고자 할 것입니다. 예를 들어 우리는 하나 하하나 이상의 `names`의 등급을 갖는 함수를 만들 수 있습니다."
   ]
  },
  {
   "cell_type": "code",
   "execution_count": 70,
   "id": "78b1deb2-1ea9-4cf4-9582-21d1568620f9",
   "metadata": {},
   "outputs": [
    {
     "data": {
      "text/html": [
       "<div class=\"data-frame\"><p>2 rows × 2 columns</p><table class=\"data-frame\"><thead><tr><th></th><th>name</th><th>grade_2020</th></tr><tr><th></th><th title=\"String\">String</th><th title=\"Float64\">Float64</th></tr></thead><tbody><tr><th>1</th><td>Alice</td><td>8.5</td></tr><tr><th>2</th><td>Hank</td><td>4.0</td></tr></tbody></table></div>"
      ],
      "text/latex": [
       "\\begin{tabular}{r|cc}\n",
       "\t& name & grade\\_2020\\\\\n",
       "\t\\hline\n",
       "\t& String & Float64\\\\\n",
       "\t\\hline\n",
       "\t1 & Alice & 8.5 \\\\\n",
       "\t2 & Hank & 4.0 \\\\\n",
       "\\end{tabular}\n"
      ],
      "text/plain": [
       "\u001b[1m2×2 DataFrame\u001b[0m\n",
       "\u001b[1m Row \u001b[0m│\u001b[1m name   \u001b[0m\u001b[1m grade_2020 \u001b[0m\n",
       "\u001b[1m     \u001b[0m│\u001b[90m String \u001b[0m\u001b[90m Float64    \u001b[0m\n",
       "─────┼────────────────────\n",
       "   1 │ Alice          8.5\n",
       "   2 │ Hank           4.0"
      ]
     },
     "execution_count": 70,
     "metadata": {},
     "output_type": "execute_result"
    }
   ],
   "source": [
    "function grades_2020(names::Vector{Int})\n",
    "    df = grades_2020()\n",
    "    df[names, :]\n",
    "end\n",
    "grades_2020([3, 4])"
   ]
  },
  {
   "cell_type": "markdown",
   "id": "0f3dafb8-8e2d-4fdc-8967-0d4cc58ad2b8",
   "metadata": {},
   "source": [
    "이렇게 함수롤 기본 프로그램의 기능과 패키지를 감싸는 것은 아주 일반적입니다. 기본적으로 줄리아와 `DataFrames.jl`을 벽돌을 공그해주는 것이라고 생각할 수 있습니다. 그들은 아주 **일반적인** 벽돌을 공급해서 당신의 아주 **구체적인** 사례에 필요한 것들을 만들 수 있게 해줍니다. 벽돌을 사용해서 당신은 데이터 분석 스크립트를 만들 수 있고, 로봇을 컨트롤 한다거나, 당신이 만들고 싶은 것을 만들 수 있습니다.\n",
    "\n",
    "지금까지의 예제들은 상당히 진부했습니다. 왜냐하면 우리는 인덱스를 사용해야 했기 때문입니다. 다음 섹션 부터, 우리는 어떻게 데이터를 불러오고 저장할 수 있는지 볼 것이며 `DataFrames.jl`이 제공하는 많은 강력한 벽돌을 보여주고자 합니다."
   ]
  },
  {
   "cell_type": "markdown",
   "id": "4fa9791d-974c-442e-acbf-8ee82aedc198",
   "metadata": {},
   "source": [
    "## 4.1 파일 저장과 불러오기\n",
    "\n",
    "줄리아 프로그램 안에서만 데이터를 가질 수 있고 불러오거나 저장할 수 없다면 아주 제한적으로만 사용할 수 있을 것입니다. 그러므로 우리는 어떻게 파일을 저장하고 디스크로부터 읽어올 수 있는지 언급하고자 합니다. 우리는 테이블 형식의 데이터를 보관하는 가장 일반적인 형식인 CSV(섹션 [4.1.1]())와 엑셀(섹션 [4.1.2]()) 파일 포맷에 집중하고자 합니다."
   ]
  },
  {
   "cell_type": "markdown",
   "id": "1437e1ee-903f-4c73-80ca-ecc661e86d38",
   "metadata": {},
   "source": [
    "### 4.1.1 CSV\n",
    "\n",
    "Comma-Separated Values(CSV) 파일은 테이블을 저장하기에 아주 효과적인 방법입니다. CSV파일은 다른 데이터 저장 파일보다 두가지 나은 점이 있습니다. 첫 번째는 컴마로 나눠서 값을 분리한다는 이름이 바로 이것이 무엇을 하는지 정확히 보여준다는 점입니다. 이 두문자는 파일 확장자로도 사용됩니다. 그렇기 때문에 파일을 저장할 때 \"myfile.csv\"와 같이 \".csv\" 확장자를 써야 합니다. CSV파일이 어떻게 생겼는지 보여주기 위해, 우리는 `CSV.jl`패키지를 인스톨 할 수 있습니다.\n",
    "\n",
    "```julia\n",
    "julia> ]\n",
    "\n",
    "pkg> add CSV\n",
    "```\n",
    "\n",
    "그리고 다음과 같이 패키지를 불러옵니다."
   ]
  },
  {
   "cell_type": "code",
   "execution_count": 71,
   "id": "58c579bb-dce5-43c9-8adf-8489a2ed1bc1",
   "metadata": {},
   "outputs": [],
   "source": [
    "using CSV"
   ]
  },
  {
   "cell_type": "markdown",
   "id": "2a2d03bc-69b3-45a9-9c9f-33ad8b100102",
   "metadata": {},
   "source": [
    "우리는 이전 데이터를 사용할 수 있습니다."
   ]
  },
  {
   "cell_type": "code",
   "execution_count": 72,
   "id": "cbbb27c2-0184-44e0-aec3-b3622a9c4ab1",
   "metadata": {},
   "outputs": [
    {
     "data": {
      "text/html": [
       "<div class=\"data-frame\"><p>4 rows × 2 columns</p><table class=\"data-frame\"><thead><tr><th></th><th>name</th><th>grade_2020</th></tr><tr><th></th><th title=\"String\">String</th><th title=\"Float64\">Float64</th></tr></thead><tbody><tr><th>1</th><td>Sally</td><td>1.0</td></tr><tr><th>2</th><td>Bob</td><td>5.0</td></tr><tr><th>3</th><td>Alice</td><td>8.5</td></tr><tr><th>4</th><td>Hank</td><td>4.0</td></tr></tbody></table></div>"
      ],
      "text/latex": [
       "\\begin{tabular}{r|cc}\n",
       "\t& name & grade\\_2020\\\\\n",
       "\t\\hline\n",
       "\t& String & Float64\\\\\n",
       "\t\\hline\n",
       "\t1 & Sally & 1.0 \\\\\n",
       "\t2 & Bob & 5.0 \\\\\n",
       "\t3 & Alice & 8.5 \\\\\n",
       "\t4 & Hank & 4.0 \\\\\n",
       "\\end{tabular}\n"
      ],
      "text/plain": [
       "\u001b[1m4×2 DataFrame\u001b[0m\n",
       "\u001b[1m Row \u001b[0m│\u001b[1m name   \u001b[0m\u001b[1m grade_2020 \u001b[0m\n",
       "\u001b[1m     \u001b[0m│\u001b[90m String \u001b[0m\u001b[90m Float64    \u001b[0m\n",
       "─────┼────────────────────\n",
       "   1 │ Sally          1.0\n",
       "   2 │ Bob            5.0\n",
       "   3 │ Alice          8.5\n",
       "   4 │ Hank           4.0"
      ]
     },
     "execution_count": 72,
     "metadata": {},
     "output_type": "execute_result"
    }
   ],
   "source": [
    "grades_2020()"
   ]
  },
  {
   "cell_type": "markdown",
   "id": "49caef9f-b64f-4273-8e09-007938731255",
   "metadata": {},
   "source": [
    "그리고 이 데이터를 파일로 만들고 다시 불러올 수 있습니다."
   ]
  },
  {
   "cell_type": "code",
   "execution_count": 73,
   "id": "2e0f71a1-7ffe-4731-8cd1-b4b3b0f6e85a",
   "metadata": {},
   "outputs": [
    {
     "data": {
      "text/plain": [
       "write_grades_csv (generic function with 1 method)"
      ]
     },
     "execution_count": 73,
     "metadata": {},
     "output_type": "execute_result"
    }
   ],
   "source": [
    "function write_grades_csv()\n",
    "    path = \"grades.csv\"\n",
    "    CSV.write(path, grades_2020())\n",
    "end"
   ]
  },
  {
   "cell_type": "code",
   "execution_count": 74,
   "id": "53b749f8-ae9e-4c8b-bd88-ed88bd7b9de5",
   "metadata": {},
   "outputs": [
    {
     "data": {
      "text/plain": [
       "\"name,grade_2020\\nSally,1.0\\nBob,5.0\\nAlice,8.5\\nHank,4.0\\n\""
      ]
     },
     "execution_count": 74,
     "metadata": {},
     "output_type": "execute_result"
    }
   ],
   "source": [
    "path = write_grades_csv()\n",
    "read(path, String)"
   ]
  },
  {
   "cell_type": "markdown",
   "id": "7091175b-1020-41bc-b07e-41b2089c7632",
   "metadata": {
    "tags": []
   },
   "source": [
    "여기서 우리는 두번째 CSV파일 형식의 장점을 볼 수 있습니다. 간단한 텍스트 에디터를 사용해서 데이터를 읽을 수 있습니다. 이 점은 많은 다른 대안적인 데이터 형식과 다른 점입니다. 다른 데이터 형식은 보통 엑셀과 같이 특정 소프트웨어가 필요하기 때문입니다.\n",
    "\n",
    "이것은 놀랍게 작동합니다. 하지만 만약 우리 데이터가 **컴마`,`를 데이터로 포함한다면** 어떻게 될까요? 만약 우리가 그냥 컴마를 사용해서 데이터를 작성한다면, 다시 테이블 형식으로 되돌리기가 아주 어려울 것입니다.\n",
    "다행히도 `CSV.jl`은 이런 문제를 자동으로 해결해 줍니다. 다음과 같이 컴마`,`가 있는 데이터를 생각해 봅시다."
   ]
  },
  {
   "cell_type": "code",
   "execution_count": 75,
   "id": "acf87fb5-9b1e-48fe-92eb-1c1debc9e07d",
   "metadata": {},
   "outputs": [
    {
     "data": {
      "text/html": [
       "<div class=\"data-frame\"><p>4 rows × 2 columns</p><table class=\"data-frame\"><thead><tr><th></th><th>name</th><th>grade_2020</th></tr><tr><th></th><th title=\"String\">String</th><th title=\"Float64\">Float64</th></tr></thead><tbody><tr><th>1</th><td>Sally</td><td>1.0</td></tr><tr><th>2</th><td>Bob</td><td>5.0</td></tr><tr><th>3</th><td>Alice,</td><td>8.5</td></tr><tr><th>4</th><td>Hank</td><td>4.0</td></tr></tbody></table></div>"
      ],
      "text/latex": [
       "\\begin{tabular}{r|cc}\n",
       "\t& name & grade\\_2020\\\\\n",
       "\t\\hline\n",
       "\t& String & Float64\\\\\n",
       "\t\\hline\n",
       "\t1 & Sally & 1.0 \\\\\n",
       "\t2 & Bob & 5.0 \\\\\n",
       "\t3 & Alice, & 8.5 \\\\\n",
       "\t4 & Hank & 4.0 \\\\\n",
       "\\end{tabular}\n"
      ],
      "text/plain": [
       "\u001b[1m4×2 DataFrame\u001b[0m\n",
       "\u001b[1m Row \u001b[0m│\u001b[1m name   \u001b[0m\u001b[1m grade_2020 \u001b[0m\n",
       "\u001b[1m     \u001b[0m│\u001b[90m String \u001b[0m\u001b[90m Float64    \u001b[0m\n",
       "─────┼────────────────────\n",
       "   1 │ Sally          1.0\n",
       "   2 │ Bob            5.0\n",
       "   3 │ Alice,         8.5\n",
       "   4 │ Hank           4.0"
      ]
     },
     "execution_count": 75,
     "metadata": {},
     "output_type": "execute_result"
    }
   ],
   "source": [
    "function grades_with_commas()\n",
    "    df = grades_2020()\n",
    "    df[3, :name] = \"Alice,\"\n",
    "    df\n",
    "end\n",
    "\n",
    "grades_with_commas()"
   ]
  },
  {
   "cell_type": "markdown",
   "id": "cdbc03d3-eb88-4dc8-8da3-eb8e7bdc9c10",
   "metadata": {},
   "source": [
    "이것을 파일로 쓰면 우리는 아래와 같은 결과를 얻습니다."
   ]
  },
  {
   "cell_type": "code",
   "execution_count": 76,
   "id": "1173eeb7-e045-43a7-9c7a-b25e63ab7e39",
   "metadata": {},
   "outputs": [
    {
     "data": {
      "text/plain": [
       "\"name,grade_2020\\nSally,1.0\\nBob,5.0\\n\\\"Alice,\\\",8.5\\nHank,4.0\\n\""
      ]
     },
     "execution_count": 76,
     "metadata": {},
     "output_type": "execute_result"
    }
   ],
   "source": [
    "function write_comma_csv()\n",
    "    path = \"grades-commas.csv\"\n",
    "    CSV.write(path, grades_with_commas())\n",
    "end\n",
    "path = write_comma_csv()\n",
    "read(path, String)"
   ]
  },
  {
   "cell_type": "markdown",
   "id": "57bb9078-831c-4b8c-81f2-7dee35645ee2",
   "metadata": {},
   "source": [
    "`CSV.jl`은 컴마`,`를 포함한 값에는 쌍따옴표`\"`를 추가합니다. 이 문제를 해결할 또 다른 방법은 데이터를 탭 분할 값(Tab-Separated Values, TSV)파일 형식으로 작성하는 것입니다. 이것은 데이터는 탭을 포함하고 있지 않다는 가정에 기반하고 있으며 대부분의 경우에는 맞아 떨어집니다.\n",
    "\n",
    "TSV파일 또한 기본적인 텍스트 에디터에서 읽을 수 있으며 \".tsv\"라는 확장자를 사용합니다."
   ]
  },
  {
   "cell_type": "code",
   "execution_count": 77,
   "id": "e995f610-4208-4f0a-b60d-04eb655ae2c0",
   "metadata": {},
   "outputs": [
    {
     "data": {
      "text/plain": [
       "\"name\\tgrade_2020\\nSally\\t1.0\\nBob\\t5.0\\nAlice,\\t8.5\\nHank\\t4.0\\n\""
      ]
     },
     "execution_count": 77,
     "metadata": {},
     "output_type": "execute_result"
    }
   ],
   "source": [
    "function write_comma_tsv()\n",
    "    path = \"grades-comma.tsv\"\n",
    "    CSV.write(path, grades_with_commas(); delim='\\t')\n",
    "end\n",
    "read(write_comma_tsv(), String)"
   ]
  },
  {
   "cell_type": "markdown",
   "id": "d2aa30e5-f170-4bd7-b9cf-3e900d0559e0",
   "metadata": {},
   "source": [
    "CSV나 TSV와 같은 텍스트 파일 포맷 중에서 세미콜론\";\" 이나 공백 \" ,\" 또는 \"$\\pi$\"와 같이 특별한 것도 있습니다."
   ]
  },
  {
   "cell_type": "code",
   "execution_count": 78,
   "id": "34de9aa4-9a87-4aed-bf7d-4e15d878676e",
   "metadata": {},
   "outputs": [
    {
     "data": {
      "text/plain": [
       "\"name grade_2020\\nSally 1.0\\nBob 5.0\\nAlice 8.5\\nHank 4.0\\n\""
      ]
     },
     "execution_count": 78,
     "metadata": {},
     "output_type": "execute_result"
    }
   ],
   "source": [
    "function write_space_separated()\n",
    "    path = \"grades-space-separated.csv\"\n",
    "    CSV.write(path, grades_2020(); delim=' ')\n",
    "end\n",
    "read(write_space_separated(), String)"
   ]
  },
  {
   "cell_type": "markdown",
   "id": "c2ea68f1-85dc-4537-8789-6cf50766b6d0",
   "metadata": {},
   "source": [
    "규약에 따라, \";\"와 같이 특별한 분할자를 \".csv\"확장자에 사용하는 것이 최선입니다.\n",
    "\n",
    "`CSV.jl`을 사용해서 CSV파일을 읽는 것도 비슷한 방식으로 할 수 있습니다. `CSV.read`를 사용할 수 있으며 원하는 아웃풋 포맷을  지정할 수 있습니다. 우리는 `DataFrame`으로 명시합니다."
   ]
  },
  {
   "cell_type": "code",
   "execution_count": 79,
   "id": "46be17fc-765a-47ec-9fc2-4927f462424e",
   "metadata": {},
   "outputs": [
    {
     "data": {
      "text/html": [
       "<div class=\"data-frame\"><p>4 rows × 2 columns</p><table class=\"data-frame\"><thead><tr><th></th><th>name</th><th>grade_2020</th></tr><tr><th></th><th title=\"String7\">String7</th><th title=\"Float64\">Float64</th></tr></thead><tbody><tr><th>1</th><td>Sally</td><td>1.0</td></tr><tr><th>2</th><td>Bob</td><td>5.0</td></tr><tr><th>3</th><td>Alice</td><td>8.5</td></tr><tr><th>4</th><td>Hank</td><td>4.0</td></tr></tbody></table></div>"
      ],
      "text/latex": [
       "\\begin{tabular}{r|cc}\n",
       "\t& name & grade\\_2020\\\\\n",
       "\t\\hline\n",
       "\t& String7 & Float64\\\\\n",
       "\t\\hline\n",
       "\t1 & Sally & 1.0 \\\\\n",
       "\t2 & Bob & 5.0 \\\\\n",
       "\t3 & Alice & 8.5 \\\\\n",
       "\t4 & Hank & 4.0 \\\\\n",
       "\\end{tabular}\n"
      ],
      "text/plain": [
       "\u001b[1m4×2 DataFrame\u001b[0m\n",
       "\u001b[1m Row \u001b[0m│\u001b[1m name    \u001b[0m\u001b[1m grade_2020 \u001b[0m\n",
       "\u001b[1m     \u001b[0m│\u001b[90m String7 \u001b[0m\u001b[90m Float64    \u001b[0m\n",
       "─────┼─────────────────────\n",
       "   1 │ Sally           1.0\n",
       "   2 │ Bob             5.0\n",
       "   3 │ Alice           8.5\n",
       "   4 │ Hank            4.0"
      ]
     },
     "execution_count": 79,
     "metadata": {},
     "output_type": "execute_result"
    }
   ],
   "source": [
    "path = write_grades_csv()\n",
    "CSV.read(path, DataFrame)"
   ]
  },
  {
   "cell_type": "markdown",
   "id": "9f171b84-67cc-422b-b4f1-b431f46635a9",
   "metadata": {},
   "source": [
    "편리하게도, `CSV.jl`은 자동으로 컬럼의 타입을 추론해줍니다."
   ]
  },
  {
   "cell_type": "code",
   "execution_count": 80,
   "id": "f3977915-7004-4a71-a2b3-624cd728d64d",
   "metadata": {},
   "outputs": [
    {
     "data": {
      "text/html": [
       "<div class=\"data-frame\"><p>4 rows × 2 columns</p><table class=\"data-frame\"><thead><tr><th></th><th>name</th><th>grade_2020</th></tr><tr><th></th><th title=\"String7\">String7</th><th title=\"Float64\">Float64</th></tr></thead><tbody><tr><th>1</th><td>Sally</td><td>1.0</td></tr><tr><th>2</th><td>Bob</td><td>5.0</td></tr><tr><th>3</th><td>Alice</td><td>8.5</td></tr><tr><th>4</th><td>Hank</td><td>4.0</td></tr></tbody></table></div>"
      ],
      "text/latex": [
       "\\begin{tabular}{r|cc}\n",
       "\t& name & grade\\_2020\\\\\n",
       "\t\\hline\n",
       "\t& String7 & Float64\\\\\n",
       "\t\\hline\n",
       "\t1 & Sally & 1.0 \\\\\n",
       "\t2 & Bob & 5.0 \\\\\n",
       "\t3 & Alice & 8.5 \\\\\n",
       "\t4 & Hank & 4.0 \\\\\n",
       "\\end{tabular}\n"
      ],
      "text/plain": [
       "\u001b[1m4×2 DataFrame\u001b[0m\n",
       "\u001b[1m Row \u001b[0m│\u001b[1m name    \u001b[0m\u001b[1m grade_2020 \u001b[0m\n",
       "\u001b[1m     \u001b[0m│\u001b[90m String7 \u001b[0m\u001b[90m Float64    \u001b[0m\n",
       "─────┼─────────────────────\n",
       "   1 │ Sally           1.0\n",
       "   2 │ Bob             5.0\n",
       "   3 │ Alice           8.5\n",
       "   4 │ Hank            4.0"
      ]
     },
     "execution_count": 80,
     "metadata": {},
     "output_type": "execute_result"
    }
   ],
   "source": [
    "path = write_grades_csv()\n",
    "df = CSV.read(path, DataFrame)"
   ]
  },
  {
   "cell_type": "markdown",
   "id": "b211882d-e3b1-4851-9a73-a770f9bf3205",
   "metadata": {},
   "source": [
    "이것은 훨씬 복잡한 데이터에도 작동합니다."
   ]
  },
  {
   "cell_type": "code",
   "execution_count": 81,
   "id": "10010f66-f4f6-4c5a-b926-0c253bdbe84a",
   "metadata": {},
   "outputs": [
    {
     "data": {
      "text/html": [
       "<div class=\"data-frame\"><p>1 rows × 5 columns</p><table class=\"data-frame\"><thead><tr><th></th><th>a</th><th>b</th><th>c</th><th>d</th><th>e</th></tr><tr><th></th><th title=\"String3\">String3</th><th title=\"Dates.Date\">Date…</th><th title=\"Int64\">Int64</th><th title=\"Float64\">Float64</th><th title=\"Dates.DateTime\">DateTim…</th></tr></thead><tbody><tr><th>1</th><td>Kim</td><td>2018-02-03</td><td>3</td><td>4.0</td><td>2018-02-03T10:00:00</td></tr></tbody></table></div>"
      ],
      "text/latex": [
       "\\begin{tabular}{r|ccccc}\n",
       "\t& a & b & c & d & e\\\\\n",
       "\t\\hline\n",
       "\t& String3 & Date… & Int64 & Float64 & DateTim…\\\\\n",
       "\t\\hline\n",
       "\t1 & Kim & 2018-02-03 & 3 & 4.0 & 2018-02-03T10:00:00 \\\\\n",
       "\\end{tabular}\n"
      ],
      "text/plain": [
       "\u001b[1m1×5 DataFrame\u001b[0m\n",
       "\u001b[1m Row \u001b[0m│\u001b[1m a       \u001b[0m\u001b[1m b          \u001b[0m\u001b[1m c     \u001b[0m\u001b[1m d       \u001b[0m\u001b[1m e                   \u001b[0m\n",
       "\u001b[1m     \u001b[0m│\u001b[90m String3 \u001b[0m\u001b[90m Date…      \u001b[0m\u001b[90m Int64 \u001b[0m\u001b[90m Float64 \u001b[0m\u001b[90m DateTime…           \u001b[0m\n",
       "─────┼──────────────────────────────────────────────────────────\n",
       "   1 │ Kim      2018-02-03      3      4.0  2018-02-03T10:00:00"
      ]
     },
     "execution_count": 81,
     "metadata": {},
     "output_type": "execute_result"
    }
   ],
   "source": [
    "my_data = \"\"\"\n",
    "    a,b,c,d,e\n",
    "    Kim,2018-02-03,3,4.0,2018-02-03T10:00\n",
    "    \"\"\"\n",
    "path = \"my_data.csv\"\n",
    "write(path, my_data)\n",
    "df = CSV.read(path, DataFrame)"
   ]
  },
  {
   "cell_type": "markdown",
   "id": "dd4d93b5-f1e4-4f25-81f0-cf2feb9fc313",
   "metadata": {},
   "source": [
    "이런 CSV 기초는 더 많은 사례를 커버해야 합니다. 더 많은 정보를 원하시면, `CSV.jl` [문서]()를 보시면 됩니다. 특히 `CSV.File` [생성자 문서]()보세요."
   ]
  },
  {
   "cell_type": "markdown",
   "id": "7ced5088-867a-46ba-b825-a6c44c1c49f0",
   "metadata": {},
   "source": [
    "### 4.1.2. 엑셀\n",
    "\n",
    "엑셀 파일을 읽어오는 복수의 줄리아 패키지가 있습니다. 이 책에서 우리는 `XLSX.jl`만 다룹니다. 왜냐하면 줄리아 생태계에서 엑셀 데이터를 다루는 가장 활발하게 유지보수가 되고 있는 패키지 이기 때문입니다. 두번째 이익은 `XLSX.jl`은 순수하게 줄리아로만 작성되어 있어서, 우리가 내부에서 어떻게 돌아가는지 조사하고 이해하기 쉽기 때문입니다.\n",
    "\n",
    "`XLSX.jl`를 다음과 같이 불러옵니다."
   ]
  },
  {
   "cell_type": "code",
   "execution_count": 82,
   "id": "5c3e166b-8c42-4ee0-b555-0713e9f31640",
   "metadata": {},
   "outputs": [
    {
     "name": "stderr",
     "output_type": "stream",
     "text": [
      "\u001b[32m\u001b[1m   Resolving\u001b[22m\u001b[39m package versions...\n",
      "\u001b[32m\u001b[1m  No Changes\u001b[22m\u001b[39m to `~/NotebooksforDataScience/docs/julia/Project.toml`\n",
      "\u001b[32m\u001b[1m  No Changes\u001b[22m\u001b[39m to `~/NotebooksforDataScience/docs/julia/Manifest.toml`\n"
     ]
    }
   ],
   "source": [
    "using Pkg\n",
    "Pkg.add(\"XLSX\")"
   ]
  },
  {
   "cell_type": "code",
   "execution_count": 83,
   "id": "5f2127a7-b101-4145-98a5-53ba392d19af",
   "metadata": {},
   "outputs": [],
   "source": [
    "using XLSX:\n",
    "    eachtablerow,\n",
    "    readxlsx,\n",
    "    writetable"
   ]
  },
  {
   "cell_type": "markdown",
   "id": "8bd3f10c-ae68-4402-b53d-4d66f9b8bc8c",
   "metadata": {},
   "source": [
    "파일을 쓰기 위해서, 우리는 데이터와 컬럼 이름을 위한 작은 헬퍼 함수를 정의합니다."
   ]
  },
  {
   "cell_type": "code",
   "execution_count": 84,
   "id": "69b936dc-53a8-4c94-8eba-f60e4137e8d6",
   "metadata": {},
   "outputs": [
    {
     "data": {
      "text/plain": [
       "write_xlsx (generic function with 1 method)"
      ]
     },
     "execution_count": 84,
     "metadata": {},
     "output_type": "execute_result"
    }
   ],
   "source": [
    "function write_xlsx(name, df::DataFrame)\n",
    "    path = \"$name.xlsx\"\n",
    "    data = collect(eachcol(df))\n",
    "    cols = DataFrames.names(df)\n",
    "    writetable(path, data, cols)\n",
    "end"
   ]
  },
  {
   "cell_type": "markdown",
   "id": "e222159c-a2fe-41ff-b084-3f157f5ba2be",
   "metadata": {},
   "source": [
    "이제 우리는 쉽게 grades를 엑셀 파일로 작성 할 수 있습니다."
   ]
  },
  {
   "cell_type": "code",
   "execution_count": 85,
   "id": "57351ca8-8844-42b6-b612-d1c099639c2b",
   "metadata": {},
   "outputs": [
    {
     "data": {
      "text/plain": [
       "write_grades_xlsx (generic function with 1 method)"
      ]
     },
     "execution_count": 85,
     "metadata": {},
     "output_type": "execute_result"
    }
   ],
   "source": [
    "function write_grades_xlsx()\n",
    "    path = \"grades\"\n",
    "    write_xlsx(path, grades_2020())\n",
    "    \"$path.xlsx\"\n",
    "end"
   ]
  },
  {
   "cell_type": "markdown",
   "id": "6295bb47-39dc-4a81-80da-d17bf7fa23e0",
   "metadata": {
    "tags": []
   },
   "source": [
    "이것을 다시 읽을 때, 우리는 `XLSX.jl`가 데이터를 `XLSXFile` 타입으로 하고 우리가 원하는 `sheet`를 `Dict`처럼 접근할 수 있습니다."
   ]
  },
  {
   "cell_type": "code",
   "execution_count": 86,
   "id": "59429f18-e54f-4a03-b0b6-15dd7a1987e5",
   "metadata": {},
   "outputs": [
    {
     "ename": "LoadError",
     "evalue": "AssertionError: grades.xlsx already exists.",
     "output_type": "error",
     "traceback": [
      "AssertionError: grades.xlsx already exists.",
      "",
      "Stacktrace:",
      " [1] writetable(filename::String, data::Vector{AbstractVector{T} where T}, columnnames::Vector{String}; overwrite::Bool, sheetname::String, anchor_cell::XLSX.CellRef)",
      "   @ XLSX ~/.julia/packages/XLSX/tCUe6/src/write.jl:594",
      " [2] writetable",
      "   @ ~/.julia/packages/XLSX/tCUe6/src/write.jl:593 [inlined]",
      " [3] write_xlsx(name::String, df::DataFrame)",
      "   @ Main ./In[84]:5",
      " [4] write_grades_xlsx()",
      "   @ Main ./In[85]:3",
      " [5] top-level scope",
      "   @ In[86]:1",
      " [6] eval",
      "   @ ./boot.jl:360 [inlined]",
      " [7] include_string(mapexpr::typeof(REPL.softscope), mod::Module, code::String, filename::String)",
      "   @ Base ./loading.jl:1116"
     ]
    }
   ],
   "source": [
    "path = write_grades_xlsx()\n",
    "xf = readxlsx(path)"
   ]
  },
  {
   "cell_type": "code",
   "execution_count": 87,
   "id": "5f79d74c-fd44-40d6-99a8-98fcb330e5de",
   "metadata": {},
   "outputs": [
    {
     "ename": "LoadError",
     "evalue": "AssertionError: grades.xlsx already exists.",
     "output_type": "error",
     "traceback": [
      "AssertionError: grades.xlsx already exists.",
      "",
      "Stacktrace:",
      " [1] writetable(filename::String, data::Vector{AbstractVector{T} where T}, columnnames::Vector{String}; overwrite::Bool, sheetname::String, anchor_cell::XLSX.CellRef)",
      "   @ XLSX ~/.julia/packages/XLSX/tCUe6/src/write.jl:594",
      " [2] writetable",
      "   @ ~/.julia/packages/XLSX/tCUe6/src/write.jl:593 [inlined]",
      " [3] write_xlsx(name::String, df::DataFrame)",
      "   @ Main ./In[84]:5",
      " [4] write_grades_xlsx()",
      "   @ Main ./In[85]:3",
      " [5] top-level scope",
      "   @ In[87]:1",
      " [6] eval",
      "   @ ./boot.jl:360 [inlined]",
      " [7] include_string(mapexpr::typeof(REPL.softscope), mod::Module, code::String, filename::String)",
      "   @ Base ./loading.jl:1116"
     ]
    }
   ],
   "source": [
    "xf = readxlsx(write_grades_xlsx())\n",
    "sheet = xf[\"Sheet1\"]\n",
    "eachtablerow(sheet) |> DataFrame"
   ]
  },
  {
   "cell_type": "markdown",
   "id": "36ae76d0-f6be-48a0-ae62-84c5f211ba09",
   "metadata": {},
   "source": [
    "우리는 `XlSX.jl`의 기초만 다뤘을 뿐입니다. 더 강력하고 유용한 것들이 있습니다. 더 많은 정보와 옵션을 보려면 `XlSX.jl`[문서]()를 찾아보세요."
   ]
  },
  {
   "cell_type": "markdown",
   "id": "701c0996-0e71-4aa0-b21b-f27845c6474a",
   "metadata": {},
   "source": [
    "## 4.2. 인덱싱과 요약\n",
    "\n",
    "그러면 다시 `grades_2020()`예제로 돌아가 봅시다."
   ]
  },
  {
   "cell_type": "code",
   "execution_count": 88,
   "id": "6d648fbd-801d-4340-8dd7-5540148eab8a",
   "metadata": {},
   "outputs": [
    {
     "data": {
      "text/html": [
       "<div class=\"data-frame\"><p>4 rows × 2 columns</p><table class=\"data-frame\"><thead><tr><th></th><th>name</th><th>grade_2020</th></tr><tr><th></th><th title=\"String\">String</th><th title=\"Float64\">Float64</th></tr></thead><tbody><tr><th>1</th><td>Sally</td><td>1.0</td></tr><tr><th>2</th><td>Bob</td><td>5.0</td></tr><tr><th>3</th><td>Alice</td><td>8.5</td></tr><tr><th>4</th><td>Hank</td><td>4.0</td></tr></tbody></table></div>"
      ],
      "text/latex": [
       "\\begin{tabular}{r|cc}\n",
       "\t& name & grade\\_2020\\\\\n",
       "\t\\hline\n",
       "\t& String & Float64\\\\\n",
       "\t\\hline\n",
       "\t1 & Sally & 1.0 \\\\\n",
       "\t2 & Bob & 5.0 \\\\\n",
       "\t3 & Alice & 8.5 \\\\\n",
       "\t4 & Hank & 4.0 \\\\\n",
       "\\end{tabular}\n"
      ],
      "text/plain": [
       "\u001b[1m4×2 DataFrame\u001b[0m\n",
       "\u001b[1m Row \u001b[0m│\u001b[1m name   \u001b[0m\u001b[1m grade_2020 \u001b[0m\n",
       "\u001b[1m     \u001b[0m│\u001b[90m String \u001b[0m\u001b[90m Float64    \u001b[0m\n",
       "─────┼────────────────────\n",
       "   1 │ Sally          1.0\n",
       "   2 │ Bob            5.0\n",
       "   3 │ Alice          8.5\n",
       "   4 │ Hank           4.0"
      ]
     },
     "execution_count": 88,
     "metadata": {},
     "output_type": "execute_result"
    }
   ],
   "source": [
    "grades_2020()"
   ]
  },
  {
   "cell_type": "markdown",
   "id": "68c3bb03-3a37-47a6-b197-b300f18dc429",
   "metadata": {},
   "source": [
    "`name`의 **벡터**를 얻으려면, 우리는 `DataFrame`을 `.`으로 접근할 수 있습니다 우리가 섹션 [3]()에서의 `struct`처럼 말이죠."
   ]
  },
  {
   "cell_type": "code",
   "execution_count": 89,
   "id": "18c3580c-4491-41e2-bf1a-a4d61516f638",
   "metadata": {},
   "outputs": [
    {
     "data": {
      "text/plain": [
       "4-element Vector{String}:\n",
       " \"Sally\"\n",
       " \"Bob\"\n",
       " \"Alice\"\n",
       " \"Hank\""
      ]
     },
     "execution_count": 89,
     "metadata": {},
     "output_type": "execute_result"
    }
   ],
   "source": [
    "function names_grades1()\n",
    "    df = grades_2020()\n",
    "    df.name\n",
    "end\n",
    "names_grades1()"
   ]
  },
  {
   "cell_type": "markdown",
   "id": "ef5d721e-1a70-441f-a4af-515f566d6a74",
   "metadata": {},
   "source": [
    "아니면 우리는 `DataFrame`을 `Array`처럼 이넫ㄱ싱 할 수 있습니다. 심볼과 특별한 문자들을 통해서요. **두번째 인덱싱은 컬럼 인덱싱**입니다."
   ]
  },
  {
   "cell_type": "code",
   "execution_count": 90,
   "id": "5dc1c10c-f22c-42ec-a6b0-be6f80ab0259",
   "metadata": {},
   "outputs": [
    {
     "data": {
      "text/plain": [
       "4-element Vector{String}:\n",
       " \"Sally\"\n",
       " \"Bob\"\n",
       " \"Alice\"\n",
       " \"Hank\""
      ]
     },
     "execution_count": 90,
     "metadata": {},
     "output_type": "execute_result"
    }
   ],
   "source": [
    "function names_grades2()\n",
    "    df = grades_2020()\n",
    "    df[!, :name]\n",
    "end\n",
    "names_grades2()"
   ]
  },
  {
   "cell_type": "markdown",
   "id": "c70c80aa-0a62-41da-9716-43917d33c077",
   "metadata": {},
   "source": [
    "`df.name`은 `df[!, :name]`과 완전히 같습니다. 직접 확인할 수 있습니다."
   ]
  },
  {
   "cell_type": "markdown",
   "id": "ee06ffac-d2ec-4428-afc4-72cbe6ac3b6b",
   "metadata": {},
   "source": [
    "```julia\n",
    "julia>>> df = DataFrame(id=[1]);\n",
    "julia>>> @edit df.name\n",
    "```"
   ]
  },
  {
   "cell_type": "markdown",
   "id": "5fe4a429-47cc-4267-90fb-4f609f0f14a3",
   "metadata": {},
   "source": [
    "두 경우 모두 `:name` 컬럼을 반환합니다. `df[:, :name]` 도 `:name`을 복사합니다 대부분의 경우, `df[!, :name]`은 최적입니다. 이 방식이 가장 유연하고 진행 될 때 변환하기 때문입니다.\n",
    "\n",
    "어떤 **행**이든지, 예를 들어 두번째 행은 우리는 **첫 번째 인덱스를 열 인덱스**로 사용합니다."
   ]
  },
  {
   "cell_type": "code",
   "execution_count": 91,
   "id": "8ec64c6a-5c1f-450b-80ab-2014805fd06e",
   "metadata": {},
   "outputs": [
    {
     "data": {
      "text/html": [
       "<p>DataFrameRow (2 columns)</p><div class=\"data-frame\"><table class=\"data-frame\"><thead><tr><th></th><th>name</th><th>grade_2020</th></tr><tr><th></th><th title=\"String\">String</th><th title=\"Float64\">Float64</th></tr></thead><tbody><tr><th>2</th><td>Bob</td><td>5.0</td></tr></tbody></table></div>"
      ],
      "text/latex": [
       "\\begin{tabular}{r|cc}\n",
       "\t& name & grade\\_2020\\\\\n",
       "\t\\hline\n",
       "\t& String & Float64\\\\\n",
       "\t\\hline\n",
       "\t2 & Bob & 5.0 \\\\\n",
       "\\end{tabular}\n"
      ],
      "text/plain": [
       "\u001b[1mDataFrameRow\u001b[0m\n",
       "\u001b[1m Row \u001b[0m│\u001b[1m name   \u001b[0m\u001b[1m grade_2020 \u001b[0m\n",
       "\u001b[1m     \u001b[0m│\u001b[90m String \u001b[0m\u001b[90m Float64    \u001b[0m\n",
       "─────┼────────────────────\n",
       "   2 │ Bob            5.0"
      ]
     },
     "execution_count": 91,
     "metadata": {},
     "output_type": "execute_result"
    }
   ],
   "source": [
    "df = grades_2020()\n",
    "df[2, :]"
   ]
  },
  {
   "cell_type": "markdown",
   "id": "3056693c-4bf9-4fdf-871f-ac4367d95bc5",
   "metadata": {},
   "source": [
    "아니면 우리가 원하는 어떤 `i` 행을 반환하는 함수를 만들 수 있습니다."
   ]
  },
  {
   "cell_type": "code",
   "execution_count": 92,
   "id": "7e6f8db4-4c02-429d-b141-4041e7dc374c",
   "metadata": {},
   "outputs": [
    {
     "data": {
      "text/html": [
       "<p>DataFrameRow (2 columns)</p><div class=\"data-frame\"><table class=\"data-frame\"><thead><tr><th></th><th>name</th><th>grade_2020</th></tr><tr><th></th><th title=\"String\">String</th><th title=\"Float64\">Float64</th></tr></thead><tbody><tr><th>2</th><td>Bob</td><td>5.0</td></tr></tbody></table></div>"
      ],
      "text/latex": [
       "\\begin{tabular}{r|cc}\n",
       "\t& name & grade\\_2020\\\\\n",
       "\t\\hline\n",
       "\t& String & Float64\\\\\n",
       "\t\\hline\n",
       "\t2 & Bob & 5.0 \\\\\n",
       "\\end{tabular}\n"
      ],
      "text/plain": [
       "\u001b[1mDataFrameRow\u001b[0m\n",
       "\u001b[1m Row \u001b[0m│\u001b[1m name   \u001b[0m\u001b[1m grade_2020 \u001b[0m\n",
       "\u001b[1m     \u001b[0m│\u001b[90m String \u001b[0m\u001b[90m Float64    \u001b[0m\n",
       "─────┼────────────────────\n",
       "   2 │ Bob            5.0"
      ]
     },
     "execution_count": 92,
     "metadata": {},
     "output_type": "execute_result"
    }
   ],
   "source": [
    "function grade_2020(i::Int)\n",
    "    df = grades_2020()\n",
    "    df[i, :]\n",
    "end\n",
    "grade_2020(2)"
   ]
  },
  {
   "cell_type": "markdown",
   "id": "f35a6000-850d-4407-a641-07135ac47a38",
   "metadata": {},
   "source": [
    "우리는 `names`의 두 행만을 **슬라이싱**을 통해 구할 수 있습니다.(또 `Array`랑 비슷합니다.)"
   ]
  },
  {
   "cell_type": "code",
   "execution_count": 93,
   "id": "0376653b-e4f2-4993-811b-1f50484aa785",
   "metadata": {},
   "outputs": [
    {
     "data": {
      "text/plain": [
       "2-element Vector{String}:\n",
       " \"Sally\"\n",
       " \"Bob\""
      ]
     },
     "execution_count": 93,
     "metadata": {},
     "output_type": "execute_result"
    }
   ],
   "source": [
    "grades_indexing(df) = df[1:2, :name]\n",
    "grades_indexing(grades_2020())"
   ]
  },
  {
   "cell_type": "markdown",
   "id": "052ee378-5b25-4c1f-a4f8-28d79d9afcaa",
   "metadata": {},
   "source": [
    "우리가 모든 테이블에서 이름이 유일하다고 가정한다면, 우리는 그들의 이름을 통해 사람의 grade을 얻는 함수를 쓸 수 있습니다. 그러기 위해서 우리는 테이블을 줄리아의 기초 자료구조(섹션 [3.3.]()을 보세요)이자 맵핑을 만들 수 있는 `Dict`로 변환합니다."
   ]
  },
  {
   "cell_type": "code",
   "execution_count": 94,
   "id": "fe43e52c-394c-4b1c-a3b1-37bd4356e748",
   "metadata": {},
   "outputs": [
    {
     "data": {
      "text/plain": [
       "5.0"
      ]
     },
     "execution_count": 94,
     "metadata": {},
     "output_type": "execute_result"
    }
   ],
   "source": [
    "function grade_2020(name::String)\n",
    "    df = grades_2020()\n",
    "    dic = Dict(zip(df.name, df.grade_2020))\n",
    "    dic[name]\n",
    "end\n",
    "grade_2020(\"Bob\")"
   ]
  },
  {
   "cell_type": "markdown",
   "id": "e5b836d3-14db-464a-bc7e-4776a44bd10f",
   "metadata": {},
   "source": [
    "`zip`이 `df.name`과 `df.grade_2020`을 지퍼처럼 순환하기 때문에 가능합니다."
   ]
  },
  {
   "cell_type": "code",
   "execution_count": 95,
   "id": "2db9068d-b802-4137-aa9d-78dabb528b91",
   "metadata": {},
   "outputs": [
    {
     "data": {
      "text/plain": [
       "4-element Vector{Tuple{String, Float64}}:\n",
       " (\"Sally\", 1.0)\n",
       " (\"Bob\", 5.0)\n",
       " (\"Alice\", 8.5)\n",
       " (\"Hank\", 4.0)"
      ]
     },
     "execution_count": 95,
     "metadata": {},
     "output_type": "execute_result"
    }
   ],
   "source": [
    "df = grades_2020()\n",
    "collect(zip(df.name, df.grade_2020))"
   ]
  },
  {
   "cell_type": "markdown",
   "id": "92cf0588-e5a8-4b77-8ce6-d79ab17d991f",
   "metadata": {},
   "source": [
    "하지만, `DataFrame`을 `Dict`으로 변환하는 것은 요소들에 중복이 없을 때만 유용합니다. 일반적인 경우는 아니며, 그래서 우리는 어떻게`DataFrame`을 `filter` 할 수 있는지 배워야 합니다."
   ]
  },
  {
   "cell_type": "markdown",
   "id": "48040e8c-2bd2-4efc-a89b-851cb4d05179",
   "metadata": {},
   "source": [
    "## 4.3 필터와 부분집합\n",
    "\n",
    "`DataFrame`에서 행을 제거할 수 있는 두가지 방법이 있습니다.\n",
    "한가지는 `filter`(섹션 [4.3.1]())를 이용한 방법과 `subset`(섹션 [4.3.2]())을 이용한 방법이 있습니다.\n",
    "`filter`는 `DataFrames.jl`에 초기부터 추가된 기능으로 좀 더 강력하고 줄리아 베이스 문법에 좀 더 일관됩니다. 그래서 우리는 `filter`부터 이야기 하고자 합니다. `subset`은 좀 더 나중에 추가된 기능으로 종종 좀 더 편리합니다. "
   ]
  },
  {
   "cell_type": "markdown",
   "id": "397a7ffc-ceae-4663-89d0-7049d237eea4",
   "metadata": {
    "tags": []
   },
   "source": [
    "### 4.3.1 Filter\n",
    "\n",
    "이 시점 부터 우리는 `DataFrames.jl`의 좀 더 강력한 기능을 다루기 시작합니다. 그러기 위해서 우리는 `select`와 `filter`와 같은 몇몇 함수들을 배울 필요가 있습니다. 하지만 걱정하지 마세요. **`DataFrames.jl`의 전반적인 설계 목적은 사용자가 배워야 하는 함수의 수를 최소화 하는 것**을 안다면 조금 안심할 수 있을 것입니다.\n",
    "\n",
    "이전과 동일하게, `grades_2020`부터 시작합니다."
   ]
  },
  {
   "cell_type": "code",
   "execution_count": 96,
   "id": "1985e2a7-c3d3-4ae2-bfac-7c888f1c9516",
   "metadata": {},
   "outputs": [
    {
     "data": {
      "text/html": [
       "<div class=\"data-frame\"><p>4 rows × 2 columns</p><table class=\"data-frame\"><thead><tr><th></th><th>name</th><th>grade_2020</th></tr><tr><th></th><th title=\"String\">String</th><th title=\"Float64\">Float64</th></tr></thead><tbody><tr><th>1</th><td>Sally</td><td>1.0</td></tr><tr><th>2</th><td>Bob</td><td>5.0</td></tr><tr><th>3</th><td>Alice</td><td>8.5</td></tr><tr><th>4</th><td>Hank</td><td>4.0</td></tr></tbody></table></div>"
      ],
      "text/latex": [
       "\\begin{tabular}{r|cc}\n",
       "\t& name & grade\\_2020\\\\\n",
       "\t\\hline\n",
       "\t& String & Float64\\\\\n",
       "\t\\hline\n",
       "\t1 & Sally & 1.0 \\\\\n",
       "\t2 & Bob & 5.0 \\\\\n",
       "\t3 & Alice & 8.5 \\\\\n",
       "\t4 & Hank & 4.0 \\\\\n",
       "\\end{tabular}\n"
      ],
      "text/plain": [
       "\u001b[1m4×2 DataFrame\u001b[0m\n",
       "\u001b[1m Row \u001b[0m│\u001b[1m name   \u001b[0m\u001b[1m grade_2020 \u001b[0m\n",
       "\u001b[1m     \u001b[0m│\u001b[90m String \u001b[0m\u001b[90m Float64    \u001b[0m\n",
       "─────┼────────────────────\n",
       "   1 │ Sally          1.0\n",
       "   2 │ Bob            5.0\n",
       "   3 │ Alice          8.5\n",
       "   4 │ Hank           4.0"
      ]
     },
     "execution_count": 96,
     "metadata": {},
     "output_type": "execute_result"
    }
   ],
   "source": [
    "grades_2020()"
   ]
  },
  {
   "cell_type": "markdown",
   "id": "e690cedb-873b-48d4-bdb7-390951a94775",
   "metadata": {},
   "source": [
    "`filter(source => f::Function, df)`를 사용해서 우리는 행을 필터링 할 수 있습니다.\n",
    "이 함수는 줄리아 `Base`모듈의 `filter(f::Function, V::Vector)`와 아주 닮아 있습니다. 왜냐하면 `DataFrames.jl`은 **멀티플 디스패치**(섹션 [2.3.3]()을 봐주세요)를 사용해서 `filter`에 `DataFrame`을 인자로 받는 새로운 메소드를 정의했습니다. \n",
    "\n",
    "처음에는 필터링을 위해 함수 `f`를 정의하는 것이 사용하기 어려울 수 있습니다 참고 견디세요. 그런 노력은 그 빛을 발할 겁니다. 왜냐하면 **이것은 데이터를 필터링 하는 아주 강력한 방법이기 때문입니다.** 간단한 예시를 들면, 우리는 `equals_alice`라는 함수를 만들어 인풋이 \"Alice\"인지 확인할 수 있습니다."
   ]
  },
  {
   "cell_type": "code",
   "execution_count": 97,
   "id": "2688bff4-a3ba-48ba-aa4f-3469587e2bdc",
   "metadata": {},
   "outputs": [
    {
     "data": {
      "text/plain": [
       "false"
      ]
     },
     "execution_count": 97,
     "metadata": {},
     "output_type": "execute_result"
    }
   ],
   "source": [
    "equals_alice(name::String) = name == \"Alice\"\n",
    "equals_alice(\"Bob\")"
   ]
  },
  {
   "cell_type": "code",
   "execution_count": 98,
   "id": "d05c4e17-73a5-4e78-bcd2-7daf9741b8e2",
   "metadata": {},
   "outputs": [
    {
     "data": {
      "text/plain": [
       "true"
      ]
     },
     "execution_count": 98,
     "metadata": {},
     "output_type": "execute_result"
    }
   ],
   "source": [
    "equals_alice(\"Alice\")"
   ]
  },
  {
   "cell_type": "markdown",
   "id": "66e7e651-6063-4b81-8b7f-8bf748caab2f",
   "metadata": {},
   "source": [
    "위아 같은 함수를 가지고 있으면, 우리는 함수 `f`를 사용해서 `name`이 \"Alice\"인 행을 필터링 해낼 수 있습니다."
   ]
  },
  {
   "cell_type": "code",
   "execution_count": 99,
   "id": "9e7001f6-4a25-485b-903c-c2bbacd4fca9",
   "metadata": {},
   "outputs": [
    {
     "data": {
      "text/html": [
       "<div class=\"data-frame\"><p>1 rows × 2 columns</p><table class=\"data-frame\"><thead><tr><th></th><th>name</th><th>grade_2020</th></tr><tr><th></th><th title=\"String\">String</th><th title=\"Float64\">Float64</th></tr></thead><tbody><tr><th>1</th><td>Alice</td><td>8.5</td></tr></tbody></table></div>"
      ],
      "text/latex": [
       "\\begin{tabular}{r|cc}\n",
       "\t& name & grade\\_2020\\\\\n",
       "\t\\hline\n",
       "\t& String & Float64\\\\\n",
       "\t\\hline\n",
       "\t1 & Alice & 8.5 \\\\\n",
       "\\end{tabular}\n"
      ],
      "text/plain": [
       "\u001b[1m1×2 DataFrame\u001b[0m\n",
       "\u001b[1m Row \u001b[0m│\u001b[1m name   \u001b[0m\u001b[1m grade_2020 \u001b[0m\n",
       "\u001b[1m     \u001b[0m│\u001b[90m String \u001b[0m\u001b[90m Float64    \u001b[0m\n",
       "─────┼────────────────────\n",
       "   1 │ Alice          8.5"
      ]
     },
     "execution_count": 99,
     "metadata": {},
     "output_type": "execute_result"
    }
   ],
   "source": [
    "filter(:name=> equals_alice, grades_2020())"
   ]
  },
  {
   "cell_type": "raw",
   "id": "3f7073a0-4f6e-4a1a-95ff-7a72d968107f",
   "metadata": {},
   "source": [
    "이것은 `DataFrame`뿐만 아니라 벡터에도 사용할 수 있습니다."
   ]
  },
  {
   "cell_type": "code",
   "execution_count": 100,
   "id": "720e9eff-b2b8-498c-8df4-648f3608414f",
   "metadata": {},
   "outputs": [
    {
     "data": {
      "text/plain": [
       "1-element Vector{String}:\n",
       " \"Alice\""
      ]
     },
     "execution_count": 100,
     "metadata": {},
     "output_type": "execute_result"
    }
   ],
   "source": [
    "filter(equals_alice, [\"Alice\", \"Bob\", \"Dave\"])"
   ]
  },
  {
   "cell_type": "markdown",
   "id": "143ea4dc-cb56-46ba-b8a3-44fc79c8660e",
   "metadata": {},
   "source": [
    "**익명 함수**(섹션 [3.2.4.4]()를 봐주세요)를 사용해 조금 덜 장황하게 만들 수 있습니다."
   ]
  },
  {
   "cell_type": "code",
   "execution_count": 101,
   "id": "2ea23c5a-9e67-480d-8241-5f1bcf6dd344",
   "metadata": {},
   "outputs": [
    {
     "data": {
      "text/plain": [
       "1-element Vector{String}:\n",
       " \"Alice\""
      ]
     },
     "execution_count": 101,
     "metadata": {},
     "output_type": "execute_result"
    }
   ],
   "source": [
    "filter(n -> n == \"Alice\", [\"Alice\", \"Bob\", \"Dave\"])"
   ]
  },
  {
   "cell_type": "markdown",
   "id": "0f8241be-3fbb-45f5-975a-ee0daee11b48",
   "metadata": {},
   "source": [
    "우리는 `grades_2020`에도 사용할 수 있습니다."
   ]
  },
  {
   "cell_type": "code",
   "execution_count": 102,
   "id": "72e30784-3eae-404d-bb2f-efbae34cfae6",
   "metadata": {},
   "outputs": [
    {
     "data": {
      "text/html": [
       "<div class=\"data-frame\"><p>1 rows × 2 columns</p><table class=\"data-frame\"><thead><tr><th></th><th>name</th><th>grade_2020</th></tr><tr><th></th><th title=\"String\">String</th><th title=\"Float64\">Float64</th></tr></thead><tbody><tr><th>1</th><td>Alice</td><td>8.5</td></tr></tbody></table></div>"
      ],
      "text/latex": [
       "\\begin{tabular}{r|cc}\n",
       "\t& name & grade\\_2020\\\\\n",
       "\t\\hline\n",
       "\t& String & Float64\\\\\n",
       "\t\\hline\n",
       "\t1 & Alice & 8.5 \\\\\n",
       "\\end{tabular}\n"
      ],
      "text/plain": [
       "\u001b[1m1×2 DataFrame\u001b[0m\n",
       "\u001b[1m Row \u001b[0m│\u001b[1m name   \u001b[0m\u001b[1m grade_2020 \u001b[0m\n",
       "\u001b[1m     \u001b[0m│\u001b[90m String \u001b[0m\u001b[90m Float64    \u001b[0m\n",
       "─────┼────────────────────\n",
       "   1 │ Alice          8.5"
      ]
     },
     "execution_count": 102,
     "metadata": {},
     "output_type": "execute_result"
    }
   ],
   "source": [
    "filter(:name => n -> n == \"Alice\", grades_2020())"
   ]
  },
  {
   "cell_type": "markdown",
   "id": "c811488f-bc9d-44cb-b640-1be249f26257",
   "metadata": {
    "tags": []
   },
   "source": [
    "요약하자면, 이 함수 호출은 \"`:name` 열에 있는 각 요소에 대해, `n`이라고 각 요소를 하자면, `n`이 Alice와 같은지 확인\"이라고 해석할 수 있습니다. 어떤 사람들에게는, 이것은 여전히 너무 장황할 것입니다. \n",
    "다행히도, 줄리아는 `==`에 대한 *부분 함수 적용* 합니다.\n",
    "그 상세는 중요하지 않고 다른 삼수처럼 사용할 수 있다는 것만 아시면 됩니다."
   ]
  },
  {
   "cell_type": "code",
   "execution_count": 103,
   "id": "48814610-1b69-4cbd-bf45-ff8c98b82472",
   "metadata": {},
   "outputs": [
    {
     "data": {
      "text/html": [
       "<div class=\"data-frame\"><p>1 rows × 2 columns</p><table class=\"data-frame\"><thead><tr><th></th><th>name</th><th>grade_2020</th></tr><tr><th></th><th title=\"String\">String</th><th title=\"Float64\">Float64</th></tr></thead><tbody><tr><th>1</th><td>Alice</td><td>8.5</td></tr></tbody></table></div>"
      ],
      "text/latex": [
       "\\begin{tabular}{r|cc}\n",
       "\t& name & grade\\_2020\\\\\n",
       "\t\\hline\n",
       "\t& String & Float64\\\\\n",
       "\t\\hline\n",
       "\t1 & Alice & 8.5 \\\\\n",
       "\\end{tabular}\n"
      ],
      "text/plain": [
       "\u001b[1m1×2 DataFrame\u001b[0m\n",
       "\u001b[1m Row \u001b[0m│\u001b[1m name   \u001b[0m\u001b[1m grade_2020 \u001b[0m\n",
       "\u001b[1m     \u001b[0m│\u001b[90m String \u001b[0m\u001b[90m Float64    \u001b[0m\n",
       "─────┼────────────────────\n",
       "   1 │ Alice          8.5"
      ]
     },
     "execution_count": 103,
     "metadata": {},
     "output_type": "execute_result"
    }
   ],
   "source": [
    "filter(:name => ==(\"Alice\"), grades_2020())"
   ]
  },
  {
   "cell_type": "markdown",
   "id": "60fed572-82c0-460c-81f5-ef309d754ea6",
   "metadata": {},
   "source": [
    "Alice가 아닌 모든 행을 얻기 위해서는, `==`(등호)를 `!=`(다름)으로 교체하기만 하면 됩니다."
   ]
  },
  {
   "cell_type": "code",
   "execution_count": 104,
   "id": "23506259-703f-49e4-9d1e-2e94312df92a",
   "metadata": {},
   "outputs": [
    {
     "data": {
      "text/html": [
       "<div class=\"data-frame\"><p>3 rows × 2 columns</p><table class=\"data-frame\"><thead><tr><th></th><th>name</th><th>grade_2020</th></tr><tr><th></th><th title=\"String\">String</th><th title=\"Float64\">Float64</th></tr></thead><tbody><tr><th>1</th><td>Sally</td><td>1.0</td></tr><tr><th>2</th><td>Bob</td><td>5.0</td></tr><tr><th>3</th><td>Hank</td><td>4.0</td></tr></tbody></table></div>"
      ],
      "text/latex": [
       "\\begin{tabular}{r|cc}\n",
       "\t& name & grade\\_2020\\\\\n",
       "\t\\hline\n",
       "\t& String & Float64\\\\\n",
       "\t\\hline\n",
       "\t1 & Sally & 1.0 \\\\\n",
       "\t2 & Bob & 5.0 \\\\\n",
       "\t3 & Hank & 4.0 \\\\\n",
       "\\end{tabular}\n"
      ],
      "text/plain": [
       "\u001b[1m3×2 DataFrame\u001b[0m\n",
       "\u001b[1m Row \u001b[0m│\u001b[1m name   \u001b[0m\u001b[1m grade_2020 \u001b[0m\n",
       "\u001b[1m     \u001b[0m│\u001b[90m String \u001b[0m\u001b[90m Float64    \u001b[0m\n",
       "─────┼────────────────────\n",
       "   1 │ Sally          1.0\n",
       "   2 │ Bob            5.0\n",
       "   3 │ Hank           4.0"
      ]
     },
     "execution_count": 104,
     "metadata": {},
     "output_type": "execute_result"
    }
   ],
   "source": [
    "filter(:name => !=(\"Alice\"), grades_2020())"
   ]
  },
  {
   "cell_type": "markdown",
   "id": "80e723d4-7cea-497d-aa83-1b21c0245ea0",
   "metadata": {},
   "source": [
    "이제 **왜 함수가 강력한지** 보여주기 위해, 우리는 조금 더 보잡한 필터를 사용해 봅시다. 이 필터에서는, A나 B로 시작하는 사람의 이름**과** 6 등급 이상 받은 사람을 찾아봅시다."
   ]
  },
  {
   "cell_type": "code",
   "execution_count": 105,
   "id": "0d0b76e0-6fe7-4186-90ee-5fc35ba80c42",
   "metadata": {},
   "outputs": [
    {
     "data": {
      "text/plain": [
       "complex_filter (generic function with 1 method)"
      ]
     },
     "execution_count": 105,
     "metadata": {},
     "output_type": "execute_result"
    }
   ],
   "source": [
    "function complex_filter(name, grade)::Bool\n",
    "    interesting_name = startswith(name, 'A') || startswith(name, 'B')\n",
    "    interesting_grade = 6 < grade\n",
    "    interesting_name && interesting_grade\n",
    "end"
   ]
  },
  {
   "cell_type": "code",
   "execution_count": 106,
   "id": "e74264ec-19a2-48a4-98e5-a905911a632c",
   "metadata": {},
   "outputs": [
    {
     "data": {
      "text/html": [
       "<div class=\"data-frame\"><p>1 rows × 2 columns</p><table class=\"data-frame\"><thead><tr><th></th><th>name</th><th>grade_2020</th></tr><tr><th></th><th title=\"String\">String</th><th title=\"Float64\">Float64</th></tr></thead><tbody><tr><th>1</th><td>Alice</td><td>8.5</td></tr></tbody></table></div>"
      ],
      "text/latex": [
       "\\begin{tabular}{r|cc}\n",
       "\t& name & grade\\_2020\\\\\n",
       "\t\\hline\n",
       "\t& String & Float64\\\\\n",
       "\t\\hline\n",
       "\t1 & Alice & 8.5 \\\\\n",
       "\\end{tabular}\n"
      ],
      "text/plain": [
       "\u001b[1m1×2 DataFrame\u001b[0m\n",
       "\u001b[1m Row \u001b[0m│\u001b[1m name   \u001b[0m\u001b[1m grade_2020 \u001b[0m\n",
       "\u001b[1m     \u001b[0m│\u001b[90m String \u001b[0m\u001b[90m Float64    \u001b[0m\n",
       "─────┼────────────────────\n",
       "   1 │ Alice          8.5"
      ]
     },
     "execution_count": 106,
     "metadata": {},
     "output_type": "execute_result"
    }
   ],
   "source": [
    "filter([:name, :grade_2020] => complex_filter, grades_2020())"
   ]
  },
  {
   "cell_type": "markdown",
   "id": "e130137f-b164-4a19-9f7d-c735a9a9202e",
   "metadata": {},
   "source": [
    "### 4.3.2 Subset\n",
    "\n",
    "`subset`함수는 결측값(missing value, 섹션 [4.5]()를 보세요)을 쉽게 다루기 위해 도입되었습니다. `filter`와는 다르게 `subset`은 행이나 단일 값이 아닌 완전한 열에서 작동합니다.당신이 이전에 정의된 함수를 사용하고 싶다면, 우리는 이것을 `ByRow`로 감싸야 합니다."
   ]
  },
  {
   "cell_type": "code",
   "execution_count": 107,
   "id": "7d1ea102-f550-4858-9164-ffc08c47528d",
   "metadata": {},
   "outputs": [
    {
     "data": {
      "text/html": [
       "<div class=\"data-frame\"><p>1 rows × 2 columns</p><table class=\"data-frame\"><thead><tr><th></th><th>name</th><th>grade_2020</th></tr><tr><th></th><th title=\"String\">String</th><th title=\"Float64\">Float64</th></tr></thead><tbody><tr><th>1</th><td>Alice</td><td>8.5</td></tr></tbody></table></div>"
      ],
      "text/latex": [
       "\\begin{tabular}{r|cc}\n",
       "\t& name & grade\\_2020\\\\\n",
       "\t\\hline\n",
       "\t& String & Float64\\\\\n",
       "\t\\hline\n",
       "\t1 & Alice & 8.5 \\\\\n",
       "\\end{tabular}\n"
      ],
      "text/plain": [
       "\u001b[1m1×2 DataFrame\u001b[0m\n",
       "\u001b[1m Row \u001b[0m│\u001b[1m name   \u001b[0m\u001b[1m grade_2020 \u001b[0m\n",
       "\u001b[1m     \u001b[0m│\u001b[90m String \u001b[0m\u001b[90m Float64    \u001b[0m\n",
       "─────┼────────────────────\n",
       "   1 │ Alice          8.5"
      ]
     },
     "execution_count": 107,
     "metadata": {},
     "output_type": "execute_result"
    }
   ],
   "source": [
    "subset(grades_2020(), :name => ByRow(equals_alice))"
   ]
  },
  {
   "cell_type": "markdown",
   "id": "a5a29ace-a865-4689-8c91-e464936a0b8e",
   "metadata": {},
   "source": [
    "한가지 언급하고자 하는 것은 `DataFrame`은 이제 첫번째 인자`subset(df, args...)`입니다. 반대로 `filter`는 두번째 인자`filter(f, df)`입니다 이 이유는 줄리아는 필터를 `filter(f, V::Vector)`로 정의했고 `DataFrames.jl`은 줄리아 함수와 일관성을 유지해 `DataFrames`의 타입을 멀티플 디스패치로 확대 했습니다.\n",
    "\n",
    "> **노트** : 대부분의 `DataFrames.jl`의 함수는, `subset`을 포함해서, **`DataFrame`을 첫번째 인자로 받는 일관된 함수 형식을**가지고 있습니다.\n",
    "\n",
    "`filter`와 동일하게 우리는 익명 함수를 사용할 수 있습니다."
   ]
  },
  {
   "cell_type": "code",
   "execution_count": 108,
   "id": "6c1cf141-a586-4fe1-9d1a-566e6cd43539",
   "metadata": {},
   "outputs": [
    {
     "data": {
      "text/html": [
       "<div class=\"data-frame\"><p>1 rows × 2 columns</p><table class=\"data-frame\"><thead><tr><th></th><th>name</th><th>grade_2020</th></tr><tr><th></th><th title=\"String\">String</th><th title=\"Float64\">Float64</th></tr></thead><tbody><tr><th>1</th><td>Alice</td><td>8.5</td></tr></tbody></table></div>"
      ],
      "text/latex": [
       "\\begin{tabular}{r|cc}\n",
       "\t& name & grade\\_2020\\\\\n",
       "\t\\hline\n",
       "\t& String & Float64\\\\\n",
       "\t\\hline\n",
       "\t1 & Alice & 8.5 \\\\\n",
       "\\end{tabular}\n"
      ],
      "text/plain": [
       "\u001b[1m1×2 DataFrame\u001b[0m\n",
       "\u001b[1m Row \u001b[0m│\u001b[1m name   \u001b[0m\u001b[1m grade_2020 \u001b[0m\n",
       "\u001b[1m     \u001b[0m│\u001b[90m String \u001b[0m\u001b[90m Float64    \u001b[0m\n",
       "─────┼────────────────────\n",
       "   1 │ Alice          8.5"
      ]
     },
     "execution_count": 108,
     "metadata": {},
     "output_type": "execute_result"
    }
   ],
   "source": [
    "subset(grades_2020(), :name => ByRow(name -> name == \"Alice\"))"
   ]
  },
  {
   "cell_type": "markdown",
   "id": "316f05a3-04cc-4acb-9e7f-d14289d4370f",
   "metadata": {},
   "source": [
    "또는 부분 함수(partial function application)인 ``==`을 쓸 수 있습니다."
   ]
  },
  {
   "cell_type": "code",
   "execution_count": 109,
   "id": "2935f2a8-d03d-4e0a-a809-541d9d763acc",
   "metadata": {},
   "outputs": [
    {
     "data": {
      "text/html": [
       "<div class=\"data-frame\"><p>1 rows × 2 columns</p><table class=\"data-frame\"><thead><tr><th></th><th>name</th><th>grade_2020</th></tr><tr><th></th><th title=\"String\">String</th><th title=\"Float64\">Float64</th></tr></thead><tbody><tr><th>1</th><td>Alice</td><td>8.5</td></tr></tbody></table></div>"
      ],
      "text/latex": [
       "\\begin{tabular}{r|cc}\n",
       "\t& name & grade\\_2020\\\\\n",
       "\t\\hline\n",
       "\t& String & Float64\\\\\n",
       "\t\\hline\n",
       "\t1 & Alice & 8.5 \\\\\n",
       "\\end{tabular}\n"
      ],
      "text/plain": [
       "\u001b[1m1×2 DataFrame\u001b[0m\n",
       "\u001b[1m Row \u001b[0m│\u001b[1m name   \u001b[0m\u001b[1m grade_2020 \u001b[0m\n",
       "\u001b[1m     \u001b[0m│\u001b[90m String \u001b[0m\u001b[90m Float64    \u001b[0m\n",
       "─────┼────────────────────\n",
       "   1 │ Alice          8.5"
      ]
     },
     "execution_count": 109,
     "metadata": {},
     "output_type": "execute_result"
    }
   ],
   "source": [
    "subset(grades_2020(), :name => ByRow(==(\"Alice\")))"
   ]
  },
  {
   "cell_type": "markdown",
   "id": "20e17811-0c62-41fd-966e-99d1f748a918",
   "metadata": {},
   "source": [
    "궁극적으로, `subset`의 진짜 위력을 봅시다. 먼저 우리는 몇몇 결측이 있는 데이터 셋을 만듭니다."
   ]
  },
  {
   "cell_type": "code",
   "execution_count": 110,
   "id": "80450369-bf26-4fe4-9f8e-3a78b1ee88b8",
   "metadata": {},
   "outputs": [
    {
     "data": {
      "text/html": [
       "<div class=\"data-frame\"><p>4 rows × 2 columns</p><table class=\"data-frame\"><thead><tr><th></th><th>names</th><th>salary</th></tr><tr><th></th><th title=\"String\">String</th><th title=\"Union{Missing, Int64}\">Int64?</th></tr></thead><tbody><tr><th>1</th><td>John</td><td>1900</td></tr><tr><th>2</th><td>Hank</td><td>2800</td></tr><tr><th>3</th><td>Karen</td><td>2800</td></tr><tr><th>4</th><td>Zed</td><td><em>missing</em></td></tr></tbody></table></div>"
      ],
      "text/latex": [
       "\\begin{tabular}{r|cc}\n",
       "\t& names & salary\\\\\n",
       "\t\\hline\n",
       "\t& String & Int64?\\\\\n",
       "\t\\hline\n",
       "\t1 & John & 1900 \\\\\n",
       "\t2 & Hank & 2800 \\\\\n",
       "\t3 & Karen & 2800 \\\\\n",
       "\t4 & Zed & \\emph{missing} \\\\\n",
       "\\end{tabular}\n"
      ],
      "text/plain": [
       "\u001b[1m4×2 DataFrame\u001b[0m\n",
       "\u001b[1m Row \u001b[0m│\u001b[1m names  \u001b[0m\u001b[1m salary  \u001b[0m\n",
       "\u001b[1m     \u001b[0m│\u001b[90m String \u001b[0m\u001b[90m Int64?  \u001b[0m\n",
       "─────┼─────────────────\n",
       "   1 │ John       1900\n",
       "   2 │ Hank       2800\n",
       "   3 │ Karen      2800\n",
       "   4 │ Zed    \u001b[90m missing \u001b[0m"
      ]
     },
     "execution_count": 110,
     "metadata": {},
     "output_type": "execute_result"
    }
   ],
   "source": [
    "function salaries()\n",
    "    names = [\"John\", \"Hank\", \"Karen\", \"Zed\"]\n",
    "    salary = [1_900, 2_800, 2_800, missing]\n",
    "    DataFrame(; names, salary)\n",
    "end\n",
    "salaries()"
   ]
  },
  {
   "cell_type": "markdown",
   "id": "d19e975f-0cdd-4929-96c3-3f49c58e7d9b",
   "metadata": {},
   "source": [
    "이 데이터는 그럴 듯한 상황에 대한 것입니다. 당신은 당신의 동료들의 봉급을 알 싶지만, 아직 Zed의 월급을 알지 못하는 것이죠. 우리가 이런 것을 하라고 권유하고 싶지는 않지만, 이것은 재미있는 예제입니다. 우리는 누가 2000 보다 더 많이 벌었는지 알고 싶다고 해봅시다. `missing` 값을 처리하지 않고 `filter`를 사용하면 실패할 것입니다."
   ]
  },
  {
   "cell_type": "code",
   "execution_count": 111,
   "id": "9b5ef1b7-0052-49ab-b7a7-88804e478883",
   "metadata": {},
   "outputs": [
    {
     "ename": "LoadError",
     "evalue": "TypeError: non-boolean (Missing) used in boolean context",
     "output_type": "error",
     "traceback": [
      "TypeError: non-boolean (Missing) used in boolean context",
      "",
      "Stacktrace:",
      "  [1] (::DataFrames.var\"#89#90\"{Base.Fix2{typeof(>), Int64}})(x::Missing)",
      "    @ DataFrames ~/.julia/packages/DataFrames/vuMM8/src/abstractdataframe/abstractdataframe.jl:1043",
      "  [2] _broadcast_getindex_evalf",
      "    @ ./broadcast.jl:648 [inlined]",
      "  [3] _broadcast_getindex",
      "    @ ./broadcast.jl:621 [inlined]",
      "  [4] getindex",
      "    @ ./broadcast.jl:575 [inlined]",
      "  [5] macro expansion",
      "    @ ./broadcast.jl:984 [inlined]",
      "  [6] macro expansion",
      "    @ ./simdloop.jl:77 [inlined]",
      "  [7] copyto!",
      "    @ ./broadcast.jl:983 [inlined]",
      "  [8] copyto!",
      "    @ ./broadcast.jl:994 [inlined]",
      "  [9] copyto!",
      "    @ ./broadcast.jl:936 [inlined]",
      " [10] copy",
      "    @ ./broadcast.jl:908 [inlined]",
      " [11] materialize(bc::Base.Broadcast.Broadcasted{Base.Broadcast.DefaultArrayStyle{1}, Nothing, DataFrames.var\"#89#90\"{Base.Fix2{typeof(>), Int64}}, Tuple{Vector{Union{Missing, Int64}}}})",
      "    @ Base.Broadcast ./broadcast.jl:883",
      " [12] _filter_helper(f::Function, cols::Vector{Union{Missing, Int64}})",
      "    @ DataFrames ~/.julia/packages/DataFrames/vuMM8/src/abstractdataframe/abstractdataframe.jl:1043",
      " [13] #filter#79",
      "    @ ~/.julia/packages/DataFrames/vuMM8/src/abstractdataframe/abstractdataframe.jl:1025 [inlined]",
      " [14] filter(::Pair{Symbol, Base.Fix2{typeof(>), Int64}}, df::DataFrame)",
      "    @ DataFrames ~/.julia/packages/DataFrames/vuMM8/src/abstractdataframe/abstractdataframe.jl:1021",
      " [15] top-level scope",
      "    @ In[111]:1",
      " [16] eval",
      "    @ ./boot.jl:360 [inlined]",
      " [17] include_string(mapexpr::typeof(REPL.softscope), mod::Module, code::String, filename::String)",
      "    @ Base ./loading.jl:1116"
     ]
    }
   ],
   "source": [
    "filter(:salary => >(2_000), salaries())"
   ]
  },
  {
   "cell_type": "markdown",
   "id": "33883e39-b887-401f-bcad-9ec389311e69",
   "metadata": {},
   "source": [
    "`subset`또한 실패할 것입니다, 하지만 이것은 울리에게 쉬운 솔루션을 알려줄 것입니다."
   ]
  },
  {
   "cell_type": "code",
   "execution_count": 112,
   "id": "42845f6f-8a98-4271-b787-1a56c3003c18",
   "metadata": {},
   "outputs": [
    {
     "ename": "LoadError",
     "evalue": "ArgumentError: missing was returned in condition number 1 but only true or false are allowed; pass skipmissing=true to skip missing values",
     "output_type": "error",
     "traceback": [
      "ArgumentError: missing was returned in condition number 1 but only true or false are allowed; pass skipmissing=true to skip missing values",
      "",
      "Stacktrace:",
      "  [1] _and(x::Missing)",
      "    @ DataFrames ~/.julia/packages/DataFrames/vuMM8/src/abstractdataframe/subset.jl:11",
      "  [2] _broadcast_getindex_evalf",
      "    @ ./broadcast.jl:648 [inlined]",
      "  [3] _broadcast_getindex",
      "    @ ./broadcast.jl:621 [inlined]",
      "  [4] getindex",
      "    @ ./broadcast.jl:575 [inlined]",
      "  [5] macro expansion",
      "    @ ./broadcast.jl:984 [inlined]",
      "  [6] macro expansion",
      "    @ ./simdloop.jl:77 [inlined]",
      "  [7] copyto!",
      "    @ ./broadcast.jl:983 [inlined]",
      "  [8] copyto!",
      "    @ ./broadcast.jl:994 [inlined]",
      "  [9] copyto!",
      "    @ ./broadcast.jl:936 [inlined]",
      " [10] copy",
      "    @ ./broadcast.jl:908 [inlined]",
      " [11] materialize(bc::Base.Broadcast.Broadcasted{Base.Broadcast.DefaultArrayStyle{1}, Nothing, typeof(DataFrames._and), Tuple{Vector{Union{Missing, Bool}}}})",
      "    @ Base.Broadcast ./broadcast.jl:883",
      " [12] _get_subset_conditions(df::DataFrame, ::Base.RefValue{Any}, skipmissing::Bool)",
      "    @ DataFrames ~/.julia/packages/DataFrames/vuMM8/src/abstractdataframe/subset.jl:0",
      " [13] subset(df::DataFrame, args::Any; skipmissing::Bool, view::Bool)",
      "    @ DataFrames ~/.julia/packages/DataFrames/vuMM8/src/abstractdataframe/subset.jl:173",
      " [14] subset(df::DataFrame, args::Any)",
      "    @ DataFrames ~/.julia/packages/DataFrames/vuMM8/src/abstractdataframe/subset.jl:173",
      " [15] top-level scope",
      "    @ In[112]:1",
      " [16] eval",
      "    @ ./boot.jl:360 [inlined]",
      " [17] include_string(mapexpr::typeof(REPL.softscope), mod::Module, code::String, filename::String)",
      "    @ Base ./loading.jl:1116"
     ]
    }
   ],
   "source": [
    "subset(salaries(), :salary => ByRow(>(2_000)))"
   ]
  },
  {
   "cell_type": "markdown",
   "id": "7af78490-6172-485b-bcb6-f09a5d13853b",
   "metadata": {},
   "source": [
    "그래서 우리는 그저 키워드 인자`skipmissing=true`를 넘기면 됩니다."
   ]
  },
  {
   "cell_type": "code",
   "execution_count": 113,
   "id": "cb15bbb3-617c-48ed-84b0-365d45e49b7f",
   "metadata": {},
   "outputs": [
    {
     "data": {
      "text/html": [
       "<div class=\"data-frame\"><p>2 rows × 2 columns</p><table class=\"data-frame\"><thead><tr><th></th><th>names</th><th>salary</th></tr><tr><th></th><th title=\"String\">String</th><th title=\"Union{Missing, Int64}\">Int64?</th></tr></thead><tbody><tr><th>1</th><td>Hank</td><td>2800</td></tr><tr><th>2</th><td>Karen</td><td>2800</td></tr></tbody></table></div>"
      ],
      "text/latex": [
       "\\begin{tabular}{r|cc}\n",
       "\t& names & salary\\\\\n",
       "\t\\hline\n",
       "\t& String & Int64?\\\\\n",
       "\t\\hline\n",
       "\t1 & Hank & 2800 \\\\\n",
       "\t2 & Karen & 2800 \\\\\n",
       "\\end{tabular}\n"
      ],
      "text/plain": [
       "\u001b[1m2×2 DataFrame\u001b[0m\n",
       "\u001b[1m Row \u001b[0m│\u001b[1m names  \u001b[0m\u001b[1m salary \u001b[0m\n",
       "\u001b[1m     \u001b[0m│\u001b[90m String \u001b[0m\u001b[90m Int64? \u001b[0m\n",
       "─────┼────────────────\n",
       "   1 │ Hank      2800\n",
       "   2 │ Karen     2800"
      ]
     },
     "execution_count": 113,
     "metadata": {},
     "output_type": "execute_result"
    }
   ],
   "source": [
    "subset(salaries(), :salary => ByRow(>(2_000)); skipmissing=true)"
   ]
  },
  {
   "cell_type": "markdown",
   "id": "36ccd9b1-20bf-4f0e-9aba-ec83a740fb7d",
   "metadata": {},
   "source": [
    "## 4.4 Select\n",
    "\n",
    "**`filter`가 행을 지운다면, `select`는 열을 제거합니다.** 하지만, 우리가 이 섹션에서 이야기 하듯이 `select`는 단순히 열을 지우는 것보다 훨씬 유연합니다. 우선 다수의 열을 가진 데이터 셋을 만들어 봅시다"
   ]
  },
  {
   "cell_type": "code",
   "execution_count": 115,
   "id": "8a68651c-0df9-486a-9997-a857b5313647",
   "metadata": {},
   "outputs": [
    {
     "data": {
      "text/html": [
       "<div class=\"data-frame\"><p>2 rows × 6 columns</p><table class=\"data-frame\"><thead><tr><th></th><th>id</th><th>q1</th><th>q2</th><th>q3</th><th>q4</th><th>q5</th></tr><tr><th></th><th title=\"Int64\">Int64</th><th title=\"Int64\">Int64</th><th title=\"Symbol\">Symbol</th><th title=\"String\">String</th><th title=\"String\">String</th><th title=\"String\">String</th></tr></thead><tbody><tr><th>1</th><td>1</td><td>28</td><td>us</td><td>F</td><td>B</td><td>A</td></tr><tr><th>2</th><td>2</td><td>61</td><td>fr</td><td>B</td><td>C</td><td>E</td></tr></tbody></table></div>"
      ],
      "text/latex": [
       "\\begin{tabular}{r|cccccc}\n",
       "\t& id & q1 & q2 & q3 & q4 & q5\\\\\n",
       "\t\\hline\n",
       "\t& Int64 & Int64 & Symbol & String & String & String\\\\\n",
       "\t\\hline\n",
       "\t1 & 1 & 28 & us & F & B & A \\\\\n",
       "\t2 & 2 & 61 & fr & B & C & E \\\\\n",
       "\\end{tabular}\n"
      ],
      "text/plain": [
       "\u001b[1m2×6 DataFrame\u001b[0m\n",
       "\u001b[1m Row \u001b[0m│\u001b[1m id    \u001b[0m\u001b[1m q1    \u001b[0m\u001b[1m q2     \u001b[0m\u001b[1m q3     \u001b[0m\u001b[1m q4     \u001b[0m\u001b[1m q5     \u001b[0m\n",
       "\u001b[1m     \u001b[0m│\u001b[90m Int64 \u001b[0m\u001b[90m Int64 \u001b[0m\u001b[90m Symbol \u001b[0m\u001b[90m String \u001b[0m\u001b[90m String \u001b[0m\u001b[90m String \u001b[0m\n",
       "─────┼──────────────────────────────────────────────\n",
       "   1 │     1     28  us      F       B       A\n",
       "   2 │     2     61  fr      B       C       E"
      ]
     },
     "execution_count": 115,
     "metadata": {},
     "output_type": "execute_result"
    }
   ],
   "source": [
    "function responses()\n",
    "    id = [1,2]\n",
    "    q1 = [28, 61]\n",
    "    q2 = [:us, :fr]\n",
    "    q3 = [\"F\", \"B\"]\n",
    "    q4 = [\"B\", \"C\"]\n",
    "    q5 = [\"A\", \"E\"]\n",
    "    DataFrame(; id, q1, q2, q3, q4, q5)\n",
    "end\n",
    "responses()"
   ]
  },
  {
   "cell_type": "markdown",
   "id": "db4891b9-56f9-4a45-979e-e0cb97330d92",
   "metadata": {},
   "source": [
    "여기서, 데이터는 5개의 질문에 대한 답을 나타내고 있습니다.(`q1`, `q2`, ..., `q5`) 우리는 이 데이터 셋에서 부터 몇 열을 \"선택\"함으로 시작하고자 합니다. 언제나 처럼, 우리는 심볼을 컬럼을 나타낼 때 사용합니다."
   ]
  },
  {
   "cell_type": "code",
   "execution_count": 116,
   "id": "a27f36ca-a144-472e-9e29-981108cf2278",
   "metadata": {},
   "outputs": [
    {
     "data": {
      "text/html": [
       "<div class=\"data-frame\"><p>2 rows × 2 columns</p><table class=\"data-frame\"><thead><tr><th></th><th>id</th><th>q1</th></tr><tr><th></th><th title=\"Int64\">Int64</th><th title=\"Int64\">Int64</th></tr></thead><tbody><tr><th>1</th><td>1</td><td>28</td></tr><tr><th>2</th><td>2</td><td>61</td></tr></tbody></table></div>"
      ],
      "text/latex": [
       "\\begin{tabular}{r|cc}\n",
       "\t& id & q1\\\\\n",
       "\t\\hline\n",
       "\t& Int64 & Int64\\\\\n",
       "\t\\hline\n",
       "\t1 & 1 & 28 \\\\\n",
       "\t2 & 2 & 61 \\\\\n",
       "\\end{tabular}\n"
      ],
      "text/plain": [
       "\u001b[1m2×2 DataFrame\u001b[0m\n",
       "\u001b[1m Row \u001b[0m│\u001b[1m id    \u001b[0m\u001b[1m q1    \u001b[0m\n",
       "\u001b[1m     \u001b[0m│\u001b[90m Int64 \u001b[0m\u001b[90m Int64 \u001b[0m\n",
       "─────┼──────────────\n",
       "   1 │     1     28\n",
       "   2 │     2     61"
      ]
     },
     "execution_count": 116,
     "metadata": {},
     "output_type": "execute_result"
    }
   ],
   "source": [
    "select(responses(), :id, :q1)"
   ]
  },
  {
   "cell_type": "markdown",
   "id": "e56ec1c9-ee7b-47b0-9d2c-22d990ff8104",
   "metadata": {},
   "source": [
    "우리는 또한 문자열을 사용할 수 있습니다."
   ]
  },
  {
   "cell_type": "code",
   "execution_count": 117,
   "id": "f9c41731-8549-484f-a970-16f3e04e032b",
   "metadata": {},
   "outputs": [
    {
     "data": {
      "text/html": [
       "<div class=\"data-frame\"><p>2 rows × 3 columns</p><table class=\"data-frame\"><thead><tr><th></th><th>id</th><th>q1</th><th>q2</th></tr><tr><th></th><th title=\"Int64\">Int64</th><th title=\"Int64\">Int64</th><th title=\"Symbol\">Symbol</th></tr></thead><tbody><tr><th>1</th><td>1</td><td>28</td><td>us</td></tr><tr><th>2</th><td>2</td><td>61</td><td>fr</td></tr></tbody></table></div>"
      ],
      "text/latex": [
       "\\begin{tabular}{r|ccc}\n",
       "\t& id & q1 & q2\\\\\n",
       "\t\\hline\n",
       "\t& Int64 & Int64 & Symbol\\\\\n",
       "\t\\hline\n",
       "\t1 & 1 & 28 & us \\\\\n",
       "\t2 & 2 & 61 & fr \\\\\n",
       "\\end{tabular}\n"
      ],
      "text/plain": [
       "\u001b[1m2×3 DataFrame\u001b[0m\n",
       "\u001b[1m Row \u001b[0m│\u001b[1m id    \u001b[0m\u001b[1m q1    \u001b[0m\u001b[1m q2     \u001b[0m\n",
       "\u001b[1m     \u001b[0m│\u001b[90m Int64 \u001b[0m\u001b[90m Int64 \u001b[0m\u001b[90m Symbol \u001b[0m\n",
       "─────┼──────────────────────\n",
       "   1 │     1     28  us\n",
       "   2 │     2     61  fr"
      ]
     },
     "execution_count": 117,
     "metadata": {},
     "output_type": "execute_result"
    }
   ],
   "source": [
    "select(responses(), \"id\", \"q1\", \"q2\")"
   ]
  },
  {
   "cell_type": "markdown",
   "id": "7ef893b7-8fa2-4ffe-a81a-e04099d9cb93",
   "metadata": {},
   "source": [
    "하나나 몇몇 열을 *제외*하고 선택하고 싶을 때 `Not`을 사용하면 됩니다."
   ]
  },
  {
   "cell_type": "code",
   "execution_count": 118,
   "id": "8c84dab2-63e0-491b-bf10-126d8c04c71e",
   "metadata": {},
   "outputs": [
    {
     "data": {
      "text/html": [
       "<div class=\"data-frame\"><p>2 rows × 5 columns</p><table class=\"data-frame\"><thead><tr><th></th><th>id</th><th>q1</th><th>q2</th><th>q3</th><th>q4</th></tr><tr><th></th><th title=\"Int64\">Int64</th><th title=\"Int64\">Int64</th><th title=\"Symbol\">Symbol</th><th title=\"String\">String</th><th title=\"String\">String</th></tr></thead><tbody><tr><th>1</th><td>1</td><td>28</td><td>us</td><td>F</td><td>B</td></tr><tr><th>2</th><td>2</td><td>61</td><td>fr</td><td>B</td><td>C</td></tr></tbody></table></div>"
      ],
      "text/latex": [
       "\\begin{tabular}{r|ccccc}\n",
       "\t& id & q1 & q2 & q3 & q4\\\\\n",
       "\t\\hline\n",
       "\t& Int64 & Int64 & Symbol & String & String\\\\\n",
       "\t\\hline\n",
       "\t1 & 1 & 28 & us & F & B \\\\\n",
       "\t2 & 2 & 61 & fr & B & C \\\\\n",
       "\\end{tabular}\n"
      ],
      "text/plain": [
       "\u001b[1m2×5 DataFrame\u001b[0m\n",
       "\u001b[1m Row \u001b[0m│\u001b[1m id    \u001b[0m\u001b[1m q1    \u001b[0m\u001b[1m q2     \u001b[0m\u001b[1m q3     \u001b[0m\u001b[1m q4     \u001b[0m\n",
       "\u001b[1m     \u001b[0m│\u001b[90m Int64 \u001b[0m\u001b[90m Int64 \u001b[0m\u001b[90m Symbol \u001b[0m\u001b[90m String \u001b[0m\u001b[90m String \u001b[0m\n",
       "─────┼──────────────────────────────────────\n",
       "   1 │     1     28  us      F       B\n",
       "   2 │     2     61  fr      B       C"
      ]
     },
     "execution_count": 118,
     "metadata": {},
     "output_type": "execute_result"
    }
   ],
   "source": [
    "select(responses(), Not(:q5))"
   ]
  },
  {
   "cell_type": "markdown",
   "id": "b2f1822b-65b5-41ef-81b4-5bf7e5ccfd33",
   "metadata": {},
   "source": [
    "여러 열일 경우"
   ]
  },
  {
   "cell_type": "code",
   "execution_count": 119,
   "id": "e8e96129-6111-4ed1-96c0-defb3d17f986",
   "metadata": {},
   "outputs": [
    {
     "data": {
      "text/html": [
       "<div class=\"data-frame\"><p>2 rows × 4 columns</p><table class=\"data-frame\"><thead><tr><th></th><th>id</th><th>q1</th><th>q2</th><th>q3</th></tr><tr><th></th><th title=\"Int64\">Int64</th><th title=\"Int64\">Int64</th><th title=\"Symbol\">Symbol</th><th title=\"String\">String</th></tr></thead><tbody><tr><th>1</th><td>1</td><td>28</td><td>us</td><td>F</td></tr><tr><th>2</th><td>2</td><td>61</td><td>fr</td><td>B</td></tr></tbody></table></div>"
      ],
      "text/latex": [
       "\\begin{tabular}{r|cccc}\n",
       "\t& id & q1 & q2 & q3\\\\\n",
       "\t\\hline\n",
       "\t& Int64 & Int64 & Symbol & String\\\\\n",
       "\t\\hline\n",
       "\t1 & 1 & 28 & us & F \\\\\n",
       "\t2 & 2 & 61 & fr & B \\\\\n",
       "\\end{tabular}\n"
      ],
      "text/plain": [
       "\u001b[1m2×4 DataFrame\u001b[0m\n",
       "\u001b[1m Row \u001b[0m│\u001b[1m id    \u001b[0m\u001b[1m q1    \u001b[0m\u001b[1m q2     \u001b[0m\u001b[1m q3     \u001b[0m\n",
       "\u001b[1m     \u001b[0m│\u001b[90m Int64 \u001b[0m\u001b[90m Int64 \u001b[0m\u001b[90m Symbol \u001b[0m\u001b[90m String \u001b[0m\n",
       "─────┼──────────────────────────────\n",
       "   1 │     1     28  us      F\n",
       "   2 │     2     61  fr      B"
      ]
     },
     "execution_count": 119,
     "metadata": {},
     "output_type": "execute_result"
    }
   ],
   "source": [
    "select(responses(), Not([:q4, :q5]))"
   ]
  },
  {
   "cell_type": "code",
   "execution_count": 120,
   "id": "94e90daa-a7c0-4714-ac4c-f4c3405a7c96",
   "metadata": {},
   "outputs": [
    {
     "data": {
      "text/html": [
       "<div class=\"data-frame\"><p>2 rows × 4 columns</p><table class=\"data-frame\"><thead><tr><th></th><th>id</th><th>q1</th><th>q2</th><th>q3</th></tr><tr><th></th><th title=\"Int64\">Int64</th><th title=\"Int64\">Int64</th><th title=\"Symbol\">Symbol</th><th title=\"String\">String</th></tr></thead><tbody><tr><th>1</th><td>1</td><td>28</td><td>us</td><td>F</td></tr><tr><th>2</th><td>2</td><td>61</td><td>fr</td><td>B</td></tr></tbody></table></div>"
      ],
      "text/latex": [
       "\\begin{tabular}{r|cccc}\n",
       "\t& id & q1 & q2 & q3\\\\\n",
       "\t\\hline\n",
       "\t& Int64 & Int64 & Symbol & String\\\\\n",
       "\t\\hline\n",
       "\t1 & 1 & 28 & us & F \\\\\n",
       "\t2 & 2 & 61 & fr & B \\\\\n",
       "\\end{tabular}\n"
      ],
      "text/plain": [
       "\u001b[1m2×4 DataFrame\u001b[0m\n",
       "\u001b[1m Row \u001b[0m│\u001b[1m id    \u001b[0m\u001b[1m q1    \u001b[0m\u001b[1m q2     \u001b[0m\u001b[1m q3     \u001b[0m\n",
       "\u001b[1m     \u001b[0m│\u001b[90m Int64 \u001b[0m\u001b[90m Int64 \u001b[0m\u001b[90m Symbol \u001b[0m\u001b[90m String \u001b[0m\n",
       "─────┼──────────────────────────────\n",
       "   1 │     1     28  us      F\n",
       "   2 │     2     61  fr      B"
      ]
     },
     "execution_count": 120,
     "metadata": {},
     "output_type": "execute_result"
    }
   ],
   "source": [
    "select(responses(), Not([\"q4\", \"q5\"]))"
   ]
  },
  {
   "cell_type": "markdown",
   "id": "e8332eeb-f079-4eaf-9abe-8f28ae9eb1e8",
   "metadata": {},
   "source": [
    "이것은 또한 우리가 원하는 열과 그렇지 않은 열을 섞어서 사용하는 것도 가능합니다."
   ]
  },
  {
   "cell_type": "code",
   "execution_count": 121,
   "id": "7f9c998f-d01d-4dd4-95da-37775513bf2a",
   "metadata": {},
   "outputs": [
    {
     "data": {
      "text/html": [
       "<div class=\"data-frame\"><p>2 rows × 6 columns</p><table class=\"data-frame\"><thead><tr><th></th><th>q5</th><th>id</th><th>q1</th><th>q2</th><th>q3</th><th>q4</th></tr><tr><th></th><th title=\"String\">String</th><th title=\"Int64\">Int64</th><th title=\"Int64\">Int64</th><th title=\"Symbol\">Symbol</th><th title=\"String\">String</th><th title=\"String\">String</th></tr></thead><tbody><tr><th>1</th><td>A</td><td>1</td><td>28</td><td>us</td><td>F</td><td>B</td></tr><tr><th>2</th><td>E</td><td>2</td><td>61</td><td>fr</td><td>B</td><td>C</td></tr></tbody></table></div>"
      ],
      "text/latex": [
       "\\begin{tabular}{r|cccccc}\n",
       "\t& q5 & id & q1 & q2 & q3 & q4\\\\\n",
       "\t\\hline\n",
       "\t& String & Int64 & Int64 & Symbol & String & String\\\\\n",
       "\t\\hline\n",
       "\t1 & A & 1 & 28 & us & F & B \\\\\n",
       "\t2 & E & 2 & 61 & fr & B & C \\\\\n",
       "\\end{tabular}\n"
      ],
      "text/plain": [
       "\u001b[1m2×6 DataFrame\u001b[0m\n",
       "\u001b[1m Row \u001b[0m│\u001b[1m q5     \u001b[0m\u001b[1m id    \u001b[0m\u001b[1m q1    \u001b[0m\u001b[1m q2     \u001b[0m\u001b[1m q3     \u001b[0m\u001b[1m q4     \u001b[0m\n",
       "\u001b[1m     \u001b[0m│\u001b[90m String \u001b[0m\u001b[90m Int64 \u001b[0m\u001b[90m Int64 \u001b[0m\u001b[90m Symbol \u001b[0m\u001b[90m String \u001b[0m\u001b[90m String \u001b[0m\n",
       "─────┼──────────────────────────────────────────────\n",
       "   1 │ A           1     28  us      F       B\n",
       "   2 │ E           2     61  fr      B       C"
      ]
     },
     "execution_count": 121,
     "metadata": {},
     "output_type": "execute_result"
    }
   ],
   "source": [
    "select(responses(), :q5, Not(:q5))"
   ]
  },
  {
   "cell_type": "markdown",
   "id": "e78cfab5-d572-479c-9a66-44c557fe3647",
   "metadata": {},
   "source": [
    "한 가지 언급해야 할 것은 `q5`는 `select`로 반환되는 `DataFrame`의 첫번째 열이라는 점입니다. 이를 달성하기 위한 좀더 지혜로운 방법이 있습니다. `:`을 사용해서요. 콜론`:`은 \"우리가 아직 포함시키지 않은 모든 열\"이란 의미로 해석될 수 있습니다. 예를 들어"
   ]
  },
  {
   "cell_type": "code",
   "execution_count": 122,
   "id": "fe68904c-2e2f-4cbc-8c7d-0ef23f03eb87",
   "metadata": {},
   "outputs": [
    {
     "data": {
      "text/html": [
       "<div class=\"data-frame\"><p>2 rows × 6 columns</p><table class=\"data-frame\"><thead><tr><th></th><th>q5</th><th>id</th><th>q1</th><th>q2</th><th>q3</th><th>q4</th></tr><tr><th></th><th title=\"String\">String</th><th title=\"Int64\">Int64</th><th title=\"Int64\">Int64</th><th title=\"Symbol\">Symbol</th><th title=\"String\">String</th><th title=\"String\">String</th></tr></thead><tbody><tr><th>1</th><td>A</td><td>1</td><td>28</td><td>us</td><td>F</td><td>B</td></tr><tr><th>2</th><td>E</td><td>2</td><td>61</td><td>fr</td><td>B</td><td>C</td></tr></tbody></table></div>"
      ],
      "text/latex": [
       "\\begin{tabular}{r|cccccc}\n",
       "\t& q5 & id & q1 & q2 & q3 & q4\\\\\n",
       "\t\\hline\n",
       "\t& String & Int64 & Int64 & Symbol & String & String\\\\\n",
       "\t\\hline\n",
       "\t1 & A & 1 & 28 & us & F & B \\\\\n",
       "\t2 & E & 2 & 61 & fr & B & C \\\\\n",
       "\\end{tabular}\n"
      ],
      "text/plain": [
       "\u001b[1m2×6 DataFrame\u001b[0m\n",
       "\u001b[1m Row \u001b[0m│\u001b[1m q5     \u001b[0m\u001b[1m id    \u001b[0m\u001b[1m q1    \u001b[0m\u001b[1m q2     \u001b[0m\u001b[1m q3     \u001b[0m\u001b[1m q4     \u001b[0m\n",
       "\u001b[1m     \u001b[0m│\u001b[90m String \u001b[0m\u001b[90m Int64 \u001b[0m\u001b[90m Int64 \u001b[0m\u001b[90m Symbol \u001b[0m\u001b[90m String \u001b[0m\u001b[90m String \u001b[0m\n",
       "─────┼──────────────────────────────────────────────\n",
       "   1 │ A           1     28  us      F       B\n",
       "   2 │ E           2     61  fr      B       C"
      ]
     },
     "execution_count": 122,
     "metadata": {},
     "output_type": "execute_result"
    }
   ],
   "source": [
    "select(responses(), :q5, :)"
   ]
  },
  {
   "cell_type": "markdown",
   "id": "76dcc57b-946a-4306-801d-6b2c56d80b83",
   "metadata": {},
   "source": [
    "또는 `q5`를 두번째 위치로 넣을 수 있습니다."
   ]
  },
  {
   "cell_type": "code",
   "execution_count": 123,
   "id": "6d05aea1-67a2-4762-b5c2-97c4e0e29d25",
   "metadata": {},
   "outputs": [
    {
     "data": {
      "text/html": [
       "<div class=\"data-frame\"><p>2 rows × 6 columns</p><table class=\"data-frame\"><thead><tr><th></th><th>id</th><th>q5</th><th>q1</th><th>q2</th><th>q3</th><th>q4</th></tr><tr><th></th><th title=\"Int64\">Int64</th><th title=\"String\">String</th><th title=\"Int64\">Int64</th><th title=\"Symbol\">Symbol</th><th title=\"String\">String</th><th title=\"String\">String</th></tr></thead><tbody><tr><th>1</th><td>1</td><td>A</td><td>28</td><td>us</td><td>F</td><td>B</td></tr><tr><th>2</th><td>2</td><td>E</td><td>61</td><td>fr</td><td>B</td><td>C</td></tr></tbody></table></div>"
      ],
      "text/latex": [
       "\\begin{tabular}{r|cccccc}\n",
       "\t& id & q5 & q1 & q2 & q3 & q4\\\\\n",
       "\t\\hline\n",
       "\t& Int64 & String & Int64 & Symbol & String & String\\\\\n",
       "\t\\hline\n",
       "\t1 & 1 & A & 28 & us & F & B \\\\\n",
       "\t2 & 2 & E & 61 & fr & B & C \\\\\n",
       "\\end{tabular}\n"
      ],
      "text/plain": [
       "\u001b[1m2×6 DataFrame\u001b[0m\n",
       "\u001b[1m Row \u001b[0m│\u001b[1m id    \u001b[0m\u001b[1m q5     \u001b[0m\u001b[1m q1    \u001b[0m\u001b[1m q2     \u001b[0m\u001b[1m q3     \u001b[0m\u001b[1m q4     \u001b[0m\n",
       "\u001b[1m     \u001b[0m│\u001b[90m Int64 \u001b[0m\u001b[90m String \u001b[0m\u001b[90m Int64 \u001b[0m\u001b[90m Symbol \u001b[0m\u001b[90m String \u001b[0m\u001b[90m String \u001b[0m\n",
       "─────┼──────────────────────────────────────────────\n",
       "   1 │     1  A          28  us      F       B\n",
       "   2 │     2  E          61  fr      B       C"
      ]
     },
     "execution_count": 123,
     "metadata": {},
     "output_type": "execute_result"
    }
   ],
   "source": [
    "select(responses(), 1, :q5, :)"
   ]
  },
  {
   "cell_type": "markdown",
   "id": "23b59d33-bb52-4fda-afd0-0d94a7d80261",
   "metadata": {},
   "source": [
    "> **노트**: 컬럼을 선택하는데 몇가지 방법이 있음을 알 수 있습니다. 이런 것들은 [컬럼 선택자]()라고 알려져 있습니다.\n",
    "\n",
    "우리는 \n",
    "- `Symbol`: `select(df, :col)`\n",
    "- `String`: `select(df, \"col\")`\n",
    "- `Integer`: `select(df, 1)`\n",
    "\n",
    "또한 `select`를 통해 `source=>target`이라는 페어를 사용해서 열 이름을 바꾸는 것도 가능합니다."
   ]
  },
  {
   "cell_type": "code",
   "execution_count": 124,
   "id": "5cb651b9-6e0e-4251-83c5-9c2f6e4b5a65",
   "metadata": {},
   "outputs": [
    {
     "data": {
      "text/html": [
       "<div class=\"data-frame\"><p>2 rows × 3 columns</p><table class=\"data-frame\"><thead><tr><th></th><th>participant</th><th>age</th><th>nationality</th></tr><tr><th></th><th title=\"Int64\">Int64</th><th title=\"Int64\">Int64</th><th title=\"Symbol\">Symbol</th></tr></thead><tbody><tr><th>1</th><td>1</td><td>28</td><td>us</td></tr><tr><th>2</th><td>2</td><td>61</td><td>fr</td></tr></tbody></table></div>"
      ],
      "text/latex": [
       "\\begin{tabular}{r|ccc}\n",
       "\t& participant & age & nationality\\\\\n",
       "\t\\hline\n",
       "\t& Int64 & Int64 & Symbol\\\\\n",
       "\t\\hline\n",
       "\t1 & 1 & 28 & us \\\\\n",
       "\t2 & 2 & 61 & fr \\\\\n",
       "\\end{tabular}\n"
      ],
      "text/plain": [
       "\u001b[1m2×3 DataFrame\u001b[0m\n",
       "\u001b[1m Row \u001b[0m│\u001b[1m participant \u001b[0m\u001b[1m age   \u001b[0m\u001b[1m nationality \u001b[0m\n",
       "\u001b[1m     \u001b[0m│\u001b[90m Int64       \u001b[0m\u001b[90m Int64 \u001b[0m\u001b[90m Symbol      \u001b[0m\n",
       "─────┼─────────────────────────────────\n",
       "   1 │           1     28  us\n",
       "   2 │           2     61  fr"
      ]
     },
     "execution_count": 124,
     "metadata": {},
     "output_type": "execute_result"
    }
   ],
   "source": [
    "select(responses(), 1 => \"participant\", :q1=>\"age\", :q2=>\"nationality\") "
   ]
  },
  {
   "cell_type": "markdown",
   "id": "5065c12a-3443-4419-8a95-f6c8ea518c21",
   "metadata": {},
   "source": [
    "추가적으로, `...` splat 연산자를 사용해서(섹션 [3.3.11]()을 참조하세요), 다음과 같이 쓸 수도 있습니다."
   ]
  },
  {
   "cell_type": "code",
   "execution_count": 125,
   "id": "8fd76613-f759-4e13-9d78-1a98174fcc79",
   "metadata": {},
   "outputs": [
    {
     "data": {
      "text/html": [
       "<div class=\"data-frame\"><p>2 rows × 3 columns</p><table class=\"data-frame\"><thead><tr><th></th><th>participant</th><th>age</th><th>nationality</th></tr><tr><th></th><th title=\"Int64\">Int64</th><th title=\"Int64\">Int64</th><th title=\"Symbol\">Symbol</th></tr></thead><tbody><tr><th>1</th><td>1</td><td>28</td><td>us</td></tr><tr><th>2</th><td>2</td><td>61</td><td>fr</td></tr></tbody></table></div>"
      ],
      "text/latex": [
       "\\begin{tabular}{r|ccc}\n",
       "\t& participant & age & nationality\\\\\n",
       "\t\\hline\n",
       "\t& Int64 & Int64 & Symbol\\\\\n",
       "\t\\hline\n",
       "\t1 & 1 & 28 & us \\\\\n",
       "\t2 & 2 & 61 & fr \\\\\n",
       "\\end{tabular}\n"
      ],
      "text/plain": [
       "\u001b[1m2×3 DataFrame\u001b[0m\n",
       "\u001b[1m Row \u001b[0m│\u001b[1m participant \u001b[0m\u001b[1m age   \u001b[0m\u001b[1m nationality \u001b[0m\n",
       "\u001b[1m     \u001b[0m│\u001b[90m Int64       \u001b[0m\u001b[90m Int64 \u001b[0m\u001b[90m Symbol      \u001b[0m\n",
       "─────┼─────────────────────────────────\n",
       "   1 │           1     28  us\n",
       "   2 │           2     61  fr"
      ]
     },
     "execution_count": 125,
     "metadata": {},
     "output_type": "execute_result"
    }
   ],
   "source": [
    "renames = (1 => \"participant\", :q1 => \"age\", :q2 => \"nationality\")\n",
    "select(responses(), renames...)"
   ]
  },
  {
   "cell_type": "code",
   "execution_count": null,
   "id": "c966c494-30d9-45ab-9435-a7753c979b35",
   "metadata": {},
   "outputs": [],
   "source": []
  }
 ],
 "metadata": {
  "kernelspec": {
   "display_name": "Julia 1.6.4",
   "language": "julia",
   "name": "julia-1.6"
  },
  "language_info": {
   "file_extension": ".jl",
   "mimetype": "application/julia",
   "name": "julia",
   "version": "1.6.4"
  }
 },
 "nbformat": 4,
 "nbformat_minor": 5
}
