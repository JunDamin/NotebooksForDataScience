{
 "cells": [
  {
   "cell_type": "markdown",
   "id": "7b0a32a0-6e6e-419c-aac9-235f23be67a1",
   "metadata": {},
   "source": [
    "# 4 DataFrames.jl\n",
    "\n",
    "데이터는 대부분 테이블 형식으로 전달됩니다. 테이블 형식이라고 하는 것은 데이터가 행(row)과 열(column)로 구성되어 있는 테이블이라는 뜻입니다. \n",
    "열은 보통 같은 데이터 타입이고 행은 다른 데이터 타입을 가지고 있습니다. 행은, 실질적으로, 관찰 값을 의미하며,열은 변수를 의미합니다. 예를 들어 우리가 티비 쇼 테이블을 가지고 있다고 해봅시다. 이 테이블에는 그 티비 쇼가 만들어진 국ㄱ가와 우리의 평점이 있다고 합시다. 테이블 1처럼 말이죠.\n",
    "\n",
    "제목 | 국가 | 평점\n",
    "--- | --- | ---\n",
    "왕좌의 게임 | 미국 | 8.2\n",
    "크라운 | 영국 | 7.3\n",
    "프렌즈 | 미국 | 7.8\n",
    "... | ... | ...\n",
    "\n",
    "여기서 점들의 의미는 이 표가 아주 긴 표일 수 있으며 우리는 그중 일부만 보여줬다는 의미입니다.데이터를 분석하는 동안, 우리는 종종 데이터에 대한 재미 있는 질문들이 떠오릅니다. *데이터 쿼리*라고도 불리우죠. 큰 테이블들이 주어졌을 때, 컴퓨터는 이런 질문들에 아주 빨리 답할 수 있습니다. 당신이 손으로 하는 것보다 말이죠. 몇몇 쿼리에 대한 예를 들어보자면,\n",
    "\n",
    "- 어떤 티비 쇼가 가장 높은 평점을 가지고 있나요?\n",
    "- 어떤 티비 쇼들이 마국에서 만들어 졌나요?\n",
    "- 어떤 티비 쇼들이 같은 국가에서 만들어 졌나요?\n",
    "\n",
    "하지만, 한명의 연구자로, 진짜 과학은 종종 여러 테이블이나 데이터 소스와 함께 시작하곤 합니다. 예를들어 우리가 다른 사람의 티비 쇼 평점 자료를 가지고 있다고 해봅시다.\n",
    "\n",
    "제목 | 평점\n",
    "--- | ---\n",
    "왕좌의 게임 | 7\n",
    "프렌즈 | 6.4\n",
    "... | ...\n",
    "\n",
    "이제 우리가 스스로에게 할 수 있는 질문은\n",
    "\n",
    "- 왕좌의 게임의 평균 평점은 얼마인가요?\n",
    "- 누가 프렌즈에 가장 높은 평점을 주었나요?\n",
    "- 어떤 티비 쇼가 다른 사람이 아닌 당신이 평점을 매긴 쇼인가요?\n",
    "\n",
    "남은 쳅터에서, 줄리아를 통해 우리는 어떻게 이런 질문에 쉽게 답할 수 있는지를 보여줄 것입니다. 그러기 위해서 우리는 먼저 왜 `DataFrames.jl`이라고 하는 줄리아 패키지가 필요한지 보여주고자 합니다. 다음 섹션에서 우리는 어떻게 이 패키지를 사용하는 보여주고 궁극적으로 우리가 어떻게 빨리 데이터 처리(data transformations)를 할 수 있는지 보여주고자 합니다. \n",
    "\n",
    "테이블 3과 같은 성적표를 봅시다.\n",
    "\n",
    "이름 | 나이 | 2020 등급\n",
    "--- | --- | ---\n",
    "밥 | 17 | 5.0\n",
    "샐리 | 18 | 1.0\n",
    "엘리스 | 20 | 8.5\n",
    "행크 | 19 | 4.0\n",
    "\n",
    "여기서 이름 컬럼은 `string`타입이고, 나이는 `integer`, 등급은 `float`타입입니다.\n",
    "\n",
    "지금까지 이 책은 줄리아 기초만 다루었습니다. 이런 기초는 많은 것들을 훌륭히 할 수 있지만, 테이블은 아닙니다. 우리가 무엇이 더 필요한지 보여주기 위해서 테이블 데이터를 배열에 저장해 봅시다."
   ]
  },
  {
   "cell_type": "code",
   "execution_count": 1,
   "id": "065479b3-99ec-4589-8df8-07980fe67311",
   "metadata": {},
   "outputs": [
    {
     "data": {
      "text/plain": [
       "grades_array (generic function with 1 method)"
      ]
     },
     "execution_count": 1,
     "metadata": {},
     "output_type": "execute_result"
    }
   ],
   "source": [
    "function grades_array()\n",
    "    name = [\"Bob\", \"Sally\", \"Alice\", \"Hank\"]\n",
    "    age = [17, 18, 20, 19]\n",
    "    grade_2020 = [5.0, 1.0, 8.5, 4.0]\n",
    "    (; name, age, grade_2020)\n",
    "end"
   ]
  },
  {
   "cell_type": "markdown",
   "id": "fda39486-6542-49dd-8681-684854485840",
   "metadata": {},
   "source": [
    "이제, 데이터는 소위 컬럼 메이저 형태로 저장되어 있습니다. 이는 우리가 행을 원할 때 불편합니다."
   ]
  },
  {
   "cell_type": "code",
   "execution_count": 2,
   "id": "f38cb8b8-6d80-4bd0-85e5-9435fadd635f",
   "metadata": {},
   "outputs": [
    {
     "data": {
      "text/plain": [
       "(\"Sally\", 18, 1.0)"
      ]
     },
     "execution_count": 2,
     "metadata": {},
     "output_type": "execute_result"
    }
   ],
   "source": [
    "function second_row()\n",
    "    name, age, grade_2020 = grades_array()\n",
    "    i = 2\n",
    "    row = (name[i], age[i], grade_2020[i])\n",
    "end\n",
    "second_row()"
   ]
  },
  {
   "cell_type": "markdown",
   "id": "6c6a0720-bd63-432b-8ec8-479b490a7c08",
   "metadata": {},
   "source": [
    "또는 엘리스의 등급을 원한다면, 우선 어떤 행에 엘리스가 있는지 알아내야 합니다."
   ]
  },
  {
   "cell_type": "code",
   "execution_count": 3,
   "id": "b9a547f1-a36c-493b-8126-a091072ad989",
   "metadata": {},
   "outputs": [
    {
     "data": {
      "text/plain": [
       "3"
      ]
     },
     "execution_count": 3,
     "metadata": {},
     "output_type": "execute_result"
    }
   ],
   "source": [
    "function row_alice()\n",
    "    names = grades_array().name\n",
    "    i = findfirst(names .== \"Alice\")\n",
    "end\n",
    "row_alice()"
   ]
  },
  {
   "cell_type": "markdown",
   "id": "630b8a7b-2913-4d80-8f7a-9e4e82908b29",
   "metadata": {},
   "source": [
    "그리고 나서야 우리는 원하는 값을 얻을 수 있습니다."
   ]
  },
  {
   "cell_type": "code",
   "execution_count": 4,
   "id": "ed78fc7d-8882-4438-9f61-78d21830ef3f",
   "metadata": {},
   "outputs": [
    {
     "data": {
      "text/plain": [
       "8.5"
      ]
     },
     "execution_count": 4,
     "metadata": {},
     "output_type": "execute_result"
    }
   ],
   "source": [
    "function value_alice()\n",
    "    grades = grades_array().grade_2020\n",
    "    i = row_alice()\n",
    "    grades[i]\n",
    "end\n",
    "value_alice()"
   ]
  },
  {
   "cell_type": "markdown",
   "id": "3a39b434-fefe-4336-b81e-6a12bb4dce5c",
   "metadata": {},
   "source": [
    "`DataFrames.jl`은 이런 문제를 쉽게 해결 할 수 있습니다. `using`을 사용해서 `DataFrames.jl`을 불러올 수 있습니다."
   ]
  },
  {
   "cell_type": "code",
   "execution_count": 6,
   "id": "cb376a59-0859-4dac-98b3-bc7ff04a67d5",
   "metadata": {},
   "outputs": [],
   "source": [
    "using DataFrames"
   ]
  },
  {
   "cell_type": "code",
   "execution_count": null,
   "id": "02379b7d-4304-4ed2-8842-c8fe8b41ffd7",
   "metadata": {},
   "outputs": [],
   "source": []
  }
 ],
 "metadata": {
  "kernelspec": {
   "display_name": "Julia 1.6.4",
   "language": "julia",
   "name": "julia-1.6"
  },
  "language_info": {
   "file_extension": ".jl",
   "mimetype": "application/julia",
   "name": "julia",
   "version": "1.6.4"
  }
 },
 "nbformat": 4,
 "nbformat_minor": 5
}
