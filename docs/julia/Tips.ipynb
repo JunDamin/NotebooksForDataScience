{
 "cells": [
  {
   "cell_type": "markdown",
   "id": "2e9101b5-d422-46d4-89d1-159f3517d08e",
   "metadata": {},
   "source": [
    "# Tips"
   ]
  },
  {
   "cell_type": "markdown",
   "id": "11ece27b-da9c-466b-8578-9dc3f2c6ba96",
   "metadata": {},
   "source": [
    "### uninstall kernel in jupyter \n",
    "\n",
    "> jupyter kernelspec list\n",
    "\n",
    "> jupyter kernelspec uninstall julia-1.0"
   ]
  },
  {
   "cell_type": "code",
   "execution_count": null,
   "id": "2313ca3f-3350-4bb0-b12b-681799b75b45",
   "metadata": {},
   "outputs": [],
   "source": [
    "using Gadfly"
   ]
  },
  {
   "cell_type": "code",
   "execution_count": null,
   "id": "6c1acf04-5ac4-4486-afb2-2783b7dd706d",
   "metadata": {},
   "outputs": [],
   "source": [
    "plot(1:4, 1:4)"
   ]
  },
  {
   "cell_type": "code",
   "execution_count": null,
   "id": "3ebdb39a-3720-4569-b058-3d25c2dd807a",
   "metadata": {},
   "outputs": [],
   "source": []
  }
 ],
 "metadata": {
  "kernelspec": {
   "display_name": "Julia 1.6.3",
   "language": "julia",
   "name": "julia-1.6"
  },
  "language_info": {
   "file_extension": ".jl",
   "mimetype": "application/julia",
   "name": "julia",
   "version": "1.6.3"
  }
 },
 "nbformat": 4,
 "nbformat_minor": 5
}
