{
 "cells": [
  {
   "cell_type": "markdown",
   "id": "30cebcb6-0d17-4613-ae8c-12d75b598f0e",
   "metadata": {},
   "source": [
    "# Set Keyboard Shortcut\n",
    "\n",
    "* Setting/Keyboard Shortcut에서 user preference에서 값을 설정하면 된다.\n",
    "* Dictionary로 입력하되, key는 \"shortcut\", 값은 list로 넣는다. \n",
    "* 리스트에는 selector command, key를 key 값으로 갖는 dictionary가 들어간다.\n",
    "`"
   ]
  },
  {
   "cell_type": "code",
   "execution_count": null,
   "id": "30511e19-e96a-4fc8-9212-1cec68f7f42e",
   "metadata": {},
   "outputs": [],
   "source": []
  }
 ],
 "metadata": {
  "kernelspec": {
   "display_name": "Python 3 (ipykernel)",
   "language": "python",
   "name": "python3"
  },
  "language_info": {
   "codemirror_mode": {
    "name": "ipython",
    "version": 3
   },
   "file_extension": ".py",
   "mimetype": "text/x-python",
   "name": "python",
   "nbconvert_exporter": "python",
   "pygments_lexer": "ipython3",
   "version": "3.9.5"
  }
 },
 "nbformat": 4,
 "nbformat_minor": 5
}
